{
 "cells": [
  {
   "cell_type": "markdown",
   "metadata": {},
   "source": [
    "![imagen](./img/sql_murder.png)\n",
    "\n",
    "# Ejercicio SQL Murder\n",
    "Para este ejercicio vas a ponerte la gabardina y el sombrero ya que tendrás que investigar un asesinato en *SQL City*. \n",
    "\n",
    "Aplicarás los conecptos básicos de SQL y aprenderás a manejarte con un modelo de datos, mientras resuelves un caso de asesinato :)\n",
    "\n",
    "Este espectacular juego está creado por **Joon Park y Cathy He**, y podrás encontrar todos los detalles en [su web](http://mystery.knightlab.com)\n",
    "\n",
    "Para realizar el ejercicio tienes dos opciones, o bien desde la propia web, donde encontrarás un intérprete de sentencias SQL interactivo. Si usas esta opción te recomiendo que vayas apuntando las queries y sus outputs. O la otra opción es [acudir a su GitHub](https://github.com/NUKnightLab/sql-mysteries), descargarte la base de datos y realizar las queries desde Jupyter. Probablemente la primera opción te sea más cómoda\n",
    "\n",
    "\n",
    "### Enunciado\n",
    "A crime has taken place and the detective needs your help. The detective gave you the crime scene report, but you somehow lost it. You vaguely remember that the crime was a **murder** that occurred sometime on **Jan.15, 2018** and that it took place in **SQL City**. Start by retrieving the corresponding crime scene report from the police department’s database.\n",
    "\n",
    "\n",
    "### Modelo de datos\n",
    "![imagen](./img/sql_game_schemma.png)\n",
    "\n",
    "¡Suerte Sherlock!"
   ]
  },
  {
   "cell_type": "markdown",
   "metadata": {},
   "source": []
  },
  {
   "cell_type": "code",
   "execution_count": 25,
   "metadata": {},
   "outputs": [],
   "source": [
    "import pandas as pd\n",
    "import sqlite3"
   ]
  },
  {
   "cell_type": "code",
   "execution_count": 26,
   "metadata": {},
   "outputs": [],
   "source": [
    "path = \"sql-murder-mystery.db\"\n",
    "connection = sqlite3.connect(path)\n",
    "curs = connection.cursor()"
   ]
  },
  {
   "cell_type": "code",
   "execution_count": 27,
   "metadata": {},
   "outputs": [],
   "source": [
    "query = \"\"\"\n",
    "SELECT *   \n",
    "FROM person\n",
    "\"\"\""
   ]
  },
  {
   "cell_type": "code",
   "execution_count": 28,
   "metadata": {},
   "outputs": [],
   "source": [
    "my_query = curs.execute(query)\n",
    "def sql_query(query):\n",
    "\n",
    "    curs.execute(query)\n",
    "    datos_query = curs.fetchall()\n",
    "    col_names = [description[0] for description in curs.description]\n",
    "    return pd.DataFrame(datos_query, columns= col_names)"
   ]
  },
  {
   "cell_type": "code",
   "execution_count": 33,
   "metadata": {},
   "outputs": [],
   "source": [
    "pd.read_sql_query(query, connection)\n",
    "pd.set_option('max_colwidth', 800)"
   ]
  },
  {
   "cell_type": "code",
   "execution_count": 34,
   "metadata": {},
   "outputs": [
    {
     "output_type": "execute_result",
     "data": {
      "text/plain": [
       "                  name  \\\n",
       "0        Junior Krason   \n",
       "1    Inocencia Stalder   \n",
       "2        Blair Rexford   \n",
       "3      Lupita Vasiliou   \n",
       "4      Sherryl Baquero   \n",
       "5       Alberto Rascoe   \n",
       "6          Ross Savage   \n",
       "7     Reynaldo Feleppa   \n",
       "8            Tu Heckle   \n",
       "9       Ivan Hardister   \n",
       "10     Florance Kuhnel   \n",
       "11         Tammy Furno   \n",
       "12  Shirley Stachowicz   \n",
       "13        Tran Riedell   \n",
       "14         Quyen Reust   \n",
       "15          Yong Brank   \n",
       "16   Gertrudis Amacher   \n",
       "17      Zackary Giesel   \n",
       "18       Curt Stanczyk   \n",
       "19     Adelle Huisinga   \n",
       "20    Jenniffer Othman   \n",
       "21       Olene Arnhart   \n",
       "22        Gus Bullmore   \n",
       "23    Dannielle Leetch   \n",
       "24       Denver Orzell   \n",
       "25      Morty Schapiro   \n",
       "26      Annabel Miller   \n",
       "\n",
       "                                                                                                                                                                                                                         transcript  \n",
       "0                                                                                                                                                            cupboards and book-shelves; here and there she saw maps and pictures\\n  \n",
       "1                                                                                                                                                              without a cat! It’s the most curious thing I ever saw in my life!’\\n  \n",
       "2                                                                                                                                                                                           it ran away when it saw mine coming!’\\n  \n",
       "3                                                                                                                                                        one corner of it: ‘No room! No room!’ they cried out when they saw Alice\\n  \n",
       "4                                                                                                                                                            cupboards and book-shelves; here and there she saw maps and pictures\\n  \n",
       "5                                                                                                                                                                                           it ran away when it saw mine coming!’\\n  \n",
       "6                                                                                                                                                        one corner of it: ‘No room! No room!’ they cried out when they saw Alice\\n  \n",
       "7                                                                                                                                                        jumped; but she saw in another moment that it was addressed to the baby,\\n  \n",
       "8                                                                                                                                                            into the loveliest garden you ever saw. How she longed to get out of\\n  \n",
       "9                                                                                                                                                          saw the White Rabbit. She was a little nervous about it just at first,\\n  \n",
       "10                                                                                                                                                           cupboards and book-shelves; here and there she saw maps and pictures\\n  \n",
       "11                                                                                                                                                         saw the White Rabbit. She was a little nervous about it just at first,\\n  \n",
       "12                                                                                                                                                           cupboards and book-shelves; here and there she saw maps and pictures\\n  \n",
       "13                                                                                                                                                         saw the White Rabbit. She was a little nervous about it just at first,\\n  \n",
       "14                                                                                                                                                          the last time she saw them, they were trying to put the Dormouse into\\n  \n",
       "15                                                                                                                                                           resting in the shade: however, the moment they saw her, they hurried\\n  \n",
       "16                                                                                                                                                                                          it ran away when it saw mine coming!’\\n  \n",
       "17                                                                                                                                                           resting in the shade: however, the moment they saw her, they hurried\\n  \n",
       "18                                                                                                                                                       one corner of it: ‘No room! No room!’ they cried out when they saw Alice\\n  \n",
       "19                                                                                                                                                            The Cat only grinned when it saw Alice. It looked good-natured, she\\n  \n",
       "20                                                                                                                                                         saw the White Rabbit. She was a little nervous about it just at first,\\n  \n",
       "21                                                                                                                                                           into the loveliest garden you ever saw. How she longed to get out of\\n  \n",
       "22                                                                                                                                                             without a cat! It’s the most curious thing I ever saw in my life!’\\n  \n",
       "23                                                                                                                                                           resting in the shade: however, the moment they saw her, they hurried\\n  \n",
       "24                                                                                                                                                       jumped; but she saw in another moment that it was addressed to the baby,\\n  \n",
       "25  I heard a gunshot and then saw a man run out. He had a \"Get Fit Now Gym\" bag. The membership number on the bag started with \"48Z\". Only gold members have those bags. The man got into a car with a plate that included \"H42W\".  \n",
       "26                                                                                                            I saw the murder happen, and I recognized the killer from my gym when I was working out last week on January the 9th.  "
      ],
      "text/html": "<div>\n<style scoped>\n    .dataframe tbody tr th:only-of-type {\n        vertical-align: middle;\n    }\n\n    .dataframe tbody tr th {\n        vertical-align: top;\n    }\n\n    .dataframe thead th {\n        text-align: right;\n    }\n</style>\n<table border=\"1\" class=\"dataframe\">\n  <thead>\n    <tr style=\"text-align: right;\">\n      <th></th>\n      <th>name</th>\n      <th>transcript</th>\n    </tr>\n  </thead>\n  <tbody>\n    <tr>\n      <th>0</th>\n      <td>Junior Krason</td>\n      <td>cupboards and book-shelves; here and there she saw maps and pictures\\n</td>\n    </tr>\n    <tr>\n      <th>1</th>\n      <td>Inocencia Stalder</td>\n      <td>without a cat! It’s the most curious thing I ever saw in my life!’\\n</td>\n    </tr>\n    <tr>\n      <th>2</th>\n      <td>Blair Rexford</td>\n      <td>it ran away when it saw mine coming!’\\n</td>\n    </tr>\n    <tr>\n      <th>3</th>\n      <td>Lupita Vasiliou</td>\n      <td>one corner of it: ‘No room! No room!’ they cried out when they saw Alice\\n</td>\n    </tr>\n    <tr>\n      <th>4</th>\n      <td>Sherryl Baquero</td>\n      <td>cupboards and book-shelves; here and there she saw maps and pictures\\n</td>\n    </tr>\n    <tr>\n      <th>5</th>\n      <td>Alberto Rascoe</td>\n      <td>it ran away when it saw mine coming!’\\n</td>\n    </tr>\n    <tr>\n      <th>6</th>\n      <td>Ross Savage</td>\n      <td>one corner of it: ‘No room! No room!’ they cried out when they saw Alice\\n</td>\n    </tr>\n    <tr>\n      <th>7</th>\n      <td>Reynaldo Feleppa</td>\n      <td>jumped; but she saw in another moment that it was addressed to the baby,\\n</td>\n    </tr>\n    <tr>\n      <th>8</th>\n      <td>Tu Heckle</td>\n      <td>into the loveliest garden you ever saw. How she longed to get out of\\n</td>\n    </tr>\n    <tr>\n      <th>9</th>\n      <td>Ivan Hardister</td>\n      <td>saw the White Rabbit. She was a little nervous about it just at first,\\n</td>\n    </tr>\n    <tr>\n      <th>10</th>\n      <td>Florance Kuhnel</td>\n      <td>cupboards and book-shelves; here and there she saw maps and pictures\\n</td>\n    </tr>\n    <tr>\n      <th>11</th>\n      <td>Tammy Furno</td>\n      <td>saw the White Rabbit. She was a little nervous about it just at first,\\n</td>\n    </tr>\n    <tr>\n      <th>12</th>\n      <td>Shirley Stachowicz</td>\n      <td>cupboards and book-shelves; here and there she saw maps and pictures\\n</td>\n    </tr>\n    <tr>\n      <th>13</th>\n      <td>Tran Riedell</td>\n      <td>saw the White Rabbit. She was a little nervous about it just at first,\\n</td>\n    </tr>\n    <tr>\n      <th>14</th>\n      <td>Quyen Reust</td>\n      <td>the last time she saw them, they were trying to put the Dormouse into\\n</td>\n    </tr>\n    <tr>\n      <th>15</th>\n      <td>Yong Brank</td>\n      <td>resting in the shade: however, the moment they saw her, they hurried\\n</td>\n    </tr>\n    <tr>\n      <th>16</th>\n      <td>Gertrudis Amacher</td>\n      <td>it ran away when it saw mine coming!’\\n</td>\n    </tr>\n    <tr>\n      <th>17</th>\n      <td>Zackary Giesel</td>\n      <td>resting in the shade: however, the moment they saw her, they hurried\\n</td>\n    </tr>\n    <tr>\n      <th>18</th>\n      <td>Curt Stanczyk</td>\n      <td>one corner of it: ‘No room! No room!’ they cried out when they saw Alice\\n</td>\n    </tr>\n    <tr>\n      <th>19</th>\n      <td>Adelle Huisinga</td>\n      <td>The Cat only grinned when it saw Alice. It looked good-natured, she\\n</td>\n    </tr>\n    <tr>\n      <th>20</th>\n      <td>Jenniffer Othman</td>\n      <td>saw the White Rabbit. She was a little nervous about it just at first,\\n</td>\n    </tr>\n    <tr>\n      <th>21</th>\n      <td>Olene Arnhart</td>\n      <td>into the loveliest garden you ever saw. How she longed to get out of\\n</td>\n    </tr>\n    <tr>\n      <th>22</th>\n      <td>Gus Bullmore</td>\n      <td>without a cat! It’s the most curious thing I ever saw in my life!’\\n</td>\n    </tr>\n    <tr>\n      <th>23</th>\n      <td>Dannielle Leetch</td>\n      <td>resting in the shade: however, the moment they saw her, they hurried\\n</td>\n    </tr>\n    <tr>\n      <th>24</th>\n      <td>Denver Orzell</td>\n      <td>jumped; but she saw in another moment that it was addressed to the baby,\\n</td>\n    </tr>\n    <tr>\n      <th>25</th>\n      <td>Morty Schapiro</td>\n      <td>I heard a gunshot and then saw a man run out. He had a \"Get Fit Now Gym\" bag. The membership number on the bag started with \"48Z\". Only gold members have those bags. The man got into a car with a plate that included \"H42W\".</td>\n    </tr>\n    <tr>\n      <th>26</th>\n      <td>Annabel Miller</td>\n      <td>I saw the murder happen, and I recognized the killer from my gym when I was working out last week on January the 9th.</td>\n    </tr>\n  </tbody>\n</table>\n</div>"
     },
     "metadata": {},
     "execution_count": 34
    }
   ],
   "source": [
    "query = \"\"\"\n",
    "SELECT p.name as \"name\", i.transcript\n",
    "FROM interview i \n",
    "JOIN person p ON p.id = i.person_id\n",
    "WHERE i.transcript LIKE \"%saw%\" OR \"%kill%\"\n",
    "\"\"\"\n",
    "pd.read_sql_query(query, connection)"
   ]
  },
  {
   "cell_type": "code",
   "execution_count": 35,
   "metadata": {},
   "outputs": [
    {
     "output_type": "execute_result",
     "data": {
      "text/plain": [
       "       date    type  \\\n",
       "0  20180215  murder   \n",
       "1  20180215  murder   \n",
       "2  20180115  murder   \n",
       "\n",
       "                                                                                                                                                                                 description  \\\n",
       "0                                                                                                                                                                 REDACTED REDACTED REDACTED   \n",
       "1                                                                                                                                    Someone killed the guard! He took an arrow to the knee!   \n",
       "2  Security footage shows that there were 2 witnesses. The first witness lives at the last house on \"Northwestern Dr\". The second witness, named Annabel, lives somewhere on \"Franklin Ave\".   \n",
       "\n",
       "       city  \n",
       "0  SQL City  \n",
       "1  SQL City  \n",
       "2  SQL City  "
      ],
      "text/html": "<div>\n<style scoped>\n    .dataframe tbody tr th:only-of-type {\n        vertical-align: middle;\n    }\n\n    .dataframe tbody tr th {\n        vertical-align: top;\n    }\n\n    .dataframe thead th {\n        text-align: right;\n    }\n</style>\n<table border=\"1\" class=\"dataframe\">\n  <thead>\n    <tr style=\"text-align: right;\">\n      <th></th>\n      <th>date</th>\n      <th>type</th>\n      <th>description</th>\n      <th>city</th>\n    </tr>\n  </thead>\n  <tbody>\n    <tr>\n      <th>0</th>\n      <td>20180215</td>\n      <td>murder</td>\n      <td>REDACTED REDACTED REDACTED</td>\n      <td>SQL City</td>\n    </tr>\n    <tr>\n      <th>1</th>\n      <td>20180215</td>\n      <td>murder</td>\n      <td>Someone killed the guard! He took an arrow to the knee!</td>\n      <td>SQL City</td>\n    </tr>\n    <tr>\n      <th>2</th>\n      <td>20180115</td>\n      <td>murder</td>\n      <td>Security footage shows that there were 2 witnesses. The first witness lives at the last house on \"Northwestern Dr\". The second witness, named Annabel, lives somewhere on \"Franklin Ave\".</td>\n      <td>SQL City</td>\n    </tr>\n  </tbody>\n</table>\n</div>"
     },
     "metadata": {},
     "execution_count": 35
    }
   ],
   "source": [
    "query=\"\"\"\n",
    "SELECT *\n",
    "FROM crime_scene_report\n",
    "WHERE type = \"murder\" AND date LIKE \"2018%\" AND city = \"SQL City\"\n",
    "\"\"\"\n",
    "pd.read_sql_query(query, connection)"
   ]
  },
  {
   "cell_type": "code",
   "execution_count": 42,
   "metadata": {},
   "outputs": [
    {
     "output_type": "execute_result",
     "data": {
      "text/plain": [
       "Empty DataFrame\n",
       "Columns: [name]\n",
       "Index: []"
      ],
      "text/html": "<div>\n<style scoped>\n    .dataframe tbody tr th:only-of-type {\n        vertical-align: middle;\n    }\n\n    .dataframe tbody tr th {\n        vertical-align: top;\n    }\n\n    .dataframe thead th {\n        text-align: right;\n    }\n</style>\n<table border=\"1\" class=\"dataframe\">\n  <thead>\n    <tr style=\"text-align: right;\">\n      <th></th>\n      <th>name</th>\n    </tr>\n  </thead>\n  <tbody>\n  </tbody>\n</table>\n</div>"
     },
     "metadata": {},
     "execution_count": 42
    }
   ],
   "source": [
    "query=\"\"\"\n",
    "SELECT p.name\n",
    "FROM drivers_license d\n",
    "JOIN person p ON d.id = p.id\n",
    "WHERE d.plate_number = \"%H42W%\"\n",
    "\"\"\"\n",
    "pd.read_sql_query(query, connection)"
   ]
  },
  {
   "cell_type": "code",
   "execution_count": 48,
   "metadata": {},
   "outputs": [
    {
     "output_type": "execute_result",
     "data": {
      "text/plain": [
       "      id              name  license_id  address_number address_street_name  \\\n",
       "0  58636  Valentine Jarmon      371657             929            Ren Blvd   \n",
       "\n",
       "         ssn     id  person_id            name  membership_start_date  \\\n",
       "0  379995654  58636      62536  Harvey Jennkie               20180325   \n",
       "\n",
       "  membership_status membership_id  check_in_date  check_in_time  \\\n",
       "0              gold         58636       20170806           1029   \n",
       "\n",
       "   check_out_time  \n",
       "0            1186  "
      ],
      "text/html": "<div>\n<style scoped>\n    .dataframe tbody tr th:only-of-type {\n        vertical-align: middle;\n    }\n\n    .dataframe tbody tr th {\n        vertical-align: top;\n    }\n\n    .dataframe thead th {\n        text-align: right;\n    }\n</style>\n<table border=\"1\" class=\"dataframe\">\n  <thead>\n    <tr style=\"text-align: right;\">\n      <th></th>\n      <th>id</th>\n      <th>name</th>\n      <th>license_id</th>\n      <th>address_number</th>\n      <th>address_street_name</th>\n      <th>ssn</th>\n      <th>id</th>\n      <th>person_id</th>\n      <th>name</th>\n      <th>membership_start_date</th>\n      <th>membership_status</th>\n      <th>membership_id</th>\n      <th>check_in_date</th>\n      <th>check_in_time</th>\n      <th>check_out_time</th>\n    </tr>\n  </thead>\n  <tbody>\n    <tr>\n      <th>0</th>\n      <td>58636</td>\n      <td>Valentine Jarmon</td>\n      <td>371657</td>\n      <td>929</td>\n      <td>Ren Blvd</td>\n      <td>379995654</td>\n      <td>58636</td>\n      <td>62536</td>\n      <td>Harvey Jennkie</td>\n      <td>20180325</td>\n      <td>gold</td>\n      <td>58636</td>\n      <td>20170806</td>\n      <td>1029</td>\n      <td>1186</td>\n    </tr>\n  </tbody>\n</table>\n</div>"
     },
     "metadata": {},
     "execution_count": 48
    }
   ],
   "source": [
    "query= \"\"\"\n",
    "SELECT *\n",
    "FROM person p\n",
    "JOIN get_fit_now_member gm ON gm.id = p.id\n",
    "JOIN get_fit_now_check_in gc ON gc.membership_id = gm.id\n",
    "WHERE membership_status = \"gold\"\n",
    "GROUP BY p.name\n",
    "\"\"\"\n",
    "pd.read_sql_query(query, connection)"
   ]
  },
  {
   "cell_type": "code",
   "execution_count": 53,
   "metadata": {},
   "outputs": [
    {
     "output_type": "execute_result",
     "data": {
      "text/plain": [
       "      id              name  license_id  address_number address_street_name  \\\n",
       "0  58636  Valentine Jarmon      371657             929            Ren Blvd   \n",
       "\n",
       "         ssn     id  person_id            name  membership_start_date  \\\n",
       "0  379995654  58636      62536  Harvey Jennkie               20180325   \n",
       "\n",
       "  membership_status  \n",
       "0              gold  "
      ],
      "text/html": "<div>\n<style scoped>\n    .dataframe tbody tr th:only-of-type {\n        vertical-align: middle;\n    }\n\n    .dataframe tbody tr th {\n        vertical-align: top;\n    }\n\n    .dataframe thead th {\n        text-align: right;\n    }\n</style>\n<table border=\"1\" class=\"dataframe\">\n  <thead>\n    <tr style=\"text-align: right;\">\n      <th></th>\n      <th>id</th>\n      <th>name</th>\n      <th>license_id</th>\n      <th>address_number</th>\n      <th>address_street_name</th>\n      <th>ssn</th>\n      <th>id</th>\n      <th>person_id</th>\n      <th>name</th>\n      <th>membership_start_date</th>\n      <th>membership_status</th>\n    </tr>\n  </thead>\n  <tbody>\n    <tr>\n      <th>0</th>\n      <td>58636</td>\n      <td>Valentine Jarmon</td>\n      <td>371657</td>\n      <td>929</td>\n      <td>Ren Blvd</td>\n      <td>379995654</td>\n      <td>58636</td>\n      <td>62536</td>\n      <td>Harvey Jennkie</td>\n      <td>20180325</td>\n      <td>gold</td>\n    </tr>\n  </tbody>\n</table>\n</div>"
     },
     "metadata": {},
     "execution_count": 53
    }
   ],
   "source": [
    "query= \"\"\"\n",
    "SELECT *\n",
    "FROM person p\n",
    "JOIN get_fit_now_member gm ON gm.id = p.id\n",
    "WHERE membership_status = \"gold\"\n",
    "\"\"\"\n",
    "pd.read_sql_query(query, connection)"
   ]
  },
  {
   "cell_type": "code",
   "execution_count": 58,
   "metadata": {},
   "outputs": [
    {
     "output_type": "execute_result",
     "data": {
      "text/plain": [
       "       id                  name  license_id  address_number  \\\n",
       "0   10010             Muoi Cary      385336             741   \n",
       "1   12711        Norman Apolito      667757             599   \n",
       "2   14887        Morty Schapiro      118009            4919   \n",
       "3   15171          Weldon Penso      336999             311   \n",
       "4   17729        Lasonya Wildey      439686            3824   \n",
       "5   18376              Josh Shi      653712            1091   \n",
       "6   19420           Cody Schiel      890431            3524   \n",
       "7   22239         Dusty Sigafus      710517            1125   \n",
       "8   23044          Val Portlock      924989            3143   \n",
       "9   23960  Kristopher Lagerberg      658777            1392   \n",
       "10  25615         Olevia Morena      388477             812   \n",
       "11  26758      Angelena Billman      942074             629   \n",
       "12  28360        Rashad Cascone      924517            3212   \n",
       "13  29608       Willetta Lurvey      800568            1028   \n",
       "14  33415         Homer Simpson      108392             981   \n",
       "15  34155      Allyson Lazenson      814209            2840   \n",
       "16  34352    Vincenza Burkhardt      436470            2512   \n",
       "17  36378        Freddie Ellzey      267882            3449   \n",
       "18  39688            Abe Roeker      537445             689   \n",
       "19  40336       Fredia Billeter      251082             404   \n",
       "20  40760          Renata Faver      976650             745   \n",
       "21  44004           Alison Eska      327797            2951   \n",
       "22  44542        Ivory Mcgrevey      873842             897   \n",
       "23  51114     Christena Saffell      814284            3055   \n",
       "24  51552           Bonita Knie      764124            1726   \n",
       "25  53076           Boris Bijou      664914            3327   \n",
       "26  53699      Christian Pagano      628433            2585   \n",
       "27  53890        Sophie Tiberio      957671            3755   \n",
       "28  54564         Sammie Sengun      217286            2590   \n",
       "29  55130        Shiloh Huntoon      472118             951   \n",
       "30  59307          Cyril Yongue      753524            2903   \n",
       "31  68690            Yer Modest      852404            3046   \n",
       "32  70485     Andera Kostelecky      354822            1252   \n",
       "33  71924        Laurie Scronce      774116            1418   \n",
       "34  72076     Courtney Bordeaux      324614            1707   \n",
       "35  73368        Torie Thalmann      773862            3697   \n",
       "36  75484          Del Tacderen      447887             607   \n",
       "37  80921       Donovan Yackley      222395            2386   \n",
       "38  81052     Calvin Czelusniak      471483            1516   \n",
       "39  81885         Kurtis Masuda      934201            2108   \n",
       "40  85280             Donn Duin      569122             540   \n",
       "41  87456   Leonora Wolfsberger      215868            3483   \n",
       "42  88423           Teri Ehrich      510876            1879   \n",
       "43  89906       Kinsey Erickson      510019             309   \n",
       "44  90397     Dionna Kranwinkle      797260            2678   \n",
       "45  93509        Emmitt Aceuedo      916706            3491   \n",
       "46  96178           Galina Khuu      450248            2183   \n",
       "47  96595         Coretta Cubie      303645            3631   \n",
       "48  98593           Jonah Toner      578982            2947   \n",
       "49  99826          Ivy Kazarian      994470             892   \n",
       "\n",
       "   address_street_name        ssn  \n",
       "0      Northwestern Dr  828638512  \n",
       "1      Northwestern Dr  778264744  \n",
       "2      Northwestern Dr  111564949  \n",
       "3      Northwestern Dr  131379495  \n",
       "4      Northwestern Dr  917817122  \n",
       "5      Northwestern Dr  193899001  \n",
       "6      Northwestern Dr  947110049  \n",
       "7      Northwestern Dr  724386723  \n",
       "8      Northwestern Dr  100593316  \n",
       "9      Northwestern Dr  492912529  \n",
       "10     Northwestern Dr  962831331  \n",
       "11     Northwestern Dr  341854756  \n",
       "12     Northwestern Dr  838907424  \n",
       "13     Northwestern Dr  843751378  \n",
       "14     Northwestern Dr  871392019  \n",
       "15     Northwestern Dr  991150469  \n",
       "16     Northwestern Dr  197913046  \n",
       "17     Northwestern Dr  474117596  \n",
       "18     Northwestern Dr  438969447  \n",
       "19     Northwestern Dr  108056488  \n",
       "20     Northwestern Dr  547572040  \n",
       "21     Northwestern Dr  306417867  \n",
       "22     Northwestern Dr  988557407  \n",
       "23     Northwestern Dr  247657547  \n",
       "24     Northwestern Dr  597137908  \n",
       "25     Northwestern Dr  401191868  \n",
       "26     Northwestern Dr  644772304  \n",
       "27     Northwestern Dr  442830147  \n",
       "28     Northwestern Dr  848854310  \n",
       "29     Northwestern Dr  826647644  \n",
       "30     Northwestern Dr  866057839  \n",
       "31     Northwestern Dr  419238039  \n",
       "32     Northwestern Dr  787423012  \n",
       "33     Northwestern Dr  254883636  \n",
       "34     Northwestern Dr  347966356  \n",
       "35     Northwestern Dr  341559436  \n",
       "36     Northwestern Dr  243821337  \n",
       "37     Northwestern Dr  515049359  \n",
       "38     Northwestern Dr  657531837  \n",
       "39     Northwestern Dr  201272595  \n",
       "40     Northwestern Dr  613873810  \n",
       "41     Northwestern Dr  565203106  \n",
       "42     Northwestern Dr  248637345  \n",
       "43     Northwestern Dr  635287661  \n",
       "44     Northwestern Dr  278964807  \n",
       "45     Northwestern Dr  979073160  \n",
       "46     Northwestern Dr  398518185  \n",
       "47     Northwestern Dr  378403829  \n",
       "48     Northwestern Dr  745853548  \n",
       "49     Northwestern Dr  208359813  "
      ],
      "text/html": "<div>\n<style scoped>\n    .dataframe tbody tr th:only-of-type {\n        vertical-align: middle;\n    }\n\n    .dataframe tbody tr th {\n        vertical-align: top;\n    }\n\n    .dataframe thead th {\n        text-align: right;\n    }\n</style>\n<table border=\"1\" class=\"dataframe\">\n  <thead>\n    <tr style=\"text-align: right;\">\n      <th></th>\n      <th>id</th>\n      <th>name</th>\n      <th>license_id</th>\n      <th>address_number</th>\n      <th>address_street_name</th>\n      <th>ssn</th>\n    </tr>\n  </thead>\n  <tbody>\n    <tr>\n      <th>0</th>\n      <td>10010</td>\n      <td>Muoi Cary</td>\n      <td>385336</td>\n      <td>741</td>\n      <td>Northwestern Dr</td>\n      <td>828638512</td>\n    </tr>\n    <tr>\n      <th>1</th>\n      <td>12711</td>\n      <td>Norman Apolito</td>\n      <td>667757</td>\n      <td>599</td>\n      <td>Northwestern Dr</td>\n      <td>778264744</td>\n    </tr>\n    <tr>\n      <th>2</th>\n      <td>14887</td>\n      <td>Morty Schapiro</td>\n      <td>118009</td>\n      <td>4919</td>\n      <td>Northwestern Dr</td>\n      <td>111564949</td>\n    </tr>\n    <tr>\n      <th>3</th>\n      <td>15171</td>\n      <td>Weldon Penso</td>\n      <td>336999</td>\n      <td>311</td>\n      <td>Northwestern Dr</td>\n      <td>131379495</td>\n    </tr>\n    <tr>\n      <th>4</th>\n      <td>17729</td>\n      <td>Lasonya Wildey</td>\n      <td>439686</td>\n      <td>3824</td>\n      <td>Northwestern Dr</td>\n      <td>917817122</td>\n    </tr>\n    <tr>\n      <th>5</th>\n      <td>18376</td>\n      <td>Josh Shi</td>\n      <td>653712</td>\n      <td>1091</td>\n      <td>Northwestern Dr</td>\n      <td>193899001</td>\n    </tr>\n    <tr>\n      <th>6</th>\n      <td>19420</td>\n      <td>Cody Schiel</td>\n      <td>890431</td>\n      <td>3524</td>\n      <td>Northwestern Dr</td>\n      <td>947110049</td>\n    </tr>\n    <tr>\n      <th>7</th>\n      <td>22239</td>\n      <td>Dusty Sigafus</td>\n      <td>710517</td>\n      <td>1125</td>\n      <td>Northwestern Dr</td>\n      <td>724386723</td>\n    </tr>\n    <tr>\n      <th>8</th>\n      <td>23044</td>\n      <td>Val Portlock</td>\n      <td>924989</td>\n      <td>3143</td>\n      <td>Northwestern Dr</td>\n      <td>100593316</td>\n    </tr>\n    <tr>\n      <th>9</th>\n      <td>23960</td>\n      <td>Kristopher Lagerberg</td>\n      <td>658777</td>\n      <td>1392</td>\n      <td>Northwestern Dr</td>\n      <td>492912529</td>\n    </tr>\n    <tr>\n      <th>10</th>\n      <td>25615</td>\n      <td>Olevia Morena</td>\n      <td>388477</td>\n      <td>812</td>\n      <td>Northwestern Dr</td>\n      <td>962831331</td>\n    </tr>\n    <tr>\n      <th>11</th>\n      <td>26758</td>\n      <td>Angelena Billman</td>\n      <td>942074</td>\n      <td>629</td>\n      <td>Northwestern Dr</td>\n      <td>341854756</td>\n    </tr>\n    <tr>\n      <th>12</th>\n      <td>28360</td>\n      <td>Rashad Cascone</td>\n      <td>924517</td>\n      <td>3212</td>\n      <td>Northwestern Dr</td>\n      <td>838907424</td>\n    </tr>\n    <tr>\n      <th>13</th>\n      <td>29608</td>\n      <td>Willetta Lurvey</td>\n      <td>800568</td>\n      <td>1028</td>\n      <td>Northwestern Dr</td>\n      <td>843751378</td>\n    </tr>\n    <tr>\n      <th>14</th>\n      <td>33415</td>\n      <td>Homer Simpson</td>\n      <td>108392</td>\n      <td>981</td>\n      <td>Northwestern Dr</td>\n      <td>871392019</td>\n    </tr>\n    <tr>\n      <th>15</th>\n      <td>34155</td>\n      <td>Allyson Lazenson</td>\n      <td>814209</td>\n      <td>2840</td>\n      <td>Northwestern Dr</td>\n      <td>991150469</td>\n    </tr>\n    <tr>\n      <th>16</th>\n      <td>34352</td>\n      <td>Vincenza Burkhardt</td>\n      <td>436470</td>\n      <td>2512</td>\n      <td>Northwestern Dr</td>\n      <td>197913046</td>\n    </tr>\n    <tr>\n      <th>17</th>\n      <td>36378</td>\n      <td>Freddie Ellzey</td>\n      <td>267882</td>\n      <td>3449</td>\n      <td>Northwestern Dr</td>\n      <td>474117596</td>\n    </tr>\n    <tr>\n      <th>18</th>\n      <td>39688</td>\n      <td>Abe Roeker</td>\n      <td>537445</td>\n      <td>689</td>\n      <td>Northwestern Dr</td>\n      <td>438969447</td>\n    </tr>\n    <tr>\n      <th>19</th>\n      <td>40336</td>\n      <td>Fredia Billeter</td>\n      <td>251082</td>\n      <td>404</td>\n      <td>Northwestern Dr</td>\n      <td>108056488</td>\n    </tr>\n    <tr>\n      <th>20</th>\n      <td>40760</td>\n      <td>Renata Faver</td>\n      <td>976650</td>\n      <td>745</td>\n      <td>Northwestern Dr</td>\n      <td>547572040</td>\n    </tr>\n    <tr>\n      <th>21</th>\n      <td>44004</td>\n      <td>Alison Eska</td>\n      <td>327797</td>\n      <td>2951</td>\n      <td>Northwestern Dr</td>\n      <td>306417867</td>\n    </tr>\n    <tr>\n      <th>22</th>\n      <td>44542</td>\n      <td>Ivory Mcgrevey</td>\n      <td>873842</td>\n      <td>897</td>\n      <td>Northwestern Dr</td>\n      <td>988557407</td>\n    </tr>\n    <tr>\n      <th>23</th>\n      <td>51114</td>\n      <td>Christena Saffell</td>\n      <td>814284</td>\n      <td>3055</td>\n      <td>Northwestern Dr</td>\n      <td>247657547</td>\n    </tr>\n    <tr>\n      <th>24</th>\n      <td>51552</td>\n      <td>Bonita Knie</td>\n      <td>764124</td>\n      <td>1726</td>\n      <td>Northwestern Dr</td>\n      <td>597137908</td>\n    </tr>\n    <tr>\n      <th>25</th>\n      <td>53076</td>\n      <td>Boris Bijou</td>\n      <td>664914</td>\n      <td>3327</td>\n      <td>Northwestern Dr</td>\n      <td>401191868</td>\n    </tr>\n    <tr>\n      <th>26</th>\n      <td>53699</td>\n      <td>Christian Pagano</td>\n      <td>628433</td>\n      <td>2585</td>\n      <td>Northwestern Dr</td>\n      <td>644772304</td>\n    </tr>\n    <tr>\n      <th>27</th>\n      <td>53890</td>\n      <td>Sophie Tiberio</td>\n      <td>957671</td>\n      <td>3755</td>\n      <td>Northwestern Dr</td>\n      <td>442830147</td>\n    </tr>\n    <tr>\n      <th>28</th>\n      <td>54564</td>\n      <td>Sammie Sengun</td>\n      <td>217286</td>\n      <td>2590</td>\n      <td>Northwestern Dr</td>\n      <td>848854310</td>\n    </tr>\n    <tr>\n      <th>29</th>\n      <td>55130</td>\n      <td>Shiloh Huntoon</td>\n      <td>472118</td>\n      <td>951</td>\n      <td>Northwestern Dr</td>\n      <td>826647644</td>\n    </tr>\n    <tr>\n      <th>30</th>\n      <td>59307</td>\n      <td>Cyril Yongue</td>\n      <td>753524</td>\n      <td>2903</td>\n      <td>Northwestern Dr</td>\n      <td>866057839</td>\n    </tr>\n    <tr>\n      <th>31</th>\n      <td>68690</td>\n      <td>Yer Modest</td>\n      <td>852404</td>\n      <td>3046</td>\n      <td>Northwestern Dr</td>\n      <td>419238039</td>\n    </tr>\n    <tr>\n      <th>32</th>\n      <td>70485</td>\n      <td>Andera Kostelecky</td>\n      <td>354822</td>\n      <td>1252</td>\n      <td>Northwestern Dr</td>\n      <td>787423012</td>\n    </tr>\n    <tr>\n      <th>33</th>\n      <td>71924</td>\n      <td>Laurie Scronce</td>\n      <td>774116</td>\n      <td>1418</td>\n      <td>Northwestern Dr</td>\n      <td>254883636</td>\n    </tr>\n    <tr>\n      <th>34</th>\n      <td>72076</td>\n      <td>Courtney Bordeaux</td>\n      <td>324614</td>\n      <td>1707</td>\n      <td>Northwestern Dr</td>\n      <td>347966356</td>\n    </tr>\n    <tr>\n      <th>35</th>\n      <td>73368</td>\n      <td>Torie Thalmann</td>\n      <td>773862</td>\n      <td>3697</td>\n      <td>Northwestern Dr</td>\n      <td>341559436</td>\n    </tr>\n    <tr>\n      <th>36</th>\n      <td>75484</td>\n      <td>Del Tacderen</td>\n      <td>447887</td>\n      <td>607</td>\n      <td>Northwestern Dr</td>\n      <td>243821337</td>\n    </tr>\n    <tr>\n      <th>37</th>\n      <td>80921</td>\n      <td>Donovan Yackley</td>\n      <td>222395</td>\n      <td>2386</td>\n      <td>Northwestern Dr</td>\n      <td>515049359</td>\n    </tr>\n    <tr>\n      <th>38</th>\n      <td>81052</td>\n      <td>Calvin Czelusniak</td>\n      <td>471483</td>\n      <td>1516</td>\n      <td>Northwestern Dr</td>\n      <td>657531837</td>\n    </tr>\n    <tr>\n      <th>39</th>\n      <td>81885</td>\n      <td>Kurtis Masuda</td>\n      <td>934201</td>\n      <td>2108</td>\n      <td>Northwestern Dr</td>\n      <td>201272595</td>\n    </tr>\n    <tr>\n      <th>40</th>\n      <td>85280</td>\n      <td>Donn Duin</td>\n      <td>569122</td>\n      <td>540</td>\n      <td>Northwestern Dr</td>\n      <td>613873810</td>\n    </tr>\n    <tr>\n      <th>41</th>\n      <td>87456</td>\n      <td>Leonora Wolfsberger</td>\n      <td>215868</td>\n      <td>3483</td>\n      <td>Northwestern Dr</td>\n      <td>565203106</td>\n    </tr>\n    <tr>\n      <th>42</th>\n      <td>88423</td>\n      <td>Teri Ehrich</td>\n      <td>510876</td>\n      <td>1879</td>\n      <td>Northwestern Dr</td>\n      <td>248637345</td>\n    </tr>\n    <tr>\n      <th>43</th>\n      <td>89906</td>\n      <td>Kinsey Erickson</td>\n      <td>510019</td>\n      <td>309</td>\n      <td>Northwestern Dr</td>\n      <td>635287661</td>\n    </tr>\n    <tr>\n      <th>44</th>\n      <td>90397</td>\n      <td>Dionna Kranwinkle</td>\n      <td>797260</td>\n      <td>2678</td>\n      <td>Northwestern Dr</td>\n      <td>278964807</td>\n    </tr>\n    <tr>\n      <th>45</th>\n      <td>93509</td>\n      <td>Emmitt Aceuedo</td>\n      <td>916706</td>\n      <td>3491</td>\n      <td>Northwestern Dr</td>\n      <td>979073160</td>\n    </tr>\n    <tr>\n      <th>46</th>\n      <td>96178</td>\n      <td>Galina Khuu</td>\n      <td>450248</td>\n      <td>2183</td>\n      <td>Northwestern Dr</td>\n      <td>398518185</td>\n    </tr>\n    <tr>\n      <th>47</th>\n      <td>96595</td>\n      <td>Coretta Cubie</td>\n      <td>303645</td>\n      <td>3631</td>\n      <td>Northwestern Dr</td>\n      <td>378403829</td>\n    </tr>\n    <tr>\n      <th>48</th>\n      <td>98593</td>\n      <td>Jonah Toner</td>\n      <td>578982</td>\n      <td>2947</td>\n      <td>Northwestern Dr</td>\n      <td>745853548</td>\n    </tr>\n    <tr>\n      <th>49</th>\n      <td>99826</td>\n      <td>Ivy Kazarian</td>\n      <td>994470</td>\n      <td>892</td>\n      <td>Northwestern Dr</td>\n      <td>208359813</td>\n    </tr>\n  </tbody>\n</table>\n</div>"
     },
     "metadata": {},
     "execution_count": 58
    }
   ],
   "source": [
    "query= \"\"\"\n",
    "SELECT *\n",
    "FROM person p\n",
    "WHERE address_street_name = \"Northwestern Dr\"\n",
    "\"\"\"\n",
    "pd.read_sql_query(query, connection)"
   ]
  },
  {
   "cell_type": "code",
   "execution_count": 62,
   "metadata": {},
   "outputs": [
    {
     "output_type": "execute_result",
     "data": {
      "text/plain": [
       "Empty DataFrame\n",
       "Columns: [id, name, license_id, address_number, address_street_name, ssn]\n",
       "Index: []"
      ],
      "text/html": "<div>\n<style scoped>\n    .dataframe tbody tr th:only-of-type {\n        vertical-align: middle;\n    }\n\n    .dataframe tbody tr th {\n        vertical-align: top;\n    }\n\n    .dataframe thead th {\n        text-align: right;\n    }\n</style>\n<table border=\"1\" class=\"dataframe\">\n  <thead>\n    <tr style=\"text-align: right;\">\n      <th></th>\n      <th>id</th>\n      <th>name</th>\n      <th>license_id</th>\n      <th>address_number</th>\n      <th>address_street_name</th>\n      <th>ssn</th>\n    </tr>\n  </thead>\n  <tbody>\n  </tbody>\n</table>\n</div>"
     },
     "metadata": {},
     "execution_count": 62
    }
   ],
   "source": [
    "query= \"\"\"\n",
    "SELECT *\n",
    "FROM person p\n",
    "WHERE name = \"Annabel\"\n",
    "\"\"\"\n",
    "pd.read_sql_query(query, connection)"
   ]
  },
  {
   "cell_type": "code",
   "execution_count": 72,
   "metadata": {},
   "outputs": [
    {
     "output_type": "execute_result",
     "data": {
      "text/plain": [
       "  membership_id           name membership_status  membership_start_date  \\\n",
       "0         48Z7A   Joe Germuska              gold               20160305   \n",
       "1         48Z55  Jeremy Bowers              gold               20160101   \n",
       "\n",
       "   check_in_date  \n",
       "0       20180109  \n",
       "1       20180109  "
      ],
      "text/html": "<div>\n<style scoped>\n    .dataframe tbody tr th:only-of-type {\n        vertical-align: middle;\n    }\n\n    .dataframe tbody tr th {\n        vertical-align: top;\n    }\n\n    .dataframe thead th {\n        text-align: right;\n    }\n</style>\n<table border=\"1\" class=\"dataframe\">\n  <thead>\n    <tr style=\"text-align: right;\">\n      <th></th>\n      <th>membership_id</th>\n      <th>name</th>\n      <th>membership_status</th>\n      <th>membership_start_date</th>\n      <th>check_in_date</th>\n    </tr>\n  </thead>\n  <tbody>\n    <tr>\n      <th>0</th>\n      <td>48Z7A</td>\n      <td>Joe Germuska</td>\n      <td>gold</td>\n      <td>20160305</td>\n      <td>20180109</td>\n    </tr>\n    <tr>\n      <th>1</th>\n      <td>48Z55</td>\n      <td>Jeremy Bowers</td>\n      <td>gold</td>\n      <td>20160101</td>\n      <td>20180109</td>\n    </tr>\n  </tbody>\n</table>\n</div>"
     },
     "metadata": {},
     "execution_count": 72
    }
   ],
   "source": [
    "query= \"\"\"\n",
    "SELECT gc.membership_id, p.name, gm.membership_status, gm.membership_start_date, gc.check_in_date\n",
    "FROM person p\n",
    "JOIN get_fit_now_member gm ON gm.person_id = p.id\n",
    "JOIN get_fit_now_check_in gc ON gc.membership_id = gm.id\n",
    "WHERE gc.membership_id LIKE \"48Z%\" AND gm.membership_status = \"gold\"\n",
    "\"\"\"\n",
    "pd.read_sql_query(query, connection)"
   ]
  },
  {
   "cell_type": "code",
   "execution_count": 68,
   "metadata": {},
   "outputs": [
    {
     "output_type": "execute_result",
     "data": {
      "text/plain": [
       "     membership_id             name\n",
       "0            NL318  Everette Koepke\n",
       "1            NL318  Everette Koepke\n",
       "2            NL318  Everette Koepke\n",
       "3            NL318  Everette Koepke\n",
       "4            NL318  Everette Koepke\n",
       "...            ...              ...\n",
       "2698         4KB72       Emile Hege\n",
       "2699         4KB72       Emile Hege\n",
       "2700         48Z7A     Joe Germuska\n",
       "2701         48Z55    Jeremy Bowers\n",
       "2702         90081   Annabel Miller\n",
       "\n",
       "[2703 rows x 2 columns]"
      ],
      "text/html": "<div>\n<style scoped>\n    .dataframe tbody tr th:only-of-type {\n        vertical-align: middle;\n    }\n\n    .dataframe tbody tr th {\n        vertical-align: top;\n    }\n\n    .dataframe thead th {\n        text-align: right;\n    }\n</style>\n<table border=\"1\" class=\"dataframe\">\n  <thead>\n    <tr style=\"text-align: right;\">\n      <th></th>\n      <th>membership_id</th>\n      <th>name</th>\n    </tr>\n  </thead>\n  <tbody>\n    <tr>\n      <th>0</th>\n      <td>NL318</td>\n      <td>Everette Koepke</td>\n    </tr>\n    <tr>\n      <th>1</th>\n      <td>NL318</td>\n      <td>Everette Koepke</td>\n    </tr>\n    <tr>\n      <th>2</th>\n      <td>NL318</td>\n      <td>Everette Koepke</td>\n    </tr>\n    <tr>\n      <th>3</th>\n      <td>NL318</td>\n      <td>Everette Koepke</td>\n    </tr>\n    <tr>\n      <th>4</th>\n      <td>NL318</td>\n      <td>Everette Koepke</td>\n    </tr>\n    <tr>\n      <th>...</th>\n      <td>...</td>\n      <td>...</td>\n    </tr>\n    <tr>\n      <th>2698</th>\n      <td>4KB72</td>\n      <td>Emile Hege</td>\n    </tr>\n    <tr>\n      <th>2699</th>\n      <td>4KB72</td>\n      <td>Emile Hege</td>\n    </tr>\n    <tr>\n      <th>2700</th>\n      <td>48Z7A</td>\n      <td>Joe Germuska</td>\n    </tr>\n    <tr>\n      <th>2701</th>\n      <td>48Z55</td>\n      <td>Jeremy Bowers</td>\n    </tr>\n    <tr>\n      <th>2702</th>\n      <td>90081</td>\n      <td>Annabel Miller</td>\n    </tr>\n  </tbody>\n</table>\n<p>2703 rows × 2 columns</p>\n</div>"
     },
     "metadata": {},
     "execution_count": 68
    }
   ],
   "source": [
    "query= \"\"\"\n",
    "SELECT gc.membership_id, p.name\n",
    "FROM person p\n",
    "JOIN get_fit_now_member gm ON gm.person_id = p.id\n",
    "JOIN get_fit_now_check_in gc ON gc.membership_id = gm.id\n",
    "\"\"\"\n",
    "pd.read_sql_query(query, connection)"
   ]
  },
  {
   "cell_type": "code",
   "execution_count": 76,
   "metadata": {},
   "outputs": [
    {
     "output_type": "execute_result",
     "data": {
      "text/plain": [
       "             name plate_number\n",
       "0  Tushar Chandra       4H42WR\n",
       "1   Jeremy Bowers       0H42W2\n",
       "2  Maxine Whitely       H42W0X"
      ],
      "text/html": "<div>\n<style scoped>\n    .dataframe tbody tr th:only-of-type {\n        vertical-align: middle;\n    }\n\n    .dataframe tbody tr th {\n        vertical-align: top;\n    }\n\n    .dataframe thead th {\n        text-align: right;\n    }\n</style>\n<table border=\"1\" class=\"dataframe\">\n  <thead>\n    <tr style=\"text-align: right;\">\n      <th></th>\n      <th>name</th>\n      <th>plate_number</th>\n    </tr>\n  </thead>\n  <tbody>\n    <tr>\n      <th>0</th>\n      <td>Tushar Chandra</td>\n      <td>4H42WR</td>\n    </tr>\n    <tr>\n      <th>1</th>\n      <td>Jeremy Bowers</td>\n      <td>0H42W2</td>\n    </tr>\n    <tr>\n      <th>2</th>\n      <td>Maxine Whitely</td>\n      <td>H42W0X</td>\n    </tr>\n  </tbody>\n</table>\n</div>"
     },
     "metadata": {},
     "execution_count": 76
    }
   ],
   "source": [
    "query= \"\"\"\n",
    "SELECT p.name, d.plate_number\n",
    "FROM person p\n",
    "JOIN drivers_license d ON d.id = p.license_id\n",
    "WHERE d.plate_number LIKE \"%H42W%\"\n",
    "\"\"\"\n",
    "pd.read_sql_query(query, connection)"
   ]
  },
  {
   "cell_type": "code",
   "execution_count": 79,
   "metadata": {},
   "outputs": [
    {
     "output_type": "execute_result",
     "data": {
      "text/plain": [
       "            name  \\\n",
       "0  Jeremy Bowers   \n",
       "\n",
       "                                                                                                                                                                                                                                           transcript  \n",
       "0  I was hired by a woman with a lot of money. I don't know her name but I know she's around 5'5\" (65\") or 5'7\" (67\"). She has red hair and she drives a Tesla Model S. I know that she attended the SQL Symphony Concert 3 times in December 2017.\\n  "
      ],
      "text/html": "<div>\n<style scoped>\n    .dataframe tbody tr th:only-of-type {\n        vertical-align: middle;\n    }\n\n    .dataframe tbody tr th {\n        vertical-align: top;\n    }\n\n    .dataframe thead th {\n        text-align: right;\n    }\n</style>\n<table border=\"1\" class=\"dataframe\">\n  <thead>\n    <tr style=\"text-align: right;\">\n      <th></th>\n      <th>name</th>\n      <th>transcript</th>\n    </tr>\n  </thead>\n  <tbody>\n    <tr>\n      <th>0</th>\n      <td>Jeremy Bowers</td>\n      <td>I was hired by a woman with a lot of money. I don't know her name but I know she's around 5'5\" (65\") or 5'7\" (67\"). She has red hair and she drives a Tesla Model S. I know that she attended the SQL Symphony Concert 3 times in December 2017.\\n</td>\n    </tr>\n  </tbody>\n</table>\n</div>"
     },
     "metadata": {},
     "execution_count": 79
    }
   ],
   "source": [
    "query=\"\"\"\n",
    "SELECT p.name as \"name\", i.transcript\n",
    "FROM interview i \n",
    "JOIN person p ON p.id = i.person_id\n",
    "WHERE p.name = \"Jeremy Bowers\"\n",
    "\"\"\"\n",
    "pd.read_sql_query(query,connection)"
   ]
  }
 ],
 "metadata": {
  "kernelspec": {
   "name": "python3810jvsc74a57bd0051b49b274dcb94bd92dbf849efa5aa7d6dcc1a26584b1490794db2cbbe9ad8c",
   "display_name": "Python 3.8.10 64-bit (windows store)"
  },
  "language_info": {
   "codemirror_mode": {
    "name": "ipython",
    "version": 3
   },
   "file_extension": ".py",
   "mimetype": "text/x-python",
   "name": "python",
   "nbconvert_exporter": "python",
   "pygments_lexer": "ipython3",
   "version": "3.8.10"
  },
  "metadata": {
   "interpreter": {
    "hash": "051b49b274dcb94bd92dbf849efa5aa7d6dcc1a26584b1490794db2cbbe9ad8c"
   }
  }
 },
 "nbformat": 4,
 "nbformat_minor": 4
}