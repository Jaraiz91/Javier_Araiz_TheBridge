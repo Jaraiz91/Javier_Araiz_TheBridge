{
 "metadata": {
  "language_info": {
   "codemirror_mode": {
    "name": "ipython",
    "version": 3
   },
   "file_extension": ".py",
   "mimetype": "text/x-python",
   "name": "python",
   "nbconvert_exporter": "python",
   "pygments_lexer": "ipython3",
   "version": "3.7.4"
  },
  "orig_nbformat": 2,
  "kernelspec": {
   "name": "python374jvsc74a57bd0e811f325e74d49824b5fcfc3c0f5c4bcd6461d80b4e4f70be476a8b343d99570",
   "display_name": "Python 3.7.4 64-bit"
  },
  "metadata": {
   "interpreter": {
    "hash": "051b49b274dcb94bd92dbf849efa5aa7d6dcc1a26584b1490794db2cbbe9ad8c"
   }
  }
 },
 "nbformat": 4,
 "nbformat_minor": 2,
 "cells": [
  {
   "source": [
    "### Ejercicio 1\n",
    "\n",
    "A partir de la API de Pokemon, se pide generar un DataFrame como el de la imagen con las columnas: \n",
    "\n",
    "- **\"height\",\"id\",\"order\",\"weight\",\"types\"**\n",
    "\n",
    "### Ejercicio 2\n",
    "\n",
    "¿Has visto que dentro del DataFrame la columna \"types\" hay diccionarios? Se pide agregar, por cada pokemon, las columnas necesarias al DataFrame para albergar toda la información de \"types\" (solo las keys)\n",
    "\n",
    "![](df_pk.PNG)"
   ],
   "cell_type": "markdown",
   "metadata": {}
  },
  {
   "cell_type": "code",
   "execution_count": 82,
   "metadata": {},
   "outputs": [],
   "source": [
    "import json\n",
    "import requests\n",
    "\n",
    "import pandas as pd\n",
    "from pandas.io.json import json_normalize"
   ]
  },
  {
   "cell_type": "code",
   "execution_count": 83,
   "metadata": {},
   "outputs": [],
   "source": [
    "url = 'https://pokeapi.co/api/v2/pokemon'\n",
    "poke_json= requests.get(url).json()\n"
   ]
  },
  {
   "cell_type": "code",
   "execution_count": 84,
   "metadata": {},
   "outputs": [
    {
     "output_type": "execute_result",
     "data": {
      "text/plain": [
       "{'count': 1118,\n",
       " 'next': 'https://pokeapi.co/api/v2/pokemon?offset=20&limit=20',\n",
       " 'previous': None,\n",
       " 'results': [{'name': 'bulbasaur',\n",
       "   'url': 'https://pokeapi.co/api/v2/pokemon/1/'},\n",
       "  {'name': 'ivysaur', 'url': 'https://pokeapi.co/api/v2/pokemon/2/'},\n",
       "  {'name': 'venusaur', 'url': 'https://pokeapi.co/api/v2/pokemon/3/'},\n",
       "  {'name': 'charmander', 'url': 'https://pokeapi.co/api/v2/pokemon/4/'},\n",
       "  {'name': 'charmeleon', 'url': 'https://pokeapi.co/api/v2/pokemon/5/'},\n",
       "  {'name': 'charizard', 'url': 'https://pokeapi.co/api/v2/pokemon/6/'},\n",
       "  {'name': 'squirtle', 'url': 'https://pokeapi.co/api/v2/pokemon/7/'},\n",
       "  {'name': 'wartortle', 'url': 'https://pokeapi.co/api/v2/pokemon/8/'},\n",
       "  {'name': 'blastoise', 'url': 'https://pokeapi.co/api/v2/pokemon/9/'},\n",
       "  {'name': 'caterpie', 'url': 'https://pokeapi.co/api/v2/pokemon/10/'},\n",
       "  {'name': 'metapod', 'url': 'https://pokeapi.co/api/v2/pokemon/11/'},\n",
       "  {'name': 'butterfree', 'url': 'https://pokeapi.co/api/v2/pokemon/12/'},\n",
       "  {'name': 'weedle', 'url': 'https://pokeapi.co/api/v2/pokemon/13/'},\n",
       "  {'name': 'kakuna', 'url': 'https://pokeapi.co/api/v2/pokemon/14/'},\n",
       "  {'name': 'beedrill', 'url': 'https://pokeapi.co/api/v2/pokemon/15/'},\n",
       "  {'name': 'pidgey', 'url': 'https://pokeapi.co/api/v2/pokemon/16/'},\n",
       "  {'name': 'pidgeotto', 'url': 'https://pokeapi.co/api/v2/pokemon/17/'},\n",
       "  {'name': 'pidgeot', 'url': 'https://pokeapi.co/api/v2/pokemon/18/'},\n",
       "  {'name': 'rattata', 'url': 'https://pokeapi.co/api/v2/pokemon/19/'},\n",
       "  {'name': 'raticate', 'url': 'https://pokeapi.co/api/v2/pokemon/20/'}]}"
      ]
     },
     "metadata": {},
     "execution_count": 84
    }
   ],
   "source": [
    "poke_json"
   ]
  },
  {
   "cell_type": "code",
   "execution_count": 71,
   "metadata": {},
   "outputs": [],
   "source": [
    "with open (\"poke_api.json\", \"w+\") as outfile:\n",
    "    json.dump(poke_json, outfile, indent= 4)"
   ]
  },
  {
   "cell_type": "code",
   "execution_count": 85,
   "metadata": {},
   "outputs": [
    {
     "output_type": "stream",
     "name": "stderr",
     "text": [
      "ipykernel_launcher:1: FutureWarning: pandas.io.json.json_normalize is deprecated, use pandas.json_normalize instead\n"
     ]
    },
    {
     "output_type": "execute_result",
     "data": {
      "text/plain": [
       "   count                                               next previous  \\\n",
       "0   1118  https://pokeapi.co/api/v2/pokemon?offset=20&li...     None   \n",
       "\n",
       "                                             results  \n",
       "0  [{'name': 'bulbasaur', 'url': 'https://pokeapi...  "
      ],
      "text/html": "<div>\n<style scoped>\n    .dataframe tbody tr th:only-of-type {\n        vertical-align: middle;\n    }\n\n    .dataframe tbody tr th {\n        vertical-align: top;\n    }\n\n    .dataframe thead th {\n        text-align: right;\n    }\n</style>\n<table border=\"1\" class=\"dataframe\">\n  <thead>\n    <tr style=\"text-align: right;\">\n      <th></th>\n      <th>count</th>\n      <th>next</th>\n      <th>previous</th>\n      <th>results</th>\n    </tr>\n  </thead>\n  <tbody>\n    <tr>\n      <th>0</th>\n      <td>1118</td>\n      <td>https://pokeapi.co/api/v2/pokemon?offset=20&amp;li...</td>\n      <td>None</td>\n      <td>[{'name': 'bulbasaur', 'url': 'https://pokeapi...</td>\n    </tr>\n  </tbody>\n</table>\n</div>"
     },
     "metadata": {},
     "execution_count": 85
    }
   ],
   "source": [
    "json_normalize(poke_json)"
   ]
  },
  {
   "cell_type": "code",
   "execution_count": 86,
   "metadata": {},
   "outputs": [
    {
     "output_type": "execute_result",
     "data": {
      "text/plain": [
       "'https://pokeapi.co/api/v2/pokemon?offset=20&limit=20'"
      ]
     },
     "metadata": {},
     "execution_count": 86
    }
   ],
   "source": [
    "poke_json[\"next\"]"
   ]
  },
  {
   "cell_type": "code",
   "execution_count": 87,
   "metadata": {},
   "outputs": [
    {
     "output_type": "execute_result",
     "data": {
      "text/plain": [
       "    count                                               next previous  \\\n",
       "0    1118  https://pokeapi.co/api/v2/pokemon?offset=20&li...     None   \n",
       "1    1118  https://pokeapi.co/api/v2/pokemon?offset=20&li...     None   \n",
       "2    1118  https://pokeapi.co/api/v2/pokemon?offset=20&li...     None   \n",
       "3    1118  https://pokeapi.co/api/v2/pokemon?offset=20&li...     None   \n",
       "4    1118  https://pokeapi.co/api/v2/pokemon?offset=20&li...     None   \n",
       "5    1118  https://pokeapi.co/api/v2/pokemon?offset=20&li...     None   \n",
       "6    1118  https://pokeapi.co/api/v2/pokemon?offset=20&li...     None   \n",
       "7    1118  https://pokeapi.co/api/v2/pokemon?offset=20&li...     None   \n",
       "8    1118  https://pokeapi.co/api/v2/pokemon?offset=20&li...     None   \n",
       "9    1118  https://pokeapi.co/api/v2/pokemon?offset=20&li...     None   \n",
       "10   1118  https://pokeapi.co/api/v2/pokemon?offset=20&li...     None   \n",
       "11   1118  https://pokeapi.co/api/v2/pokemon?offset=20&li...     None   \n",
       "12   1118  https://pokeapi.co/api/v2/pokemon?offset=20&li...     None   \n",
       "13   1118  https://pokeapi.co/api/v2/pokemon?offset=20&li...     None   \n",
       "14   1118  https://pokeapi.co/api/v2/pokemon?offset=20&li...     None   \n",
       "15   1118  https://pokeapi.co/api/v2/pokemon?offset=20&li...     None   \n",
       "16   1118  https://pokeapi.co/api/v2/pokemon?offset=20&li...     None   \n",
       "17   1118  https://pokeapi.co/api/v2/pokemon?offset=20&li...     None   \n",
       "18   1118  https://pokeapi.co/api/v2/pokemon?offset=20&li...     None   \n",
       "19   1118  https://pokeapi.co/api/v2/pokemon?offset=20&li...     None   \n",
       "\n",
       "                                              results  \n",
       "0   {'name': 'bulbasaur', 'url': 'https://pokeapi....  \n",
       "1   {'name': 'ivysaur', 'url': 'https://pokeapi.co...  \n",
       "2   {'name': 'venusaur', 'url': 'https://pokeapi.c...  \n",
       "3   {'name': 'charmander', 'url': 'https://pokeapi...  \n",
       "4   {'name': 'charmeleon', 'url': 'https://pokeapi...  \n",
       "5   {'name': 'charizard', 'url': 'https://pokeapi....  \n",
       "6   {'name': 'squirtle', 'url': 'https://pokeapi.c...  \n",
       "7   {'name': 'wartortle', 'url': 'https://pokeapi....  \n",
       "8   {'name': 'blastoise', 'url': 'https://pokeapi....  \n",
       "9   {'name': 'caterpie', 'url': 'https://pokeapi.c...  \n",
       "10  {'name': 'metapod', 'url': 'https://pokeapi.co...  \n",
       "11  {'name': 'butterfree', 'url': 'https://pokeapi...  \n",
       "12  {'name': 'weedle', 'url': 'https://pokeapi.co/...  \n",
       "13  {'name': 'kakuna', 'url': 'https://pokeapi.co/...  \n",
       "14  {'name': 'beedrill', 'url': 'https://pokeapi.c...  \n",
       "15  {'name': 'pidgey', 'url': 'https://pokeapi.co/...  \n",
       "16  {'name': 'pidgeotto', 'url': 'https://pokeapi....  \n",
       "17  {'name': 'pidgeot', 'url': 'https://pokeapi.co...  \n",
       "18  {'name': 'rattata', 'url': 'https://pokeapi.co...  \n",
       "19  {'name': 'raticate', 'url': 'https://pokeapi.c...  "
      ],
      "text/html": "<div>\n<style scoped>\n    .dataframe tbody tr th:only-of-type {\n        vertical-align: middle;\n    }\n\n    .dataframe tbody tr th {\n        vertical-align: top;\n    }\n\n    .dataframe thead th {\n        text-align: right;\n    }\n</style>\n<table border=\"1\" class=\"dataframe\">\n  <thead>\n    <tr style=\"text-align: right;\">\n      <th></th>\n      <th>count</th>\n      <th>next</th>\n      <th>previous</th>\n      <th>results</th>\n    </tr>\n  </thead>\n  <tbody>\n    <tr>\n      <th>0</th>\n      <td>1118</td>\n      <td>https://pokeapi.co/api/v2/pokemon?offset=20&amp;li...</td>\n      <td>None</td>\n      <td>{'name': 'bulbasaur', 'url': 'https://pokeapi....</td>\n    </tr>\n    <tr>\n      <th>1</th>\n      <td>1118</td>\n      <td>https://pokeapi.co/api/v2/pokemon?offset=20&amp;li...</td>\n      <td>None</td>\n      <td>{'name': 'ivysaur', 'url': 'https://pokeapi.co...</td>\n    </tr>\n    <tr>\n      <th>2</th>\n      <td>1118</td>\n      <td>https://pokeapi.co/api/v2/pokemon?offset=20&amp;li...</td>\n      <td>None</td>\n      <td>{'name': 'venusaur', 'url': 'https://pokeapi.c...</td>\n    </tr>\n    <tr>\n      <th>3</th>\n      <td>1118</td>\n      <td>https://pokeapi.co/api/v2/pokemon?offset=20&amp;li...</td>\n      <td>None</td>\n      <td>{'name': 'charmander', 'url': 'https://pokeapi...</td>\n    </tr>\n    <tr>\n      <th>4</th>\n      <td>1118</td>\n      <td>https://pokeapi.co/api/v2/pokemon?offset=20&amp;li...</td>\n      <td>None</td>\n      <td>{'name': 'charmeleon', 'url': 'https://pokeapi...</td>\n    </tr>\n    <tr>\n      <th>5</th>\n      <td>1118</td>\n      <td>https://pokeapi.co/api/v2/pokemon?offset=20&amp;li...</td>\n      <td>None</td>\n      <td>{'name': 'charizard', 'url': 'https://pokeapi....</td>\n    </tr>\n    <tr>\n      <th>6</th>\n      <td>1118</td>\n      <td>https://pokeapi.co/api/v2/pokemon?offset=20&amp;li...</td>\n      <td>None</td>\n      <td>{'name': 'squirtle', 'url': 'https://pokeapi.c...</td>\n    </tr>\n    <tr>\n      <th>7</th>\n      <td>1118</td>\n      <td>https://pokeapi.co/api/v2/pokemon?offset=20&amp;li...</td>\n      <td>None</td>\n      <td>{'name': 'wartortle', 'url': 'https://pokeapi....</td>\n    </tr>\n    <tr>\n      <th>8</th>\n      <td>1118</td>\n      <td>https://pokeapi.co/api/v2/pokemon?offset=20&amp;li...</td>\n      <td>None</td>\n      <td>{'name': 'blastoise', 'url': 'https://pokeapi....</td>\n    </tr>\n    <tr>\n      <th>9</th>\n      <td>1118</td>\n      <td>https://pokeapi.co/api/v2/pokemon?offset=20&amp;li...</td>\n      <td>None</td>\n      <td>{'name': 'caterpie', 'url': 'https://pokeapi.c...</td>\n    </tr>\n    <tr>\n      <th>10</th>\n      <td>1118</td>\n      <td>https://pokeapi.co/api/v2/pokemon?offset=20&amp;li...</td>\n      <td>None</td>\n      <td>{'name': 'metapod', 'url': 'https://pokeapi.co...</td>\n    </tr>\n    <tr>\n      <th>11</th>\n      <td>1118</td>\n      <td>https://pokeapi.co/api/v2/pokemon?offset=20&amp;li...</td>\n      <td>None</td>\n      <td>{'name': 'butterfree', 'url': 'https://pokeapi...</td>\n    </tr>\n    <tr>\n      <th>12</th>\n      <td>1118</td>\n      <td>https://pokeapi.co/api/v2/pokemon?offset=20&amp;li...</td>\n      <td>None</td>\n      <td>{'name': 'weedle', 'url': 'https://pokeapi.co/...</td>\n    </tr>\n    <tr>\n      <th>13</th>\n      <td>1118</td>\n      <td>https://pokeapi.co/api/v2/pokemon?offset=20&amp;li...</td>\n      <td>None</td>\n      <td>{'name': 'kakuna', 'url': 'https://pokeapi.co/...</td>\n    </tr>\n    <tr>\n      <th>14</th>\n      <td>1118</td>\n      <td>https://pokeapi.co/api/v2/pokemon?offset=20&amp;li...</td>\n      <td>None</td>\n      <td>{'name': 'beedrill', 'url': 'https://pokeapi.c...</td>\n    </tr>\n    <tr>\n      <th>15</th>\n      <td>1118</td>\n      <td>https://pokeapi.co/api/v2/pokemon?offset=20&amp;li...</td>\n      <td>None</td>\n      <td>{'name': 'pidgey', 'url': 'https://pokeapi.co/...</td>\n    </tr>\n    <tr>\n      <th>16</th>\n      <td>1118</td>\n      <td>https://pokeapi.co/api/v2/pokemon?offset=20&amp;li...</td>\n      <td>None</td>\n      <td>{'name': 'pidgeotto', 'url': 'https://pokeapi....</td>\n    </tr>\n    <tr>\n      <th>17</th>\n      <td>1118</td>\n      <td>https://pokeapi.co/api/v2/pokemon?offset=20&amp;li...</td>\n      <td>None</td>\n      <td>{'name': 'pidgeot', 'url': 'https://pokeapi.co...</td>\n    </tr>\n    <tr>\n      <th>18</th>\n      <td>1118</td>\n      <td>https://pokeapi.co/api/v2/pokemon?offset=20&amp;li...</td>\n      <td>None</td>\n      <td>{'name': 'rattata', 'url': 'https://pokeapi.co...</td>\n    </tr>\n    <tr>\n      <th>19</th>\n      <td>1118</td>\n      <td>https://pokeapi.co/api/v2/pokemon?offset=20&amp;li...</td>\n      <td>None</td>\n      <td>{'name': 'raticate', 'url': 'https://pokeapi.c...</td>\n    </tr>\n  </tbody>\n</table>\n</div>"
     },
     "metadata": {},
     "execution_count": 87
    }
   ],
   "source": [
    "pd.DataFrame(poke_json)"
   ]
  },
  {
   "cell_type": "code",
   "execution_count": 88,
   "metadata": {},
   "outputs": [],
   "source": [
    "primeros_pokemon = pd.DataFrame(requests.get('https://pokeapi.co/api/v2/pokemon?offset=0&limit=20').json())"
   ]
  },
  {
   "cell_type": "code",
   "execution_count": 90,
   "metadata": {},
   "outputs": [
    {
     "output_type": "execute_result",
     "data": {
      "text/plain": [
       "[{'name': 'bulbasaur', 'url': 'https://pokeapi.co/api/v2/pokemon/1/'},\n",
       " {'name': 'ivysaur', 'url': 'https://pokeapi.co/api/v2/pokemon/2/'},\n",
       " {'name': 'venusaur', 'url': 'https://pokeapi.co/api/v2/pokemon/3/'},\n",
       " {'name': 'charmander', 'url': 'https://pokeapi.co/api/v2/pokemon/4/'},\n",
       " {'name': 'charmeleon', 'url': 'https://pokeapi.co/api/v2/pokemon/5/'},\n",
       " {'name': 'charizard', 'url': 'https://pokeapi.co/api/v2/pokemon/6/'},\n",
       " {'name': 'squirtle', 'url': 'https://pokeapi.co/api/v2/pokemon/7/'},\n",
       " {'name': 'wartortle', 'url': 'https://pokeapi.co/api/v2/pokemon/8/'},\n",
       " {'name': 'blastoise', 'url': 'https://pokeapi.co/api/v2/pokemon/9/'},\n",
       " {'name': 'caterpie', 'url': 'https://pokeapi.co/api/v2/pokemon/10/'},\n",
       " {'name': 'metapod', 'url': 'https://pokeapi.co/api/v2/pokemon/11/'},\n",
       " {'name': 'butterfree', 'url': 'https://pokeapi.co/api/v2/pokemon/12/'},\n",
       " {'name': 'weedle', 'url': 'https://pokeapi.co/api/v2/pokemon/13/'},\n",
       " {'name': 'kakuna', 'url': 'https://pokeapi.co/api/v2/pokemon/14/'},\n",
       " {'name': 'beedrill', 'url': 'https://pokeapi.co/api/v2/pokemon/15/'},\n",
       " {'name': 'pidgey', 'url': 'https://pokeapi.co/api/v2/pokemon/16/'},\n",
       " {'name': 'pidgeotto', 'url': 'https://pokeapi.co/api/v2/pokemon/17/'},\n",
       " {'name': 'pidgeot', 'url': 'https://pokeapi.co/api/v2/pokemon/18/'},\n",
       " {'name': 'rattata', 'url': 'https://pokeapi.co/api/v2/pokemon/19/'},\n",
       " {'name': 'raticate', 'url': 'https://pokeapi.co/api/v2/pokemon/20/'}]"
      ]
     },
     "metadata": {},
     "execution_count": 90
    }
   ],
   "source": [
    "pokemon = []\n",
    "pokemon.extend(primeros_pokemon[\"results\"])\n",
    "pokemon"
   ]
  },
  {
   "cell_type": "code",
   "execution_count": 77,
   "metadata": {},
   "outputs": [],
   "source": [
    "pokemon = []\n",
    "pokemon.extend(primeros_pokemon[\"results\"])\n",
    "for x in pokemon:\n",
    "    p=requests.get(x[\"url\"]).json()\n",
    "    x[\"height\"] = p[\"height\"]\n",
    "    x[\"id\"] = p[\"id\"]\n",
    "    x[\"order\"] = p[\"order\"]\n",
    "    x[\"weight\"] = p[\"weight\"]\n",
    "    x[\"types\"] = p[\"types\"]\n"
   ]
  },
  {
   "cell_type": "code",
   "execution_count": 78,
   "metadata": {},
   "outputs": [
    {
     "output_type": "execute_result",
     "data": {
      "text/plain": [
       "          name                                    url  height  id  order  \\\n",
       "0    bulbasaur   https://pokeapi.co/api/v2/pokemon/1/       7   1      1   \n",
       "1      ivysaur   https://pokeapi.co/api/v2/pokemon/2/      10   2      2   \n",
       "2     venusaur   https://pokeapi.co/api/v2/pokemon/3/      20   3      3   \n",
       "3   charmander   https://pokeapi.co/api/v2/pokemon/4/       6   4      5   \n",
       "4   charmeleon   https://pokeapi.co/api/v2/pokemon/5/      11   5      6   \n",
       "5    charizard   https://pokeapi.co/api/v2/pokemon/6/      17   6      7   \n",
       "6     squirtle   https://pokeapi.co/api/v2/pokemon/7/       5   7     10   \n",
       "7    wartortle   https://pokeapi.co/api/v2/pokemon/8/      10   8     11   \n",
       "8    blastoise   https://pokeapi.co/api/v2/pokemon/9/      16   9     12   \n",
       "9     caterpie  https://pokeapi.co/api/v2/pokemon/10/       3  10     14   \n",
       "10     metapod  https://pokeapi.co/api/v2/pokemon/11/       7  11     15   \n",
       "11  butterfree  https://pokeapi.co/api/v2/pokemon/12/      11  12     16   \n",
       "12      weedle  https://pokeapi.co/api/v2/pokemon/13/       3  13     17   \n",
       "13      kakuna  https://pokeapi.co/api/v2/pokemon/14/       6  14     18   \n",
       "14    beedrill  https://pokeapi.co/api/v2/pokemon/15/      10  15     19   \n",
       "15      pidgey  https://pokeapi.co/api/v2/pokemon/16/       3  16     21   \n",
       "16   pidgeotto  https://pokeapi.co/api/v2/pokemon/17/      11  17     22   \n",
       "17     pidgeot  https://pokeapi.co/api/v2/pokemon/18/      15  18     23   \n",
       "18     rattata  https://pokeapi.co/api/v2/pokemon/19/       3  19     25   \n",
       "19    raticate  https://pokeapi.co/api/v2/pokemon/20/       7  20     27   \n",
       "\n",
       "    weight                                              types  \n",
       "0       69  [{'slot': 1, 'type': {'name': 'grass', 'url': ...  \n",
       "1      130  [{'slot': 1, 'type': {'name': 'grass', 'url': ...  \n",
       "2     1000  [{'slot': 1, 'type': {'name': 'grass', 'url': ...  \n",
       "3       85  [{'slot': 1, 'type': {'name': 'fire', 'url': '...  \n",
       "4      190  [{'slot': 1, 'type': {'name': 'fire', 'url': '...  \n",
       "5      905  [{'slot': 1, 'type': {'name': 'fire', 'url': '...  \n",
       "6       90  [{'slot': 1, 'type': {'name': 'water', 'url': ...  \n",
       "7      225  [{'slot': 1, 'type': {'name': 'water', 'url': ...  \n",
       "8      855  [{'slot': 1, 'type': {'name': 'water', 'url': ...  \n",
       "9       29  [{'slot': 1, 'type': {'name': 'bug', 'url': 'h...  \n",
       "10      99  [{'slot': 1, 'type': {'name': 'bug', 'url': 'h...  \n",
       "11     320  [{'slot': 1, 'type': {'name': 'bug', 'url': 'h...  \n",
       "12      32  [{'slot': 1, 'type': {'name': 'bug', 'url': 'h...  \n",
       "13     100  [{'slot': 1, 'type': {'name': 'bug', 'url': 'h...  \n",
       "14     295  [{'slot': 1, 'type': {'name': 'bug', 'url': 'h...  \n",
       "15      18  [{'slot': 1, 'type': {'name': 'normal', 'url':...  \n",
       "16     300  [{'slot': 1, 'type': {'name': 'normal', 'url':...  \n",
       "17     395  [{'slot': 1, 'type': {'name': 'normal', 'url':...  \n",
       "18      35  [{'slot': 1, 'type': {'name': 'normal', 'url':...  \n",
       "19     185  [{'slot': 1, 'type': {'name': 'normal', 'url':...  "
      ],
      "text/html": "<div>\n<style scoped>\n    .dataframe tbody tr th:only-of-type {\n        vertical-align: middle;\n    }\n\n    .dataframe tbody tr th {\n        vertical-align: top;\n    }\n\n    .dataframe thead th {\n        text-align: right;\n    }\n</style>\n<table border=\"1\" class=\"dataframe\">\n  <thead>\n    <tr style=\"text-align: right;\">\n      <th></th>\n      <th>name</th>\n      <th>url</th>\n      <th>height</th>\n      <th>id</th>\n      <th>order</th>\n      <th>weight</th>\n      <th>types</th>\n    </tr>\n  </thead>\n  <tbody>\n    <tr>\n      <th>0</th>\n      <td>bulbasaur</td>\n      <td>https://pokeapi.co/api/v2/pokemon/1/</td>\n      <td>7</td>\n      <td>1</td>\n      <td>1</td>\n      <td>69</td>\n      <td>[{'slot': 1, 'type': {'name': 'grass', 'url': ...</td>\n    </tr>\n    <tr>\n      <th>1</th>\n      <td>ivysaur</td>\n      <td>https://pokeapi.co/api/v2/pokemon/2/</td>\n      <td>10</td>\n      <td>2</td>\n      <td>2</td>\n      <td>130</td>\n      <td>[{'slot': 1, 'type': {'name': 'grass', 'url': ...</td>\n    </tr>\n    <tr>\n      <th>2</th>\n      <td>venusaur</td>\n      <td>https://pokeapi.co/api/v2/pokemon/3/</td>\n      <td>20</td>\n      <td>3</td>\n      <td>3</td>\n      <td>1000</td>\n      <td>[{'slot': 1, 'type': {'name': 'grass', 'url': ...</td>\n    </tr>\n    <tr>\n      <th>3</th>\n      <td>charmander</td>\n      <td>https://pokeapi.co/api/v2/pokemon/4/</td>\n      <td>6</td>\n      <td>4</td>\n      <td>5</td>\n      <td>85</td>\n      <td>[{'slot': 1, 'type': {'name': 'fire', 'url': '...</td>\n    </tr>\n    <tr>\n      <th>4</th>\n      <td>charmeleon</td>\n      <td>https://pokeapi.co/api/v2/pokemon/5/</td>\n      <td>11</td>\n      <td>5</td>\n      <td>6</td>\n      <td>190</td>\n      <td>[{'slot': 1, 'type': {'name': 'fire', 'url': '...</td>\n    </tr>\n    <tr>\n      <th>5</th>\n      <td>charizard</td>\n      <td>https://pokeapi.co/api/v2/pokemon/6/</td>\n      <td>17</td>\n      <td>6</td>\n      <td>7</td>\n      <td>905</td>\n      <td>[{'slot': 1, 'type': {'name': 'fire', 'url': '...</td>\n    </tr>\n    <tr>\n      <th>6</th>\n      <td>squirtle</td>\n      <td>https://pokeapi.co/api/v2/pokemon/7/</td>\n      <td>5</td>\n      <td>7</td>\n      <td>10</td>\n      <td>90</td>\n      <td>[{'slot': 1, 'type': {'name': 'water', 'url': ...</td>\n    </tr>\n    <tr>\n      <th>7</th>\n      <td>wartortle</td>\n      <td>https://pokeapi.co/api/v2/pokemon/8/</td>\n      <td>10</td>\n      <td>8</td>\n      <td>11</td>\n      <td>225</td>\n      <td>[{'slot': 1, 'type': {'name': 'water', 'url': ...</td>\n    </tr>\n    <tr>\n      <th>8</th>\n      <td>blastoise</td>\n      <td>https://pokeapi.co/api/v2/pokemon/9/</td>\n      <td>16</td>\n      <td>9</td>\n      <td>12</td>\n      <td>855</td>\n      <td>[{'slot': 1, 'type': {'name': 'water', 'url': ...</td>\n    </tr>\n    <tr>\n      <th>9</th>\n      <td>caterpie</td>\n      <td>https://pokeapi.co/api/v2/pokemon/10/</td>\n      <td>3</td>\n      <td>10</td>\n      <td>14</td>\n      <td>29</td>\n      <td>[{'slot': 1, 'type': {'name': 'bug', 'url': 'h...</td>\n    </tr>\n    <tr>\n      <th>10</th>\n      <td>metapod</td>\n      <td>https://pokeapi.co/api/v2/pokemon/11/</td>\n      <td>7</td>\n      <td>11</td>\n      <td>15</td>\n      <td>99</td>\n      <td>[{'slot': 1, 'type': {'name': 'bug', 'url': 'h...</td>\n    </tr>\n    <tr>\n      <th>11</th>\n      <td>butterfree</td>\n      <td>https://pokeapi.co/api/v2/pokemon/12/</td>\n      <td>11</td>\n      <td>12</td>\n      <td>16</td>\n      <td>320</td>\n      <td>[{'slot': 1, 'type': {'name': 'bug', 'url': 'h...</td>\n    </tr>\n    <tr>\n      <th>12</th>\n      <td>weedle</td>\n      <td>https://pokeapi.co/api/v2/pokemon/13/</td>\n      <td>3</td>\n      <td>13</td>\n      <td>17</td>\n      <td>32</td>\n      <td>[{'slot': 1, 'type': {'name': 'bug', 'url': 'h...</td>\n    </tr>\n    <tr>\n      <th>13</th>\n      <td>kakuna</td>\n      <td>https://pokeapi.co/api/v2/pokemon/14/</td>\n      <td>6</td>\n      <td>14</td>\n      <td>18</td>\n      <td>100</td>\n      <td>[{'slot': 1, 'type': {'name': 'bug', 'url': 'h...</td>\n    </tr>\n    <tr>\n      <th>14</th>\n      <td>beedrill</td>\n      <td>https://pokeapi.co/api/v2/pokemon/15/</td>\n      <td>10</td>\n      <td>15</td>\n      <td>19</td>\n      <td>295</td>\n      <td>[{'slot': 1, 'type': {'name': 'bug', 'url': 'h...</td>\n    </tr>\n    <tr>\n      <th>15</th>\n      <td>pidgey</td>\n      <td>https://pokeapi.co/api/v2/pokemon/16/</td>\n      <td>3</td>\n      <td>16</td>\n      <td>21</td>\n      <td>18</td>\n      <td>[{'slot': 1, 'type': {'name': 'normal', 'url':...</td>\n    </tr>\n    <tr>\n      <th>16</th>\n      <td>pidgeotto</td>\n      <td>https://pokeapi.co/api/v2/pokemon/17/</td>\n      <td>11</td>\n      <td>17</td>\n      <td>22</td>\n      <td>300</td>\n      <td>[{'slot': 1, 'type': {'name': 'normal', 'url':...</td>\n    </tr>\n    <tr>\n      <th>17</th>\n      <td>pidgeot</td>\n      <td>https://pokeapi.co/api/v2/pokemon/18/</td>\n      <td>15</td>\n      <td>18</td>\n      <td>23</td>\n      <td>395</td>\n      <td>[{'slot': 1, 'type': {'name': 'normal', 'url':...</td>\n    </tr>\n    <tr>\n      <th>18</th>\n      <td>rattata</td>\n      <td>https://pokeapi.co/api/v2/pokemon/19/</td>\n      <td>3</td>\n      <td>19</td>\n      <td>25</td>\n      <td>35</td>\n      <td>[{'slot': 1, 'type': {'name': 'normal', 'url':...</td>\n    </tr>\n    <tr>\n      <th>19</th>\n      <td>raticate</td>\n      <td>https://pokeapi.co/api/v2/pokemon/20/</td>\n      <td>7</td>\n      <td>20</td>\n      <td>27</td>\n      <td>185</td>\n      <td>[{'slot': 1, 'type': {'name': 'normal', 'url':...</td>\n    </tr>\n  </tbody>\n</table>\n</div>"
     },
     "metadata": {},
     "execution_count": 78
    }
   ],
   "source": [
    "df_poke = pd.DataFrame(pokemon)\n",
    "df_poke"
   ]
  },
  {
   "cell_type": "code",
   "execution_count": 79,
   "metadata": {},
   "outputs": [
    {
     "output_type": "execute_result",
     "data": {
      "text/plain": [
       "0     [{'slot': 1, 'type': {'name': 'grass', 'url': ...\n",
       "1     [{'slot': 1, 'type': {'name': 'grass', 'url': ...\n",
       "2     [{'slot': 1, 'type': {'name': 'grass', 'url': ...\n",
       "3     [{'slot': 1, 'type': {'name': 'fire', 'url': '...\n",
       "4     [{'slot': 1, 'type': {'name': 'fire', 'url': '...\n",
       "5     [{'slot': 1, 'type': {'name': 'fire', 'url': '...\n",
       "6     [{'slot': 1, 'type': {'name': 'water', 'url': ...\n",
       "7     [{'slot': 1, 'type': {'name': 'water', 'url': ...\n",
       "8     [{'slot': 1, 'type': {'name': 'water', 'url': ...\n",
       "9     [{'slot': 1, 'type': {'name': 'bug', 'url': 'h...\n",
       "10    [{'slot': 1, 'type': {'name': 'bug', 'url': 'h...\n",
       "11    [{'slot': 1, 'type': {'name': 'bug', 'url': 'h...\n",
       "12    [{'slot': 1, 'type': {'name': 'bug', 'url': 'h...\n",
       "13    [{'slot': 1, 'type': {'name': 'bug', 'url': 'h...\n",
       "14    [{'slot': 1, 'type': {'name': 'bug', 'url': 'h...\n",
       "15    [{'slot': 1, 'type': {'name': 'normal', 'url':...\n",
       "16    [{'slot': 1, 'type': {'name': 'normal', 'url':...\n",
       "17    [{'slot': 1, 'type': {'name': 'normal', 'url':...\n",
       "18    [{'slot': 1, 'type': {'name': 'normal', 'url':...\n",
       "19    [{'slot': 1, 'type': {'name': 'normal', 'url':...\n",
       "Name: types, dtype: object"
      ]
     },
     "metadata": {},
     "execution_count": 79
    }
   ],
   "source": [
    "df_poke[\"types\"]"
   ]
  },
  {
   "cell_type": "code",
   "execution_count": 80,
   "metadata": {},
   "outputs": [],
   "source": [
    "df_poke[\"types\"] = df_poke[\"types\"].apply(lambda x: [y[\"type\"][\"name\"] for y in x])"
   ]
  },
  {
   "cell_type": "code",
   "execution_count": 81,
   "metadata": {},
   "outputs": [
    {
     "output_type": "execute_result",
     "data": {
      "text/plain": [
       "          name                                    url  height  id  order  \\\n",
       "0    bulbasaur   https://pokeapi.co/api/v2/pokemon/1/       7   1      1   \n",
       "1      ivysaur   https://pokeapi.co/api/v2/pokemon/2/      10   2      2   \n",
       "2     venusaur   https://pokeapi.co/api/v2/pokemon/3/      20   3      3   \n",
       "3   charmander   https://pokeapi.co/api/v2/pokemon/4/       6   4      5   \n",
       "4   charmeleon   https://pokeapi.co/api/v2/pokemon/5/      11   5      6   \n",
       "5    charizard   https://pokeapi.co/api/v2/pokemon/6/      17   6      7   \n",
       "6     squirtle   https://pokeapi.co/api/v2/pokemon/7/       5   7     10   \n",
       "7    wartortle   https://pokeapi.co/api/v2/pokemon/8/      10   8     11   \n",
       "8    blastoise   https://pokeapi.co/api/v2/pokemon/9/      16   9     12   \n",
       "9     caterpie  https://pokeapi.co/api/v2/pokemon/10/       3  10     14   \n",
       "10     metapod  https://pokeapi.co/api/v2/pokemon/11/       7  11     15   \n",
       "11  butterfree  https://pokeapi.co/api/v2/pokemon/12/      11  12     16   \n",
       "12      weedle  https://pokeapi.co/api/v2/pokemon/13/       3  13     17   \n",
       "13      kakuna  https://pokeapi.co/api/v2/pokemon/14/       6  14     18   \n",
       "14    beedrill  https://pokeapi.co/api/v2/pokemon/15/      10  15     19   \n",
       "15      pidgey  https://pokeapi.co/api/v2/pokemon/16/       3  16     21   \n",
       "16   pidgeotto  https://pokeapi.co/api/v2/pokemon/17/      11  17     22   \n",
       "17     pidgeot  https://pokeapi.co/api/v2/pokemon/18/      15  18     23   \n",
       "18     rattata  https://pokeapi.co/api/v2/pokemon/19/       3  19     25   \n",
       "19    raticate  https://pokeapi.co/api/v2/pokemon/20/       7  20     27   \n",
       "\n",
       "    weight             types  \n",
       "0       69   [grass, poison]  \n",
       "1      130   [grass, poison]  \n",
       "2     1000   [grass, poison]  \n",
       "3       85            [fire]  \n",
       "4      190            [fire]  \n",
       "5      905    [fire, flying]  \n",
       "6       90           [water]  \n",
       "7      225           [water]  \n",
       "8      855           [water]  \n",
       "9       29             [bug]  \n",
       "10      99             [bug]  \n",
       "11     320     [bug, flying]  \n",
       "12      32     [bug, poison]  \n",
       "13     100     [bug, poison]  \n",
       "14     295     [bug, poison]  \n",
       "15      18  [normal, flying]  \n",
       "16     300  [normal, flying]  \n",
       "17     395  [normal, flying]  \n",
       "18      35          [normal]  \n",
       "19     185          [normal]  "
      ],
      "text/html": "<div>\n<style scoped>\n    .dataframe tbody tr th:only-of-type {\n        vertical-align: middle;\n    }\n\n    .dataframe tbody tr th {\n        vertical-align: top;\n    }\n\n    .dataframe thead th {\n        text-align: right;\n    }\n</style>\n<table border=\"1\" class=\"dataframe\">\n  <thead>\n    <tr style=\"text-align: right;\">\n      <th></th>\n      <th>name</th>\n      <th>url</th>\n      <th>height</th>\n      <th>id</th>\n      <th>order</th>\n      <th>weight</th>\n      <th>types</th>\n    </tr>\n  </thead>\n  <tbody>\n    <tr>\n      <th>0</th>\n      <td>bulbasaur</td>\n      <td>https://pokeapi.co/api/v2/pokemon/1/</td>\n      <td>7</td>\n      <td>1</td>\n      <td>1</td>\n      <td>69</td>\n      <td>[grass, poison]</td>\n    </tr>\n    <tr>\n      <th>1</th>\n      <td>ivysaur</td>\n      <td>https://pokeapi.co/api/v2/pokemon/2/</td>\n      <td>10</td>\n      <td>2</td>\n      <td>2</td>\n      <td>130</td>\n      <td>[grass, poison]</td>\n    </tr>\n    <tr>\n      <th>2</th>\n      <td>venusaur</td>\n      <td>https://pokeapi.co/api/v2/pokemon/3/</td>\n      <td>20</td>\n      <td>3</td>\n      <td>3</td>\n      <td>1000</td>\n      <td>[grass, poison]</td>\n    </tr>\n    <tr>\n      <th>3</th>\n      <td>charmander</td>\n      <td>https://pokeapi.co/api/v2/pokemon/4/</td>\n      <td>6</td>\n      <td>4</td>\n      <td>5</td>\n      <td>85</td>\n      <td>[fire]</td>\n    </tr>\n    <tr>\n      <th>4</th>\n      <td>charmeleon</td>\n      <td>https://pokeapi.co/api/v2/pokemon/5/</td>\n      <td>11</td>\n      <td>5</td>\n      <td>6</td>\n      <td>190</td>\n      <td>[fire]</td>\n    </tr>\n    <tr>\n      <th>5</th>\n      <td>charizard</td>\n      <td>https://pokeapi.co/api/v2/pokemon/6/</td>\n      <td>17</td>\n      <td>6</td>\n      <td>7</td>\n      <td>905</td>\n      <td>[fire, flying]</td>\n    </tr>\n    <tr>\n      <th>6</th>\n      <td>squirtle</td>\n      <td>https://pokeapi.co/api/v2/pokemon/7/</td>\n      <td>5</td>\n      <td>7</td>\n      <td>10</td>\n      <td>90</td>\n      <td>[water]</td>\n    </tr>\n    <tr>\n      <th>7</th>\n      <td>wartortle</td>\n      <td>https://pokeapi.co/api/v2/pokemon/8/</td>\n      <td>10</td>\n      <td>8</td>\n      <td>11</td>\n      <td>225</td>\n      <td>[water]</td>\n    </tr>\n    <tr>\n      <th>8</th>\n      <td>blastoise</td>\n      <td>https://pokeapi.co/api/v2/pokemon/9/</td>\n      <td>16</td>\n      <td>9</td>\n      <td>12</td>\n      <td>855</td>\n      <td>[water]</td>\n    </tr>\n    <tr>\n      <th>9</th>\n      <td>caterpie</td>\n      <td>https://pokeapi.co/api/v2/pokemon/10/</td>\n      <td>3</td>\n      <td>10</td>\n      <td>14</td>\n      <td>29</td>\n      <td>[bug]</td>\n    </tr>\n    <tr>\n      <th>10</th>\n      <td>metapod</td>\n      <td>https://pokeapi.co/api/v2/pokemon/11/</td>\n      <td>7</td>\n      <td>11</td>\n      <td>15</td>\n      <td>99</td>\n      <td>[bug]</td>\n    </tr>\n    <tr>\n      <th>11</th>\n      <td>butterfree</td>\n      <td>https://pokeapi.co/api/v2/pokemon/12/</td>\n      <td>11</td>\n      <td>12</td>\n      <td>16</td>\n      <td>320</td>\n      <td>[bug, flying]</td>\n    </tr>\n    <tr>\n      <th>12</th>\n      <td>weedle</td>\n      <td>https://pokeapi.co/api/v2/pokemon/13/</td>\n      <td>3</td>\n      <td>13</td>\n      <td>17</td>\n      <td>32</td>\n      <td>[bug, poison]</td>\n    </tr>\n    <tr>\n      <th>13</th>\n      <td>kakuna</td>\n      <td>https://pokeapi.co/api/v2/pokemon/14/</td>\n      <td>6</td>\n      <td>14</td>\n      <td>18</td>\n      <td>100</td>\n      <td>[bug, poison]</td>\n    </tr>\n    <tr>\n      <th>14</th>\n      <td>beedrill</td>\n      <td>https://pokeapi.co/api/v2/pokemon/15/</td>\n      <td>10</td>\n      <td>15</td>\n      <td>19</td>\n      <td>295</td>\n      <td>[bug, poison]</td>\n    </tr>\n    <tr>\n      <th>15</th>\n      <td>pidgey</td>\n      <td>https://pokeapi.co/api/v2/pokemon/16/</td>\n      <td>3</td>\n      <td>16</td>\n      <td>21</td>\n      <td>18</td>\n      <td>[normal, flying]</td>\n    </tr>\n    <tr>\n      <th>16</th>\n      <td>pidgeotto</td>\n      <td>https://pokeapi.co/api/v2/pokemon/17/</td>\n      <td>11</td>\n      <td>17</td>\n      <td>22</td>\n      <td>300</td>\n      <td>[normal, flying]</td>\n    </tr>\n    <tr>\n      <th>17</th>\n      <td>pidgeot</td>\n      <td>https://pokeapi.co/api/v2/pokemon/18/</td>\n      <td>15</td>\n      <td>18</td>\n      <td>23</td>\n      <td>395</td>\n      <td>[normal, flying]</td>\n    </tr>\n    <tr>\n      <th>18</th>\n      <td>rattata</td>\n      <td>https://pokeapi.co/api/v2/pokemon/19/</td>\n      <td>3</td>\n      <td>19</td>\n      <td>25</td>\n      <td>35</td>\n      <td>[normal]</td>\n    </tr>\n    <tr>\n      <th>19</th>\n      <td>raticate</td>\n      <td>https://pokeapi.co/api/v2/pokemon/20/</td>\n      <td>7</td>\n      <td>20</td>\n      <td>27</td>\n      <td>185</td>\n      <td>[normal]</td>\n    </tr>\n  </tbody>\n</table>\n</div>"
     },
     "metadata": {},
     "execution_count": 81
    }
   ],
   "source": [
    "df_poke"
   ]
  }
 ]
}