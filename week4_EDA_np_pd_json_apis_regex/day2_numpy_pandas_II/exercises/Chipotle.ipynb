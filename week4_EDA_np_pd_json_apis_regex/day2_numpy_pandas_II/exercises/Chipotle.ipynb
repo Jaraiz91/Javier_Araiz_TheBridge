{
 "cells": [
  {
   "cell_type": "markdown",
   "metadata": {},
   "source": [
    "# 02 - Filtering and Sorting Data"
   ]
  },
  {
   "cell_type": "markdown",
   "metadata": {},
   "source": [
    "\n",
    "\n",
    "### Step 1. Import the necessary libraries"
   ]
  },
  {
   "cell_type": "code",
   "execution_count": 132,
   "metadata": {},
   "outputs": [],
   "source": [
    "import pandas as pd"
   ]
  },
  {
   "cell_type": "markdown",
   "metadata": {},
   "source": [
    "### Step 2. Import the dataset from this [address](https://raw.githubusercontent.com/justmarkham/DAT8/master/data/chipotle.tsv). Assign it to a variable called chipo.\n",
    "\n",
    "This time we are going to pull data directly from the internet."
   ]
  },
  {
   "cell_type": "code",
   "execution_count": 133,
   "metadata": {},
   "outputs": [
    {
     "output_type": "execute_result",
     "data": {
      "text/plain": [
       "      order_id  quantity                              item_name  \\\n",
       "0            1         1           Chips and Fresh Tomato Salsa   \n",
       "1            1         1                                   Izze   \n",
       "2            1         1                       Nantucket Nectar   \n",
       "3            1         1  Chips and Tomatillo-Green Chili Salsa   \n",
       "4            2         2                           Chicken Bowl   \n",
       "...        ...       ...                                    ...   \n",
       "4617      1833         1                          Steak Burrito   \n",
       "4618      1833         1                          Steak Burrito   \n",
       "4619      1834         1                     Chicken Salad Bowl   \n",
       "4620      1834         1                     Chicken Salad Bowl   \n",
       "4621      1834         1                     Chicken Salad Bowl   \n",
       "\n",
       "                                     choice_description item_price  \n",
       "0                                                   NaN     $2.39   \n",
       "1                                          [Clementine]     $3.39   \n",
       "2                                               [Apple]     $3.39   \n",
       "3                                                   NaN     $2.39   \n",
       "4     [Tomatillo-Red Chili Salsa (Hot), [Black Beans...    $16.98   \n",
       "...                                                 ...        ...  \n",
       "4617  [Fresh Tomato Salsa, [Rice, Black Beans, Sour ...    $11.75   \n",
       "4618  [Fresh Tomato Salsa, [Rice, Sour Cream, Cheese...    $11.75   \n",
       "4619  [Fresh Tomato Salsa, [Fajita Vegetables, Pinto...    $11.25   \n",
       "4620  [Fresh Tomato Salsa, [Fajita Vegetables, Lettu...     $8.75   \n",
       "4621  [Fresh Tomato Salsa, [Fajita Vegetables, Pinto...     $8.75   \n",
       "\n",
       "[4622 rows x 5 columns]"
      ],
      "text/html": "<div>\n<style scoped>\n    .dataframe tbody tr th:only-of-type {\n        vertical-align: middle;\n    }\n\n    .dataframe tbody tr th {\n        vertical-align: top;\n    }\n\n    .dataframe thead th {\n        text-align: right;\n    }\n</style>\n<table border=\"1\" class=\"dataframe\">\n  <thead>\n    <tr style=\"text-align: right;\">\n      <th></th>\n      <th>order_id</th>\n      <th>quantity</th>\n      <th>item_name</th>\n      <th>choice_description</th>\n      <th>item_price</th>\n    </tr>\n  </thead>\n  <tbody>\n    <tr>\n      <th>0</th>\n      <td>1</td>\n      <td>1</td>\n      <td>Chips and Fresh Tomato Salsa</td>\n      <td>NaN</td>\n      <td>$2.39</td>\n    </tr>\n    <tr>\n      <th>1</th>\n      <td>1</td>\n      <td>1</td>\n      <td>Izze</td>\n      <td>[Clementine]</td>\n      <td>$3.39</td>\n    </tr>\n    <tr>\n      <th>2</th>\n      <td>1</td>\n      <td>1</td>\n      <td>Nantucket Nectar</td>\n      <td>[Apple]</td>\n      <td>$3.39</td>\n    </tr>\n    <tr>\n      <th>3</th>\n      <td>1</td>\n      <td>1</td>\n      <td>Chips and Tomatillo-Green Chili Salsa</td>\n      <td>NaN</td>\n      <td>$2.39</td>\n    </tr>\n    <tr>\n      <th>4</th>\n      <td>2</td>\n      <td>2</td>\n      <td>Chicken Bowl</td>\n      <td>[Tomatillo-Red Chili Salsa (Hot), [Black Beans...</td>\n      <td>$16.98</td>\n    </tr>\n    <tr>\n      <th>...</th>\n      <td>...</td>\n      <td>...</td>\n      <td>...</td>\n      <td>...</td>\n      <td>...</td>\n    </tr>\n    <tr>\n      <th>4617</th>\n      <td>1833</td>\n      <td>1</td>\n      <td>Steak Burrito</td>\n      <td>[Fresh Tomato Salsa, [Rice, Black Beans, Sour ...</td>\n      <td>$11.75</td>\n    </tr>\n    <tr>\n      <th>4618</th>\n      <td>1833</td>\n      <td>1</td>\n      <td>Steak Burrito</td>\n      <td>[Fresh Tomato Salsa, [Rice, Sour Cream, Cheese...</td>\n      <td>$11.75</td>\n    </tr>\n    <tr>\n      <th>4619</th>\n      <td>1834</td>\n      <td>1</td>\n      <td>Chicken Salad Bowl</td>\n      <td>[Fresh Tomato Salsa, [Fajita Vegetables, Pinto...</td>\n      <td>$11.25</td>\n    </tr>\n    <tr>\n      <th>4620</th>\n      <td>1834</td>\n      <td>1</td>\n      <td>Chicken Salad Bowl</td>\n      <td>[Fresh Tomato Salsa, [Fajita Vegetables, Lettu...</td>\n      <td>$8.75</td>\n    </tr>\n    <tr>\n      <th>4621</th>\n      <td>1834</td>\n      <td>1</td>\n      <td>Chicken Salad Bowl</td>\n      <td>[Fresh Tomato Salsa, [Fajita Vegetables, Pinto...</td>\n      <td>$8.75</td>\n    </tr>\n  </tbody>\n</table>\n<p>4622 rows × 5 columns</p>\n</div>"
     },
     "metadata": {},
     "execution_count": 133
    }
   ],
   "source": [
    "address = \"https://raw.githubusercontent.com/justmarkham/DAT8/master/data/chipotle.tsv\"\n",
    "chipo = pd.read_csv(address, sep=\"\\t\")\n",
    "chipo"
   ]
  },
  {
   "cell_type": "markdown",
   "metadata": {},
   "source": [
    "### Step 3. Name of the most expensive products (item_name)\n",
    "\n",
    "¿Recuerdas el `map`? En **pandas** tienes el método [`apply`](https://pandas.pydata.org/pandas-docs/stable/reference/api/pandas.DataFrame.apply.html) y en para resolver este ejercicio te puede ser muy útil. \n",
    "\n",
    "Pero no acaba ahí https://stackoverflow.com/questions/19798153/difference-between-map-applymap-and-apply-methods-in-pandas"
   ]
  },
  {
   "cell_type": "code",
   "execution_count": 134,
   "metadata": {},
   "outputs": [
    {
     "output_type": "execute_result",
     "data": {
      "text/plain": [
       "11.89"
      ]
     },
     "metadata": {},
     "execution_count": 134
    }
   ],
   "source": [
    "\n",
    "price = [float(x[1:-1]) for x in chipo.item_price]\n",
    "chipo.item_price = price\n",
    "filtered_chipo = chipo.drop_duplicates([\"item_name\", \"quantity\", \"choice_description\"])\n",
    "filtered_chipo.item_price.max()\n",
    "solo_uno = filtered_chipo[filtered_chipo.quantity == 1]\n",
    "solo_uno.item_price.max()"
   ]
  },
  {
   "cell_type": "markdown",
   "metadata": {},
   "source": [
    "### Step 4. How many products cost more than $10.00?"
   ]
  },
  {
   "cell_type": "code",
   "execution_count": 135,
   "metadata": {},
   "outputs": [
    {
     "output_type": "execute_result",
     "data": {
      "text/plain": [
       "False    1155\n",
       "True      794\n",
       "Name: item_price, dtype: int64"
      ]
     },
     "metadata": {},
     "execution_count": 135
    }
   ],
   "source": [
    "f = lambda x: x > 10 \n",
    "filtered_chipo.item_price.apply(f).value_counts()"
   ]
  },
  {
   "cell_type": "markdown",
   "metadata": {},
   "source": [
    "### Step 5. What is the price of each item? \n",
    "###### print a data frame with only two columns item_name and item_price"
   ]
  },
  {
   "cell_type": "code",
   "execution_count": 136,
   "metadata": {},
   "outputs": [
    {
     "output_type": "execute_result",
     "data": {
      "text/plain": [
       "                                  item_name  item_price\n",
       "0              Chips and Fresh Tomato Salsa        2.39\n",
       "1                                      Izze        3.39\n",
       "2                          Nantucket Nectar        3.39\n",
       "3     Chips and Tomatillo-Green Chili Salsa        2.39\n",
       "4                              Chicken Bowl       16.98\n",
       "...                                     ...         ...\n",
       "4602                       Barbacoa Burrito        9.25\n",
       "4607                          Steak Burrito       11.75\n",
       "4610                          Steak Burrito       11.75\n",
       "4611                         Veggie Burrito       11.25\n",
       "4612                          Carnitas Bowl        9.25\n",
       "\n",
       "[1949 rows x 2 columns]"
      ],
      "text/html": "<div>\n<style scoped>\n    .dataframe tbody tr th:only-of-type {\n        vertical-align: middle;\n    }\n\n    .dataframe tbody tr th {\n        vertical-align: top;\n    }\n\n    .dataframe thead th {\n        text-align: right;\n    }\n</style>\n<table border=\"1\" class=\"dataframe\">\n  <thead>\n    <tr style=\"text-align: right;\">\n      <th></th>\n      <th>item_name</th>\n      <th>item_price</th>\n    </tr>\n  </thead>\n  <tbody>\n    <tr>\n      <th>0</th>\n      <td>Chips and Fresh Tomato Salsa</td>\n      <td>2.39</td>\n    </tr>\n    <tr>\n      <th>1</th>\n      <td>Izze</td>\n      <td>3.39</td>\n    </tr>\n    <tr>\n      <th>2</th>\n      <td>Nantucket Nectar</td>\n      <td>3.39</td>\n    </tr>\n    <tr>\n      <th>3</th>\n      <td>Chips and Tomatillo-Green Chili Salsa</td>\n      <td>2.39</td>\n    </tr>\n    <tr>\n      <th>4</th>\n      <td>Chicken Bowl</td>\n      <td>16.98</td>\n    </tr>\n    <tr>\n      <th>...</th>\n      <td>...</td>\n      <td>...</td>\n    </tr>\n    <tr>\n      <th>4602</th>\n      <td>Barbacoa Burrito</td>\n      <td>9.25</td>\n    </tr>\n    <tr>\n      <th>4607</th>\n      <td>Steak Burrito</td>\n      <td>11.75</td>\n    </tr>\n    <tr>\n      <th>4610</th>\n      <td>Steak Burrito</td>\n      <td>11.75</td>\n    </tr>\n    <tr>\n      <th>4611</th>\n      <td>Veggie Burrito</td>\n      <td>11.25</td>\n    </tr>\n    <tr>\n      <th>4612</th>\n      <td>Carnitas Bowl</td>\n      <td>9.25</td>\n    </tr>\n  </tbody>\n</table>\n<p>1949 rows × 2 columns</p>\n</div>"
     },
     "metadata": {},
     "execution_count": 136
    }
   ],
   "source": [
    "filtered_chipo = chipo.drop_duplicates([\"item_name\", \"quantity\", \"choice_description\"])\n",
    "filtered_chipo[[\"item_name\",\"item_price\"]]"
   ]
  },
  {
   "cell_type": "markdown",
   "metadata": {},
   "source": [
    "### Step 6. Sort by the name of the item"
   ]
  },
  {
   "cell_type": "code",
   "execution_count": 137,
   "metadata": {},
   "outputs": [
    {
     "output_type": "execute_result",
     "data": {
      "text/plain": [
       "0                Chips and Fresh Tomato Salsa\n",
       "1                                        Izze\n",
       "2                            Nantucket Nectar\n",
       "3       Chips and Tomatillo-Green Chili Salsa\n",
       "4                                Chicken Bowl\n",
       "                        ...                  \n",
       "4602                         Barbacoa Burrito\n",
       "4607                            Steak Burrito\n",
       "4610                            Steak Burrito\n",
       "4611                           Veggie Burrito\n",
       "4612                            Carnitas Bowl\n",
       "Name: item_name, Length: 1949, dtype: object"
      ]
     },
     "metadata": {},
     "execution_count": 137
    }
   ],
   "source": [
    "\n",
    "filtered_chipo[\"item_name\"]"
   ]
  },
  {
   "cell_type": "markdown",
   "metadata": {},
   "source": [
    "### Step 7. What was the quantity of the most expensive item ordered? 2 ways"
   ]
  },
  {
   "cell_type": "markdown",
   "metadata": {},
   "source": [
    "V1"
   ]
  },
  {
   "cell_type": "code",
   "execution_count": 145,
   "metadata": {},
   "outputs": [
    {
     "output_type": "execute_result",
     "data": {
      "text/plain": [
       "                item_name  quantity  \\\n",
       "606      Steak Salad Bowl         1   \n",
       "749      Steak Salad Bowl         1   \n",
       "1132  Carnitas Salad Bowl         1   \n",
       "1159     Steak Salad Bowl         1   \n",
       "1229  Barbacoa Salad Bowl         1   \n",
       "1311     Steak Salad Bowl         1   \n",
       "1326  Barbacoa Salad Bowl         1   \n",
       "1505     Steak Salad Bowl         1   \n",
       "1571     Steak Salad Bowl         1   \n",
       "1590     Steak Salad Bowl         1   \n",
       "1816     Steak Salad Bowl         1   \n",
       "2401     Steak Salad Bowl         1   \n",
       "2439     Steak Salad Bowl         1   \n",
       "2442  Barbacoa Salad Bowl         1   \n",
       "2610  Carnitas Salad Bowl         1   \n",
       "2740     Steak Salad Bowl         1   \n",
       "2804     Steak Salad Bowl         1   \n",
       "2957     Steak Salad Bowl         1   \n",
       "3120     Steak Salad Bowl         1   \n",
       "3208  Barbacoa Salad Bowl         1   \n",
       "3350     Steak Salad Bowl         1   \n",
       "3493     Steak Salad Bowl         1   \n",
       "3546  Barbacoa Salad Bowl         1   \n",
       "3749  Carnitas Salad Bowl         1   \n",
       "4239  Carnitas Salad Bowl         1   \n",
       "4313     Steak Salad Bowl         1   \n",
       "\n",
       "                                     choice_description  \n",
       "606   [Fresh Tomato Salsa, [Pinto Beans, Cheese, Gua...  \n",
       "749   [Roasted Chili Corn Salsa, [Rice, Cheese, Lett...  \n",
       "1132  [Fresh Tomato Salsa, [Rice, Black Beans, Chees...  \n",
       "1159  [Fresh Tomato Salsa, [Rice, Fajita Vegetables,...  \n",
       "1229  [Fresh Tomato Salsa, [Rice, Fajita Vegetables,...  \n",
       "1311  [Roasted Chili Corn Salsa, [Fajita Vegetables,...  \n",
       "1326  [Fresh Tomato Salsa, [Fajita Vegetables, Rice,...  \n",
       "1505  [Fresh Tomato Salsa, [Rice, Pinto Beans, Chees...  \n",
       "1571  [Fresh Tomato Salsa, [Fajita Vegetables, Sour ...  \n",
       "1590  [Fresh Tomato Salsa, [Fajita Vegetables, Rice,...  \n",
       "1816  [Fresh Tomato Salsa, [Rice, Black Beans, Chees...  \n",
       "2401  [Fresh Tomato Salsa, [Fajita Vegetables, Guaca...  \n",
       "2439  [Fresh Tomato Salsa, [Fajita Vegetables, Rice,...  \n",
       "2442  [Tomatillo Green Chili Salsa, [Rice, Fajita Ve...  \n",
       "2610  [Roasted Chili Corn Salsa, [Fajita Vegetables,...  \n",
       "2740  [Fresh Tomato Salsa, [Fajita Vegetables, Black...  \n",
       "2804  [Tomatillo Red Chili Salsa, [Rice, Black Beans...  \n",
       "2957  [Fresh Tomato Salsa, [Black Beans, Cheese, Gua...  \n",
       "3120  [Roasted Chili Corn Salsa, [Fajita Vegetables,...  \n",
       "3208  [Tomatillo Red Chili Salsa, [Black Beans, Chee...  \n",
       "3350  [Fresh Tomato Salsa, [Cheese, Guacamole, Lettu...  \n",
       "3493  [Roasted Chili Corn Salsa, [Fajita Vegetables,...  \n",
       "3546                    [Fresh Tomato Salsa, Guacamole]  \n",
       "3749  [Roasted Chili Corn Salsa, [Fajita Vegetables,...  \n",
       "4239  [Tomatillo Green Chili Salsa, [Black Beans, Ch...  \n",
       "4313  [Roasted Chili Corn Salsa, [Fajita Vegetables,...  "
      ],
      "text/html": "<div>\n<style scoped>\n    .dataframe tbody tr th:only-of-type {\n        vertical-align: middle;\n    }\n\n    .dataframe tbody tr th {\n        vertical-align: top;\n    }\n\n    .dataframe thead th {\n        text-align: right;\n    }\n</style>\n<table border=\"1\" class=\"dataframe\">\n  <thead>\n    <tr style=\"text-align: right;\">\n      <th></th>\n      <th>item_name</th>\n      <th>quantity</th>\n      <th>choice_description</th>\n    </tr>\n  </thead>\n  <tbody>\n    <tr>\n      <th>606</th>\n      <td>Steak Salad Bowl</td>\n      <td>1</td>\n      <td>[Fresh Tomato Salsa, [Pinto Beans, Cheese, Gua...</td>\n    </tr>\n    <tr>\n      <th>749</th>\n      <td>Steak Salad Bowl</td>\n      <td>1</td>\n      <td>[Roasted Chili Corn Salsa, [Rice, Cheese, Lett...</td>\n    </tr>\n    <tr>\n      <th>1132</th>\n      <td>Carnitas Salad Bowl</td>\n      <td>1</td>\n      <td>[Fresh Tomato Salsa, [Rice, Black Beans, Chees...</td>\n    </tr>\n    <tr>\n      <th>1159</th>\n      <td>Steak Salad Bowl</td>\n      <td>1</td>\n      <td>[Fresh Tomato Salsa, [Rice, Fajita Vegetables,...</td>\n    </tr>\n    <tr>\n      <th>1229</th>\n      <td>Barbacoa Salad Bowl</td>\n      <td>1</td>\n      <td>[Fresh Tomato Salsa, [Rice, Fajita Vegetables,...</td>\n    </tr>\n    <tr>\n      <th>1311</th>\n      <td>Steak Salad Bowl</td>\n      <td>1</td>\n      <td>[Roasted Chili Corn Salsa, [Fajita Vegetables,...</td>\n    </tr>\n    <tr>\n      <th>1326</th>\n      <td>Barbacoa Salad Bowl</td>\n      <td>1</td>\n      <td>[Fresh Tomato Salsa, [Fajita Vegetables, Rice,...</td>\n    </tr>\n    <tr>\n      <th>1505</th>\n      <td>Steak Salad Bowl</td>\n      <td>1</td>\n      <td>[Fresh Tomato Salsa, [Rice, Pinto Beans, Chees...</td>\n    </tr>\n    <tr>\n      <th>1571</th>\n      <td>Steak Salad Bowl</td>\n      <td>1</td>\n      <td>[Fresh Tomato Salsa, [Fajita Vegetables, Sour ...</td>\n    </tr>\n    <tr>\n      <th>1590</th>\n      <td>Steak Salad Bowl</td>\n      <td>1</td>\n      <td>[Fresh Tomato Salsa, [Fajita Vegetables, Rice,...</td>\n    </tr>\n    <tr>\n      <th>1816</th>\n      <td>Steak Salad Bowl</td>\n      <td>1</td>\n      <td>[Fresh Tomato Salsa, [Rice, Black Beans, Chees...</td>\n    </tr>\n    <tr>\n      <th>2401</th>\n      <td>Steak Salad Bowl</td>\n      <td>1</td>\n      <td>[Fresh Tomato Salsa, [Fajita Vegetables, Guaca...</td>\n    </tr>\n    <tr>\n      <th>2439</th>\n      <td>Steak Salad Bowl</td>\n      <td>1</td>\n      <td>[Fresh Tomato Salsa, [Fajita Vegetables, Rice,...</td>\n    </tr>\n    <tr>\n      <th>2442</th>\n      <td>Barbacoa Salad Bowl</td>\n      <td>1</td>\n      <td>[Tomatillo Green Chili Salsa, [Rice, Fajita Ve...</td>\n    </tr>\n    <tr>\n      <th>2610</th>\n      <td>Carnitas Salad Bowl</td>\n      <td>1</td>\n      <td>[Roasted Chili Corn Salsa, [Fajita Vegetables,...</td>\n    </tr>\n    <tr>\n      <th>2740</th>\n      <td>Steak Salad Bowl</td>\n      <td>1</td>\n      <td>[Fresh Tomato Salsa, [Fajita Vegetables, Black...</td>\n    </tr>\n    <tr>\n      <th>2804</th>\n      <td>Steak Salad Bowl</td>\n      <td>1</td>\n      <td>[Tomatillo Red Chili Salsa, [Rice, Black Beans...</td>\n    </tr>\n    <tr>\n      <th>2957</th>\n      <td>Steak Salad Bowl</td>\n      <td>1</td>\n      <td>[Fresh Tomato Salsa, [Black Beans, Cheese, Gua...</td>\n    </tr>\n    <tr>\n      <th>3120</th>\n      <td>Steak Salad Bowl</td>\n      <td>1</td>\n      <td>[Roasted Chili Corn Salsa, [Fajita Vegetables,...</td>\n    </tr>\n    <tr>\n      <th>3208</th>\n      <td>Barbacoa Salad Bowl</td>\n      <td>1</td>\n      <td>[Tomatillo Red Chili Salsa, [Black Beans, Chee...</td>\n    </tr>\n    <tr>\n      <th>3350</th>\n      <td>Steak Salad Bowl</td>\n      <td>1</td>\n      <td>[Fresh Tomato Salsa, [Cheese, Guacamole, Lettu...</td>\n    </tr>\n    <tr>\n      <th>3493</th>\n      <td>Steak Salad Bowl</td>\n      <td>1</td>\n      <td>[Roasted Chili Corn Salsa, [Fajita Vegetables,...</td>\n    </tr>\n    <tr>\n      <th>3546</th>\n      <td>Barbacoa Salad Bowl</td>\n      <td>1</td>\n      <td>[Fresh Tomato Salsa, Guacamole]</td>\n    </tr>\n    <tr>\n      <th>3749</th>\n      <td>Carnitas Salad Bowl</td>\n      <td>1</td>\n      <td>[Roasted Chili Corn Salsa, [Fajita Vegetables,...</td>\n    </tr>\n    <tr>\n      <th>4239</th>\n      <td>Carnitas Salad Bowl</td>\n      <td>1</td>\n      <td>[Tomatillo Green Chili Salsa, [Black Beans, Ch...</td>\n    </tr>\n    <tr>\n      <th>4313</th>\n      <td>Steak Salad Bowl</td>\n      <td>1</td>\n      <td>[Roasted Chili Corn Salsa, [Fajita Vegetables,...</td>\n    </tr>\n  </tbody>\n</table>\n</div>"
     },
     "metadata": {},
     "execution_count": 145
    }
   ],
   "source": [
    "solo_uno.loc[solo_uno.item_price == solo_uno.item_price.max(), [\"item_name\", \"quantity\", \"choice_description\"]]"
   ]
  },
  {
   "cell_type": "markdown",
   "metadata": {},
   "source": [
    "V2"
   ]
  },
  {
   "cell_type": "code",
   "execution_count": null,
   "metadata": {},
   "outputs": [],
   "source": []
  },
  {
   "cell_type": "markdown",
   "metadata": {},
   "source": [
    "### Step 8. How many times was a Veggie Salad Bowl ordered?"
   ]
  },
  {
   "cell_type": "code",
   "execution_count": 139,
   "metadata": {},
   "outputs": [
    {
     "output_type": "execute_result",
     "data": {
      "text/plain": [
       "18"
      ]
     },
     "metadata": {},
     "execution_count": 139
    }
   ],
   "source": [
    "chipo.loc[chipo.item_name== \"Veggie Salad Bowl\",\"quantity\"].sum()"
   ]
  },
  {
   "cell_type": "markdown",
   "metadata": {},
   "source": [
    "### Step 9. How many times did someone order more than one Canned Soda?"
   ]
  },
  {
   "cell_type": "code",
   "execution_count": 140,
   "metadata": {},
   "outputs": [
    {
     "output_type": "execute_result",
     "data": {
      "text/plain": [
       "generator"
      ]
     },
     "metadata": {},
     "execution_count": 140
    }
   ],
   "source": [
    "type(x for x in chipo.quantity)"
   ]
  },
  {
   "cell_type": "code",
   "execution_count": 141,
   "metadata": {},
   "outputs": [
    {
     "output_type": "execute_result",
     "data": {
      "text/plain": [
       "20"
      ]
     },
     "metadata": {},
     "execution_count": 141
    }
   ],
   "source": [
    "soda = chipo.loc[chipo.item_name == \"Canned Soda\"]\n",
    "len(soda.loc[soda.quantity > 1, \"quantity\"])"
   ]
  }
 ],
 "metadata": {
  "anaconda-cloud": {},
  "kernelspec": {
   "name": "python3810jvsc74a57bd0567ce215ee1f5ccb42045684f31605cd97b14e9878c0252db542d9e85d121b05",
   "display_name": "Python 3.8.10 64-bit"
  },
  "language_info": {
   "codemirror_mode": {
    "name": "ipython",
    "version": 3
   },
   "file_extension": ".py",
   "mimetype": "text/x-python",
   "name": "python",
   "nbconvert_exporter": "python",
   "pygments_lexer": "ipython3",
   "version": "3.8.10"
  },
  "metadata": {
   "interpreter": {
    "hash": "567ce215ee1f5ccb42045684f31605cd97b14e9878c0252db542d9e85d121b05"
   }
  }
 },
 "nbformat": 4,
 "nbformat_minor": 4
}