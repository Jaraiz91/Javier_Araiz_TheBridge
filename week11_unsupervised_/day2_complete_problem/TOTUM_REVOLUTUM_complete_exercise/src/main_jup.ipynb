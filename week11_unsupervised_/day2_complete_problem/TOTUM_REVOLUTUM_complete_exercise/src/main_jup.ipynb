{
 "metadata": {
  "language_info": {
   "codemirror_mode": {
    "name": "ipython",
    "version": 3
   },
   "file_extension": ".py",
   "mimetype": "text/x-python",
   "name": "python",
   "nbconvert_exporter": "python",
   "pygments_lexer": "ipython3",
   "version": "3.7.4"
  },
  "orig_nbformat": 2,
  "kernelspec": {
   "name": "python3",
   "display_name": "Python 3.7.4 64-bit"
  },
  "interpreter": {
   "hash": "e811f325e74d49824b5fcfc3c0f5c4bcd6461d80b4e4f70be476a8b343d99570"
  }
 },
 "nbformat": 4,
 "nbformat_minor": 2,
 "cells": [
  {
   "cell_type": "code",
   "execution_count": 16,
   "metadata": {},
   "outputs": [],
   "source": [
    "\"\"\" Siempre que veas 'pass' es un TO-DO (por hacer)\"\"\"\n",
    "\"\"\"1\"\"\"\n",
    "# Llama a la función 'mi_funcion' que está en /flask/api.py. No puede dar error.\n",
    "import sys, os\n",
    "\n",
    "ruta = os.getcwd()\n",
    "ruta = ruta + os.sep + 'flask'\n",
    "sys.path.append(ruta)"
   ]
  },
  {
   "cell_type": "code",
   "execution_count": 17,
   "metadata": {},
   "outputs": [],
   "source": [
    "import api"
   ]
  },
  {
   "cell_type": "code",
   "execution_count": 18,
   "metadata": {},
   "outputs": [
    {
     "output_type": "execute_result",
     "data": {
      "text/plain": [
       "'Soy función flask'"
      ]
     },
     "metadata": {},
     "execution_count": 18
    }
   ],
   "source": [
    "api.mi_funcion()"
   ]
  }
 ]
}