{
 "metadata": {
  "language_info": {
   "codemirror_mode": {
    "name": "ipython",
    "version": 3
   },
   "file_extension": ".py",
   "mimetype": "text/x-python",
   "name": "python",
   "nbconvert_exporter": "python",
   "pygments_lexer": "ipython3",
   "version": "3.7.4"
  },
  "orig_nbformat": 4,
  "kernelspec": {
   "name": "python3",
   "display_name": "Python 3.7.4 64-bit"
  },
  "interpreter": {
   "hash": "e811f325e74d49824b5fcfc3c0f5c4bcd6461d80b4e4f70be476a8b343d99570"
  }
 },
 "nbformat": 4,
 "nbformat_minor": 2,
 "cells": [
  {
   "cell_type": "code",
   "execution_count": 70,
   "metadata": {},
   "outputs": [],
   "source": [
    "import pandas as pd\n",
    "import numpy as np\n",
    "import matplotlib.pyplot as plt\n",
    "from sklearn.impute import SimpleImputer\n",
    "from sklearn.model_selection import train_test_split\n",
    "from sklearn.metrics import accuracy_score\n",
    "from sklearn.linear_model import LogisticRegression\n",
    "from sklearn.ensemble import VotingClassifier\n",
    "from sklearn.ensemble import RandomForestClassifier\n",
    "from sklearn.ensemble import AdaBoostClassifier\n",
    "from sklearn.svm import SVC\n",
    "from sklearn.model_selection import GridSearchCV\n",
    "from sklearn.model_selection import RepeatedKFold\n",
    "from sklearn.pipeline import Pipeline\n",
    "from sklearn.preprocessing import LabelEncoder\n",
    "from sklearn.preprocessing import OrdinalEncoder\n",
    "import h2o\n",
    "from h2o.automl import H2OAutoML"
   ]
  },
  {
   "cell_type": "code",
   "execution_count": 2,
   "metadata": {},
   "outputs": [
    {
     "output_type": "execute_result",
     "data": {
      "text/plain": [
       "            0   1  2   3  4  5           6  7  8    9      10    11  \\\n",
       "0      161528   6  a   6  X  2  gynecology  R  F  4.0   45810   2.0   \n",
       "1      159472  23  a   6  X  4  gynecology  Q  F  2.0  128565  15.0   \n",
       "2      309765   2  c   5  Z  2  anesthesia  S  F  3.0   46565   5.0   \n",
       "3      279614  32  f   9  Y  3  gynecology  S  B  4.0  124546   6.0   \n",
       "4      147791  14  a   1  X  3  gynecology  S  E  2.0   22729   8.0   \n",
       "...       ...  .. ..  .. .. ..         ... .. ..  ...     ...   ...   \n",
       "99995  237869  12  a   9  Y  3  gynecology  R  B  3.0   82914   3.0   \n",
       "99996  254763  28  b  11  X  2  gynecology  R  F  2.0   40026   5.0   \n",
       "99997   69788   6  a   6  X  3  gynecology  Q  F  3.0   92346   2.0   \n",
       "99998  204442  32  f   9  Y  2  gynecology  S  B  4.0  113798  15.0   \n",
       "99999   69647  25  e   1  X  3  gynecology  Q  E  2.0  109237   8.0   \n",
       "\n",
       "              12        13  14     15      16                  17  \n",
       "0         Urgent  Moderate   2  21-30  2817.0                0-10  \n",
       "1         Trauma  Moderate   4  51-60  4498.0               21-30  \n",
       "2         Urgent  Moderate   2  71-80  4573.0               11-20  \n",
       "3      Emergency  Moderate   4  11-20  7202.0               51-60  \n",
       "4         Urgent  Moderate   2  51-60  3398.0               51-60  \n",
       "...          ...       ...  ..    ...     ...                 ...  \n",
       "99995  Emergency  Moderate   6  51-60  3966.0  More than 100 Days  \n",
       "99996     Urgent  Moderate   3  21-30  4005.0               51-60  \n",
       "99997     Trauma     Minor   2  31-40  5215.0               31-40  \n",
       "99998     Trauma  Moderate   3  41-50  5092.0               11-20  \n",
       "99999  Emergency  Moderate   2  41-50  3390.0               41-50  \n",
       "\n",
       "[100000 rows x 18 columns]"
      ],
      "text/html": "<div>\n<style scoped>\n    .dataframe tbody tr th:only-of-type {\n        vertical-align: middle;\n    }\n\n    .dataframe tbody tr th {\n        vertical-align: top;\n    }\n\n    .dataframe thead th {\n        text-align: right;\n    }\n</style>\n<table border=\"1\" class=\"dataframe\">\n  <thead>\n    <tr style=\"text-align: right;\">\n      <th></th>\n      <th>0</th>\n      <th>1</th>\n      <th>2</th>\n      <th>3</th>\n      <th>4</th>\n      <th>5</th>\n      <th>6</th>\n      <th>7</th>\n      <th>8</th>\n      <th>9</th>\n      <th>10</th>\n      <th>11</th>\n      <th>12</th>\n      <th>13</th>\n      <th>14</th>\n      <th>15</th>\n      <th>16</th>\n      <th>17</th>\n    </tr>\n  </thead>\n  <tbody>\n    <tr>\n      <th>0</th>\n      <td>161528</td>\n      <td>6</td>\n      <td>a</td>\n      <td>6</td>\n      <td>X</td>\n      <td>2</td>\n      <td>gynecology</td>\n      <td>R</td>\n      <td>F</td>\n      <td>4.0</td>\n      <td>45810</td>\n      <td>2.0</td>\n      <td>Urgent</td>\n      <td>Moderate</td>\n      <td>2</td>\n      <td>21-30</td>\n      <td>2817.0</td>\n      <td>0-10</td>\n    </tr>\n    <tr>\n      <th>1</th>\n      <td>159472</td>\n      <td>23</td>\n      <td>a</td>\n      <td>6</td>\n      <td>X</td>\n      <td>4</td>\n      <td>gynecology</td>\n      <td>Q</td>\n      <td>F</td>\n      <td>2.0</td>\n      <td>128565</td>\n      <td>15.0</td>\n      <td>Trauma</td>\n      <td>Moderate</td>\n      <td>4</td>\n      <td>51-60</td>\n      <td>4498.0</td>\n      <td>21-30</td>\n    </tr>\n    <tr>\n      <th>2</th>\n      <td>309765</td>\n      <td>2</td>\n      <td>c</td>\n      <td>5</td>\n      <td>Z</td>\n      <td>2</td>\n      <td>anesthesia</td>\n      <td>S</td>\n      <td>F</td>\n      <td>3.0</td>\n      <td>46565</td>\n      <td>5.0</td>\n      <td>Urgent</td>\n      <td>Moderate</td>\n      <td>2</td>\n      <td>71-80</td>\n      <td>4573.0</td>\n      <td>11-20</td>\n    </tr>\n    <tr>\n      <th>3</th>\n      <td>279614</td>\n      <td>32</td>\n      <td>f</td>\n      <td>9</td>\n      <td>Y</td>\n      <td>3</td>\n      <td>gynecology</td>\n      <td>S</td>\n      <td>B</td>\n      <td>4.0</td>\n      <td>124546</td>\n      <td>6.0</td>\n      <td>Emergency</td>\n      <td>Moderate</td>\n      <td>4</td>\n      <td>11-20</td>\n      <td>7202.0</td>\n      <td>51-60</td>\n    </tr>\n    <tr>\n      <th>4</th>\n      <td>147791</td>\n      <td>14</td>\n      <td>a</td>\n      <td>1</td>\n      <td>X</td>\n      <td>3</td>\n      <td>gynecology</td>\n      <td>S</td>\n      <td>E</td>\n      <td>2.0</td>\n      <td>22729</td>\n      <td>8.0</td>\n      <td>Urgent</td>\n      <td>Moderate</td>\n      <td>2</td>\n      <td>51-60</td>\n      <td>3398.0</td>\n      <td>51-60</td>\n    </tr>\n    <tr>\n      <th>...</th>\n      <td>...</td>\n      <td>...</td>\n      <td>...</td>\n      <td>...</td>\n      <td>...</td>\n      <td>...</td>\n      <td>...</td>\n      <td>...</td>\n      <td>...</td>\n      <td>...</td>\n      <td>...</td>\n      <td>...</td>\n      <td>...</td>\n      <td>...</td>\n      <td>...</td>\n      <td>...</td>\n      <td>...</td>\n      <td>...</td>\n    </tr>\n    <tr>\n      <th>99995</th>\n      <td>237869</td>\n      <td>12</td>\n      <td>a</td>\n      <td>9</td>\n      <td>Y</td>\n      <td>3</td>\n      <td>gynecology</td>\n      <td>R</td>\n      <td>B</td>\n      <td>3.0</td>\n      <td>82914</td>\n      <td>3.0</td>\n      <td>Emergency</td>\n      <td>Moderate</td>\n      <td>6</td>\n      <td>51-60</td>\n      <td>3966.0</td>\n      <td>More than 100 Days</td>\n    </tr>\n    <tr>\n      <th>99996</th>\n      <td>254763</td>\n      <td>28</td>\n      <td>b</td>\n      <td>11</td>\n      <td>X</td>\n      <td>2</td>\n      <td>gynecology</td>\n      <td>R</td>\n      <td>F</td>\n      <td>2.0</td>\n      <td>40026</td>\n      <td>5.0</td>\n      <td>Urgent</td>\n      <td>Moderate</td>\n      <td>3</td>\n      <td>21-30</td>\n      <td>4005.0</td>\n      <td>51-60</td>\n    </tr>\n    <tr>\n      <th>99997</th>\n      <td>69788</td>\n      <td>6</td>\n      <td>a</td>\n      <td>6</td>\n      <td>X</td>\n      <td>3</td>\n      <td>gynecology</td>\n      <td>Q</td>\n      <td>F</td>\n      <td>3.0</td>\n      <td>92346</td>\n      <td>2.0</td>\n      <td>Trauma</td>\n      <td>Minor</td>\n      <td>2</td>\n      <td>31-40</td>\n      <td>5215.0</td>\n      <td>31-40</td>\n    </tr>\n    <tr>\n      <th>99998</th>\n      <td>204442</td>\n      <td>32</td>\n      <td>f</td>\n      <td>9</td>\n      <td>Y</td>\n      <td>2</td>\n      <td>gynecology</td>\n      <td>S</td>\n      <td>B</td>\n      <td>4.0</td>\n      <td>113798</td>\n      <td>15.0</td>\n      <td>Trauma</td>\n      <td>Moderate</td>\n      <td>3</td>\n      <td>41-50</td>\n      <td>5092.0</td>\n      <td>11-20</td>\n    </tr>\n    <tr>\n      <th>99999</th>\n      <td>69647</td>\n      <td>25</td>\n      <td>e</td>\n      <td>1</td>\n      <td>X</td>\n      <td>3</td>\n      <td>gynecology</td>\n      <td>Q</td>\n      <td>E</td>\n      <td>2.0</td>\n      <td>109237</td>\n      <td>8.0</td>\n      <td>Emergency</td>\n      <td>Moderate</td>\n      <td>2</td>\n      <td>41-50</td>\n      <td>3390.0</td>\n      <td>41-50</td>\n    </tr>\n  </tbody>\n</table>\n<p>100000 rows × 18 columns</p>\n</div>"
     },
     "metadata": {},
     "execution_count": 2
    }
   ],
   "source": [
    "df = pd.read_csv('hospital_train.csv')\n",
    "df"
   ]
  },
  {
   "cell_type": "code",
   "execution_count": 3,
   "metadata": {},
   "outputs": [],
   "source": [
    "colummns = pd.read_csv('columns_meaning.csv')"
   ]
  },
  {
   "cell_type": "code",
   "execution_count": 4,
   "metadata": {},
   "outputs": [],
   "source": [
    "df.columns = colummns.iloc[:,1]"
   ]
  },
  {
   "cell_type": "code",
   "execution_count": 5,
   "metadata": {},
   "outputs": [
    {
     "output_type": "execute_result",
     "data": {
      "text/plain": [
       "Description  Case_ID registered in Hospital  Unique code for the Hospital  \\\n",
       "0                                    161528                             6   \n",
       "1                                    159472                            23   \n",
       "2                                    309765                             2   \n",
       "3                                    279614                            32   \n",
       "4                                    147791                            14   \n",
       "...                                     ...                           ...   \n",
       "99995                                237869                            12   \n",
       "99996                                254763                            28   \n",
       "99997                                 69788                             6   \n",
       "99998                                204442                            32   \n",
       "99999                                 69647                            25   \n",
       "\n",
       "Description Unique code for the type of Hospital  City Code of the Hospital  \\\n",
       "0                                              a                          6   \n",
       "1                                              a                          6   \n",
       "2                                              c                          5   \n",
       "3                                              f                          9   \n",
       "4                                              a                          1   \n",
       "...                                          ...                        ...   \n",
       "99995                                          a                          9   \n",
       "99996                                          b                         11   \n",
       "99997                                          a                          6   \n",
       "99998                                          f                          9   \n",
       "99999                                          e                          1   \n",
       "\n",
       "Description Region Code of the Hospital  \\\n",
       "0                                     X   \n",
       "1                                     X   \n",
       "2                                     Z   \n",
       "3                                     Y   \n",
       "4                                     X   \n",
       "...                                 ...   \n",
       "99995                                 Y   \n",
       "99996                                 X   \n",
       "99997                                 X   \n",
       "99998                                 Y   \n",
       "99999                                 X   \n",
       "\n",
       "Description  Number of Extra rooms available in the Hospital  \\\n",
       "0                                                          2   \n",
       "1                                                          4   \n",
       "2                                                          2   \n",
       "3                                                          3   \n",
       "4                                                          3   \n",
       "...                                                      ...   \n",
       "99995                                                      3   \n",
       "99996                                                      2   \n",
       "99997                                                      3   \n",
       "99998                                                      2   \n",
       "99999                                                      3   \n",
       "\n",
       "Description Department overlooking the case Code for the Ward type  \\\n",
       "0                                gynecology                      R   \n",
       "1                                gynecology                      Q   \n",
       "2                                anesthesia                      S   \n",
       "3                                gynecology                      S   \n",
       "4                                gynecology                      S   \n",
       "...                                     ...                    ...   \n",
       "99995                            gynecology                      R   \n",
       "99996                            gynecology                      R   \n",
       "99997                            gynecology                      Q   \n",
       "99998                            gynecology                      S   \n",
       "99999                            gynecology                      Q   \n",
       "\n",
       "Description Code for the Ward Facility  Condition of Bed in the Ward  \\\n",
       "0                                    F                           4.0   \n",
       "1                                    F                           2.0   \n",
       "2                                    F                           3.0   \n",
       "3                                    B                           4.0   \n",
       "4                                    E                           2.0   \n",
       "...                                ...                           ...   \n",
       "99995                                B                           3.0   \n",
       "99996                                F                           2.0   \n",
       "99997                                F                           3.0   \n",
       "99998                                B                           4.0   \n",
       "99999                                E                           2.0   \n",
       "\n",
       "Description  Unique Patient Id  City Code for the patient  \\\n",
       "0                        45810                        2.0   \n",
       "1                       128565                       15.0   \n",
       "2                        46565                        5.0   \n",
       "3                       124546                        6.0   \n",
       "4                        22729                        8.0   \n",
       "...                        ...                        ...   \n",
       "99995                    82914                        3.0   \n",
       "99996                    40026                        5.0   \n",
       "99997                    92346                        2.0   \n",
       "99998                   113798                       15.0   \n",
       "99999                   109237                        8.0   \n",
       "\n",
       "Description Admission Type registered by the Hospital  \\\n",
       "0                                              Urgent   \n",
       "1                                              Trauma   \n",
       "2                                              Urgent   \n",
       "3                                           Emergency   \n",
       "4                                              Urgent   \n",
       "...                                               ...   \n",
       "99995                                       Emergency   \n",
       "99996                                          Urgent   \n",
       "99997                                          Trauma   \n",
       "99998                                          Trauma   \n",
       "99999                                       Emergency   \n",
       "\n",
       "Description Severity of the illness recorded at the time of admission  \\\n",
       "0                                                     Moderate          \n",
       "1                                                     Moderate          \n",
       "2                                                     Moderate          \n",
       "3                                                     Moderate          \n",
       "4                                                     Moderate          \n",
       "...                                                        ...          \n",
       "99995                                                 Moderate          \n",
       "99996                                                 Moderate          \n",
       "99997                                                    Minor          \n",
       "99998                                                 Moderate          \n",
       "99999                                                 Moderate          \n",
       "\n",
       "Description  Number of Visitors with the patient Age of the patient  \\\n",
       "0                                              2              21-30   \n",
       "1                                              4              51-60   \n",
       "2                                              2              71-80   \n",
       "3                                              4              11-20   \n",
       "4                                              2              51-60   \n",
       "...                                          ...                ...   \n",
       "99995                                          6              51-60   \n",
       "99996                                          3              21-30   \n",
       "99997                                          2              31-40   \n",
       "99998                                          3              41-50   \n",
       "99999                                          2              41-50   \n",
       "\n",
       "Description  Deposit at the Admission Time Stay Days by the patient  \n",
       "0                                   2817.0                     0-10  \n",
       "1                                   4498.0                    21-30  \n",
       "2                                   4573.0                    11-20  \n",
       "3                                   7202.0                    51-60  \n",
       "4                                   3398.0                    51-60  \n",
       "...                                    ...                      ...  \n",
       "99995                               3966.0       More than 100 Days  \n",
       "99996                               4005.0                    51-60  \n",
       "99997                               5215.0                    31-40  \n",
       "99998                               5092.0                    11-20  \n",
       "99999                               3390.0                    41-50  \n",
       "\n",
       "[100000 rows x 18 columns]"
      ],
      "text/html": "<div>\n<style scoped>\n    .dataframe tbody tr th:only-of-type {\n        vertical-align: middle;\n    }\n\n    .dataframe tbody tr th {\n        vertical-align: top;\n    }\n\n    .dataframe thead th {\n        text-align: right;\n    }\n</style>\n<table border=\"1\" class=\"dataframe\">\n  <thead>\n    <tr style=\"text-align: right;\">\n      <th>Description</th>\n      <th>Case_ID registered in Hospital</th>\n      <th>Unique code for the Hospital</th>\n      <th>Unique code for the type of Hospital</th>\n      <th>City Code of the Hospital</th>\n      <th>Region Code of the Hospital</th>\n      <th>Number of Extra rooms available in the Hospital</th>\n      <th>Department overlooking the case</th>\n      <th>Code for the Ward type</th>\n      <th>Code for the Ward Facility</th>\n      <th>Condition of Bed in the Ward</th>\n      <th>Unique Patient Id</th>\n      <th>City Code for the patient</th>\n      <th>Admission Type registered by the Hospital</th>\n      <th>Severity of the illness recorded at the time of admission</th>\n      <th>Number of Visitors with the patient</th>\n      <th>Age of the patient</th>\n      <th>Deposit at the Admission Time</th>\n      <th>Stay Days by the patient</th>\n    </tr>\n  </thead>\n  <tbody>\n    <tr>\n      <th>0</th>\n      <td>161528</td>\n      <td>6</td>\n      <td>a</td>\n      <td>6</td>\n      <td>X</td>\n      <td>2</td>\n      <td>gynecology</td>\n      <td>R</td>\n      <td>F</td>\n      <td>4.0</td>\n      <td>45810</td>\n      <td>2.0</td>\n      <td>Urgent</td>\n      <td>Moderate</td>\n      <td>2</td>\n      <td>21-30</td>\n      <td>2817.0</td>\n      <td>0-10</td>\n    </tr>\n    <tr>\n      <th>1</th>\n      <td>159472</td>\n      <td>23</td>\n      <td>a</td>\n      <td>6</td>\n      <td>X</td>\n      <td>4</td>\n      <td>gynecology</td>\n      <td>Q</td>\n      <td>F</td>\n      <td>2.0</td>\n      <td>128565</td>\n      <td>15.0</td>\n      <td>Trauma</td>\n      <td>Moderate</td>\n      <td>4</td>\n      <td>51-60</td>\n      <td>4498.0</td>\n      <td>21-30</td>\n    </tr>\n    <tr>\n      <th>2</th>\n      <td>309765</td>\n      <td>2</td>\n      <td>c</td>\n      <td>5</td>\n      <td>Z</td>\n      <td>2</td>\n      <td>anesthesia</td>\n      <td>S</td>\n      <td>F</td>\n      <td>3.0</td>\n      <td>46565</td>\n      <td>5.0</td>\n      <td>Urgent</td>\n      <td>Moderate</td>\n      <td>2</td>\n      <td>71-80</td>\n      <td>4573.0</td>\n      <td>11-20</td>\n    </tr>\n    <tr>\n      <th>3</th>\n      <td>279614</td>\n      <td>32</td>\n      <td>f</td>\n      <td>9</td>\n      <td>Y</td>\n      <td>3</td>\n      <td>gynecology</td>\n      <td>S</td>\n      <td>B</td>\n      <td>4.0</td>\n      <td>124546</td>\n      <td>6.0</td>\n      <td>Emergency</td>\n      <td>Moderate</td>\n      <td>4</td>\n      <td>11-20</td>\n      <td>7202.0</td>\n      <td>51-60</td>\n    </tr>\n    <tr>\n      <th>4</th>\n      <td>147791</td>\n      <td>14</td>\n      <td>a</td>\n      <td>1</td>\n      <td>X</td>\n      <td>3</td>\n      <td>gynecology</td>\n      <td>S</td>\n      <td>E</td>\n      <td>2.0</td>\n      <td>22729</td>\n      <td>8.0</td>\n      <td>Urgent</td>\n      <td>Moderate</td>\n      <td>2</td>\n      <td>51-60</td>\n      <td>3398.0</td>\n      <td>51-60</td>\n    </tr>\n    <tr>\n      <th>...</th>\n      <td>...</td>\n      <td>...</td>\n      <td>...</td>\n      <td>...</td>\n      <td>...</td>\n      <td>...</td>\n      <td>...</td>\n      <td>...</td>\n      <td>...</td>\n      <td>...</td>\n      <td>...</td>\n      <td>...</td>\n      <td>...</td>\n      <td>...</td>\n      <td>...</td>\n      <td>...</td>\n      <td>...</td>\n      <td>...</td>\n    </tr>\n    <tr>\n      <th>99995</th>\n      <td>237869</td>\n      <td>12</td>\n      <td>a</td>\n      <td>9</td>\n      <td>Y</td>\n      <td>3</td>\n      <td>gynecology</td>\n      <td>R</td>\n      <td>B</td>\n      <td>3.0</td>\n      <td>82914</td>\n      <td>3.0</td>\n      <td>Emergency</td>\n      <td>Moderate</td>\n      <td>6</td>\n      <td>51-60</td>\n      <td>3966.0</td>\n      <td>More than 100 Days</td>\n    </tr>\n    <tr>\n      <th>99996</th>\n      <td>254763</td>\n      <td>28</td>\n      <td>b</td>\n      <td>11</td>\n      <td>X</td>\n      <td>2</td>\n      <td>gynecology</td>\n      <td>R</td>\n      <td>F</td>\n      <td>2.0</td>\n      <td>40026</td>\n      <td>5.0</td>\n      <td>Urgent</td>\n      <td>Moderate</td>\n      <td>3</td>\n      <td>21-30</td>\n      <td>4005.0</td>\n      <td>51-60</td>\n    </tr>\n    <tr>\n      <th>99997</th>\n      <td>69788</td>\n      <td>6</td>\n      <td>a</td>\n      <td>6</td>\n      <td>X</td>\n      <td>3</td>\n      <td>gynecology</td>\n      <td>Q</td>\n      <td>F</td>\n      <td>3.0</td>\n      <td>92346</td>\n      <td>2.0</td>\n      <td>Trauma</td>\n      <td>Minor</td>\n      <td>2</td>\n      <td>31-40</td>\n      <td>5215.0</td>\n      <td>31-40</td>\n    </tr>\n    <tr>\n      <th>99998</th>\n      <td>204442</td>\n      <td>32</td>\n      <td>f</td>\n      <td>9</td>\n      <td>Y</td>\n      <td>2</td>\n      <td>gynecology</td>\n      <td>S</td>\n      <td>B</td>\n      <td>4.0</td>\n      <td>113798</td>\n      <td>15.0</td>\n      <td>Trauma</td>\n      <td>Moderate</td>\n      <td>3</td>\n      <td>41-50</td>\n      <td>5092.0</td>\n      <td>11-20</td>\n    </tr>\n    <tr>\n      <th>99999</th>\n      <td>69647</td>\n      <td>25</td>\n      <td>e</td>\n      <td>1</td>\n      <td>X</td>\n      <td>3</td>\n      <td>gynecology</td>\n      <td>Q</td>\n      <td>E</td>\n      <td>2.0</td>\n      <td>109237</td>\n      <td>8.0</td>\n      <td>Emergency</td>\n      <td>Moderate</td>\n      <td>2</td>\n      <td>41-50</td>\n      <td>3390.0</td>\n      <td>41-50</td>\n    </tr>\n  </tbody>\n</table>\n<p>100000 rows × 18 columns</p>\n</div>"
     },
     "metadata": {},
     "execution_count": 5
    }
   ],
   "source": [
    "df"
   ]
  },
  {
   "cell_type": "code",
   "execution_count": 6,
   "metadata": {},
   "outputs": [
    {
     "output_type": "stream",
     "name": "stdout",
     "text": [
      "<class 'pandas.core.frame.DataFrame'>\nRangeIndex: 100000 entries, 0 to 99999\nData columns (total 18 columns):\n #   Column                                                     Non-Null Count   Dtype  \n---  ------                                                     --------------   -----  \n 0   Case_ID registered in Hospital                             100000 non-null  int64  \n 1   Unique code for the Hospital                               100000 non-null  int64  \n 2   Unique code for the type of Hospital                       100000 non-null  object \n 3   City Code of the Hospital                                  100000 non-null  int64  \n 4   Region Code of the Hospital                                100000 non-null  object \n 5   Number of Extra rooms available in the Hospital            100000 non-null  int64  \n 6   Department overlooking the case                            100000 non-null  object \n 7   Code for the Ward type                                     100000 non-null  object \n 8   Code for the Ward Facility                                 100000 non-null  object \n 9   Condition of Bed in the Ward                               99967 non-null   float64\n 10  Unique Patient Id                                          100000 non-null  int64  \n 11  City Code for the patient                                  98517 non-null   float64\n 12  Admission Type registered by the Hospital                  100000 non-null  object \n 13  Severity of the illness recorded at the time of admission  100000 non-null  object \n 14  Number of Visitors with the patient                        100000 non-null  int64  \n 15  Age of the patient                                         100000 non-null  object \n 16  Deposit at the Admission Time                              100000 non-null  float64\n 17  Stay Days by the patient                                   100000 non-null  object \ndtypes: float64(3), int64(6), object(9)\nmemory usage: 13.7+ MB\n"
     ]
    }
   ],
   "source": [
    "df.info()"
   ]
  },
  {
   "cell_type": "code",
   "execution_count": null,
   "metadata": {},
   "outputs": [],
   "source": []
  },
  {
   "cell_type": "code",
   "execution_count": 7,
   "metadata": {},
   "outputs": [],
   "source": [
    "df = df.drop(['Unique Patient Id', 'Case_ID registered in Hospital'], axis= 1)"
   ]
  },
  {
   "cell_type": "code",
   "execution_count": 8,
   "metadata": {},
   "outputs": [],
   "source": [
    "df = df.dropna()"
   ]
  },
  {
   "cell_type": "code",
   "execution_count": 9,
   "metadata": {},
   "outputs": [
    {
     "output_type": "execute_result",
     "data": {
      "text/plain": [
       "Description  Unique code for the Hospital  \\\n",
       "0                                       6   \n",
       "1                                      23   \n",
       "2                                       2   \n",
       "3                                      32   \n",
       "4                                      14   \n",
       "...                                   ...   \n",
       "99995                                  12   \n",
       "99996                                  28   \n",
       "99997                                   6   \n",
       "99998                                  32   \n",
       "99999                                  25   \n",
       "\n",
       "Description Unique code for the type of Hospital  City Code of the Hospital  \\\n",
       "0                                              a                          6   \n",
       "1                                              a                          6   \n",
       "2                                              c                          5   \n",
       "3                                              f                          9   \n",
       "4                                              a                          1   \n",
       "...                                          ...                        ...   \n",
       "99995                                          a                          9   \n",
       "99996                                          b                         11   \n",
       "99997                                          a                          6   \n",
       "99998                                          f                          9   \n",
       "99999                                          e                          1   \n",
       "\n",
       "Description Region Code of the Hospital  \\\n",
       "0                                     X   \n",
       "1                                     X   \n",
       "2                                     Z   \n",
       "3                                     Y   \n",
       "4                                     X   \n",
       "...                                 ...   \n",
       "99995                                 Y   \n",
       "99996                                 X   \n",
       "99997                                 X   \n",
       "99998                                 Y   \n",
       "99999                                 X   \n",
       "\n",
       "Description  Number of Extra rooms available in the Hospital  \\\n",
       "0                                                          2   \n",
       "1                                                          4   \n",
       "2                                                          2   \n",
       "3                                                          3   \n",
       "4                                                          3   \n",
       "...                                                      ...   \n",
       "99995                                                      3   \n",
       "99996                                                      2   \n",
       "99997                                                      3   \n",
       "99998                                                      2   \n",
       "99999                                                      3   \n",
       "\n",
       "Description Department overlooking the case Code for the Ward type  \\\n",
       "0                                gynecology                      R   \n",
       "1                                gynecology                      Q   \n",
       "2                                anesthesia                      S   \n",
       "3                                gynecology                      S   \n",
       "4                                gynecology                      S   \n",
       "...                                     ...                    ...   \n",
       "99995                            gynecology                      R   \n",
       "99996                            gynecology                      R   \n",
       "99997                            gynecology                      Q   \n",
       "99998                            gynecology                      S   \n",
       "99999                            gynecology                      Q   \n",
       "\n",
       "Description Code for the Ward Facility  Condition of Bed in the Ward  \\\n",
       "0                                    F                           4.0   \n",
       "1                                    F                           2.0   \n",
       "2                                    F                           3.0   \n",
       "3                                    B                           4.0   \n",
       "4                                    E                           2.0   \n",
       "...                                ...                           ...   \n",
       "99995                                B                           3.0   \n",
       "99996                                F                           2.0   \n",
       "99997                                F                           3.0   \n",
       "99998                                B                           4.0   \n",
       "99999                                E                           2.0   \n",
       "\n",
       "Description  City Code for the patient  \\\n",
       "0                                  2.0   \n",
       "1                                 15.0   \n",
       "2                                  5.0   \n",
       "3                                  6.0   \n",
       "4                                  8.0   \n",
       "...                                ...   \n",
       "99995                              3.0   \n",
       "99996                              5.0   \n",
       "99997                              2.0   \n",
       "99998                             15.0   \n",
       "99999                              8.0   \n",
       "\n",
       "Description Admission Type registered by the Hospital  \\\n",
       "0                                              Urgent   \n",
       "1                                              Trauma   \n",
       "2                                              Urgent   \n",
       "3                                           Emergency   \n",
       "4                                              Urgent   \n",
       "...                                               ...   \n",
       "99995                                       Emergency   \n",
       "99996                                          Urgent   \n",
       "99997                                          Trauma   \n",
       "99998                                          Trauma   \n",
       "99999                                       Emergency   \n",
       "\n",
       "Description Severity of the illness recorded at the time of admission  \\\n",
       "0                                                     Moderate          \n",
       "1                                                     Moderate          \n",
       "2                                                     Moderate          \n",
       "3                                                     Moderate          \n",
       "4                                                     Moderate          \n",
       "...                                                        ...          \n",
       "99995                                                 Moderate          \n",
       "99996                                                 Moderate          \n",
       "99997                                                    Minor          \n",
       "99998                                                 Moderate          \n",
       "99999                                                 Moderate          \n",
       "\n",
       "Description  Number of Visitors with the patient Age of the patient  \\\n",
       "0                                              2              21-30   \n",
       "1                                              4              51-60   \n",
       "2                                              2              71-80   \n",
       "3                                              4              11-20   \n",
       "4                                              2              51-60   \n",
       "...                                          ...                ...   \n",
       "99995                                          6              51-60   \n",
       "99996                                          3              21-30   \n",
       "99997                                          2              31-40   \n",
       "99998                                          3              41-50   \n",
       "99999                                          2              41-50   \n",
       "\n",
       "Description  Deposit at the Admission Time Stay Days by the patient  \n",
       "0                                   2817.0                     0-10  \n",
       "1                                   4498.0                    21-30  \n",
       "2                                   4573.0                    11-20  \n",
       "3                                   7202.0                    51-60  \n",
       "4                                   3398.0                    51-60  \n",
       "...                                    ...                      ...  \n",
       "99995                               3966.0       More than 100 Days  \n",
       "99996                               4005.0                    51-60  \n",
       "99997                               5215.0                    31-40  \n",
       "99998                               5092.0                    11-20  \n",
       "99999                               3390.0                    41-50  \n",
       "\n",
       "[98484 rows x 16 columns]"
      ],
      "text/html": "<div>\n<style scoped>\n    .dataframe tbody tr th:only-of-type {\n        vertical-align: middle;\n    }\n\n    .dataframe tbody tr th {\n        vertical-align: top;\n    }\n\n    .dataframe thead th {\n        text-align: right;\n    }\n</style>\n<table border=\"1\" class=\"dataframe\">\n  <thead>\n    <tr style=\"text-align: right;\">\n      <th>Description</th>\n      <th>Unique code for the Hospital</th>\n      <th>Unique code for the type of Hospital</th>\n      <th>City Code of the Hospital</th>\n      <th>Region Code of the Hospital</th>\n      <th>Number of Extra rooms available in the Hospital</th>\n      <th>Department overlooking the case</th>\n      <th>Code for the Ward type</th>\n      <th>Code for the Ward Facility</th>\n      <th>Condition of Bed in the Ward</th>\n      <th>City Code for the patient</th>\n      <th>Admission Type registered by the Hospital</th>\n      <th>Severity of the illness recorded at the time of admission</th>\n      <th>Number of Visitors with the patient</th>\n      <th>Age of the patient</th>\n      <th>Deposit at the Admission Time</th>\n      <th>Stay Days by the patient</th>\n    </tr>\n  </thead>\n  <tbody>\n    <tr>\n      <th>0</th>\n      <td>6</td>\n      <td>a</td>\n      <td>6</td>\n      <td>X</td>\n      <td>2</td>\n      <td>gynecology</td>\n      <td>R</td>\n      <td>F</td>\n      <td>4.0</td>\n      <td>2.0</td>\n      <td>Urgent</td>\n      <td>Moderate</td>\n      <td>2</td>\n      <td>21-30</td>\n      <td>2817.0</td>\n      <td>0-10</td>\n    </tr>\n    <tr>\n      <th>1</th>\n      <td>23</td>\n      <td>a</td>\n      <td>6</td>\n      <td>X</td>\n      <td>4</td>\n      <td>gynecology</td>\n      <td>Q</td>\n      <td>F</td>\n      <td>2.0</td>\n      <td>15.0</td>\n      <td>Trauma</td>\n      <td>Moderate</td>\n      <td>4</td>\n      <td>51-60</td>\n      <td>4498.0</td>\n      <td>21-30</td>\n    </tr>\n    <tr>\n      <th>2</th>\n      <td>2</td>\n      <td>c</td>\n      <td>5</td>\n      <td>Z</td>\n      <td>2</td>\n      <td>anesthesia</td>\n      <td>S</td>\n      <td>F</td>\n      <td>3.0</td>\n      <td>5.0</td>\n      <td>Urgent</td>\n      <td>Moderate</td>\n      <td>2</td>\n      <td>71-80</td>\n      <td>4573.0</td>\n      <td>11-20</td>\n    </tr>\n    <tr>\n      <th>3</th>\n      <td>32</td>\n      <td>f</td>\n      <td>9</td>\n      <td>Y</td>\n      <td>3</td>\n      <td>gynecology</td>\n      <td>S</td>\n      <td>B</td>\n      <td>4.0</td>\n      <td>6.0</td>\n      <td>Emergency</td>\n      <td>Moderate</td>\n      <td>4</td>\n      <td>11-20</td>\n      <td>7202.0</td>\n      <td>51-60</td>\n    </tr>\n    <tr>\n      <th>4</th>\n      <td>14</td>\n      <td>a</td>\n      <td>1</td>\n      <td>X</td>\n      <td>3</td>\n      <td>gynecology</td>\n      <td>S</td>\n      <td>E</td>\n      <td>2.0</td>\n      <td>8.0</td>\n      <td>Urgent</td>\n      <td>Moderate</td>\n      <td>2</td>\n      <td>51-60</td>\n      <td>3398.0</td>\n      <td>51-60</td>\n    </tr>\n    <tr>\n      <th>...</th>\n      <td>...</td>\n      <td>...</td>\n      <td>...</td>\n      <td>...</td>\n      <td>...</td>\n      <td>...</td>\n      <td>...</td>\n      <td>...</td>\n      <td>...</td>\n      <td>...</td>\n      <td>...</td>\n      <td>...</td>\n      <td>...</td>\n      <td>...</td>\n      <td>...</td>\n      <td>...</td>\n    </tr>\n    <tr>\n      <th>99995</th>\n      <td>12</td>\n      <td>a</td>\n      <td>9</td>\n      <td>Y</td>\n      <td>3</td>\n      <td>gynecology</td>\n      <td>R</td>\n      <td>B</td>\n      <td>3.0</td>\n      <td>3.0</td>\n      <td>Emergency</td>\n      <td>Moderate</td>\n      <td>6</td>\n      <td>51-60</td>\n      <td>3966.0</td>\n      <td>More than 100 Days</td>\n    </tr>\n    <tr>\n      <th>99996</th>\n      <td>28</td>\n      <td>b</td>\n      <td>11</td>\n      <td>X</td>\n      <td>2</td>\n      <td>gynecology</td>\n      <td>R</td>\n      <td>F</td>\n      <td>2.0</td>\n      <td>5.0</td>\n      <td>Urgent</td>\n      <td>Moderate</td>\n      <td>3</td>\n      <td>21-30</td>\n      <td>4005.0</td>\n      <td>51-60</td>\n    </tr>\n    <tr>\n      <th>99997</th>\n      <td>6</td>\n      <td>a</td>\n      <td>6</td>\n      <td>X</td>\n      <td>3</td>\n      <td>gynecology</td>\n      <td>Q</td>\n      <td>F</td>\n      <td>3.0</td>\n      <td>2.0</td>\n      <td>Trauma</td>\n      <td>Minor</td>\n      <td>2</td>\n      <td>31-40</td>\n      <td>5215.0</td>\n      <td>31-40</td>\n    </tr>\n    <tr>\n      <th>99998</th>\n      <td>32</td>\n      <td>f</td>\n      <td>9</td>\n      <td>Y</td>\n      <td>2</td>\n      <td>gynecology</td>\n      <td>S</td>\n      <td>B</td>\n      <td>4.0</td>\n      <td>15.0</td>\n      <td>Trauma</td>\n      <td>Moderate</td>\n      <td>3</td>\n      <td>41-50</td>\n      <td>5092.0</td>\n      <td>11-20</td>\n    </tr>\n    <tr>\n      <th>99999</th>\n      <td>25</td>\n      <td>e</td>\n      <td>1</td>\n      <td>X</td>\n      <td>3</td>\n      <td>gynecology</td>\n      <td>Q</td>\n      <td>E</td>\n      <td>2.0</td>\n      <td>8.0</td>\n      <td>Emergency</td>\n      <td>Moderate</td>\n      <td>2</td>\n      <td>41-50</td>\n      <td>3390.0</td>\n      <td>41-50</td>\n    </tr>\n  </tbody>\n</table>\n<p>98484 rows × 16 columns</p>\n</div>"
     },
     "metadata": {},
     "execution_count": 9
    }
   ],
   "source": [
    "df"
   ]
  },
  {
   "cell_type": "code",
   "execution_count": 10,
   "metadata": {},
   "outputs": [
    {
     "output_type": "execute_result",
     "data": {
      "text/plain": [
       "Description  Unique code for the Hospital  City Code of the Hospital  \\\n",
       "count                        98484.000000               98484.000000   \n",
       "mean                            18.339578                   4.783894   \n",
       "std                              8.625392                   3.104605   \n",
       "min                              1.000000                   1.000000   \n",
       "25%                             11.000000                   2.000000   \n",
       "50%                             19.000000                   5.000000   \n",
       "75%                             26.000000                   7.000000   \n",
       "max                             32.000000                  13.000000   \n",
       "\n",
       "Description  Number of Extra rooms available in the Hospital  \\\n",
       "count                                           98484.000000   \n",
       "mean                                                3.195707   \n",
       "std                                                 1.169959   \n",
       "min                                                 0.000000   \n",
       "25%                                                 2.000000   \n",
       "50%                                                 3.000000   \n",
       "75%                                                 4.000000   \n",
       "max                                                24.000000   \n",
       "\n",
       "Description  Condition of Bed in the Ward  City Code for the patient  \\\n",
       "count                        98484.000000               98484.000000   \n",
       "mean                             2.620446                   7.226900   \n",
       "std                              0.873974                   4.717302   \n",
       "min                              1.000000                   1.000000   \n",
       "25%                              2.000000                   4.000000   \n",
       "50%                              3.000000                   8.000000   \n",
       "75%                              3.000000                   8.000000   \n",
       "max                              4.000000                  38.000000   \n",
       "\n",
       "Description  Number of Visitors with the patient  \\\n",
       "count                               98484.000000   \n",
       "mean                                    3.291966   \n",
       "std                                     1.783924   \n",
       "min                                     0.000000   \n",
       "25%                                     2.000000   \n",
       "50%                                     3.000000   \n",
       "75%                                     4.000000   \n",
       "max                                    32.000000   \n",
       "\n",
       "Description  Deposit at the Admission Time  \n",
       "count                         98484.000000  \n",
       "mean                           4880.696976  \n",
       "std                            1082.590128  \n",
       "min                            1800.000000  \n",
       "25%                            4189.000000  \n",
       "50%                            4741.000000  \n",
       "75%                            5411.000000  \n",
       "max                           10842.000000  "
      ],
      "text/html": "<div>\n<style scoped>\n    .dataframe tbody tr th:only-of-type {\n        vertical-align: middle;\n    }\n\n    .dataframe tbody tr th {\n        vertical-align: top;\n    }\n\n    .dataframe thead th {\n        text-align: right;\n    }\n</style>\n<table border=\"1\" class=\"dataframe\">\n  <thead>\n    <tr style=\"text-align: right;\">\n      <th>Description</th>\n      <th>Unique code for the Hospital</th>\n      <th>City Code of the Hospital</th>\n      <th>Number of Extra rooms available in the Hospital</th>\n      <th>Condition of Bed in the Ward</th>\n      <th>City Code for the patient</th>\n      <th>Number of Visitors with the patient</th>\n      <th>Deposit at the Admission Time</th>\n    </tr>\n  </thead>\n  <tbody>\n    <tr>\n      <th>count</th>\n      <td>98484.000000</td>\n      <td>98484.000000</td>\n      <td>98484.000000</td>\n      <td>98484.000000</td>\n      <td>98484.000000</td>\n      <td>98484.000000</td>\n      <td>98484.000000</td>\n    </tr>\n    <tr>\n      <th>mean</th>\n      <td>18.339578</td>\n      <td>4.783894</td>\n      <td>3.195707</td>\n      <td>2.620446</td>\n      <td>7.226900</td>\n      <td>3.291966</td>\n      <td>4880.696976</td>\n    </tr>\n    <tr>\n      <th>std</th>\n      <td>8.625392</td>\n      <td>3.104605</td>\n      <td>1.169959</td>\n      <td>0.873974</td>\n      <td>4.717302</td>\n      <td>1.783924</td>\n      <td>1082.590128</td>\n    </tr>\n    <tr>\n      <th>min</th>\n      <td>1.000000</td>\n      <td>1.000000</td>\n      <td>0.000000</td>\n      <td>1.000000</td>\n      <td>1.000000</td>\n      <td>0.000000</td>\n      <td>1800.000000</td>\n    </tr>\n    <tr>\n      <th>25%</th>\n      <td>11.000000</td>\n      <td>2.000000</td>\n      <td>2.000000</td>\n      <td>2.000000</td>\n      <td>4.000000</td>\n      <td>2.000000</td>\n      <td>4189.000000</td>\n    </tr>\n    <tr>\n      <th>50%</th>\n      <td>19.000000</td>\n      <td>5.000000</td>\n      <td>3.000000</td>\n      <td>3.000000</td>\n      <td>8.000000</td>\n      <td>3.000000</td>\n      <td>4741.000000</td>\n    </tr>\n    <tr>\n      <th>75%</th>\n      <td>26.000000</td>\n      <td>7.000000</td>\n      <td>4.000000</td>\n      <td>3.000000</td>\n      <td>8.000000</td>\n      <td>4.000000</td>\n      <td>5411.000000</td>\n    </tr>\n    <tr>\n      <th>max</th>\n      <td>32.000000</td>\n      <td>13.000000</td>\n      <td>24.000000</td>\n      <td>4.000000</td>\n      <td>38.000000</td>\n      <td>32.000000</td>\n      <td>10842.000000</td>\n    </tr>\n  </tbody>\n</table>\n</div>"
     },
     "metadata": {},
     "execution_count": 10
    }
   ],
   "source": [
    "df.describe()"
   ]
  },
  {
   "cell_type": "code",
   "execution_count": 11,
   "metadata": {},
   "outputs": [
    {
     "output_type": "execute_result",
     "data": {
      "text/plain": [
       "array([ 2,  4,  3,  5,  6,  7,  1,  8, 10,  9,  0, 11, 14, 21, 12, 24],\n",
       "      dtype=int64)"
      ]
     },
     "metadata": {},
     "execution_count": 11
    }
   ],
   "source": [
    "df['Number of Extra rooms available in the Hospital'].unique()"
   ]
  },
  {
   "cell_type": "code",
   "execution_count": 12,
   "metadata": {},
   "outputs": [
    {
     "output_type": "stream",
     "name": "stdout",
     "text": [
      "Unique code for the Hospital\n",
      "[ 6 23  2 32 14 15 12 19 11 21 26 27 29  9  8 28 24 10 17 25 30 18 16 22\n",
      "  5  1  7 31  4 13  3 20]\n",
      "Unique code for the type of Hospital\n",
      "['a' 'c' 'f' 'b' 'd' 'e' 'g']\n",
      "City Code of the Hospital\n",
      "[ 6  5  9  1  7  2  3  4 11 13 10]\n",
      "Region Code of the Hospital\n",
      "['X' 'Z' 'Y']\n",
      "Number of Extra rooms available in the Hospital\n",
      "[ 2  4  3  5  6  7  1  8 10  9  0 11 14 21 12 24]\n",
      "Department overlooking the case\n",
      "['gynecology' 'anesthesia' 'radiotherapy' 'TB & Chest disease' 'surgery']\n",
      "Code for the Ward type\n",
      "['R' 'Q' 'S' 'P' 'T' 'U']\n",
      "Code for the Ward Facility\n",
      "['F' 'B' 'E' 'C' 'D' 'A']\n",
      "Condition of Bed in the Ward\n",
      "[4. 2. 3. 1.]\n",
      "City Code for the patient\n",
      "[ 2. 15.  5.  6.  8.  7.  4.  1.  9. 23. 31. 12. 22.  3. 30. 16. 10. 32.\n",
      " 27. 20. 14. 13. 21. 26. 19. 18. 28. 24. 25. 11. 34. 35. 37. 33. 29. 36.\n",
      " 38.]\n",
      "Admission Type registered by the Hospital\n",
      "['Urgent' 'Trauma' 'Emergency']\n",
      "Severity of the illness recorded at the time of admission\n",
      "['Moderate' 'Extreme' 'Minor']\n",
      "Number of Visitors with the patient\n",
      "[ 2  4  6  3  5  7  8 12 10  9 15 20  1 13 11 16 14 30 21 24 18 17 22 25\n",
      " 19 23 32  0]\n",
      "Age of the patient\n",
      "['21-30' '51-60' '71-80' '11-20' '31-40' '0-10' '61-70' '41-50' '81-90'\n",
      " '91-100']\n",
      "Deposit at the Admission Time\n",
      "[2817. 4498. 4573. ... 2721. 2370. 7373.]\n",
      "Stay Days by the patient\n",
      "['0-10' '21-30' '11-20' '51-60' '31-40' '71-80' 'More than 100 Days'\n",
      " '41-50' '81-90' '61-70' '91-100']\n"
     ]
    }
   ],
   "source": [
    "for x in df.columns:\n",
    "    print(x)\n",
    "    print(df[x].unique())\n",
    "    print('############')"
   ]
  },
  {
   "cell_type": "code",
   "execution_count": 13,
   "metadata": {},
   "outputs": [
    {
     "output_type": "execute_result",
     "data": {
      "text/plain": [
       "dtype('float64')"
      ]
     },
     "metadata": {},
     "execution_count": 13
    }
   ],
   "source": [
    "df['City Code for the patient'].dtype"
   ]
  },
  {
   "cell_type": "code",
   "execution_count": 14,
   "metadata": {},
   "outputs": [],
   "source": [
    "for x in df.columns:\n",
    "    if df[x].dtype == object:\n",
    "        df[x] = LabelEncoder().fit_transform(df[x])\n"
   ]
  },
  {
   "cell_type": "code",
   "execution_count": 15,
   "metadata": {},
   "outputs": [
    {
     "output_type": "execute_result",
     "data": {
      "text/plain": [
       "Description  Unique code for the Hospital  \\\n",
       "0                                       6   \n",
       "1                                      23   \n",
       "2                                       2   \n",
       "3                                      32   \n",
       "4                                      14   \n",
       "...                                   ...   \n",
       "99995                                  12   \n",
       "99996                                  28   \n",
       "99997                                   6   \n",
       "99998                                  32   \n",
       "99999                                  25   \n",
       "\n",
       "Description  Unique code for the type of Hospital  City Code of the Hospital  \\\n",
       "0                                               0                          6   \n",
       "1                                               0                          6   \n",
       "2                                               2                          5   \n",
       "3                                               5                          9   \n",
       "4                                               0                          1   \n",
       "...                                           ...                        ...   \n",
       "99995                                           0                          9   \n",
       "99996                                           1                         11   \n",
       "99997                                           0                          6   \n",
       "99998                                           5                          9   \n",
       "99999                                           4                          1   \n",
       "\n",
       "Description  Region Code of the Hospital  \\\n",
       "0                                      0   \n",
       "1                                      0   \n",
       "2                                      2   \n",
       "3                                      1   \n",
       "4                                      0   \n",
       "...                                  ...   \n",
       "99995                                  1   \n",
       "99996                                  0   \n",
       "99997                                  0   \n",
       "99998                                  1   \n",
       "99999                                  0   \n",
       "\n",
       "Description  Number of Extra rooms available in the Hospital  \\\n",
       "0                                                          2   \n",
       "1                                                          4   \n",
       "2                                                          2   \n",
       "3                                                          3   \n",
       "4                                                          3   \n",
       "...                                                      ...   \n",
       "99995                                                      3   \n",
       "99996                                                      2   \n",
       "99997                                                      3   \n",
       "99998                                                      2   \n",
       "99999                                                      3   \n",
       "\n",
       "Description  Department overlooking the case  Code for the Ward type  \\\n",
       "0                                          2                       2   \n",
       "1                                          2                       1   \n",
       "2                                          1                       3   \n",
       "3                                          2                       3   \n",
       "4                                          2                       3   \n",
       "...                                      ...                     ...   \n",
       "99995                                      2                       2   \n",
       "99996                                      2                       2   \n",
       "99997                                      2                       1   \n",
       "99998                                      2                       3   \n",
       "99999                                      2                       1   \n",
       "\n",
       "Description  Code for the Ward Facility  Condition of Bed in the Ward  \\\n",
       "0                                     5                           4.0   \n",
       "1                                     5                           2.0   \n",
       "2                                     5                           3.0   \n",
       "3                                     1                           4.0   \n",
       "4                                     4                           2.0   \n",
       "...                                 ...                           ...   \n",
       "99995                                 1                           3.0   \n",
       "99996                                 5                           2.0   \n",
       "99997                                 5                           3.0   \n",
       "99998                                 1                           4.0   \n",
       "99999                                 4                           2.0   \n",
       "\n",
       "Description  City Code for the patient  \\\n",
       "0                                  2.0   \n",
       "1                                 15.0   \n",
       "2                                  5.0   \n",
       "3                                  6.0   \n",
       "4                                  8.0   \n",
       "...                                ...   \n",
       "99995                              3.0   \n",
       "99996                              5.0   \n",
       "99997                              2.0   \n",
       "99998                             15.0   \n",
       "99999                              8.0   \n",
       "\n",
       "Description  Admission Type registered by the Hospital  \\\n",
       "0                                                    2   \n",
       "1                                                    1   \n",
       "2                                                    2   \n",
       "3                                                    0   \n",
       "4                                                    2   \n",
       "...                                                ...   \n",
       "99995                                                0   \n",
       "99996                                                2   \n",
       "99997                                                1   \n",
       "99998                                                1   \n",
       "99999                                                0   \n",
       "\n",
       "Description  Severity of the illness recorded at the time of admission  \\\n",
       "0                                                            2           \n",
       "1                                                            2           \n",
       "2                                                            2           \n",
       "3                                                            2           \n",
       "4                                                            2           \n",
       "...                                                        ...           \n",
       "99995                                                        2           \n",
       "99996                                                        2           \n",
       "99997                                                        1           \n",
       "99998                                                        2           \n",
       "99999                                                        2           \n",
       "\n",
       "Description  Number of Visitors with the patient  Age of the patient  \\\n",
       "0                                              2                   2   \n",
       "1                                              4                   5   \n",
       "2                                              2                   7   \n",
       "3                                              4                   1   \n",
       "4                                              2                   5   \n",
       "...                                          ...                 ...   \n",
       "99995                                          6                   5   \n",
       "99996                                          3                   2   \n",
       "99997                                          2                   3   \n",
       "99998                                          3                   4   \n",
       "99999                                          2                   4   \n",
       "\n",
       "Description  Deposit at the Admission Time  Stay Days by the patient  \n",
       "0                                   2817.0                         0  \n",
       "1                                   4498.0                         2  \n",
       "2                                   4573.0                         1  \n",
       "3                                   7202.0                         5  \n",
       "4                                   3398.0                         5  \n",
       "...                                    ...                       ...  \n",
       "99995                               3966.0                        10  \n",
       "99996                               4005.0                         5  \n",
       "99997                               5215.0                         3  \n",
       "99998                               5092.0                         1  \n",
       "99999                               3390.0                         4  \n",
       "\n",
       "[98484 rows x 16 columns]"
      ],
      "text/html": "<div>\n<style scoped>\n    .dataframe tbody tr th:only-of-type {\n        vertical-align: middle;\n    }\n\n    .dataframe tbody tr th {\n        vertical-align: top;\n    }\n\n    .dataframe thead th {\n        text-align: right;\n    }\n</style>\n<table border=\"1\" class=\"dataframe\">\n  <thead>\n    <tr style=\"text-align: right;\">\n      <th>Description</th>\n      <th>Unique code for the Hospital</th>\n      <th>Unique code for the type of Hospital</th>\n      <th>City Code of the Hospital</th>\n      <th>Region Code of the Hospital</th>\n      <th>Number of Extra rooms available in the Hospital</th>\n      <th>Department overlooking the case</th>\n      <th>Code for the Ward type</th>\n      <th>Code for the Ward Facility</th>\n      <th>Condition of Bed in the Ward</th>\n      <th>City Code for the patient</th>\n      <th>Admission Type registered by the Hospital</th>\n      <th>Severity of the illness recorded at the time of admission</th>\n      <th>Number of Visitors with the patient</th>\n      <th>Age of the patient</th>\n      <th>Deposit at the Admission Time</th>\n      <th>Stay Days by the patient</th>\n    </tr>\n  </thead>\n  <tbody>\n    <tr>\n      <th>0</th>\n      <td>6</td>\n      <td>0</td>\n      <td>6</td>\n      <td>0</td>\n      <td>2</td>\n      <td>2</td>\n      <td>2</td>\n      <td>5</td>\n      <td>4.0</td>\n      <td>2.0</td>\n      <td>2</td>\n      <td>2</td>\n      <td>2</td>\n      <td>2</td>\n      <td>2817.0</td>\n      <td>0</td>\n    </tr>\n    <tr>\n      <th>1</th>\n      <td>23</td>\n      <td>0</td>\n      <td>6</td>\n      <td>0</td>\n      <td>4</td>\n      <td>2</td>\n      <td>1</td>\n      <td>5</td>\n      <td>2.0</td>\n      <td>15.0</td>\n      <td>1</td>\n      <td>2</td>\n      <td>4</td>\n      <td>5</td>\n      <td>4498.0</td>\n      <td>2</td>\n    </tr>\n    <tr>\n      <th>2</th>\n      <td>2</td>\n      <td>2</td>\n      <td>5</td>\n      <td>2</td>\n      <td>2</td>\n      <td>1</td>\n      <td>3</td>\n      <td>5</td>\n      <td>3.0</td>\n      <td>5.0</td>\n      <td>2</td>\n      <td>2</td>\n      <td>2</td>\n      <td>7</td>\n      <td>4573.0</td>\n      <td>1</td>\n    </tr>\n    <tr>\n      <th>3</th>\n      <td>32</td>\n      <td>5</td>\n      <td>9</td>\n      <td>1</td>\n      <td>3</td>\n      <td>2</td>\n      <td>3</td>\n      <td>1</td>\n      <td>4.0</td>\n      <td>6.0</td>\n      <td>0</td>\n      <td>2</td>\n      <td>4</td>\n      <td>1</td>\n      <td>7202.0</td>\n      <td>5</td>\n    </tr>\n    <tr>\n      <th>4</th>\n      <td>14</td>\n      <td>0</td>\n      <td>1</td>\n      <td>0</td>\n      <td>3</td>\n      <td>2</td>\n      <td>3</td>\n      <td>4</td>\n      <td>2.0</td>\n      <td>8.0</td>\n      <td>2</td>\n      <td>2</td>\n      <td>2</td>\n      <td>5</td>\n      <td>3398.0</td>\n      <td>5</td>\n    </tr>\n    <tr>\n      <th>...</th>\n      <td>...</td>\n      <td>...</td>\n      <td>...</td>\n      <td>...</td>\n      <td>...</td>\n      <td>...</td>\n      <td>...</td>\n      <td>...</td>\n      <td>...</td>\n      <td>...</td>\n      <td>...</td>\n      <td>...</td>\n      <td>...</td>\n      <td>...</td>\n      <td>...</td>\n      <td>...</td>\n    </tr>\n    <tr>\n      <th>99995</th>\n      <td>12</td>\n      <td>0</td>\n      <td>9</td>\n      <td>1</td>\n      <td>3</td>\n      <td>2</td>\n      <td>2</td>\n      <td>1</td>\n      <td>3.0</td>\n      <td>3.0</td>\n      <td>0</td>\n      <td>2</td>\n      <td>6</td>\n      <td>5</td>\n      <td>3966.0</td>\n      <td>10</td>\n    </tr>\n    <tr>\n      <th>99996</th>\n      <td>28</td>\n      <td>1</td>\n      <td>11</td>\n      <td>0</td>\n      <td>2</td>\n      <td>2</td>\n      <td>2</td>\n      <td>5</td>\n      <td>2.0</td>\n      <td>5.0</td>\n      <td>2</td>\n      <td>2</td>\n      <td>3</td>\n      <td>2</td>\n      <td>4005.0</td>\n      <td>5</td>\n    </tr>\n    <tr>\n      <th>99997</th>\n      <td>6</td>\n      <td>0</td>\n      <td>6</td>\n      <td>0</td>\n      <td>3</td>\n      <td>2</td>\n      <td>1</td>\n      <td>5</td>\n      <td>3.0</td>\n      <td>2.0</td>\n      <td>1</td>\n      <td>1</td>\n      <td>2</td>\n      <td>3</td>\n      <td>5215.0</td>\n      <td>3</td>\n    </tr>\n    <tr>\n      <th>99998</th>\n      <td>32</td>\n      <td>5</td>\n      <td>9</td>\n      <td>1</td>\n      <td>2</td>\n      <td>2</td>\n      <td>3</td>\n      <td>1</td>\n      <td>4.0</td>\n      <td>15.0</td>\n      <td>1</td>\n      <td>2</td>\n      <td>3</td>\n      <td>4</td>\n      <td>5092.0</td>\n      <td>1</td>\n    </tr>\n    <tr>\n      <th>99999</th>\n      <td>25</td>\n      <td>4</td>\n      <td>1</td>\n      <td>0</td>\n      <td>3</td>\n      <td>2</td>\n      <td>1</td>\n      <td>4</td>\n      <td>2.0</td>\n      <td>8.0</td>\n      <td>0</td>\n      <td>2</td>\n      <td>2</td>\n      <td>4</td>\n      <td>3390.0</td>\n      <td>4</td>\n    </tr>\n  </tbody>\n</table>\n<p>98484 rows × 16 columns</p>\n</div>"
     },
     "metadata": {},
     "execution_count": 15
    }
   ],
   "source": [
    "df"
   ]
  },
  {
   "cell_type": "code",
   "execution_count": 16,
   "metadata": {},
   "outputs": [
    {
     "output_type": "execute_result",
     "data": {
      "text/plain": [
       "(98484, 15)"
      ]
     },
     "metadata": {},
     "execution_count": 16
    }
   ],
   "source": [
    "x = np.array(df.drop(['Stay Days by the patient'], axis= 1))\n",
    "x.shape"
   ]
  },
  {
   "cell_type": "code",
   "execution_count": 17,
   "metadata": {},
   "outputs": [
    {
     "output_type": "execute_result",
     "data": {
      "text/plain": [
       "(98484,)"
      ]
     },
     "metadata": {},
     "execution_count": 17
    }
   ],
   "source": [
    "y = np.array(df['Stay Days by the patient'])\n",
    "y.shape\n"
   ]
  },
  {
   "cell_type": "code",
   "execution_count": 18,
   "metadata": {},
   "outputs": [],
   "source": [
    "x_train, x_test, y_train, y_test = train_test_split(x,y, test_size= 0.2, random_state= 42)"
   ]
  },
  {
   "cell_type": "code",
   "execution_count": 19,
   "metadata": {},
   "outputs": [
    {
     "output_type": "stream",
     "name": "stderr",
     "text": [
      "C:\\Users\\jarai\\AppData\\Local\\Programs\\Python\\Python37\\lib\\site-packages\\sklearn\\linear_model\\_logistic.py:765: ConvergenceWarning: lbfgs failed to converge (status=1):\nSTOP: TOTAL NO. of ITERATIONS REACHED LIMIT.\n\nIncrease the number of iterations (max_iter) or scale the data as shown in:\n    https://scikit-learn.org/stable/modules/preprocessing.html\nPlease also refer to the documentation for alternative solver options:\n    https://scikit-learn.org/stable/modules/linear_model.html#logistic-regression\n  extra_warning_msg=_LOGISTIC_SOLVER_CONVERGENCE_MSG)\n"
     ]
    },
    {
     "output_type": "execute_result",
     "data": {
      "text/plain": [
       "LogisticRegression()"
      ]
     },
     "metadata": {},
     "execution_count": 19
    }
   ],
   "source": [
    "log_reg = LogisticRegression()\n",
    "log_reg.fit(x_train, y_train)"
   ]
  },
  {
   "cell_type": "code",
   "execution_count": 24,
   "metadata": {},
   "outputs": [
    {
     "output_type": "execute_result",
     "data": {
      "text/plain": [
       "0.3119764431131644"
      ]
     },
     "metadata": {},
     "execution_count": 24
    }
   ],
   "source": [
    "log_reg.score(x_test,y_test)"
   ]
  },
  {
   "cell_type": "code",
   "execution_count": 20,
   "metadata": {},
   "outputs": [
    {
     "output_type": "execute_result",
     "data": {
      "text/plain": [
       "RandomForestClassifier()"
      ]
     },
     "metadata": {},
     "execution_count": 20
    }
   ],
   "source": [
    "rand_forest = RandomForestClassifier()\n",
    "rand_forest.fit(x_train, y_train)"
   ]
  },
  {
   "cell_type": "code",
   "execution_count": 21,
   "metadata": {},
   "outputs": [
    {
     "output_type": "execute_result",
     "data": {
      "text/plain": [
       "0.37208711986596943"
      ]
     },
     "metadata": {},
     "execution_count": 21
    }
   ],
   "source": [
    "rand_forest.score(x_test, y_test)"
   ]
  },
  {
   "cell_type": "code",
   "execution_count": 25,
   "metadata": {},
   "outputs": [
    {
     "output_type": "execute_result",
     "data": {
      "text/plain": [
       "0.999809613261071"
      ]
     },
     "metadata": {},
     "execution_count": 25
    }
   ],
   "source": [
    "rand_forest.score(x_train, y_train)"
   ]
  },
  {
   "cell_type": "code",
   "execution_count": 23,
   "metadata": {},
   "outputs": [],
   "source": [
    "cv = RepeatedKFold(n_splits=10, n_repeats=1, random_state=1)\n",
    "clf = GridSearchCV(estimator=pipe, param_grid=search_space, cv=cv, verbose=0, n_jobs=-1)"
   ]
  },
  {
   "cell_type": "code",
   "execution_count": 27,
   "metadata": {},
   "outputs": [],
   "source": [
    "log_clf = LogisticRegression()\n",
    "rnd_clf = RandomForestClassifier()\n",
    "svm_clf = SVC()\n",
    "ada = AdaBoostClassifier()\n",
    "\n",
    "Voting_clf = VotingClassifier(estimators=[('lr', log_clf), ('rf', rnd_clf), ('svc', svm_clf), ('Adab', ada)], voting= 'hard')"
   ]
  },
  {
   "cell_type": "code",
   "execution_count": 28,
   "metadata": {},
   "outputs": [
    {
     "output_type": "stream",
     "name": "stderr",
     "text": [
      "C:\\Users\\jarai\\AppData\\Local\\Programs\\Python\\Python37\\lib\\site-packages\\sklearn\\linear_model\\_logistic.py:765: ConvergenceWarning: lbfgs failed to converge (status=1):\nSTOP: TOTAL NO. of ITERATIONS REACHED LIMIT.\n\nIncrease the number of iterations (max_iter) or scale the data as shown in:\n    https://scikit-learn.org/stable/modules/preprocessing.html\nPlease also refer to the documentation for alternative solver options:\n    https://scikit-learn.org/stable/modules/linear_model.html#logistic-regression\n  extra_warning_msg=_LOGISTIC_SOLVER_CONVERGENCE_MSG)\n"
     ]
    },
    {
     "output_type": "execute_result",
     "data": {
      "text/plain": [
       "VotingClassifier(estimators=[('lr', LogisticRegression()),\n",
       "                             ('rf', RandomForestClassifier()), ('svc', SVC()),\n",
       "                             ('Adab', AdaBoostClassifier())])"
      ]
     },
     "metadata": {},
     "execution_count": 28
    }
   ],
   "source": [
    "Voting_clf.fit(x_train, y_train)"
   ]
  },
  {
   "cell_type": "code",
   "execution_count": 29,
   "metadata": {},
   "outputs": [
    {
     "output_type": "execute_result",
     "data": {
      "text/plain": [
       "0.35127176727420417"
      ]
     },
     "metadata": {},
     "execution_count": 29
    }
   ],
   "source": [
    "Voting_clf.score(x_test, y_test)"
   ]
  },
  {
   "cell_type": "code",
   "execution_count": 30,
   "metadata": {},
   "outputs": [
    {
     "output_type": "execute_result",
     "data": {
      "text/plain": [
       "0.48378539606787924"
      ]
     },
     "metadata": {},
     "execution_count": 30
    }
   ],
   "source": [
    "Voting_clf.score(x_train, y_train)"
   ]
  },
  {
   "cell_type": "code",
   "execution_count": 31,
   "metadata": {},
   "outputs": [
    {
     "output_type": "stream",
     "name": "stderr",
     "text": [
      "C:\\Users\\jarai\\AppData\\Local\\Programs\\Python\\Python37\\lib\\site-packages\\sklearn\\linear_model\\_logistic.py:765: ConvergenceWarning: lbfgs failed to converge (status=1):\nSTOP: TOTAL NO. of ITERATIONS REACHED LIMIT.\n\nIncrease the number of iterations (max_iter) or scale the data as shown in:\n    https://scikit-learn.org/stable/modules/preprocessing.html\nPlease also refer to the documentation for alternative solver options:\n    https://scikit-learn.org/stable/modules/linear_model.html#logistic-regression\n  extra_warning_msg=_LOGISTIC_SOLVER_CONVERGENCE_MSG)\n"
     ]
    },
    {
     "output_type": "execute_result",
     "data": {
      "text/plain": [
       "VotingClassifier(estimators=[('lr', LogisticRegression()),\n",
       "                             ('rf', RandomForestClassifier()), ('svc', SVC()),\n",
       "                             ('Adab', AdaBoostClassifier())])"
      ]
     },
     "metadata": {},
     "execution_count": 31
    }
   ],
   "source": [
    "Voting_clf.fit(x, y)"
   ]
  },
  {
   "cell_type": "code",
   "execution_count": 119,
   "metadata": {},
   "outputs": [
    {
     "output_type": "execute_result",
     "data": {
      "text/plain": [
       "             0   1  2   3  4  5                   6  7  8    9      10    11  \\\n",
       "0       314114  19  a   7  Y  4          gynecology  S  C  2.0   59278   8.0   \n",
       "1       208989  15  c   5  Z  3          gynecology  S  F  2.0  102253  15.0   \n",
       "2       305872  17  e   1  X  4          gynecology  R  E  4.0    5828   4.0   \n",
       "3       266099   3  c   3  Z  4  TB & Chest disease  R  A  2.0   56642   9.0   \n",
       "4        13228   6  a   6  X  4          gynecology  R  F  1.0  116266   8.0   \n",
       "...        ...  .. ..  .. .. ..                 ... .. ..  ...     ...   ...   \n",
       "133739  318155  18  d  13  Y  6          anesthesia  Q  B  3.0  123269  25.0   \n",
       "133740  144850  27  a   7  Y  2          gynecology  S  C  2.0    1293   8.0   \n",
       "133741  180676  16  c   3  Z  3          gynecology  R  A  3.0  112921   5.0   \n",
       "133742   39933  28  b  11  X  4          gynecology  R  F  2.0     585   2.0   \n",
       "133743  116673   6  a   6  X  4  TB & Chest disease  Q  F  2.0  119482  12.0   \n",
       "\n",
       "               12        13  14     15      16  \n",
       "0       Emergency     Minor   2  41-50  4778.0  \n",
       "1          Trauma  Moderate   3  31-40  5734.0  \n",
       "2       Emergency     Minor   3  71-80  5064.0  \n",
       "3          Urgent   Extreme   4  31-40  3254.0  \n",
       "4       Emergency     Minor   3  21-30  4639.0  \n",
       "...           ...       ...  ..    ...     ...  \n",
       "133739     Urgent     Minor   4  51-60  5089.0  \n",
       "133740  Emergency  Moderate   3  61-70  6713.0  \n",
       "133741     Trauma     Minor   3  31-40  5326.0  \n",
       "133742     Trauma   Extreme   2  31-40  7072.0  \n",
       "133743     Trauma  Moderate   4  51-60  5221.0  \n",
       "\n",
       "[133744 rows x 17 columns]"
      ],
      "text/html": "<div>\n<style scoped>\n    .dataframe tbody tr th:only-of-type {\n        vertical-align: middle;\n    }\n\n    .dataframe tbody tr th {\n        vertical-align: top;\n    }\n\n    .dataframe thead th {\n        text-align: right;\n    }\n</style>\n<table border=\"1\" class=\"dataframe\">\n  <thead>\n    <tr style=\"text-align: right;\">\n      <th></th>\n      <th>0</th>\n      <th>1</th>\n      <th>2</th>\n      <th>3</th>\n      <th>4</th>\n      <th>5</th>\n      <th>6</th>\n      <th>7</th>\n      <th>8</th>\n      <th>9</th>\n      <th>10</th>\n      <th>11</th>\n      <th>12</th>\n      <th>13</th>\n      <th>14</th>\n      <th>15</th>\n      <th>16</th>\n    </tr>\n  </thead>\n  <tbody>\n    <tr>\n      <th>0</th>\n      <td>314114</td>\n      <td>19</td>\n      <td>a</td>\n      <td>7</td>\n      <td>Y</td>\n      <td>4</td>\n      <td>gynecology</td>\n      <td>S</td>\n      <td>C</td>\n      <td>2.0</td>\n      <td>59278</td>\n      <td>8.0</td>\n      <td>Emergency</td>\n      <td>Minor</td>\n      <td>2</td>\n      <td>41-50</td>\n      <td>4778.0</td>\n    </tr>\n    <tr>\n      <th>1</th>\n      <td>208989</td>\n      <td>15</td>\n      <td>c</td>\n      <td>5</td>\n      <td>Z</td>\n      <td>3</td>\n      <td>gynecology</td>\n      <td>S</td>\n      <td>F</td>\n      <td>2.0</td>\n      <td>102253</td>\n      <td>15.0</td>\n      <td>Trauma</td>\n      <td>Moderate</td>\n      <td>3</td>\n      <td>31-40</td>\n      <td>5734.0</td>\n    </tr>\n    <tr>\n      <th>2</th>\n      <td>305872</td>\n      <td>17</td>\n      <td>e</td>\n      <td>1</td>\n      <td>X</td>\n      <td>4</td>\n      <td>gynecology</td>\n      <td>R</td>\n      <td>E</td>\n      <td>4.0</td>\n      <td>5828</td>\n      <td>4.0</td>\n      <td>Emergency</td>\n      <td>Minor</td>\n      <td>3</td>\n      <td>71-80</td>\n      <td>5064.0</td>\n    </tr>\n    <tr>\n      <th>3</th>\n      <td>266099</td>\n      <td>3</td>\n      <td>c</td>\n      <td>3</td>\n      <td>Z</td>\n      <td>4</td>\n      <td>TB &amp; Chest disease</td>\n      <td>R</td>\n      <td>A</td>\n      <td>2.0</td>\n      <td>56642</td>\n      <td>9.0</td>\n      <td>Urgent</td>\n      <td>Extreme</td>\n      <td>4</td>\n      <td>31-40</td>\n      <td>3254.0</td>\n    </tr>\n    <tr>\n      <th>4</th>\n      <td>13228</td>\n      <td>6</td>\n      <td>a</td>\n      <td>6</td>\n      <td>X</td>\n      <td>4</td>\n      <td>gynecology</td>\n      <td>R</td>\n      <td>F</td>\n      <td>1.0</td>\n      <td>116266</td>\n      <td>8.0</td>\n      <td>Emergency</td>\n      <td>Minor</td>\n      <td>3</td>\n      <td>21-30</td>\n      <td>4639.0</td>\n    </tr>\n    <tr>\n      <th>...</th>\n      <td>...</td>\n      <td>...</td>\n      <td>...</td>\n      <td>...</td>\n      <td>...</td>\n      <td>...</td>\n      <td>...</td>\n      <td>...</td>\n      <td>...</td>\n      <td>...</td>\n      <td>...</td>\n      <td>...</td>\n      <td>...</td>\n      <td>...</td>\n      <td>...</td>\n      <td>...</td>\n      <td>...</td>\n    </tr>\n    <tr>\n      <th>133739</th>\n      <td>318155</td>\n      <td>18</td>\n      <td>d</td>\n      <td>13</td>\n      <td>Y</td>\n      <td>6</td>\n      <td>anesthesia</td>\n      <td>Q</td>\n      <td>B</td>\n      <td>3.0</td>\n      <td>123269</td>\n      <td>25.0</td>\n      <td>Urgent</td>\n      <td>Minor</td>\n      <td>4</td>\n      <td>51-60</td>\n      <td>5089.0</td>\n    </tr>\n    <tr>\n      <th>133740</th>\n      <td>144850</td>\n      <td>27</td>\n      <td>a</td>\n      <td>7</td>\n      <td>Y</td>\n      <td>2</td>\n      <td>gynecology</td>\n      <td>S</td>\n      <td>C</td>\n      <td>2.0</td>\n      <td>1293</td>\n      <td>8.0</td>\n      <td>Emergency</td>\n      <td>Moderate</td>\n      <td>3</td>\n      <td>61-70</td>\n      <td>6713.0</td>\n    </tr>\n    <tr>\n      <th>133741</th>\n      <td>180676</td>\n      <td>16</td>\n      <td>c</td>\n      <td>3</td>\n      <td>Z</td>\n      <td>3</td>\n      <td>gynecology</td>\n      <td>R</td>\n      <td>A</td>\n      <td>3.0</td>\n      <td>112921</td>\n      <td>5.0</td>\n      <td>Trauma</td>\n      <td>Minor</td>\n      <td>3</td>\n      <td>31-40</td>\n      <td>5326.0</td>\n    </tr>\n    <tr>\n      <th>133742</th>\n      <td>39933</td>\n      <td>28</td>\n      <td>b</td>\n      <td>11</td>\n      <td>X</td>\n      <td>4</td>\n      <td>gynecology</td>\n      <td>R</td>\n      <td>F</td>\n      <td>2.0</td>\n      <td>585</td>\n      <td>2.0</td>\n      <td>Trauma</td>\n      <td>Extreme</td>\n      <td>2</td>\n      <td>31-40</td>\n      <td>7072.0</td>\n    </tr>\n    <tr>\n      <th>133743</th>\n      <td>116673</td>\n      <td>6</td>\n      <td>a</td>\n      <td>6</td>\n      <td>X</td>\n      <td>4</td>\n      <td>TB &amp; Chest disease</td>\n      <td>Q</td>\n      <td>F</td>\n      <td>2.0</td>\n      <td>119482</td>\n      <td>12.0</td>\n      <td>Trauma</td>\n      <td>Moderate</td>\n      <td>4</td>\n      <td>51-60</td>\n      <td>5221.0</td>\n    </tr>\n  </tbody>\n</table>\n<p>133744 rows × 17 columns</p>\n</div>"
     },
     "metadata": {},
     "execution_count": 119
    }
   ],
   "source": [
    "x_pred = pd.read_csv('hospital_test.csv')\n",
    "x_pred"
   ]
  },
  {
   "cell_type": "code",
   "execution_count": 122,
   "metadata": {},
   "outputs": [],
   "source": [
    "ind_list = [x for x in x_pred['0']]\n"
   ]
  },
  {
   "cell_type": "code",
   "execution_count": 123,
   "metadata": {},
   "outputs": [
    {
     "output_type": "stream",
     "name": "stdout",
     "text": [
      "0 Case_ID registered in Hospital\n",
      "1 Unique code for the Hospital\n",
      "2 Unique code for the type of Hospital\n",
      "3 City Code of the Hospital\n",
      "4 Region Code of the Hospital\n",
      "5 Number of Extra rooms available in the Hospital\n",
      "6 Department overlooking the case\n",
      "7 Code for the Ward type\n",
      "8 Code for the Ward Facility\n",
      "9 Condition of Bed in the Ward\n",
      "10 Unique Patient Id\n",
      "11 City Code for the patient\n",
      "12 Admission Type registered by the Hospital\n",
      "13 Severity of the illness recorded at the time of admission\n",
      "14 Number of Visitors with the patient\n",
      "15 Age of the patient\n",
      "16 Deposit at the Admission Time\n"
     ]
    }
   ],
   "source": [
    "\n",
    "for i, x in enumerate(colummns.iloc[:-1,1]):\n",
    "    print(i, x)\n"
   ]
  },
  {
   "cell_type": "code",
   "execution_count": 79,
   "metadata": {},
   "outputs": [],
   "source": [
    "x_pred = x_pred.drop(['0', '10'], axis= 1)\n"
   ]
  },
  {
   "cell_type": "code",
   "execution_count": 80,
   "metadata": {},
   "outputs": [],
   "source": [
    "for x in x_pred.columns:\n",
    "    if x_pred[x].dtype == object:\n",
    "        x_pred[x] = LabelEncoder().fit_transform(x_pred[x])"
   ]
  },
  {
   "cell_type": "code",
   "execution_count": 81,
   "metadata": {},
   "outputs": [
    {
     "output_type": "execute_result",
     "data": {
      "text/plain": [
       "         1  2   3  4  5  6  7  8    9    11  12  13  14  15      16\n",
       "0       19  0   7  1  4  2  3  2  2.0   8.0   0   1   2   4  4778.0\n",
       "1       15  2   5  2  3  2  3  5  2.0  15.0   1   2   3   3  5734.0\n",
       "2       17  4   1  0  4  2  2  4  4.0   4.0   0   1   3   7  5064.0\n",
       "3        3  2   3  2  4  0  2  0  2.0   9.0   2   0   4   3  3254.0\n",
       "4        6  0   6  0  4  2  2  5  1.0   8.0   0   1   3   2  4639.0\n",
       "...     .. ..  .. .. .. .. .. ..  ...   ...  ..  ..  ..  ..     ...\n",
       "133739  18  3  13  1  6  1  1  1  3.0  25.0   2   1   4   5  5089.0\n",
       "133740  27  0   7  1  2  2  3  2  2.0   8.0   0   2   3   6  6713.0\n",
       "133741  16  2   3  2  3  2  2  0  3.0   5.0   1   1   3   3  5326.0\n",
       "133742  28  1  11  0  4  2  2  5  2.0   2.0   1   0   2   3  7072.0\n",
       "133743   6  0   6  0  4  0  1  5  2.0  12.0   1   2   4   5  5221.0\n",
       "\n",
       "[133744 rows x 15 columns]"
      ],
      "text/html": "<div>\n<style scoped>\n    .dataframe tbody tr th:only-of-type {\n        vertical-align: middle;\n    }\n\n    .dataframe tbody tr th {\n        vertical-align: top;\n    }\n\n    .dataframe thead th {\n        text-align: right;\n    }\n</style>\n<table border=\"1\" class=\"dataframe\">\n  <thead>\n    <tr style=\"text-align: right;\">\n      <th></th>\n      <th>1</th>\n      <th>2</th>\n      <th>3</th>\n      <th>4</th>\n      <th>5</th>\n      <th>6</th>\n      <th>7</th>\n      <th>8</th>\n      <th>9</th>\n      <th>11</th>\n      <th>12</th>\n      <th>13</th>\n      <th>14</th>\n      <th>15</th>\n      <th>16</th>\n    </tr>\n  </thead>\n  <tbody>\n    <tr>\n      <th>0</th>\n      <td>19</td>\n      <td>0</td>\n      <td>7</td>\n      <td>1</td>\n      <td>4</td>\n      <td>2</td>\n      <td>3</td>\n      <td>2</td>\n      <td>2.0</td>\n      <td>8.0</td>\n      <td>0</td>\n      <td>1</td>\n      <td>2</td>\n      <td>4</td>\n      <td>4778.0</td>\n    </tr>\n    <tr>\n      <th>1</th>\n      <td>15</td>\n      <td>2</td>\n      <td>5</td>\n      <td>2</td>\n      <td>3</td>\n      <td>2</td>\n      <td>3</td>\n      <td>5</td>\n      <td>2.0</td>\n      <td>15.0</td>\n      <td>1</td>\n      <td>2</td>\n      <td>3</td>\n      <td>3</td>\n      <td>5734.0</td>\n    </tr>\n    <tr>\n      <th>2</th>\n      <td>17</td>\n      <td>4</td>\n      <td>1</td>\n      <td>0</td>\n      <td>4</td>\n      <td>2</td>\n      <td>2</td>\n      <td>4</td>\n      <td>4.0</td>\n      <td>4.0</td>\n      <td>0</td>\n      <td>1</td>\n      <td>3</td>\n      <td>7</td>\n      <td>5064.0</td>\n    </tr>\n    <tr>\n      <th>3</th>\n      <td>3</td>\n      <td>2</td>\n      <td>3</td>\n      <td>2</td>\n      <td>4</td>\n      <td>0</td>\n      <td>2</td>\n      <td>0</td>\n      <td>2.0</td>\n      <td>9.0</td>\n      <td>2</td>\n      <td>0</td>\n      <td>4</td>\n      <td>3</td>\n      <td>3254.0</td>\n    </tr>\n    <tr>\n      <th>4</th>\n      <td>6</td>\n      <td>0</td>\n      <td>6</td>\n      <td>0</td>\n      <td>4</td>\n      <td>2</td>\n      <td>2</td>\n      <td>5</td>\n      <td>1.0</td>\n      <td>8.0</td>\n      <td>0</td>\n      <td>1</td>\n      <td>3</td>\n      <td>2</td>\n      <td>4639.0</td>\n    </tr>\n    <tr>\n      <th>...</th>\n      <td>...</td>\n      <td>...</td>\n      <td>...</td>\n      <td>...</td>\n      <td>...</td>\n      <td>...</td>\n      <td>...</td>\n      <td>...</td>\n      <td>...</td>\n      <td>...</td>\n      <td>...</td>\n      <td>...</td>\n      <td>...</td>\n      <td>...</td>\n      <td>...</td>\n    </tr>\n    <tr>\n      <th>133739</th>\n      <td>18</td>\n      <td>3</td>\n      <td>13</td>\n      <td>1</td>\n      <td>6</td>\n      <td>1</td>\n      <td>1</td>\n      <td>1</td>\n      <td>3.0</td>\n      <td>25.0</td>\n      <td>2</td>\n      <td>1</td>\n      <td>4</td>\n      <td>5</td>\n      <td>5089.0</td>\n    </tr>\n    <tr>\n      <th>133740</th>\n      <td>27</td>\n      <td>0</td>\n      <td>7</td>\n      <td>1</td>\n      <td>2</td>\n      <td>2</td>\n      <td>3</td>\n      <td>2</td>\n      <td>2.0</td>\n      <td>8.0</td>\n      <td>0</td>\n      <td>2</td>\n      <td>3</td>\n      <td>6</td>\n      <td>6713.0</td>\n    </tr>\n    <tr>\n      <th>133741</th>\n      <td>16</td>\n      <td>2</td>\n      <td>3</td>\n      <td>2</td>\n      <td>3</td>\n      <td>2</td>\n      <td>2</td>\n      <td>0</td>\n      <td>3.0</td>\n      <td>5.0</td>\n      <td>1</td>\n      <td>1</td>\n      <td>3</td>\n      <td>3</td>\n      <td>5326.0</td>\n    </tr>\n    <tr>\n      <th>133742</th>\n      <td>28</td>\n      <td>1</td>\n      <td>11</td>\n      <td>0</td>\n      <td>4</td>\n      <td>2</td>\n      <td>2</td>\n      <td>5</td>\n      <td>2.0</td>\n      <td>2.0</td>\n      <td>1</td>\n      <td>0</td>\n      <td>2</td>\n      <td>3</td>\n      <td>7072.0</td>\n    </tr>\n    <tr>\n      <th>133743</th>\n      <td>6</td>\n      <td>0</td>\n      <td>6</td>\n      <td>0</td>\n      <td>4</td>\n      <td>0</td>\n      <td>1</td>\n      <td>5</td>\n      <td>2.0</td>\n      <td>12.0</td>\n      <td>1</td>\n      <td>2</td>\n      <td>4</td>\n      <td>5</td>\n      <td>5221.0</td>\n    </tr>\n  </tbody>\n</table>\n<p>133744 rows × 15 columns</p>\n</div>"
     },
     "metadata": {},
     "execution_count": 81
    }
   ],
   "source": [
    "x_pred"
   ]
  },
  {
   "cell_type": "code",
   "execution_count": 82,
   "metadata": {},
   "outputs": [
    {
     "output_type": "stream",
     "name": "stdout",
     "text": [
      "<class 'pandas.core.frame.DataFrame'>\nRangeIndex: 133744 entries, 0 to 133743\nData columns (total 15 columns):\n #   Column  Non-Null Count   Dtype  \n---  ------  --------------   -----  \n 0   1       133744 non-null  int64  \n 1   2       133744 non-null  int32  \n 2   3       133744 non-null  int64  \n 3   4       133744 non-null  int32  \n 4   5       133744 non-null  int64  \n 5   6       133744 non-null  int32  \n 6   7       133744 non-null  int32  \n 7   8       133744 non-null  int32  \n 8   9       133704 non-null  float64\n 9   11      131927 non-null  float64\n 10  12      133744 non-null  int32  \n 11  13      133744 non-null  int32  \n 12  14      133744 non-null  int64  \n 13  15      133744 non-null  int32  \n 14  16      133744 non-null  float64\ndtypes: float64(3), int32(8), int64(4)\nmemory usage: 11.2 MB\n"
     ]
    }
   ],
   "source": [
    "x_pred.info()"
   ]
  },
  {
   "cell_type": "code",
   "execution_count": 84,
   "metadata": {},
   "outputs": [],
   "source": [
    "x_pred.loc[:,'9'].fillna(x_pred.loc[:,'9'].mode()[0], inplace = True)"
   ]
  },
  {
   "cell_type": "code",
   "execution_count": 88,
   "metadata": {},
   "outputs": [],
   "source": [
    "x_pred.loc[:,'11'].fillna(x_pred.loc[:,'11'].mode()[0], inplace = True)"
   ]
  },
  {
   "cell_type": "code",
   "execution_count": 89,
   "metadata": {},
   "outputs": [
    {
     "output_type": "stream",
     "name": "stdout",
     "text": [
      "<class 'pandas.core.frame.DataFrame'>\nRangeIndex: 133744 entries, 0 to 133743\nData columns (total 15 columns):\n #   Column  Non-Null Count   Dtype  \n---  ------  --------------   -----  \n 0   1       133744 non-null  int64  \n 1   2       133744 non-null  int32  \n 2   3       133744 non-null  int64  \n 3   4       133744 non-null  int32  \n 4   5       133744 non-null  int64  \n 5   6       133744 non-null  int32  \n 6   7       133744 non-null  int32  \n 7   8       133744 non-null  int32  \n 8   9       133744 non-null  float64\n 9   11      133744 non-null  float64\n 10  12      133744 non-null  int32  \n 11  13      133744 non-null  int32  \n 12  14      133744 non-null  int64  \n 13  15      133744 non-null  int32  \n 14  16      133744 non-null  float64\ndtypes: float64(3), int32(8), int64(4)\nmemory usage: 11.2 MB\n"
     ]
    }
   ],
   "source": [
    "x_pred.info()"
   ]
  },
  {
   "cell_type": "code",
   "execution_count": 90,
   "metadata": {},
   "outputs": [],
   "source": [
    "predictions_submit = Voting_clf.predict(x_pred)"
   ]
  },
  {
   "cell_type": "code",
   "execution_count": null,
   "metadata": {},
   "outputs": [],
   "source": [
    "y_encoded = La"
   ]
  },
  {
   "cell_type": "code",
   "execution_count": 95,
   "metadata": {},
   "outputs": [
    {
     "output_type": "execute_result",
     "data": {
      "text/plain": [
       "array([1, 2, 1, ..., 2, 2, 2])"
      ]
     },
     "metadata": {},
     "execution_count": 95
    }
   ],
   "source": [
    "predictions_submit"
   ]
  },
  {
   "cell_type": "code",
   "execution_count": 97,
   "metadata": {},
   "outputs": [],
   "source": [
    "new_df = pd.read_csv('hospital_train.csv')"
   ]
  },
  {
   "cell_type": "code",
   "execution_count": 99,
   "metadata": {},
   "outputs": [],
   "source": [
    "new_df.columns = colummns.iloc[:,1]"
   ]
  },
  {
   "cell_type": "code",
   "execution_count": 100,
   "metadata": {},
   "outputs": [
    {
     "output_type": "execute_result",
     "data": {
      "text/plain": [
       "array([0, 2, 1, ..., 3, 1, 4])"
      ]
     },
     "metadata": {},
     "execution_count": 100
    }
   ],
   "source": [
    "y_encoder = LabelEncoder()\n",
    "y_encoder.fit_transform(new_df['Stay Days by the patient'])"
   ]
  },
  {
   "cell_type": "code",
   "execution_count": 103,
   "metadata": {},
   "outputs": [
    {
     "output_type": "execute_result",
     "data": {
      "text/plain": [
       "array(['11-20', '21-30', '11-20', ..., '21-30', '21-30', '21-30'],\n",
       "      dtype=object)"
      ]
     },
     "metadata": {},
     "execution_count": 103
    }
   ],
   "source": [
    "predictions_submit = y_encoder.inverse_transform(predictions_submit)\n",
    "predictions_submit"
   ]
  },
  {
   "cell_type": "code",
   "execution_count": 124,
   "metadata": {},
   "outputs": [],
   "source": [
    "submission = pd.DataFrame({\"id\": ind_list, \"days\": predictions_submit})"
   ]
  },
  {
   "cell_type": "code",
   "execution_count": 125,
   "metadata": {},
   "outputs": [
    {
     "output_type": "execute_result",
     "data": {
      "text/plain": [
       "            id   days\n",
       "0       314114  11-20\n",
       "1       208989  21-30\n",
       "2       305872  11-20\n",
       "3       266099  31-40\n",
       "4        13228  21-30\n",
       "...        ...    ...\n",
       "133739  318155  11-20\n",
       "133740  144850  21-30\n",
       "133741  180676  21-30\n",
       "133742   39933  21-30\n",
       "133743  116673  21-30\n",
       "\n",
       "[133744 rows x 2 columns]"
      ],
      "text/html": "<div>\n<style scoped>\n    .dataframe tbody tr th:only-of-type {\n        vertical-align: middle;\n    }\n\n    .dataframe tbody tr th {\n        vertical-align: top;\n    }\n\n    .dataframe thead th {\n        text-align: right;\n    }\n</style>\n<table border=\"1\" class=\"dataframe\">\n  <thead>\n    <tr style=\"text-align: right;\">\n      <th></th>\n      <th>id</th>\n      <th>days</th>\n    </tr>\n  </thead>\n  <tbody>\n    <tr>\n      <th>0</th>\n      <td>314114</td>\n      <td>11-20</td>\n    </tr>\n    <tr>\n      <th>1</th>\n      <td>208989</td>\n      <td>21-30</td>\n    </tr>\n    <tr>\n      <th>2</th>\n      <td>305872</td>\n      <td>11-20</td>\n    </tr>\n    <tr>\n      <th>3</th>\n      <td>266099</td>\n      <td>31-40</td>\n    </tr>\n    <tr>\n      <th>4</th>\n      <td>13228</td>\n      <td>21-30</td>\n    </tr>\n    <tr>\n      <th>...</th>\n      <td>...</td>\n      <td>...</td>\n    </tr>\n    <tr>\n      <th>133739</th>\n      <td>318155</td>\n      <td>11-20</td>\n    </tr>\n    <tr>\n      <th>133740</th>\n      <td>144850</td>\n      <td>21-30</td>\n    </tr>\n    <tr>\n      <th>133741</th>\n      <td>180676</td>\n      <td>21-30</td>\n    </tr>\n    <tr>\n      <th>133742</th>\n      <td>39933</td>\n      <td>21-30</td>\n    </tr>\n    <tr>\n      <th>133743</th>\n      <td>116673</td>\n      <td>21-30</td>\n    </tr>\n  </tbody>\n</table>\n<p>133744 rows × 2 columns</p>\n</div>"
     },
     "metadata": {},
     "execution_count": 125
    }
   ],
   "source": [
    "submission"
   ]
  },
  {
   "cell_type": "code",
   "execution_count": 117,
   "metadata": {},
   "outputs": [],
   "source": [
    "sample = pd.read_csv(\"sample_submission.csv\")"
   ]
  },
  {
   "cell_type": "code",
   "execution_count": 118,
   "metadata": {},
   "outputs": [
    {
     "output_type": "execute_result",
     "data": {
      "text/plain": [
       "            id   days\n",
       "0       314114  11-20\n",
       "1       208989  31-40\n",
       "2       305872  81-90\n",
       "3       266099  21-30\n",
       "4        13228  31-40\n",
       "...        ...    ...\n",
       "133739  318155  41-50\n",
       "133740  144850  21-30\n",
       "133741  180676  11-20\n",
       "133742   39933  21-30\n",
       "133743  116673  71-80\n",
       "\n",
       "[133744 rows x 2 columns]"
      ],
      "text/html": "<div>\n<style scoped>\n    .dataframe tbody tr th:only-of-type {\n        vertical-align: middle;\n    }\n\n    .dataframe tbody tr th {\n        vertical-align: top;\n    }\n\n    .dataframe thead th {\n        text-align: right;\n    }\n</style>\n<table border=\"1\" class=\"dataframe\">\n  <thead>\n    <tr style=\"text-align: right;\">\n      <th></th>\n      <th>id</th>\n      <th>days</th>\n    </tr>\n  </thead>\n  <tbody>\n    <tr>\n      <th>0</th>\n      <td>314114</td>\n      <td>11-20</td>\n    </tr>\n    <tr>\n      <th>1</th>\n      <td>208989</td>\n      <td>31-40</td>\n    </tr>\n    <tr>\n      <th>2</th>\n      <td>305872</td>\n      <td>81-90</td>\n    </tr>\n    <tr>\n      <th>3</th>\n      <td>266099</td>\n      <td>21-30</td>\n    </tr>\n    <tr>\n      <th>4</th>\n      <td>13228</td>\n      <td>31-40</td>\n    </tr>\n    <tr>\n      <th>...</th>\n      <td>...</td>\n      <td>...</td>\n    </tr>\n    <tr>\n      <th>133739</th>\n      <td>318155</td>\n      <td>41-50</td>\n    </tr>\n    <tr>\n      <th>133740</th>\n      <td>144850</td>\n      <td>21-30</td>\n    </tr>\n    <tr>\n      <th>133741</th>\n      <td>180676</td>\n      <td>11-20</td>\n    </tr>\n    <tr>\n      <th>133742</th>\n      <td>39933</td>\n      <td>21-30</td>\n    </tr>\n    <tr>\n      <th>133743</th>\n      <td>116673</td>\n      <td>71-80</td>\n    </tr>\n  </tbody>\n</table>\n<p>133744 rows × 2 columns</p>\n</div>"
     },
     "metadata": {},
     "execution_count": 118
    }
   ],
   "source": [
    "sample"
   ]
  },
  {
   "cell_type": "code",
   "execution_count": 113,
   "metadata": {},
   "outputs": [],
   "source": [
    "def chequeator(df_to_submit):\n",
    "    \"\"\"\n",
    "    Esta función se asegura de que tu submission tenga la forma requerida por Kaggle.\n",
    "    \n",
    "    Si es así, se guardará el dataframe en un `csv` y estará listo para subir a Kaggle.\n",
    "    \n",
    "    Si no, LEE EL MENSAJE Y HAZLE CASO.\n",
    "    \n",
    "    Si aún no:\n",
    "    - apaga tu ordenador, \n",
    "    - date una vuelta, \n",
    "    - enciendelo otra vez, \n",
    "    - abre este notebook y \n",
    "    - leelo todo de nuevo. \n",
    "    Todos nos merecemos una segunda oportunidad. También tú.\n",
    "    \"\"\"\n",
    "    if df_to_submit.shape == sample.shape:\n",
    "        if df_to_submit.columns.all() == sample.columns.all():\n",
    "            if df_to_submit.id.all() == sample.id.all():\n",
    "                print(\"You're ready to submit!\")\n",
    "                submission.to_csv(\"submission_12.csv\", index = False) #muy importante el index = False\n",
    "                urllib.request.urlretrieve(\"https://i.kym-cdn.com/photos/images/facebook/000/747/556/27a.jpg\", \"gfg.png\")     \n",
    "                img = Image.open(\"gfg.png\")\n",
    "                img.show()   \n",
    "            else:\n",
    "                print(\"Check the ids and try again\")\n",
    "        else:\n",
    "            print(\"Check the names of the columns and try again\")\n",
    "    else:\n",
    "        print(\"Check the number of rows and/or columns and try again\")\n",
    "        print(\"\\nMensaje secreto de Clara: No me puedo creer que después de todo este notebook hayas hecho algún cambio en las filas de `diamonds_test.csv`. Lloro.\")"
   ]
  },
  {
   "cell_type": "code",
   "execution_count": 126,
   "metadata": {},
   "outputs": [
    {
     "output_type": "stream",
     "name": "stdout",
     "text": [
      "You're ready to submit!\n"
     ]
    },
    {
     "output_type": "error",
     "ename": "NameError",
     "evalue": "name 'urllib' is not defined",
     "traceback": [
      "\u001b[1;31m---------------------------------------------------------------------------\u001b[0m",
      "\u001b[1;31mNameError\u001b[0m                                 Traceback (most recent call last)",
      "\u001b[1;32m<ipython-input-126-a2ac9bfa332d>\u001b[0m in \u001b[0;36m<module>\u001b[1;34m\u001b[0m\n\u001b[1;32m----> 1\u001b[1;33m \u001b[0mchequeator\u001b[0m\u001b[1;33m(\u001b[0m\u001b[0msubmission\u001b[0m\u001b[1;33m)\u001b[0m\u001b[1;33m\u001b[0m\u001b[1;33m\u001b[0m\u001b[0m\n\u001b[0m",
      "\u001b[1;32m<ipython-input-113-57721613e785>\u001b[0m in \u001b[0;36mchequeator\u001b[1;34m(df_to_submit)\u001b[0m\n\u001b[0;32m     20\u001b[0m                 \u001b[0mprint\u001b[0m\u001b[1;33m(\u001b[0m\u001b[1;34m\"You're ready to submit!\"\u001b[0m\u001b[1;33m)\u001b[0m\u001b[1;33m\u001b[0m\u001b[1;33m\u001b[0m\u001b[0m\n\u001b[0;32m     21\u001b[0m                 \u001b[0msubmission\u001b[0m\u001b[1;33m.\u001b[0m\u001b[0mto_csv\u001b[0m\u001b[1;33m(\u001b[0m\u001b[1;34m\"submission_12.csv\"\u001b[0m\u001b[1;33m,\u001b[0m \u001b[0mindex\u001b[0m \u001b[1;33m=\u001b[0m \u001b[1;32mFalse\u001b[0m\u001b[1;33m)\u001b[0m \u001b[1;31m#muy importante el index = False\u001b[0m\u001b[1;33m\u001b[0m\u001b[1;33m\u001b[0m\u001b[0m\n\u001b[1;32m---> 22\u001b[1;33m                 \u001b[0murllib\u001b[0m\u001b[1;33m.\u001b[0m\u001b[0mrequest\u001b[0m\u001b[1;33m.\u001b[0m\u001b[0murlretrieve\u001b[0m\u001b[1;33m(\u001b[0m\u001b[1;34m\"https://i.kym-cdn.com/photos/images/facebook/000/747/556/27a.jpg\"\u001b[0m\u001b[1;33m,\u001b[0m \u001b[1;34m\"gfg.png\"\u001b[0m\u001b[1;33m)\u001b[0m\u001b[1;33m\u001b[0m\u001b[1;33m\u001b[0m\u001b[0m\n\u001b[0m\u001b[0;32m     23\u001b[0m                 \u001b[0mimg\u001b[0m \u001b[1;33m=\u001b[0m \u001b[0mImage\u001b[0m\u001b[1;33m.\u001b[0m\u001b[0mopen\u001b[0m\u001b[1;33m(\u001b[0m\u001b[1;34m\"gfg.png\"\u001b[0m\u001b[1;33m)\u001b[0m\u001b[1;33m\u001b[0m\u001b[1;33m\u001b[0m\u001b[0m\n\u001b[0;32m     24\u001b[0m                 \u001b[0mimg\u001b[0m\u001b[1;33m.\u001b[0m\u001b[0mshow\u001b[0m\u001b[1;33m(\u001b[0m\u001b[1;33m)\u001b[0m\u001b[1;33m\u001b[0m\u001b[1;33m\u001b[0m\u001b[0m\n",
      "\u001b[1;31mNameError\u001b[0m: name 'urllib' is not defined"
     ]
    }
   ],
   "source": [
    "chequeator(submission)"
   ]
  },
  {
   "source": [],
   "cell_type": "markdown",
   "metadata": {}
  }
 ]
}