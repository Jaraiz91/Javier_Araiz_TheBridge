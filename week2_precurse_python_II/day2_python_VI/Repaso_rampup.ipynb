{
 "cells": [
  {
   "cell_type": "markdown",
   "metadata": {},
   "source": [
    "## 🐍 Ramp-up\n",
    "\n",
    "Note: The bold words are instructions for you to know how to solve the exercises below that word. For example, if it says **for loop** you should use at least a for loop in order to solve the exercise. "
   ]
  },
  {
   "cell_type": "markdown",
   "metadata": {},
   "source": [
    "#### Collections\n",
    "1. Create a tuple as follows (10,2,27,8)\n",
    "2. Get the lenght of the tuple\n",
    "3. Which type is it? And which type are the elements the tuple contains?\n",
    "4. Create a new tuple with any other 4 strings and concatenate all of them with the tuple you created before by position, creating a list called `words`.\n",
    "5. Make a list with the same elements in question 1. Find the element 27 and make it 37.\n",
    "6. Remove the number 8 from the list.\n",
    "7. Turn the list you made before into a set.\n",
    "8. Check if the element \"3\" is in that set.\n",
    "9. Sort the list you made in exercise 4 in descending order.\n",
    "10. Turn the list `words` into a dictionary. Split every string taking the number in the tuple (10,2,27,8) as the values and the rest as the keys.\n",
    "11. Sum up the values of the new dictionary.\n",
    "12. Sort the values of the dictionary in descending order and the keys in ascending order, then make a list of tuples with every couple of keys and values by position."
   ]
  },
  {
   "cell_type": "code",
   "execution_count": 15,
   "metadata": {},
   "outputs": [
    {
     "output_type": "stream",
     "name": "stdout",
     "text": [
      "4\n<class 'tuple'>\n<class 'int'>\n[10, 2, 27, 8, 'hola', 'como', 'estas', '?']\n[10, 2, 37, 8]\n[10, 2, 37]\nFalse\nFalse\nFalse\n['?', 'estas', 'como', 'hola', 8, 27, 2, 10]\n47\n"
     ]
    }
   ],
   "source": [
    "tup = (10, 2, 27, 8)\n",
    "print(len(tup))\n",
    "print(type(tup))\n",
    "for x in tup:\n",
    "    print(type(x))\n",
    "    break\n",
    "tup2 = (\"hola\", \"como\", \"estas\",\"?\")\n",
    "tup = list(tup)\n",
    "tup2=list(tup2)\n",
    "words = tup + tup2\n",
    "print(words)\n",
    "list1 = [10, 2, 27, 8]\n",
    "list1[2] = 37\n",
    "print(list1)\n",
    "del list1[-1]\n",
    "print(list1)\n",
    "list1 = set(list1)\n",
    "for x in list1:\n",
    "    if x == \"3\":\n",
    "        print(True)\n",
    "        break\n",
    "    else:\n",
    "        print(False)\n",
    "words.reverse()\n",
    "print(words)\n",
    "words = {\"?\": 8, \"estas\": 27, \"como\" : 2, \"hola\" : 10}\n",
    "sum = 0\n",
    "for key, value in words.items():\n",
    "    sum = sum + value\n",
    "print(sum)\n",
    "\n",
    "\n",
    "\n",
    "    \n",
    "    \n",
    "        \n"
   ]
  },
  {
   "cell_type": "markdown",
   "metadata": {},
   "source": [
    "#### Dictionaries\n",
    "\n",
    "1. Make a dictionary containing three major rivers and the country each river runs through. One key-value pair might be 'nile': 'egypt'.\n",
    "\n",
    "    - Use a loop to print a sentence about each river, such as The Nile runs through Egypt.\n",
    "    - Use a loop to print the name of each river included in the dictionary.\n",
    "    - Use a loop to print the name of each country included in the dictionary."
   ]
  },
  {
   "cell_type": "code",
   "execution_count": 18,
   "metadata": {},
   "outputs": [
    {
     "output_type": "stream",
     "name": "stdout",
     "text": [
      "nile river runs throught egypt\namazonas river runs throught brazil\nebro river runs throught spain\nnile\namazonas\nebro\negypt\nbrazil\nspain\n"
     ]
    }
   ],
   "source": [
    "rivers = {\"nile\": \"egypt\", \"amazonas\": \"brazil\", \"ebro\": \"spain\"}\n",
    "for key, value in rivers.items():\n",
    "    print(f\"{key} river runs throught {value}\")\n",
    "for x in rivers.keys():\n",
    "    print(x)\n",
    "for y in rivers.values():\n",
    "    print(y)"
   ]
  },
  {
   "cell_type": "markdown",
   "metadata": {},
   "source": [
    "2. Use the provided dictionary that shows some coders and their favoites languages.\n",
    "```Python\n",
    "favorite_languages = {\n",
    "    'jen': 'python',\n",
    "    'sarah': 'c',\n",
    "    'edward': 'ruby',\n",
    "    'phil': 'python',\n",
    "    }\n",
    "```\n",
    "\n",
    "    - Make a list of people who should take the favorite languages poll. Include some names that are already in the dictionary and some that are not.\n",
    "    - Loop through the list of people who should take the poll. If they have already taken the poll, print a message thanking them for responding. If they have not yet taken the poll, print a message inviting them to take the poll."
   ]
  },
  {
   "cell_type": "code",
   "execution_count": 27,
   "metadata": {},
   "outputs": [
    {
     "output_type": "stream",
     "name": "stdout",
     "text": [
      "\nThanks jen for responding\n\nPlease take the survey isabel\n\nPlease take the survey Pablo\n\nThanks edward for responding\n\nPlease take the survey javier\n"
     ]
    }
   ],
   "source": [
    "favorite_languages = {\n",
    "    'jen': 'python',\n",
    "    'sarah': 'c',\n",
    "    'edward': 'ruby',\n",
    "    'phil': 'python',\n",
    "    }\n",
    "poll_people = [\"jen\", \"isabel\", \"Pablo\", \"edward\", \"javier\"]\n",
    "polled_people = list(favorite_languages.keys())\n",
    "for people in poll_people:\n",
    "    if people in polled_people:\n",
    "        print(f\"\\nThanks {people} for responding\")\n",
    "    else:\n",
    "        print(f\"\\nPlease take the survey {people}\")\n"
   ]
  },
  {
   "cell_type": "markdown",
   "metadata": {},
   "source": [
    "3. Make a dictionary called cities. Use the names of three cities as keys in your dictionary. Create a dictionary of information about each city and include the country that the city is in, its approximate population, and one fact about that city. The keys for each city’s dictionary should be something like country, population, and fact. Print the name of each city and all of the information you have stored about it.\n",
    "\n",
    "```python\n",
    "cities = {\"city1\":{\"country\": \"bla\"}}\n",
    "```\n",
    "\n",
    "\n"
   ]
  },
  {
   "cell_type": "code",
   "execution_count": 68,
   "metadata": {},
   "outputs": [
    {
     "output_type": "stream",
     "name": "stdout",
     "text": [
      "\n madrid\nspain\n3 million\nlocated in the center of Spain\n\n london\nengland\n9 million\nhas 170 museums\n\n paris\nfrance\n2 mn\nIt is known as the city of love\n"
     ]
    }
   ],
   "source": [
    "cities = {\"madrid\": {\"country\":\"spain\", \"population\":\"3 million\", \"fact\": \"located in the center of Spain\"}, \"london\": {\"country\":\"england\", \"population\": \"9 million\", \"fact\": \"has 170 museums\"}, \"paris\":{\"country\": \"france\", \"population\": \"2 mn\", \"fact\": \"It is known as the city of love\"}}\n",
    "list_cities = list(cities.keys())\n",
    "for city in list_cities:\n",
    "    print(\"\\n\", city)\n",
    "    for values in cities[city].values():\n",
    "        print(values)"
   ]
  },
  {
   "cell_type": "markdown",
   "metadata": {},
   "source": [
    "**for loop**\n",
    "1. This is a fruit list, ['banana', 'orange', 'mango', 'lemon'] reverse the order using a for loop.\n"
   ]
  },
  {
   "cell_type": "code",
   "execution_count": 47,
   "metadata": {},
   "outputs": [
    {
     "output_type": "stream",
     "name": "stdout",
     "text": [
      "['lemon', 'mango', 'orange', 'banana']\n"
     ]
    }
   ],
   "source": [
    "fruit_list = [\"banana\", \"orange\", \"mango\", \"lemon\"]\n",
    "reversed_list = []\n",
    "for fruits in fruit_list[::-1]:\n",
    "  reversed_list.append(fruits)\n",
    "print(reversed_list)\n"
   ]
  },
  {
   "cell_type": "markdown",
   "metadata": {},
   "source": [
    "2. Write a Python program to create the multiplication table (from 1 to 10) of a number.\n",
    "```python\n",
    "Input a number: 5                                                                                             \n",
    "5 x 1 = 5                                                                                                     \n",
    "5 x 2 = 10                                                                                                    \n",
    "5 x 3 = 15                                                                                                    \n",
    "5 x 4 = 20                                                                                                    \n",
    "5 x 5 = 25                                                                                                    \n",
    "5 x 6 = 30                                                                                                    \n",
    "5 x 7 = 35                                                                                                    \n",
    "5 x 8 = 40                                                                                                    \n",
    "5 x 9 = 45                                                                                                    \n",
    "5 x 10 = 50\n",
    "```"
   ]
  },
  {
   "cell_type": "code",
   "execution_count": 48,
   "metadata": {},
   "outputs": [
    {
     "output_type": "stream",
     "name": "stdout",
     "text": [
      "23\n46\n69\n92\n115\n138\n161\n184\n207\n230\n"
     ]
    }
   ],
   "source": [
    "def multiplication_table(number):\n",
    "    table_list = [1, 2, 3, 4, 5, 6, 7, 8, 9, 10]\n",
    "    for x in table_list:\n",
    "        print(x * number)\n",
    "\n",
    "multiplication_table(23)\n"
   ]
  },
  {
   "cell_type": "markdown",
   "metadata": {},
   "source": [
    "3. Write a Python program which iterates the integers from 1 to 50. For multiples of three print \"Fizz\" instead of the number and for the multiples of five print \"Buzz\". For numbers which are multiples of both three and five print \"FizzBuzz\".\n",
    "```python\n",
    "Sample Output :\n",
    "fizzbuzz\n",
    "1\n",
    "2\n",
    "fizz\n",
    "4\n",
    "buzz\n",
    "```"
   ]
  },
  {
   "cell_type": "code",
   "execution_count": 3,
   "metadata": {},
   "outputs": [
    {
     "output_type": "stream",
     "name": "stdout",
     "text": [
      "FizzBuzz\n1\n2\nFizz\n4\nBuzz\nFizz\n7\n8\nFizz\nBuzz\n11\nFizz\n13\n14\nFizzBuzz\n16\n17\nFizz\n19\nBuzz\nFizz\n22\n23\nFizz\nBuzz\n26\nFizz\n28\n29\nFizzBuzz\n31\n32\nFizz\n34\nBuzz\nFizz\n37\n38\nFizz\nBuzz\n41\nFizz\n43\n44\nFizzBuzz\n46\n47\nFizz\n49\nBuzz\n"
     ]
    }
   ],
   "source": [
    "for numbers in range(51):\n",
    "    if numbers % 3 == 0 and numbers % 5 == 0:\n",
    "        print(\"FizzBuzz\")\n",
    "    elif numbers % 3 == 0:\n",
    "        print(\"Fizz\")\n",
    "    elif numbers % 5 == 0:\n",
    "        print(\"Buzz\")\n",
    "    else:\n",
    "        print(numbers)"
   ]
  },
  {
   "cell_type": "markdown",
   "metadata": {},
   "source": [
    "**functions**\n",
    "\n",
    "1. Write a Python function to check whether a string is a pangram or not. \n",
    "\n",
    "Note : Pangrams are words or sentences containing every letter of the alphabet at least once.\n",
    "    \n",
    "For example : `\"The quick brown fox jumps over the lazy dog\"`"
   ]
  },
  {
   "cell_type": "code",
   "execution_count": 14,
   "metadata": {},
   "outputs": [
    {
     "output_type": "execute_result",
     "data": {
      "text/plain": [
       "'This is not a pangram'"
      ]
     },
     "metadata": {},
     "execution_count": 14
    }
   ],
   "source": [
    "def check_pangram(phrase):\n",
    "    abc = [\"a\",\"b\",\"c\",\"d\",\"e\",\"f\",\"g\",\"h\",\"i\",\"j\",\"k\",\"l\",\"m\",\"n\",\"o\",\"p\",\"q\",\"r\",\"s\",\"t\",\"u\",\"v\",\"x\",\"y\",\"z\"]\n",
    "    abc2 = []\n",
    "    for letters in abc:\n",
    "        if letters in phrase and letters not in abc2:\n",
    "            abc2.append(letters)\n",
    "    if len(abc) == len(abc2):\n",
    "        return \"This is a pangram\"\n",
    "    else:\n",
    "        return \"This is not a pangram\"\n",
    "\n",
    "       \n",
    "check_pangram(\"Is this a pangram?\")\n"
   ]
  },
  {
   "cell_type": "markdown",
   "metadata": {},
   "source": [
    "2. Write a Python program to count the number of even and odd numbers from a series of numbers. \n",
    "\n",
    "```python\n",
    "Sample numbers: numbers = (1, 2, 3, 4, 5, 6, 7, 8, 9) \n",
    "    \n",
    "Expected Output:\n",
    "Number of even numbers: 5\n",
    "Number of odd numbers: 4\n",
    "```"
   ]
  },
  {
   "cell_type": "code",
   "execution_count": 16,
   "metadata": {},
   "outputs": [
    {
     "output_type": "stream",
     "name": "stdout",
     "text": [
      "Number of even numbers: 5\nNumber of odd numbers: 4\n"
     ]
    }
   ],
   "source": [
    "def count_even_and_odd(series):\n",
    "    even =  []\n",
    "    odd = []\n",
    "    for x in series:\n",
    "        if x % 2 == 0:\n",
    "            even.append(x)\n",
    "        elif x % 2 != 0:\n",
    "            odd.append(x)\n",
    "    print(\"Number of even numbers:\", len(even))\n",
    "    print(\"Number of odd numbers:\", len(odd))\n",
    "\n",
    "seri = [1, 2, 3, 6, 7, 8, 10, 20, 23]\n",
    "count_even_and_odd(seri)\n",
    "    "
   ]
  },
  {
   "cell_type": "markdown",
   "metadata": {},
   "source": [
    "#### functions & while loop\n",
    "1. Write a program which keeps asking for numbers till the user writes 9999. In that case, the program returns the concatenation of every number as a string.\n"
   ]
  },
  {
   "cell_type": "code",
   "execution_count": 34,
   "metadata": {},
   "outputs": [
    {
     "output_type": "stream",
     "name": "stdout",
     "text": [
      "347689\n"
     ]
    }
   ],
   "source": [
    "input_numbers = \"\"\n",
    "x = input(\"choose a number\")\n",
    "input_numbers = input_numbers + x\n",
    "while x != \"9999\":\n",
    "    x = input(\"choose a number\")\n",
    "    if x != \"9999\":\n",
    "        input_numbers = input_numbers + x\n",
    "\n",
    "print(input_numbers)\n"
   ]
  },
  {
   "cell_type": "markdown",
   "metadata": {},
   "source": [
    "2. Writes a function that asks a user for a pin code till they get it right... If they give a wrong answer three times the function returns \"Your bank account has been blocked\", otherwise, returns: \"You got it right! You get full access to your money\".\n"
   ]
  },
  {
   "cell_type": "code",
   "execution_count": 35,
   "metadata": {},
   "outputs": [
    {
     "output_type": "stream",
     "name": "stdout",
     "text": [
      "You got it right\n"
     ]
    }
   ],
   "source": [
    "pin_code = 9927\n",
    "contador = 3\n",
    "while contador > 0:\n",
    "    user_pin = input(\"Enter a pin:\")\n",
    "    if int(user_pin) == pin_code:\n",
    "        print(\"You got it right\")\n",
    "        break\n",
    "    contador -= 1\n",
    "    if contador == 0:\n",
    "        print(\"Your bank account has been blocked\")\n"
   ]
  },
  {
   "cell_type": "markdown",
   "metadata": {},
   "source": [
    "#### functions & for loop\n",
    "\n",
    "1. Write a function that takes in a person's name, and prints out a greeting.\n",
    "    - The greeting must be at least three lines, and the person's name must be in each line.\n",
    "    - Use your function to greet at least three different people.\n",
    "    - Store your three people in a list, and call your function from a for loop."
   ]
  },
  {
   "cell_type": "code",
   "execution_count": 38,
   "metadata": {},
   "outputs": [
    {
     "output_type": "stream",
     "name": "stdout",
     "text": [
      "Hello Javier\nHow are you today Javier?\nLet´s have a coffee Javier\nHello Isabel\nHow are you today Isabel?\nLet´s have a coffee Isabel\nHello Javier\nHow are you today Javier?\nLet´s have a coffee Javier\nHello Julia\nHow are you today Julia?\nLet´s have a coffee Julia\n"
     ]
    }
   ],
   "source": [
    "names_people = [\"Isabel\", \"Javier\", \"Julia\"]\n",
    "def greetings(name):\n",
    "    print(f\"Hello {name}\")\n",
    "    print(f\"How are you today {name}?\")\n",
    "    print(f\"Let´s have a coffee {name}\")\n",
    "greetings(\"Javier\")\n",
    "for person in names_people:\n",
    "    greetings(person)\n"
   ]
  },
  {
   "cell_type": "markdown",
   "metadata": {},
   "source": [
    "2. Make a list that includes 3 or 4 games that you like to play and print a statement that tells the user what games you like.\n",
    "    - Write a function that asks the user to tell you a game they like, and store the game in a variable such as `new_game`. \n",
    "    - If the user mentions one game you like to play, send a message asking to play together.\n",
    "    - Otherwise ask for another game name. If the user tries your program 3 times and doesn't give a game name you like, then ask them to find another friend."
   ]
  },
  {
   "cell_type": "code",
   "execution_count": 41,
   "metadata": {},
   "outputs": [
    {
     "output_type": "stream",
     "name": "stdout",
     "text": [
      "find another friend to play with\n"
     ]
    }
   ],
   "source": [
    "games = [\"call of duty\", \"poker\", \"trivial\"]\n",
    "def ask_game():\n",
    "    contador = 3\n",
    "    while contador > 0:\n",
    "        new_game = input(\"what game do you like?\")\n",
    "        contador -=1\n",
    "        if new_game in games:\n",
    "            print(f\"I also like to {new_game}, let´s play together\")\n",
    "            break\n",
    "    if contador == 0:\n",
    "        print(\"find another friend to play with\")\n",
    "ask_game()\n"
   ]
  },
  {
   "cell_type": "markdown",
   "metadata": {},
   "source": [
    "#### write a mini-program\n",
    "**Three is a Crowd**\n",
    "- Make a list of names that includes at least four people.\n",
    "- Write an if test that prints a message about the room being crowded, if there are more than three people in your list.\n",
    "- Modify your list so that there are only two people in it. Use one of the methods for removing people from the list, don't just redefine the list.\n",
    "- Run your if test again. There should be no output this time, because there are less than three people in the list.\n",
    "- Store your if test in a function called something like `crowd_test`.\n",
    "\n"
   ]
  },
  {
   "cell_type": "code",
   "execution_count": 49,
   "metadata": {},
   "outputs": [
    {
     "output_type": "stream",
     "name": "stdout",
     "text": [
      "The room is crowded\n['alejandro', 'clara']\nnow the room is clear\n"
     ]
    }
   ],
   "source": [
    "list_of_people = [\"alejandro\", \"alvaro\", \"cristina\", \"clara\"]\n",
    "if len(list_of_people) > 3:\n",
    "    print(\"The room is crowded\")\n",
    "del list_of_people[1:-1]\n",
    "print(list_of_people)\n",
    "def crowd_test():\n",
    "    if len(list_of_people) > 3:\n",
    "        print(\"The room is crowded\")\n",
    "    else:\n",
    "        print(\"now the room is clear\")\n",
    "crowd_test()"
   ]
  },
  {
   "cell_type": "markdown",
   "metadata": {},
   "source": [
    "**Three is a Crowd - Part 2**\n",
    "- Save your program from *Three is a Crowd* under a new name.\n",
    "- Add an `else` statement to your if tests. If the `else` statement is run, have it print a message that the room is not very crowded.\n"
   ]
  },
  {
   "cell_type": "code",
   "execution_count": 50,
   "metadata": {},
   "outputs": [
    {
     "output_type": "stream",
     "name": "stdout",
     "text": [
      "the room is not very crowded\n"
     ]
    }
   ],
   "source": [
    "def crowd_test2():\n",
    "    if len(list_of_people) > 3:\n",
    "        print(\"The room is crowded\")\n",
    "    else:\n",
    "        print(\"the room is not very crowded\")\n",
    "crowd_test2()"
   ]
  },
  {
   "cell_type": "markdown",
   "metadata": {},
   "source": [
    "\n",
    "**Six is a Mob**\n",
    "- Save your program from *Three is a Crowd - Part 2* under a new name.\n",
    "- Add some names to your list, so that there are at least six people in the list.\n",
    "- Modify your tests so that\n",
    "    - If there are more than 5 people, a message is printed about there being a mob in the room.\n",
    "    - If there are 3-5 people, a message is printed about the room being crowded.\n",
    "    - If there are 1 or 2 people, a message is printed about the room not being crowded.\n",
    "    - If there are no people in the room, a message is printed abou the room being empty."
   ]
  },
  {
   "cell_type": "code",
   "execution_count": 57,
   "metadata": {},
   "outputs": [
    {
     "output_type": "stream",
     "name": "stdout",
     "text": [
      "There is mob in the room\nThe room is being crowded\nthe room is not very crowded\nthe room is clear\n"
     ]
    }
   ],
   "source": [
    "list_of_people = [\"alejandro\", \"alvaro\", \"cristina\", \"clara\", \"carlos\", \"sofia\"]\n",
    "\n",
    "def crowd_test3():\n",
    "    if len(list_of_people) > 5:\n",
    "        print(\"There is mob in the room\")\n",
    "    elif 3 <= len(list_of_people) <= 5:\n",
    "        print(\"The room is being crowded\")\n",
    "    elif 0 < len(list_of_people) <= 2:\n",
    "        print(\"the room is not very crowded\")\n",
    "    else:\n",
    "        print(\"the room is clear\")\n",
    "crowd_test3()\n",
    "list_of_people.pop()\n",
    "crowd_test3()\n",
    "del list_of_people[:3]\n",
    "crowd_test3()\n",
    "del list_of_people[:]\n",
    "crowd_test3()"
   ]
  },
  {
   "cell_type": "code",
   "execution_count": 1,
   "metadata": {},
   "outputs": [
    {
     "output_type": "stream",
     "name": "stdout",
     "text": [
      "[1, 3, 5, 6, 0, 0, 0, 0, 0]\n"
     ]
    }
   ],
   "source": [
    "zeros = [0, 0, 0, 0,0]\n",
    "nums = [1, 3, 5,6]\n",
    "entero = nums + zeros\n",
    "print(entero)"
   ]
  }
 ],
 "metadata": {
  "kernelspec": {
   "name": "python389jvsc74a57bd0567ce215ee1f5ccb42045684f31605cd97b14e9878c0252db542d9e85d121b05",
   "display_name": "Python 3.8.9 64-bit"
  },
  "language_info": {
   "codemirror_mode": {
    "name": "ipython",
    "version": 3
   },
   "file_extension": ".py",
   "mimetype": "text/x-python",
   "name": "python",
   "nbconvert_exporter": "python",
   "pygments_lexer": "ipython3",
   "version": "3.8.9"
  },
  "metadata": {
   "interpreter": {
    "hash": "567ce215ee1f5ccb42045684f31605cd97b14e9878c0252db542d9e85d121b05"
   }
  }
 },
 "nbformat": 4,
 "nbformat_minor": 4
}