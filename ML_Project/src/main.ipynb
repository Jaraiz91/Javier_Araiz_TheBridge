{
 "cells": [
  {
   "cell_type": "code",
   "execution_count": 1,
   "metadata": {},
   "outputs": [],
   "source": [
    "import numpy as np\r\n",
    "import pandas as pd\r\n",
    "import os, sys  \r\n",
    "import matplotlib.pyplot as plt"
   ]
  },
  {
   "cell_type": "code",
   "execution_count": 2,
   "metadata": {},
   "outputs": [],
   "source": [
    "route = os.getcwd()\n",
    "new_route = os.path.dirname(route)\n",
    "sys.path.append(route)"
   ]
  },
  {
   "cell_type": "code",
   "execution_count": 3,
   "metadata": {},
   "outputs": [],
   "source": [
    "from utils.mining_data_tb import merge_csv\r\n",
    "from utils.mining_data_tb import save_merged_csv"
   ]
  },
  {
   "cell_type": "code",
   "execution_count": 4,
   "metadata": {},
   "outputs": [],
   "source": [
    "columns = ['Date', 'Time','Bar OPEN Bid Quote','Bar HIGH Bid Quote','Bar LOW Bid Quote','Bar CLOSE Bid Quote','Volume']\n",
    "base = '../data/DAT_MT_EURUSD_M1_20'\n",
    "test_path = r'C:\\\\Users\\\\jarai\\\\Desktop\\\\Python_work\\\\TheBridge\\\\Alumno\\\\Javier_Araiz_TheBridge\\\\ML_Project\\\\data'\n",
    "first_file = 'merged_file1'"
   ]
  },
  {
   "cell_type": "code",
   "execution_count": 5,
   "metadata": {},
   "outputs": [],
   "source": [
    "merge_csv(base, start_number= 15, range_number= (1, 5), column_name= columns, path= test_path, file_name= first_file )"
   ]
  },
  {
   "cell_type": "code",
   "execution_count": 6,
   "metadata": {},
   "outputs": [],
   "source": [
    "base2 = '../data/DAT_MT_EURUSD_M1_20210'\n",
    "second_file = 'merged_file2'"
   ]
  },
  {
   "cell_type": "code",
   "execution_count": 7,
   "metadata": {},
   "outputs": [],
   "source": [
    "merge_csv(base2, start_number= 0, range_number= (1, 5), column_name= columns, file_name= second_file, path= test_path )"
   ]
  },
  {
   "cell_type": "code",
   "execution_count": 8,
   "metadata": {},
   "outputs": [],
   "source": [
    "base3 ='../data/merged_file'\n",
    "final_name = 'all_joined_forex'"
   ]
  },
  {
   "cell_type": "code",
   "execution_count": 9,
   "metadata": {},
   "outputs": [],
   "source": [
    "csv_one = '../data/merged_file1.csv'\r\n",
    "csv_two = '../data/merged_file2.csv'\r\n",
    "name_of_final = 'all_together_forex'"
   ]
  },
  {
   "cell_type": "code",
   "execution_count": 10,
   "metadata": {},
   "outputs": [],
   "source": [
    "save_merged_csv(csv_one, csv_two,file_name= name_of_final, path= test_path)"
   ]
  },
  {
   "cell_type": "code",
   "execution_count": 13,
   "metadata": {},
   "outputs": [
    {
     "data": {
      "text/html": [
       "<div>\n",
       "<style scoped>\n",
       "    .dataframe tbody tr th:only-of-type {\n",
       "        vertical-align: middle;\n",
       "    }\n",
       "\n",
       "    .dataframe tbody tr th {\n",
       "        vertical-align: top;\n",
       "    }\n",
       "\n",
       "    .dataframe thead th {\n",
       "        text-align: right;\n",
       "    }\n",
       "</style>\n",
       "<table border=\"1\" class=\"dataframe\">\n",
       "  <thead>\n",
       "    <tr style=\"text-align: right;\">\n",
       "      <th></th>\n",
       "      <th>Date</th>\n",
       "      <th>Time</th>\n",
       "      <th>Bar OPEN Bid Quote</th>\n",
       "      <th>Bar HIGH Bid Quote</th>\n",
       "      <th>Bar LOW Bid Quote</th>\n",
       "      <th>Bar CLOSE Bid Quote</th>\n",
       "      <th>Volume</th>\n",
       "    </tr>\n",
       "  </thead>\n",
       "  <tbody>\n",
       "    <tr>\n",
       "      <th>0</th>\n",
       "      <td>2016.01.03</td>\n",
       "      <td>17:00</td>\n",
       "      <td>1.08701</td>\n",
       "      <td>1.08713</td>\n",
       "      <td>1.08701</td>\n",
       "      <td>1.08713</td>\n",
       "      <td>0</td>\n",
       "    </tr>\n",
       "    <tr>\n",
       "      <th>1</th>\n",
       "      <td>2016.01.03</td>\n",
       "      <td>17:01</td>\n",
       "      <td>1.08712</td>\n",
       "      <td>1.08712</td>\n",
       "      <td>1.08712</td>\n",
       "      <td>1.08712</td>\n",
       "      <td>0</td>\n",
       "    </tr>\n",
       "    <tr>\n",
       "      <th>2</th>\n",
       "      <td>2016.01.03</td>\n",
       "      <td>17:02</td>\n",
       "      <td>1.08708</td>\n",
       "      <td>1.08722</td>\n",
       "      <td>1.08708</td>\n",
       "      <td>1.08722</td>\n",
       "      <td>0</td>\n",
       "    </tr>\n",
       "    <tr>\n",
       "      <th>3</th>\n",
       "      <td>2016.01.03</td>\n",
       "      <td>17:03</td>\n",
       "      <td>1.08717</td>\n",
       "      <td>1.08723</td>\n",
       "      <td>1.08717</td>\n",
       "      <td>1.08723</td>\n",
       "      <td>0</td>\n",
       "    </tr>\n",
       "    <tr>\n",
       "      <th>4</th>\n",
       "      <td>2016.01.03</td>\n",
       "      <td>17:04</td>\n",
       "      <td>1.08718</td>\n",
       "      <td>1.08718</td>\n",
       "      <td>1.08711</td>\n",
       "      <td>1.08711</td>\n",
       "      <td>0</td>\n",
       "    </tr>\n",
       "    <tr>\n",
       "      <th>...</th>\n",
       "      <td>...</td>\n",
       "      <td>...</td>\n",
       "      <td>...</td>\n",
       "      <td>...</td>\n",
       "      <td>...</td>\n",
       "      <td>...</td>\n",
       "      <td>...</td>\n",
       "    </tr>\n",
       "    <tr>\n",
       "      <th>2013228</th>\n",
       "      <td>2021.05.31</td>\n",
       "      <td>19:53</td>\n",
       "      <td>1.22332</td>\n",
       "      <td>1.22332</td>\n",
       "      <td>1.22329</td>\n",
       "      <td>1.22330</td>\n",
       "      <td>0</td>\n",
       "    </tr>\n",
       "    <tr>\n",
       "      <th>2013229</th>\n",
       "      <td>2021.05.31</td>\n",
       "      <td>19:54</td>\n",
       "      <td>1.22330</td>\n",
       "      <td>1.22330</td>\n",
       "      <td>1.22329</td>\n",
       "      <td>1.22329</td>\n",
       "      <td>0</td>\n",
       "    </tr>\n",
       "    <tr>\n",
       "      <th>2013230</th>\n",
       "      <td>2021.05.31</td>\n",
       "      <td>19:55</td>\n",
       "      <td>1.22327</td>\n",
       "      <td>1.22331</td>\n",
       "      <td>1.22326</td>\n",
       "      <td>1.22330</td>\n",
       "      <td>0</td>\n",
       "    </tr>\n",
       "    <tr>\n",
       "      <th>2013231</th>\n",
       "      <td>2021.05.31</td>\n",
       "      <td>19:57</td>\n",
       "      <td>1.22329</td>\n",
       "      <td>1.22329</td>\n",
       "      <td>1.22329</td>\n",
       "      <td>1.22329</td>\n",
       "      <td>0</td>\n",
       "    </tr>\n",
       "    <tr>\n",
       "      <th>2013232</th>\n",
       "      <td>2021.05.31</td>\n",
       "      <td>19:58</td>\n",
       "      <td>1.22328</td>\n",
       "      <td>1.22328</td>\n",
       "      <td>1.22325</td>\n",
       "      <td>1.22326</td>\n",
       "      <td>0</td>\n",
       "    </tr>\n",
       "  </tbody>\n",
       "</table>\n",
       "<p>2013233 rows × 7 columns</p>\n",
       "</div>"
      ],
      "text/plain": [
       "               Date   Time  Bar OPEN Bid Quote  Bar HIGH Bid Quote  \\\n",
       "0        2016.01.03  17:00             1.08701             1.08713   \n",
       "1        2016.01.03  17:01             1.08712             1.08712   \n",
       "2        2016.01.03  17:02             1.08708             1.08722   \n",
       "3        2016.01.03  17:03             1.08717             1.08723   \n",
       "4        2016.01.03  17:04             1.08718             1.08718   \n",
       "...             ...    ...                 ...                 ...   \n",
       "2013228  2021.05.31  19:53             1.22332             1.22332   \n",
       "2013229  2021.05.31  19:54             1.22330             1.22330   \n",
       "2013230  2021.05.31  19:55             1.22327             1.22331   \n",
       "2013231  2021.05.31  19:57             1.22329             1.22329   \n",
       "2013232  2021.05.31  19:58             1.22328             1.22328   \n",
       "\n",
       "         Bar LOW Bid Quote  Bar CLOSE Bid Quote  Volume  \n",
       "0                  1.08701              1.08713       0  \n",
       "1                  1.08712              1.08712       0  \n",
       "2                  1.08708              1.08722       0  \n",
       "3                  1.08717              1.08723       0  \n",
       "4                  1.08711              1.08711       0  \n",
       "...                    ...                  ...     ...  \n",
       "2013228            1.22329              1.22330       0  \n",
       "2013229            1.22329              1.22329       0  \n",
       "2013230            1.22326              1.22330       0  \n",
       "2013231            1.22329              1.22329       0  \n",
       "2013232            1.22325              1.22326       0  \n",
       "\n",
       "[2013233 rows x 7 columns]"
      ]
     },
     "execution_count": 13,
     "metadata": {},
     "output_type": "execute_result"
    }
   ],
   "source": [
    "df = pd.read_csv('../data/all_together_forex.csv')\r\n",
    "df"
   ]
  },
  {
   "cell_type": "code",
   "execution_count": 16,
   "metadata": {},
   "outputs": [
    {
     "data": {
      "text/plain": [
       "Date   Time   Bar OPEN Bid Quote  Bar HIGH Bid Quote  Bar LOW Bid Quote  Bar CLOSE Bid Quote  Volume\n",
       "False  False  False               False               False              False                False     2013233\n",
       "dtype: int64"
      ]
     },
     "execution_count": 16,
     "metadata": {},
     "output_type": "execute_result"
    }
   ],
   "source": [
    "df.isna().value_counts()"
   ]
  }
 ],
 "metadata": {
  "interpreter": {
   "hash": "e811f325e74d49824b5fcfc3c0f5c4bcd6461d80b4e4f70be476a8b343d99570"
  },
  "kernelspec": {
   "display_name": "Python 3.7.4 64-bit",
   "name": "python3"
  },
  "language_info": {
   "codemirror_mode": {
    "name": "ipython",
    "version": 3
   },
   "file_extension": ".py",
   "mimetype": "text/x-python",
   "name": "python",
   "nbconvert_exporter": "python",
   "pygments_lexer": "ipython3",
   "version": "3.7.4"
  },
  "orig_nbformat": 4
 },
 "nbformat": 4,
 "nbformat_minor": 2
}