{
 "metadata": {
  "language_info": {
   "codemirror_mode": {
    "name": "ipython",
    "version": 3
   },
   "file_extension": ".py",
   "mimetype": "text/x-python",
   "name": "python",
   "nbconvert_exporter": "python",
   "pygments_lexer": "ipython3",
   "version": "3.8.10"
  },
  "orig_nbformat": 2,
  "kernelspec": {
   "name": "python3810jvsc74a57bd0567ce215ee1f5ccb42045684f31605cd97b14e9878c0252db542d9e85d121b05",
   "display_name": "Python 3.8.10 64-bit"
  },
  "metadata": {
   "interpreter": {
    "hash": "567ce215ee1f5ccb42045684f31605cd97b14e9878c0252db542d9e85d121b05"
   }
  }
 },
 "nbformat": 4,
 "nbformat_minor": 2,
 "cells": [
  {
   "cell_type": "code",
   "execution_count": 20,
   "metadata": {},
   "outputs": [],
   "source": [
    "import os, sys\n",
    "ruta = os.getcwd()\n",
    "import tablero\n",
    "import barco"
   ]
  },
  {
   "cell_type": "code",
   "execution_count": 21,
   "metadata": {},
   "outputs": [],
   "source": [
    "player1 = input(\"Enter Player 1\")\n",
    "player1 = tablero.tablero()\n",
    "player2 = input(\"Enter Player 2\")\n",
    "player2 = tablero.tablero()"
   ]
  },
  {
   "cell_type": "code",
   "execution_count": 22,
   "metadata": {},
   "outputs": [
    {
     "output_type": "stream",
     "name": "stdout",
     "text": [
      "[['#', '#', '#', 'o', 'o', '#', '#', '#', '#', '#']]\n[['#', '#', '#', 'o', 'o', 'o', 'o', 'o', '#', '#']]\n[['#', '#', 'o', 'o', 'o', 'o', 'o', 'o', 'o', 'o']]\n[['#', '#', '#', 'o', 'o', 'o', 'o', 'o', 'o', 'o']]\n[['o', 'o', 'o', 'o', 'o', '#', '#', '#', '#', '#']]\n[['#', '#', '#', 'o', 'o', 'o', 'o', 'o', 'o', '#']]\n[['o', 'o', '#', 'o', 'o', 'o', 'o', 'o', 'o', '#']]\n[['o', 'o', '#', 'o', 'o', 'o', 'o', 'o', 'o', '#']]\n[['o', 'o', '#', 'o', 'o', 'o', 'o', 'o', 'o', '#']]\n[['#', '#', '#', 'o', 'o', 'o', 'o', 'o', 'o', '#']]\n"
     ]
    }
   ],
   "source": [
    "def colocar(jugador, coordenada):\n",
    "    renglon = []\n",
    "    orient = \"\"\n",
    "    casillas = []\n",
    "    inicio = []\n",
    "    fin = []\n",
    "    for i, val in enumerate(coordenada):\n",
    "        if val == \"v\" or val == \"h\":\n",
    "            renglon.append(coordenada[:i])\n",
    "            orient = val\n",
    "            casillas.append(coordenada[i+1:])\n",
    "    casillas2 = casillas[0]\n",
    "    for i,x in enumerate(casillas2):\n",
    "        if x == \":\":\n",
    "            inicio.append(casillas2[:i])\n",
    "            fin.append(casillas2[i+1:])\n",
    "    renglon = int(\"\".join(renglon))\n",
    "    casillas = \"\".join(casillas)\n",
    "    inicio = int(\"\".join(inicio)) \n",
    "    fin = int(\"\".join(fin)) \n",
    "    if orient == \"v\":\n",
    "        contador = inicio - 1\n",
    "        while contador < fin :\n",
    "            if jugador.defensa[contador][0][renglon -1] == \"#\":\n",
    "                return False\n",
    "            else:\n",
    "                jugador.defensa[contador][0][renglon -1] = \"#\"\n",
    "                contador += 1\n",
    "    elif orient == \"h\":\n",
    "        contador = inicio - 1\n",
    "        while contador < fin:\n",
    "            jugador.defensa[renglon - 1][0][contador] = \"#\"\n",
    "            contador += 1\n",
    "\n",
    "\n",
    "\n",
    "\n",
    "\n",
    "\n",
    "\n",
    "\n",
    "\n",
    "\n",
    "\n",
    "\n",
    "    print(renglon)\n",
    "    print(orient)\n",
    "    print(casillas)\n",
    "    print(inicio)\n",
    "    print(fin)\n",
    "colocar(player1 ,\"3v6:10\")\n",
    "player1.mostrar_defensa()"
   ]
  },
  {
   "cell_type": "code",
   "execution_count": 23,
   "metadata": {},
   "outputs": [],
   "source": [
    "def preguntar_coordenadas(jugador):\n",
    "    contador2 = 4\n",
    "    while contador2 > 0:\n",
    "        pos = input(\"instert coordinates for 2x1:\")\n",
    "        colocar(jugador, pos)\n",
    "        if colocar(jugador, pos) == False:\n",
    "            continue\n",
    "        contador2 -= 1\n",
    "        jugador.mostrar_defensa()\n",
    "        if contador2 == 0:\n",
    "            break\n",
    "    contador3 = 3\n",
    "    while contador3 > 0:\n",
    "        pos = input(\"instert coordinates for 3x1:\")\n",
    "        colocar(jugador, pos)\n",
    "        contador3 -= 1\n",
    "        jugador.mostrar_defensa()\n",
    "        if contador3 == 0:\n",
    "            break\n",
    "    contador4 = 2\n",
    "    while contador4 > 0:\n",
    "        pos = input(\"instert coordinates for 4x1:\")\n",
    "        colocar(jugador, pos)\n",
    "        contador4 -= 1\n",
    "        jugador.mostrar_defensa()\n",
    "        if contador4 == 0:\n",
    "            break\n",
    "    contador5 = 1\n",
    "    while contador5 > 0:\n",
    "        pos = input(\"instert coordinates for 5x1:\")\n",
    "        colocar(jugador, pos)\n",
    "        contador5 -= 1\n",
    "        jugador.mostrar_defensa()\n",
    "        if contador5 == 0:\n",
    "            break"
   ]
  },
  {
   "cell_type": "code",
   "execution_count": 24,
   "metadata": {},
   "outputs": [
    {
     "output_type": "stream",
     "name": "stdout",
     "text": [
      "10\nv\n3:4\n3\n4\n"
     ]
    },
    {
     "output_type": "error",
     "ename": "IndexError",
     "evalue": "list index out of range",
     "traceback": [
      "\u001b[1;31m---------------------------------------------------------------------------\u001b[0m",
      "\u001b[1;31mIndexError\u001b[0m                                Traceback (most recent call last)",
      "\u001b[1;32m<ipython-input-24-906ec26ad840>\u001b[0m in \u001b[0;36m<module>\u001b[1;34m\u001b[0m\n\u001b[1;32m----> 1\u001b[1;33m \u001b[0mpreguntar_coordenadas\u001b[0m\u001b[1;33m(\u001b[0m\u001b[0mjugador\u001b[0m\u001b[1;33m=\u001b[0m\u001b[0mplayer1\u001b[0m\u001b[1;33m)\u001b[0m\u001b[1;33m\u001b[0m\u001b[1;33m\u001b[0m\u001b[0m\n\u001b[0m",
      "\u001b[1;32m<ipython-input-23-c644fa555a8b>\u001b[0m in \u001b[0;36mpreguntar_coordenadas\u001b[1;34m(jugador)\u001b[0m\n\u001b[0;32m      3\u001b[0m     \u001b[1;32mwhile\u001b[0m \u001b[0mcontador2\u001b[0m \u001b[1;33m>\u001b[0m \u001b[1;36m0\u001b[0m\u001b[1;33m:\u001b[0m\u001b[1;33m\u001b[0m\u001b[1;33m\u001b[0m\u001b[0m\n\u001b[0;32m      4\u001b[0m         \u001b[0mpos\u001b[0m \u001b[1;33m=\u001b[0m \u001b[0minput\u001b[0m\u001b[1;33m(\u001b[0m\u001b[1;34m\"instert coordinates for 2x1:\"\u001b[0m\u001b[1;33m)\u001b[0m\u001b[1;33m\u001b[0m\u001b[1;33m\u001b[0m\u001b[0m\n\u001b[1;32m----> 5\u001b[1;33m         \u001b[0mcolocar\u001b[0m\u001b[1;33m(\u001b[0m\u001b[0mjugador\u001b[0m\u001b[1;33m,\u001b[0m \u001b[0mpos\u001b[0m\u001b[1;33m)\u001b[0m\u001b[1;33m\u001b[0m\u001b[1;33m\u001b[0m\u001b[0m\n\u001b[0m\u001b[0;32m      6\u001b[0m         \u001b[1;32mif\u001b[0m \u001b[0mcolocar\u001b[0m\u001b[1;33m(\u001b[0m\u001b[0mjugador\u001b[0m\u001b[1;33m,\u001b[0m \u001b[0mpos\u001b[0m\u001b[1;33m)\u001b[0m \u001b[1;33m==\u001b[0m \u001b[1;32mFalse\u001b[0m\u001b[1;33m:\u001b[0m\u001b[1;33m\u001b[0m\u001b[1;33m\u001b[0m\u001b[0m\n\u001b[0;32m      7\u001b[0m             \u001b[1;32mcontinue\u001b[0m\u001b[1;33m\u001b[0m\u001b[1;33m\u001b[0m\u001b[0m\n",
      "\u001b[1;32m<ipython-input-22-e4f42cf3716c>\u001b[0m in \u001b[0;36mcolocar\u001b[1;34m(jugador, coordenada)\u001b[0m\n\u001b[0;32m     10\u001b[0m             \u001b[0morient\u001b[0m \u001b[1;33m=\u001b[0m \u001b[0mval\u001b[0m\u001b[1;33m\u001b[0m\u001b[1;33m\u001b[0m\u001b[0m\n\u001b[0;32m     11\u001b[0m             \u001b[0mcasillas\u001b[0m\u001b[1;33m.\u001b[0m\u001b[0mappend\u001b[0m\u001b[1;33m(\u001b[0m\u001b[0mcoordenada\u001b[0m\u001b[1;33m[\u001b[0m\u001b[0mi\u001b[0m\u001b[1;33m+\u001b[0m\u001b[1;36m1\u001b[0m\u001b[1;33m:\u001b[0m\u001b[1;33m]\u001b[0m\u001b[1;33m)\u001b[0m\u001b[1;33m\u001b[0m\u001b[1;33m\u001b[0m\u001b[0m\n\u001b[1;32m---> 12\u001b[1;33m     \u001b[0mcasillas2\u001b[0m \u001b[1;33m=\u001b[0m \u001b[0mcasillas\u001b[0m\u001b[1;33m[\u001b[0m\u001b[1;36m0\u001b[0m\u001b[1;33m]\u001b[0m\u001b[1;33m\u001b[0m\u001b[1;33m\u001b[0m\u001b[0m\n\u001b[0m\u001b[0;32m     13\u001b[0m     \u001b[1;32mfor\u001b[0m \u001b[0mi\u001b[0m\u001b[1;33m,\u001b[0m\u001b[0mx\u001b[0m \u001b[1;32min\u001b[0m \u001b[0menumerate\u001b[0m\u001b[1;33m(\u001b[0m\u001b[0mcasillas2\u001b[0m\u001b[1;33m)\u001b[0m\u001b[1;33m:\u001b[0m\u001b[1;33m\u001b[0m\u001b[1;33m\u001b[0m\u001b[0m\n\u001b[0;32m     14\u001b[0m         \u001b[1;32mif\u001b[0m \u001b[0mx\u001b[0m \u001b[1;33m==\u001b[0m \u001b[1;34m\":\"\u001b[0m\u001b[1;33m:\u001b[0m\u001b[1;33m\u001b[0m\u001b[1;33m\u001b[0m\u001b[0m\n",
      "\u001b[1;31mIndexError\u001b[0m: list index out of range"
     ]
    }
   ],
   "source": [
    "preguntar_coordenadas(jugador=player1)"
   ]
  },
  {
   "cell_type": "code",
   "execution_count": 31,
   "metadata": {},
   "outputs": [
    {
     "output_type": "stream",
     "name": "stdout",
     "text": [
      "{'10v': [[10, 6], [10, 7], [10, 8], [10, 9]]}\n"
     ]
    }
   ],
   "source": [
    "renglon = \"10\"\n",
    "orient = \"v\"\n",
    "inicio = 6\n",
    "fin = 9\n",
    "flota = {}\n",
    "if orient == \"v\":\n",
    "    flota[renglon + orient] = [[int(renglon), x] for x in range(inicio, fin + 1)]\n",
    "else:\n",
    "    flota[renglon + orient] = [[x, int(renglon)] for x in range(inicio, fin + 1)] \n",
    "print(flota)"
   ]
  },
  {
   "cell_type": "code",
   "execution_count": null,
   "metadata": {},
   "outputs": [],
   "source": []
  }
 ]
}