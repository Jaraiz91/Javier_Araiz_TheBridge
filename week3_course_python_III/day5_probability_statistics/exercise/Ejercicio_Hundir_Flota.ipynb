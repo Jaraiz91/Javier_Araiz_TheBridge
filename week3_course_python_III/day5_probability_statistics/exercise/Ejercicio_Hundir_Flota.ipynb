{
 "cells": [
  {
   "cell_type": "markdown",
   "metadata": {},
   "source": [
    "# Ejercicio Hundir La Flota | Challenge yourself \n",
    "\n",
    "#### La fecha de entrega está limitada al próximo 16/05/2021"
   ]
  },
  {
   "cell_type": "markdown",
   "metadata": {},
   "source": [
    "En este ejercicio deberás programar el juego **hundir la flota** o [**batalla naval**](https://es.wikipedia.org/wiki/Batalla_naval_(juego)) "
   ]
  },
  {
   "cell_type": "markdown",
   "metadata": {},
   "source": [
    "El tablero de este juego será una matriz de 10x10 dimensiones, matriz sobre la que plamaremos el estado de cada turno. Cada matriz de información continente del estado en cada momento, se mostrará por pantalla."
   ]
  },
  {
   "cell_type": "markdown",
   "metadata": {},
   "source": [
    "![tablero](https://i.pinimg.com/474x/1c/66/ca/1c66ca8d767428dcd1c39285643f3987--yahoo-search.jpg)"
   ]
  },
  {
   "cell_type": "markdown",
   "metadata": {},
   "source": [
    "**Las reglas son las siguientes:**\n",
    "\n",
    "- Cada jugador deberá colocar en su tablero:\n",
    "    - 4 barcos tamaño 2x1. \n",
    "\n",
    "    - 3 barcos tamaño 3x1.\n",
    "\n",
    "    - 2 barcos tamaño 4x1.\n",
    "    \n",
    "    - 1 barco tamaño 5x1. \n",
    "    \n",
    "\n",
    "- En cada turno, el jugador correspondiente debe elegir una casilla de la matriz (10x10) y ambos jugadores marcarán la casilla en la matriz.\n",
    "- Si la casilla que se ha elegido es agua, será marcada como un una \"**o**\" y si la casilla que ha marcado es uno de los barcos, la casilla será marcada con una \"**x**\". \n",
    "- Los barcos han de ser mostrados con un \"__#__\" en la matriz. \n",
    "- Los espacios con agua serán mostrados como \" \" ó \"**~**\".\n",
    "\n",
    "Antes de que comience la partida, cada jugador deberá crear su estado inicial. El estado inicial es una configuración de la matriz con todos los barcos colocados. Para ello, el programa debería preguntar, uno a uno, dónde se quiere colocar cada barco. El estilo de pregunta, ha de ser: \n",
    "\n",
    "- Inserte la posición del barco 1 (2x1). El usuario ha de escribir si se quiere insertar en la 4a fila, en horizontal y ocupando las últimas dos columnas: `4h9:10`.\n",
    "- Inserte la posición del barco 2 (2x1). El usuario ha de escribir si se quiere insertar en la 8a fila, en horizontal y ocupando las dos primeras columnas: `8h1:2`.\n",
    "- Inserte la posición del barco 3 (5x1). Si se quiere colocar en vertical empezando por la fila 1 a la 5 y columna 8: `8v1:5`.\n",
    "\n",
    "También tendrás la opción de cargar una partida anteriormente definida en formato [JSON](https://www.w3schools.com/python/python_json.asp).\n",
    "\n",
    "Para saber quién empieza a jugar, los jugadores deberán ponerse de acuerdo para que uno de ellos sea el que llame a una función que devuelva dos valores random del 1 al 6, de tipo entero. El primer valor que se muestre por pantalla será el correspondiente al jugador que llama a la función, el segundo será el del contrincante. Quien saque un valor más alto, empieza. \n",
    "\n",
    "Además, el programa guardará el nombre de los jugadores y el histórico, es decir, todos los estados de la partida. Para ello se utilizará el formato JSON.\n",
    "\n",
    "Cuando un jugador haya creado su estado inicial, este estado también deberá ser guardado en formato JSON. Antes de que se inicie la partida, el otro jugador deberá cargar tu estado inicial y tú el suyo. El estado inicial del enemigo es el que usará tu programa para comprobar si las coordenadas que has utilizado han acertado en el blanco o no. \n",
    "\n",
    "El formato de preguntas por turno es: \n",
    "\n",
    "- `Inserte coordenadas a atacar:`. La respuesta válida será `0x8` --> fila 0, columna 8. \n",
    "\n",
    "Una vez insertada las coordenadas, deberá resultar que aparezcan tu matriz y la matriz de estado de tu enemigo, esta última con la nueva coordenada marcada sin la flota excepto si el torpedo hubiera dado en el blanco. "
   ]
  },
  {
   "cell_type": "markdown",
   "metadata": {},
   "source": [
    "**A modo de resumen:**\n",
    "\n",
    "1. Se eligen los nombres de jugador. ¡Recuerda no dejar espacios!\n",
    "\n",
    "2. Se pregunta sobre las posiciones de tu flota. Una vez que se haya definido, el sistema debe guardar en JSON el estado de tu flota. OPCIONAL: Puedes cargar una partida a partir de un fichero JSON.\n",
    "\n",
    "3. Se carga el estado inicial de tu enemigo a partir de un fichero JSON que te habrá definido previamente. El fichero estará en una carpeta llamada \"Partidas_Batalla_Naval\". Para cargar el fichero se debe introducir la ruta o nombre del fichero. \n",
    "\n",
    "4. Cuando ambos estéis en el mismo punto y se sepa quién es el primero, se debe escribir *primero* o *segundo*. Si eres primero, el sistema empezará preguntándote las coordenadas. Si eres segundo, el sistema preguntará por las coordenadas del rival. \n",
    "\n",
    "5. Se debe mostrar por pantalla dos matrices: una matriz 10x10 que representa los puntos que has ido marcando, que no mostrará la flota del enemigo excepto si algún barco ha sido dañado, y otra a la derecha que muestre tu flota con los puntos que hayan sido atacados por parte del contrincante. \n",
    "\n",
    "6. Cuando toda la flota de uno de los dos jugadores haya sido exterminada, se mostrará el ganador de la partida. Que si has sido tú el que ha programado este juego, ya habrás ganado incluso antes de empezar a jugar. "
   ]
  },
  {
   "source": [
    "----------------------------------------------------\n",
    "\n",
    "Hay dos tipos de bonus:\n",
    "\n",
    "1. Hacer todo usando clases. Como mínimo, crear una clase \"Barco\" y \"Tablero\"\n",
    "2. Toda la parte del JSON es un Bonus extra plus ++ con el objetivo de que se pueda cargar una partida con una configuración predeterminada. De esta forma, podrías configurar una estructura de barcos y que alguien juegue contra ti en su ordenador con esa estructura.\n",
    "3. ¿Habéis acabado todo esto antes de la fecha? Habla con los profesores :=) \n",
    "----------------------------------------------------"
   ],
   "cell_type": "markdown",
   "metadata": {}
  },
  {
   "cell_type": "markdown",
   "metadata": {},
   "source": [
    "Hay que programar este juego en varios archivos `.py` de modo que puedas ejecutar dicho programa por la terminal desde cualquier dispositivo. "
   ]
  },
  {
   "cell_type": "code",
   "execution_count": 3,
   "metadata": {},
   "outputs": [],
   "source": [
    "# importamos tablero y barco\n",
    "import os, sys\n",
    "ruta = os.getcwd()\n",
    "import tablero\n",
    "import barco\n"
   ]
  },
  {
   "cell_type": "code",
   "execution_count": 4,
   "metadata": {},
   "outputs": [],
   "source": [
    "# Se piden los nombres de los jugadores y se crea una instancia a cada uno para asignarles tableros de juego\n",
    "player1 = input(\"Enter Player 1\")\n",
    "player1 = tablero.tablero()\n",
    "player2 = input(\"Enter Player 2\")\n",
    "player2 = tablero.tablero()"
   ]
  },
  {
   "cell_type": "code",
   "execution_count": 5,
   "metadata": {},
   "outputs": [],
   "source": [
    "# funciones para la colocación de la flota\n",
    "def colocar(jugador, coordenada):\n",
    "    inicio = int(coordenada[2])\n",
    "    fin = int(coordenada[-1]) - 1\n",
    "    fila_columna = int(coordenada[0])\n",
    "    if coordenada[1] == \"v\":\n",
    "        contador = inicio - 1\n",
    "        while contador < fin :\n",
    "            jugador.defensa[contador][0][fila_columna -1] = \"#\"\n",
    "            contador += 1\n",
    "    elif coordenada[1] == \"h\":\n",
    "        contador = inicio - 1\n",
    "        while contador < fin + 1:\n",
    "            jugador.defensa[fila_columna - 1][0][contador] = \"#\"\n",
    "            contador += 1\n",
    "\n",
    "def preguntar_coordenadas(jugador):\n",
    "    contador2 = 4\n",
    "    while contador2 > 0:\n",
    "        pos = input(\"instert coordinates for 2x1:\")\n",
    "        colocar(jugador, pos)\n",
    "        contador2 -= 1\n",
    "        jugador.mostrar_defensa()\n",
    "        if contador2 == 0:\n",
    "            break\n",
    "    contador3 = 3\n",
    "    while contador3 > 0:\n",
    "        pos = input(\"instert coordinates for 3x1:\")\n",
    "        colocar(jugador, pos)\n",
    "        contador3 -= 1\n",
    "        jugador.mostrar_defensa()\n",
    "        if contador3 == 0:\n",
    "            break\n",
    "    contador4 = 2\n",
    "    while contador4 > 0:\n",
    "        pos = input(\"instert coordinates for 4x1:\")\n",
    "        colocar(jugador, pos)\n",
    "        contador4 -= 1\n",
    "        jugador.mostrar_defensa()\n",
    "        if contador4 == 0:\n",
    "            break\n",
    "    contador5 = 1\n",
    "    while contador5 > 0:\n",
    "        pos = input(\"instert coordinates for 5x1:\")\n",
    "        colocar(jugador, pos)\n",
    "        contador5 -= 1\n",
    "        jugador.mostrar_defensa()\n",
    "        if contador5 == 0:\n",
    "            break\n"
   ]
  },
  {
   "cell_type": "code",
   "execution_count": 6,
   "metadata": {},
   "outputs": [
    {
     "output_type": "stream",
     "name": "stdout",
     "text": [
      "[['#', '#', '#', '#', 'o', 'o', 'o', 'o', 'o', 'o']]\n[['o', 'o', 'o', 'o', 'o', 'o', 'o', 'o', 'o', 'o']]\n[['o', 'o', 'o', 'o', 'o', 'o', 'o', 'o', 'o', 'o']]\n[['o', 'o', 'o', 'o', 'o', 'o', 'o', 'o', 'o', 'o']]\n[['o', 'o', 'o', 'o', 'o', 'o', 'o', 'o', 'o', 'o']]\n[['o', 'o', 'o', 'o', 'o', 'o', 'o', 'o', 'o', 'o']]\n[['o', 'o', 'o', 'o', 'o', 'o', 'o', 'o', 'o', 'o']]\n[['o', 'o', 'o', 'o', 'o', 'o', 'o', 'o', 'o', 'o']]\n[['o', 'o', 'o', 'o', 'o', 'o', 'o', 'o', 'o', 'o']]\n[['o', 'o', 'o', 'o', 'o', 'o', 'o', 'o', 'o', 'o']]\n"
     ]
    }
   ],
   "source": [
    "colocar(player1, \"1h1:4\")\n",
    "player1.mostrar_defensa()\n"
   ]
  },
  {
   "cell_type": "code",
   "execution_count": 11,
   "metadata": {},
   "outputs": [
    {
     "output_type": "stream",
     "name": "stdout",
     "text": [
      "[['#', '#', '#', '#', 'o', 'o', 'o', 'o', 'o', 'o']]\n",
      "[['o', 'o', 'o', 'o', 'o', 'o', 'o', 'o', 'o', 'o']]\n",
      "[['o', 'o', 'o', 'o', 'o', 'o', 'o', 'o', 'o', 'o']]\n",
      "[['o', 'o', 'o', 'o', 'o', 'o', 'o', 'o', 'o', 'o']]\n",
      "[['o', 'o', 'o', 'o', 'o', 'o', 'o', 'o', 'o', 'o']]\n",
      "[['o', 'o', 'o', 'o', 'o', 'o', 'o', 'o', 'o', 'o']]\n",
      "[['o', 'o', 'o', 'o', 'o', 'o', 'o', 'o', 'o', 'o']]\n",
      "[['o', 'o', 'o', 'o', 'o', 'o', 'o', 'o', 'o', 'o']]\n",
      "[['#', '#', 'o', 'o', 'o', 'o', 'o', 'o', 'o', 'o']]\n",
      "[['o', 'o', 'o', 'o', 'o', 'o', 'o', 'o', 'o', 'o']]\n",
      "[['#', '#', '#', '#', 'o', 'o', 'o', 'o', 'o', 'o']]\n",
      "[['#', '#', 'o', 'o', 'o', 'o', 'o', 'o', 'o', 'o']]\n",
      "[['o', 'o', 'o', 'o', 'o', 'o', 'o', 'o', 'o', 'o']]\n",
      "[['o', 'o', 'o', 'o', 'o', 'o', 'o', 'o', 'o', 'o']]\n",
      "[['o', 'o', 'o', 'o', 'o', 'o', 'o', 'o', 'o', 'o']]\n",
      "[['o', 'o', 'o', 'o', 'o', 'o', 'o', 'o', 'o', 'o']]\n",
      "[['o', 'o', 'o', 'o', 'o', 'o', 'o', 'o', 'o', 'o']]\n",
      "[['o', 'o', 'o', 'o', 'o', 'o', 'o', 'o', 'o', 'o']]\n",
      "[['#', '#', 'o', 'o', 'o', 'o', 'o', 'o', 'o', 'o']]\n",
      "[['o', 'o', 'o', 'o', 'o', 'o', 'o', 'o', 'o', 'o']]\n",
      "[['#', '#', '#', '#', 'o', 'o', 'o', 'o', '#', 'o']]\n",
      "[['#', '#', 'o', 'o', 'o', 'o', 'o', 'o', 'o', 'o']]\n",
      "[['o', 'o', 'o', 'o', 'o', 'o', 'o', 'o', 'o', 'o']]\n",
      "[['o', 'o', 'o', 'o', 'o', 'o', 'o', 'o', 'o', 'o']]\n",
      "[['o', 'o', 'o', 'o', 'o', 'o', 'o', 'o', 'o', 'o']]\n",
      "[['o', 'o', 'o', 'o', 'o', 'o', 'o', 'o', 'o', 'o']]\n",
      "[['o', 'o', 'o', 'o', 'o', 'o', 'o', 'o', 'o', 'o']]\n",
      "[['o', 'o', 'o', 'o', 'o', 'o', 'o', 'o', 'o', 'o']]\n",
      "[['#', '#', 'o', 'o', 'o', 'o', 'o', 'o', 'o', 'o']]\n",
      "[['o', 'o', 'o', 'o', 'o', 'o', 'o', 'o', 'o', 'o']]\n"
     ]
    },
    {
     "output_type": "error",
     "ename": "ValueError",
     "evalue": "invalid literal for int() with base 10: 'v'",
     "traceback": [
      "\u001b[1;31m---------------------------------------------------------------------------\u001b[0m",
      "\u001b[1;31mValueError\u001b[0m                                Traceback (most recent call last)",
      "\u001b[1;32m<ipython-input-11-edc80b874264>\u001b[0m in \u001b[0;36m<module>\u001b[1;34m\u001b[0m\n\u001b[0;32m      1\u001b[0m \u001b[1;31m# Secuencia para dar comienzo al juego\u001b[0m\u001b[1;33m\u001b[0m\u001b[1;33m\u001b[0m\u001b[1;33m\u001b[0m\u001b[0m\n\u001b[1;32m----> 2\u001b[1;33m \u001b[0mpreguntar_coordenadas\u001b[0m\u001b[1;33m(\u001b[0m\u001b[0mplayer1\u001b[0m\u001b[1;33m)\u001b[0m\u001b[1;33m\u001b[0m\u001b[1;33m\u001b[0m\u001b[0m\n\u001b[0m",
      "\u001b[1;32m<ipython-input-9-c9c6fdd0182a>\u001b[0m in \u001b[0;36mpreguntar_coordenadas\u001b[1;34m(jugador)\u001b[0m\n\u001b[0;32m     19\u001b[0m     \u001b[1;32mwhile\u001b[0m \u001b[0mcontador2\u001b[0m \u001b[1;33m>\u001b[0m \u001b[1;36m0\u001b[0m\u001b[1;33m:\u001b[0m\u001b[1;33m\u001b[0m\u001b[1;33m\u001b[0m\u001b[0m\n\u001b[0;32m     20\u001b[0m         \u001b[0mpos\u001b[0m \u001b[1;33m=\u001b[0m \u001b[0minput\u001b[0m\u001b[1;33m(\u001b[0m\u001b[1;34m\"instert coordinates for 2x1:\"\u001b[0m\u001b[1;33m)\u001b[0m\u001b[1;33m\u001b[0m\u001b[1;33m\u001b[0m\u001b[0m\n\u001b[1;32m---> 21\u001b[1;33m         \u001b[0mcolocar\u001b[0m\u001b[1;33m(\u001b[0m\u001b[0mjugador\u001b[0m\u001b[1;33m,\u001b[0m \u001b[0mpos\u001b[0m\u001b[1;33m)\u001b[0m\u001b[1;33m\u001b[0m\u001b[1;33m\u001b[0m\u001b[0m\n\u001b[0m\u001b[0;32m     22\u001b[0m         \u001b[0mcontador2\u001b[0m \u001b[1;33m-=\u001b[0m \u001b[1;36m1\u001b[0m\u001b[1;33m\u001b[0m\u001b[1;33m\u001b[0m\u001b[0m\n\u001b[0;32m     23\u001b[0m         \u001b[0mjugador\u001b[0m\u001b[1;33m.\u001b[0m\u001b[0mmostrar_defensa\u001b[0m\u001b[1;33m(\u001b[0m\u001b[1;33m)\u001b[0m\u001b[1;33m\u001b[0m\u001b[1;33m\u001b[0m\u001b[0m\n",
      "\u001b[1;32m<ipython-input-9-c9c6fdd0182a>\u001b[0m in \u001b[0;36mcolocar\u001b[1;34m(jugador, coordenada)\u001b[0m\n\u001b[0;32m      1\u001b[0m \u001b[1;31m# funciones para la colocación de la flota\u001b[0m\u001b[1;33m\u001b[0m\u001b[1;33m\u001b[0m\u001b[1;33m\u001b[0m\u001b[0m\n\u001b[0;32m      2\u001b[0m \u001b[1;32mdef\u001b[0m \u001b[0mcolocar\u001b[0m\u001b[1;33m(\u001b[0m\u001b[0mjugador\u001b[0m\u001b[1;33m,\u001b[0m \u001b[0mcoordenada\u001b[0m\u001b[1;33m)\u001b[0m\u001b[1;33m:\u001b[0m\u001b[1;33m\u001b[0m\u001b[1;33m\u001b[0m\u001b[0m\n\u001b[1;32m----> 3\u001b[1;33m     \u001b[0minicio\u001b[0m \u001b[1;33m=\u001b[0m \u001b[0mint\u001b[0m\u001b[1;33m(\u001b[0m\u001b[0mcoordenada\u001b[0m\u001b[1;33m[\u001b[0m\u001b[1;36m2\u001b[0m\u001b[1;33m]\u001b[0m\u001b[1;33m)\u001b[0m\u001b[1;33m\u001b[0m\u001b[1;33m\u001b[0m\u001b[0m\n\u001b[0m\u001b[0;32m      4\u001b[0m     \u001b[0mfin\u001b[0m \u001b[1;33m=\u001b[0m \u001b[0mint\u001b[0m\u001b[1;33m(\u001b[0m\u001b[0mcoordenada\u001b[0m\u001b[1;33m[\u001b[0m\u001b[1;33m-\u001b[0m\u001b[1;36m1\u001b[0m\u001b[1;33m]\u001b[0m\u001b[1;33m)\u001b[0m \u001b[1;33m-\u001b[0m \u001b[1;36m1\u001b[0m\u001b[1;33m\u001b[0m\u001b[1;33m\u001b[0m\u001b[0m\n\u001b[0;32m      5\u001b[0m     \u001b[0mfila_columna\u001b[0m \u001b[1;33m=\u001b[0m \u001b[0mint\u001b[0m\u001b[1;33m(\u001b[0m\u001b[0mcoordenada\u001b[0m\u001b[1;33m[\u001b[0m\u001b[1;36m0\u001b[0m\u001b[1;33m]\u001b[0m\u001b[1;33m)\u001b[0m\u001b[1;33m\u001b[0m\u001b[1;33m\u001b[0m\u001b[0m\n",
      "\u001b[1;31mValueError\u001b[0m: invalid literal for int() with base 10: 'v'"
     ]
    }
   ],
   "source": [
    "# Secuencia para dar comienzo al juego\n",
    "preguntar_coordenadas(player1)"
   ]
  },
  {
   "cell_type": "code",
   "execution_count": 7,
   "metadata": {},
   "outputs": [
    {
     "output_type": "stream",
     "name": "stdout",
     "text": [
      "------------------------------------------------------------------------\n[['o', 'o', 'o', 'o', 'o', 'o', 'o', 'o', 'o', '#']]\n[['o', 'o', 'o', 'o', 'o', 'o', 'o', 'o', 'o', '#']]\n[['o', 'o', 'o', 'o', 'o', 'o', 'o', 'o', 'o', '#']]\n[['o', 'o', 'o', 'o', 'o', 'o', 'o', 'o', 'o', '#']]\n[['o', 'o', 'o', 'o', 'o', 'o', 'o', 'o', 'o', '#']]\n[['o', 'o', 'o', 'o', 'o', 'o', 'o', 'o', 'o', 'o']]\n[['o', 'o', 'o', 'o', 'o', 'o', 'o', 'o', 'o', 'o']]\n[['o', 'o', 'o', 'o', 'o', 'o', 'o', 'o', 'o', 'o']]\n[['o', 'o', 'o', 'o', 'o', 'o', 'o', 'o', 'o', 'o']]\n[['o', 'o', 'o', 'o', 'o', 'o', 'o', 'o', 'o', 'o']]\n---------------------------------\n"
     ]
    }
   ],
   "source": [
    "# keep calm and keep coding\n",
    "import numpy as np\n",
    "class tablero:\n",
    "    def __init__(self, defensa = [[[\"o\"]*10],[[\"o\"]*10], [[\"o\"]*10], [[\"o\"]*10], [[\"o\"]*10], [[\"o\"]\n",
    "    *10], [[\"o\"] * 10], [[\"o\"] * 10], [[\"o\"] * 10], [[\"o\"]* 10]]):\n",
    "        self.defensa = defensa\n",
    "    def mostrar(self):\n",
    "        for x in self.defensa:\n",
    "            print(x)\n",
    "javier = tablero()\n",
    "\n",
    "\n",
    "print(\"------------------------------------------------------------------------\")\n",
    "coordenada = \"8v1:5\"\n",
    "def colocar(jugador, coordenada):\n",
    "    renglon = []\n",
    "    orient = \"\"\n",
    "    casillas = []\n",
    "    for i, val in enumerate(coordenada):\n",
    "        if val == \"v\" or val == \"h\":\n",
    "            renglon.append(coordenada[:i])\n",
    "            orient = val\n",
    "            casillas.append(coordenada[i+1:])\n",
    "            break\n",
    "    renglon = int(\"\".join(renglon))\n",
    "    casillas = \"\".join(casillas)\n",
    "    inicio = int(casillas[0])\n",
    "    fin = int(casillas[-1]) \n",
    "    if orient == \"v\":\n",
    "        contador = inicio - 1\n",
    "        while contador < fin :\n",
    "            jugador.defensa[contador][0][renglon -1] = \"#\"\n",
    "            contador += 1\n",
    "    elif coordenada[1] == \"h\":\n",
    "        contador = inicio - 1\n",
    "        while contador < fin + 1:\n",
    "            jugador.defensa[renglon - 1][0][contador] = \"#\"\n",
    "            contador += 1\n",
    "\n",
    "colocar(javier, \"10v1:5\")\n",
    "javier.mostrar()\n",
    "\n",
    "\n",
    "\n",
    "print(\"---------------------------------\")\n",
    "\n"
   ]
  },
  {
   "cell_type": "code",
   "execution_count": null,
   "metadata": {},
   "outputs": [],
   "source": [
    "   if coordenada[1] == \"v\":\n",
    "        contador = inicio - 1\n",
    "        while contador < fin + 1:\n",
    "            for i in range(fin + 1):\n",
    "                for cas in tablero.fila:\n",
    "                    print(cas[contador][0][fila_columna +1])\n",
    "                    contador += 1\n",
    "    if coordenada[1] == \"h\":\n",
    "         contador = inicio - 1\n",
    "         while contador < fin + 1:\n",
    "             for i in range(fin + 1):\n",
    "                 for cas in tablero.fila:\n",
    "                     print(cas[fila_columna +1][0][contador])\n",
    "                     contador += 1"
   ]
  },
  {
   "cell_type": "code",
   "execution_count": null,
   "metadata": {},
   "outputs": [],
   "source": [
    "barco1 = Barco(nombre = \"Barco1\", resistencia = 2)\n",
    "barco2 = Barco(nombre = \"Barco2\", resistencia = 2)\n",
    "barco3 = Barco(nombre = \"Barco3\", resistencia = 2)\n",
    "barco4 = Barco(nombre = \"Barco4\", resistencia = 2)\n",
    "barco5 = Barco(nombre = \"Barco5\", resistencia = 3)\n",
    "barco6 = Barco(nombre = \"Barco6\", resistencia = 3)\n",
    "barco7 = Barco(nombre = \"Barco7\", resistencia = 3)\n",
    "barco8 = Barco(nombre = \"Barco8\", resistencia = 4)\n",
    "barco9 = Barco(nombre = \"Barco9\", resistencia = 4)\n",
    "barco10 = Barco(nombre = \"Barco10\", resistencia = 5)"
   ]
  },
  {
   "cell_type": "code",
   "execution_count": null,
   "metadata": {},
   "outputs": [],
   "source": [
    "def colocar(jugador, coordenada):\n",
    "    inicio = int(coordenada[2])\n",
    "    fin = int(coordenada[-1]) - 1\n",
    "    fila_columna = int(coordenada[0])\n",
    "    if coordenada[1] == \"v\":\n",
    "        contador = inicio - 1\n",
    "        while contador < fin :\n",
    "            jugador.defensa[contador][0][fila_columna -1] = \"#\"\n",
    "            contador += 1\n",
    "    elif coordenada[1] == \"h\":\n",
    "        contador = inicio - 1\n",
    "        while contador < fin + 1:\n",
    "            jugador.defensa[fila_columna - 1][0][contador] = \"#\"\n",
    "            contador += 1"
   ]
  },
  {
   "cell_type": "code",
   "execution_count": 8,
   "metadata": {},
   "outputs": [
    {
     "output_type": "stream",
     "name": "stdout",
     "text": [
      "[['o', 'o', 'o', 'o', 'o', 'o', 'o', 'o', 'o', 'o']]\n[['o', 'o', 'o', 'o', 'o', 'o', 'o', 'o', 'o', 'o']]\n[['o', 'o', 'o', 'o', 'o', 'o', 'o', 'o', 'o', 'o']]\n[['o', 'o', 'o', 'o', 'o', 'o', 'o', 'o', 'o', 'o']]\n[['o', 'o', 'o', 'o', 'o', 'o', 'o', 'o', 'o', 'o']]\n[['o', 'o', 'o', 'o', 'o', 'o', 'o', 'o', 'o', 'o']]\n[['o', 'o', 'o', 'o', 'o', 'o', 'o', 'o', 'o', 'o']]\n[['o', 'o', 'o', 'o', 'o', 'o', 'o', 'o', 'o', 'o']]\n[['o', 'o', 'o', 'o', 'o', 'o', 'o', 'o', 'o', 'o']]\n[['o', 'o', 'o', 'o', 'o', 'o', 'o', 'o', 'o', 'o']]\n"
     ]
    }
   ],
   "source": [
    "test = \"10v1:2\"\n",
    "def colocarx (jugador, coordenada):\n",
    "    renglon = []\n",
    "    orient = \"\"\n",
    "    casillas = []\n",
    "    for i, val in enumerate(coordenada):\n",
    "        if val == \"v\" or val == \"h\":\n",
    "            renglon.append(coordenada[:i])\n",
    "            orient = val\n",
    "            casillas.append(coordenada[i+1:])\n",
    "            break\n",
    "    renglon = int(\"\".join(renglon))\n",
    "    casillas = \"\".join(casillas)\n",
    "    inicio = int(casillas[0])\n",
    "    fin = int(casillas[-1]) - 1\n",
    "    if orient == \"v\":\n",
    "        contador = inicio - 1\n",
    "        while contador < fin :\n",
    "            jugador.defensa[contador][0][renglon -1] = \"#\"\n",
    "            contador += 1\n",
    "    elif coordenada[1] == \"h\":\n",
    "        contador = inicio - 1\n",
    "        while contador < fin + 1:\n",
    "            jugador.defensa[renglon - 1][0][contador] = \"#\"\n",
    "            contador += 1\n",
    "\n",
    "\n",
    "colocarx(player1, \"10v5:10\")\n",
    "player1.mostrar_defensa()\n"
   ]
  },
  {
   "cell_type": "code",
   "execution_count": null,
   "metadata": {},
   "outputs": [],
   "source": []
  }
 ],
 "metadata": {
  "file_extension": ".py",
  "kernelspec": {
   "name": "python389jvsc74a57bd0567ce215ee1f5ccb42045684f31605cd97b14e9878c0252db542d9e85d121b05",
   "display_name": "Python 3.8.9 64-bit"
  },
  "language_info": {
   "codemirror_mode": {
    "name": "ipython",
    "version": 3
   },
   "file_extension": ".py",
   "mimetype": "text/x-python",
   "name": "python",
   "nbconvert_exporter": "python",
   "pygments_lexer": "ipython3",
   "version": "3.8.9"
  },
  "mimetype": "text/x-python",
  "name": "python",
  "npconvert_exporter": "python",
  "pygments_lexer": "ipython3",
  "version": 3,
  "metadata": {
   "interpreter": {
    "hash": "567ce215ee1f5ccb42045684f31605cd97b14e9878c0252db542d9e85d121b05"
   }
  }
 },
 "nbformat": 4,
 "nbformat_minor": 4
}