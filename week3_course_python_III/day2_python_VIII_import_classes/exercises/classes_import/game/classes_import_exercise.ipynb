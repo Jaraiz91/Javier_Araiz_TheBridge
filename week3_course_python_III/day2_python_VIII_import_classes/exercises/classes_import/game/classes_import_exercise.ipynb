{
 "metadata": {
  "language_info": {
   "codemirror_mode": {
    "name": "ipython",
    "version": 3
   },
   "file_extension": ".py",
   "mimetype": "text/x-python",
   "name": "python",
   "nbconvert_exporter": "python",
   "pygments_lexer": "ipython3",
   "version": "3.8.9"
  },
  "orig_nbformat": 2,
  "kernelspec": {
   "name": "python389jvsc74a57bd0567ce215ee1f5ccb42045684f31605cd97b14e9878c0252db542d9e85d121b05",
   "display_name": "Python 3.8.9 64-bit"
  },
  "metadata": {
   "interpreter": {
    "hash": "567ce215ee1f5ccb42045684f31605cd97b14e9878c0252db542d9e85d121b05"
   }
  }
 },
 "nbformat": 4,
 "nbformat_minor": 2,
 "cells": [
  {
   "source": [
    "## 1\n",
    "\n",
    "Crea un archivo 'ClaseHumano.py' en la carpeta 'objects' que contenga una clase:\n",
    "\n",
    "* 'Humano' que tiene:\n",
    "    - Un atributo 'ojos' que por defecto es 2\n",
    "    - Un atributo 'piernas' que por defecto es 2\n",
    "    - Un atributo 'dientes' que por defecto es 32\n",
    "    - Un atributo 'nombre'\n",
    "    - Un atributo 'armadura' \n",
    "    - Un atributo 'nivel' \n",
    "    - Un atributo 'ataque'\n",
    "    - Un atributo 'salud' que por defecto es 100\n",
    "    - Una función  llamada 'atacar' que recibe un argumento 'orco' que representa otra clase ('Orco'). Esta función resta a la vida del 'Orco' el ataque de 'Humano' menos la armadura de 'Orco'. Al final, muestra por pantalla la vida del 'Orco'\n",
    "    - Una función no_vivo que retorna True si la vida del 'Humano' es igual o inferior a 0, False en otro caso.\n",
    "    - Una función que muestre por pantalla todos los atributos actuales de 'Humano' concatenados con un String representando el nombre del atributo que se muestra. Ejemplo: \"Nombre: Ataulfo | dientes: 32 | salud: 100 | ...\"\n",
    "\n",
    "Crea un archivo 'ClaseOrco.py' en la carpeta 'objects' que contenga una clase:\n",
    "\n",
    "* 'Orco' que tiene:\n",
    "    - Un atributo 'ojos' que por defecto es 2\n",
    "    - Un atributo 'piernas' que por defecto es 2\n",
    "    - Un atributo 'dientes' que por defecto es 56\n",
    "    - Un atributo 'nombre'\n",
    "    - Un atributo 'armadura' \n",
    "    - Un atributo 'nivel' \n",
    "    - Un atributo 'ataque'\n",
    "    - Un atributo 'salud' que por defecto es 100\n",
    "    - Una función  llamada 'atacar' que recibe un argumento 'humano' que representa otra clase ('Humano'). Esta función resta a la vida del 'Humano' el ataque de 'Orco' menos la armadura de 'Humano'. Al final, muestra por pantalla la vida del 'Humano'\n",
    "    - Una función no_vivo que retorna True si la vida del 'Humano' es igual o inferior a 0, False en otro caso.\n",
    "    - Una función que muestre por pantalla todos los atributos actuales de 'Orco' concatenados con un String representando el nombre del atributo que se muestra. Ejemplo: \"Nombre: Graug | dientes: 56 | salud: 100 | ...\"   "
   ],
   "cell_type": "markdown",
   "metadata": {}
  },
  {
   "source": [
    "## 2\n",
    "\n",
    "Desde aquí, importa las clases del ejercicio 1 (tendrás que utilizar sys.path para poder importar los archivos/módulos/librerías/ficheros). Crea una instancia de Humano/a y otra de Orco/a:\n",
    "\n",
    "* La clase Humano/a ha de inicializarse con los siguientes valores:\n",
    "    - nombre: tu nombre\n",
    "    - nivel: tu edad\n",
    "    - armadura: un número Entero que sea un décimo de tu nivel redondeado hacia abajo\n",
    "    - ataque: un número Entero que sea un quinto de tu nivel redondeado hacia abajo\n",
    "    - Todo lo demás por defecto.\n",
    "\n",
    "* La clase Orco/a ha de inicializarse con los siguientes valores:\n",
    "    - nombre: el nombre de tu compañero/a\n",
    "    - nivel: su edad\n",
    "    - armadura: un número Entero que sea un quinceavo de su nivel redondeado hacia arriba\n",
    "    - ataque: un número Entero que sea un sexto de su nivel redondeado hacia arriba\n",
    "    - Todo lo demás por defecto.\n"
   ],
   "cell_type": "markdown",
   "metadata": {}
  },
  {
   "cell_type": "code",
   "execution_count": 1,
   "metadata": {},
   "outputs": [],
   "source": [
    "# Tu código aquí\n",
    "import os, sys\n",
    "ruta = os.getcwd()\n",
    "ruta = os.path.dirname(ruta)\n",
    "sys.path.append(ruta)\n",
    "import objects.ClaseHumano\n",
    "import objects.ClaseOrco\n",
    "\n"
   ]
  },
  {
   "cell_type": "code",
   "execution_count": 2,
   "metadata": {},
   "outputs": [],
   "source": [
    "from objects.ClaseHumano import Humano\n",
    "Javier = Humano(nombre = \"Javier\", nivel = 29, armadura = 6, ataque = 5)\n",
    "from objects.ClaseOrco import Orco\n",
    "Quiensea = Orco(nombre = \"Quiensea\", nivel = 20, armadura = 4, ataque= 3)"
   ]
  },
  {
   "source": [
    "## 3\n",
    "\n",
    "Crea un bucle infinito que espere en cada turno(Iteración) 1 segundo. Para ello has de utilizar la función 'sleep(1)' de la librería time. En cada uno de los turnos debe ocurrir lo siguiente:\n",
    "\n",
    "- Que se muestre por pantalla el número del turno que se lleva empezando desde 1.  \n",
    "- Que se ataquen las instancias. Para ello, has de llamar a la función 'atacar' de cada una de las instancias.\n",
    "- Comprobar si una instancia no está viva con la función correspondiente. Si una instancia no está viva, mostrar por pantalla que una de ellas ha perdido y la otra ha ganado. Terminar el juego aquí.\n",
    "- Mostrar al finalizar el turno una barra divisoria para diferenciar un turno del siguiente.\n",
    "\n",
    "Hay que tener en cuenta: \n",
    "\n",
    "- Una instancia no puede atacar a la otra si no está viva.\n",
    "- Empieza primero la instancia que tiene menos nivel."
   ],
   "cell_type": "markdown",
   "metadata": {}
  },
  {
   "cell_type": "code",
   "execution_count": 3,
   "metadata": {},
   "outputs": [
    {
     "output_type": "stream",
     "name": "stdout",
     "text": [
      "turno: 1\nsalud de Javier: 103\nsalud de Quiensea: 99\n---------------\nturno: 2\nsalud de Javier: 106\nsalud de Quiensea: 98\n---------------\nturno: 3\nsalud de Javier: 109\nsalud de Quiensea: 97\n---------------\nturno: 4\nsalud de Javier: 112\nsalud de Quiensea: 96\n---------------\nturno: 5\nsalud de Javier: 115\nsalud de Quiensea: 95\n---------------\nturno: 6\nsalud de Javier: 118\nsalud de Quiensea: 94\n---------------\nturno: 7\nsalud de Javier: 121\nsalud de Quiensea: 93\n---------------\nturno: 8\nsalud de Javier: 124\nsalud de Quiensea: 92\n---------------\nturno: 9\nsalud de Javier: 127\nsalud de Quiensea: 91\n---------------\nturno: 10\nsalud de Javier: 130\nsalud de Quiensea: 90\n---------------\nturno: 11\nsalud de Javier: 133\nsalud de Quiensea: 89\n---------------\nturno: 12\nsalud de Javier: 136\nsalud de Quiensea: 88\n---------------\nturno: 13\nsalud de Javier: 139\nsalud de Quiensea: 87\n---------------\nturno: 14\nsalud de Javier: 142\nsalud de Quiensea: 86\n---------------\nturno: 15\nsalud de Javier: 145\nsalud de Quiensea: 85\n---------------\nturno: 16\nsalud de Javier: 148\nsalud de Quiensea: 84\n---------------\nturno: 17\nsalud de Javier: 151\nsalud de Quiensea: 83\n---------------\nturno: 18\nsalud de Javier: 154\nsalud de Quiensea: 82\n---------------\nturno: 19\nsalud de Javier: 157\nsalud de Quiensea: 81\n---------------\nturno: 20\nsalud de Javier: 160\nsalud de Quiensea: 80\n---------------\nturno: 21\nsalud de Javier: 163\nsalud de Quiensea: 79\n---------------\nturno: 22\nsalud de Javier: 166\nsalud de Quiensea: 78\n---------------\nturno: 23\nsalud de Javier: 169\nsalud de Quiensea: 77\n---------------\nturno: 24\nsalud de Javier: 172\nsalud de Quiensea: 76\n---------------\nturno: 25\nsalud de Javier: 175\nsalud de Quiensea: 75\n---------------\nturno: 26\nsalud de Javier: 178\nsalud de Quiensea: 74\n---------------\nturno: 27\nsalud de Javier: 181\nsalud de Quiensea: 73\n---------------\nturno: 28\nsalud de Javier: 184\nsalud de Quiensea: 72\n---------------\nturno: 29\nsalud de Javier: 187\nsalud de Quiensea: 71\n---------------\nturno: 30\nsalud de Javier: 190\nsalud de Quiensea: 70\n---------------\nturno: 31\nsalud de Javier: 193\nsalud de Quiensea: 69\n---------------\nturno: 32\nsalud de Javier: 196\nsalud de Quiensea: 68\n---------------\nturno: 33\nsalud de Javier: 199\nsalud de Quiensea: 67\n---------------\nturno: 34\nsalud de Javier: 202\nsalud de Quiensea: 66\n---------------\nturno: 35\nsalud de Javier: 205\nsalud de Quiensea: 65\n---------------\nturno: 36\nsalud de Javier: 208\nsalud de Quiensea: 64\n---------------\nturno: 37\nsalud de Javier: 211\nsalud de Quiensea: 63\n---------------\nturno: 38\nsalud de Javier: 214\nsalud de Quiensea: 62\n---------------\nturno: 39\nsalud de Javier: 217\nsalud de Quiensea: 61\n---------------\nturno: 40\nsalud de Javier: 220\nsalud de Quiensea: 60\n---------------\nturno: 41\nsalud de Javier: 223\nsalud de Quiensea: 59\n---------------\nturno: 42\nsalud de Javier: 226\nsalud de Quiensea: 58\n---------------\nturno: 43\nsalud de Javier: 229\nsalud de Quiensea: 57\n---------------\nturno: 44\nsalud de Javier: 232\nsalud de Quiensea: 56\n---------------\nturno: 45\nsalud de Javier: 235\nsalud de Quiensea: 55\n---------------\nturno: 46\nsalud de Javier: 238\nsalud de Quiensea: 54\n---------------\nturno: 47\nsalud de Javier: 241\nsalud de Quiensea: 53\n---------------\nturno: 48\nsalud de Javier: 244\nsalud de Quiensea: 52\n---------------\nturno: 49\nsalud de Javier: 247\nsalud de Quiensea: 51\n---------------\nturno: 50\nsalud de Javier: 250\nsalud de Quiensea: 50\n---------------\nturno: 51\nsalud de Javier: 253\nsalud de Quiensea: 49\n---------------\nturno: 52\nsalud de Javier: 256\nsalud de Quiensea: 48\n---------------\nturno: 53\nsalud de Javier: 259\nsalud de Quiensea: 47\n---------------\nturno: 54\nsalud de Javier: 262\nsalud de Quiensea: 46\n---------------\nturno: 55\nsalud de Javier: 265\nsalud de Quiensea: 45\n---------------\nturno: 56\nsalud de Javier: 268\nsalud de Quiensea: 44\n---------------\nturno: 57\nsalud de Javier: 271\nsalud de Quiensea: 43\n---------------\nturno: 58\nsalud de Javier: 274\nsalud de Quiensea: 42\n---------------\nturno: 59\nsalud de Javier: 277\nsalud de Quiensea: 41\n---------------\nturno: 60\nsalud de Javier: 280\nsalud de Quiensea: 40\n---------------\nturno: 61\nsalud de Javier: 283\nsalud de Quiensea: 39\n---------------\nturno: 62\nsalud de Javier: 286\nsalud de Quiensea: 38\n---------------\nturno: 63\nsalud de Javier: 289\nsalud de Quiensea: 37\n---------------\nturno: 64\nsalud de Javier: 292\nsalud de Quiensea: 36\n---------------\nturno: 65\nsalud de Javier: 295\nsalud de Quiensea: 35\n---------------\nturno: 66\nsalud de Javier: 298\nsalud de Quiensea: 34\n---------------\nturno: 67\nsalud de Javier: 301\nsalud de Quiensea: 33\n---------------\nturno: 68\nsalud de Javier: 304\nsalud de Quiensea: 32\n---------------\nturno: 69\nsalud de Javier: 307\nsalud de Quiensea: 31\n---------------\nturno: 70\nsalud de Javier: 310\nsalud de Quiensea: 30\n---------------\nturno: 71\nsalud de Javier: 313\nsalud de Quiensea: 29\n---------------\nturno: 72\nsalud de Javier: 316\nsalud de Quiensea: 28\n---------------\nturno: 73\nsalud de Javier: 319\nsalud de Quiensea: 27\n---------------\nturno: 74\nsalud de Javier: 322\nsalud de Quiensea: 26\n---------------\nturno: 75\nsalud de Javier: 325\nsalud de Quiensea: 25\n---------------\nturno: 76\nsalud de Javier: 328\nsalud de Quiensea: 24\n---------------\nturno: 77\nsalud de Javier: 331\nsalud de Quiensea: 23\n---------------\nturno: 78\nsalud de Javier: 334\nsalud de Quiensea: 22\n---------------\nturno: 79\nsalud de Javier: 337\nsalud de Quiensea: 21\n---------------\nturno: 80\nsalud de Javier: 340\nsalud de Quiensea: 20\n---------------\nturno: 81\nsalud de Javier: 343\nsalud de Quiensea: 19\n---------------\nturno: 82\nsalud de Javier: 346\nsalud de Quiensea: 18\n---------------\nturno: 83\nsalud de Javier: 349\nsalud de Quiensea: 17\n---------------\nturno: 84\nsalud de Javier: 352\nsalud de Quiensea: 16\n---------------\nturno: 85\nsalud de Javier: 355\nsalud de Quiensea: 15\n---------------\nturno: 86\nsalud de Javier: 358\nsalud de Quiensea: 14\n---------------\nturno: 87\nsalud de Javier: 361\nsalud de Quiensea: 13\n---------------\nturno: 88\nsalud de Javier: 364\nsalud de Quiensea: 12\n---------------\nturno: 89\nsalud de Javier: 367\nsalud de Quiensea: 11\n---------------\nturno: 90\nsalud de Javier: 370\nsalud de Quiensea: 10\n---------------\nturno: 91\nsalud de Javier: 373\nsalud de Quiensea: 9\n---------------\nturno: 92\nsalud de Javier: 376\nsalud de Quiensea: 8\n---------------\nturno: 93\nsalud de Javier: 379\nsalud de Quiensea: 7\n---------------\nturno: 94\nsalud de Javier: 382\nsalud de Quiensea: 6\n---------------\nturno: 95\nsalud de Javier: 385\nsalud de Quiensea: 5\n---------------\nturno: 96\nsalud de Javier: 388\nsalud de Quiensea: 4\n---------------\nturno: 97\nsalud de Javier: 391\nsalud de Quiensea: 3\n---------------\nturno: 98\nsalud de Javier: 394\nsalud de Quiensea: 2\n---------------\nturno: 99\nsalud de Javier: 397\nsalud de Quiensea: 1\n---------------\nturno: 100\nsalud de Javier: 400\nsalud de Quiensea: 0\nJavier wins\nGAME OVER\n"
     ]
    }
   ],
   "source": [
    "# Tu código aquí\n",
    "import time\n",
    "def play_game(humano, orco):\n",
    "    turno = 0\n",
    "    if humano.nivel > orco.nivel:\n",
    "        primero = orco\n",
    "        segundo = humano\n",
    "    else:\n",
    "        primero = humano\n",
    "        segundo = orco\n",
    "    while True:\n",
    "        turno = turno + 1\n",
    "        print(\"turno:\",turno)\n",
    "        primero.atacar(segundo)\n",
    "        segundo.atacar(primero)\n",
    "        if primero.no_vivo() == True or segundo.no_vivo() == True:\n",
    "            if primero.no_vivo() == True:\n",
    "                print(f\"{segundo.nombre} wins\")\n",
    "                print(\"GAME OVER\")\n",
    "            else:\n",
    "                print(f\"{primero.nombre} wins\")\n",
    "                print(\"GAME OVER\")\n",
    "            break\n",
    "\n",
    "        print(\"---------------\")\n",
    "\n",
    "\n",
    "play_game(Javier, Quiensea)\n",
    "\n",
    "\n"
   ]
  },
  {
   "cell_type": "code",
   "execution_count": null,
   "metadata": {},
   "outputs": [],
   "source": []
  }
 ]
}