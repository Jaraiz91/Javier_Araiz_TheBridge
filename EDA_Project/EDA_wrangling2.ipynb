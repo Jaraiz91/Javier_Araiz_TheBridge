{
 "metadata": {
  "language_info": {
   "codemirror_mode": {
    "name": "ipython",
    "version": 3
   },
   "file_extension": ".py",
   "mimetype": "text/x-python",
   "name": "python",
   "nbconvert_exporter": "python",
   "pygments_lexer": "ipython3",
   "version": "3.7.4"
  },
  "orig_nbformat": 2,
  "kernelspec": {
   "name": "python374jvsc74a57bd0e811f325e74d49824b5fcfc3c0f5c4bcd6461d80b4e4f70be476a8b343d99570",
   "display_name": "Python 3.7.4 64-bit"
  }
 },
 "nbformat": 4,
 "nbformat_minor": 2,
 "cells": [
  {
   "cell_type": "code",
   "execution_count": 1,
   "metadata": {},
   "outputs": [],
   "source": [
    "import pandas as pd\n",
    "import dtale\n",
    "import matplotlib.pyplot as plt\n",
    "import seaborn as sns\n",
    "import numpy as np\n",
    "import os\n",
    "import datetime\n",
    "from utils import normalize_dataframe\n",
    "from utils import count_numbers_in_column"
   ]
  },
  {
   "cell_type": "code",
   "execution_count": 28,
   "metadata": {},
   "outputs": [],
   "source": [
    "GDPR = pd.read_csv('./Datasets/US_GDPGR.csv', header= None)"
   ]
  },
  {
   "cell_type": "code",
   "execution_count": 29,
   "metadata": {},
   "outputs": [
    {
     "output_type": "execute_result",
     "data": {
      "text/plain": [
       "                                                       0             1  \\\n",
       "0                                                 Period  Period Label   \n",
       "1            19701971,\"1971\",0000,\"World\",2.2902,,4.373,           NaN   \n",
       "2      19701971,\"1971\",004,\"Afghanistan\",-2.89839,,-0...           NaN   \n",
       "3        19701971,\"1971\",008,\"Albania\",1.56952,,4.00082,           NaN   \n",
       "4      19701971,\"1971\",012,\"Algeria\",-12.00035,,-9.52...           NaN   \n",
       "...                                                  ...           ...   \n",
       "22815  20182019,\"2019\",862,\"Venezuela (Bolivarian Rep...           NaN   \n",
       "22816      20182019,\"2019\",882,\"Samoa\",1.75115,,2.25179,           NaN   \n",
       "22817         20182019,\"2019\",887,\"Yemen\",-0.22209,,2.1,           NaN   \n",
       "22818     20182019,\"2019\",894,\"Zambia\",-1.4517,,1.44096,           NaN   \n",
       "22819  20182019,\"2019\",926,\"United Kingdom\",0.67718,,...           NaN   \n",
       "\n",
       "             2              3                                      4  \\\n",
       "0      Economy  Economy Label  Annual average growth rate per capita   \n",
       "1          NaN            NaN                                    NaN   \n",
       "2          NaN            NaN                                    NaN   \n",
       "3          NaN            NaN                                    NaN   \n",
       "4          NaN            NaN                                    NaN   \n",
       "...        ...            ...                                    ...   \n",
       "22815      NaN            NaN                                    NaN   \n",
       "22816      NaN            NaN                                    NaN   \n",
       "22817      NaN            NaN                                    NaN   \n",
       "22818      NaN            NaN                                    NaN   \n",
       "22819      NaN            NaN                                    NaN   \n",
       "\n",
       "                                                    5  \\\n",
       "0      Annual average growth rate per capita Footnote   \n",
       "1                                                 NaN   \n",
       "2                                                 NaN   \n",
       "3                                                 NaN   \n",
       "4                                                 NaN   \n",
       "...                                               ...   \n",
       "22815                                             NaN   \n",
       "22816                                             NaN   \n",
       "22817                                             NaN   \n",
       "22818                                             NaN   \n",
       "22819                                             NaN   \n",
       "\n",
       "                                6                                    7  \n",
       "0      Annual average growth rate  Annual average growth rate Footnote  \n",
       "1                             NaN                                  NaN  \n",
       "2                             NaN                                  NaN  \n",
       "3                             NaN                                  NaN  \n",
       "4                             NaN                                  NaN  \n",
       "...                           ...                                  ...  \n",
       "22815                         NaN                                  NaN  \n",
       "22816                         NaN                                  NaN  \n",
       "22817                         NaN                                  NaN  \n",
       "22818                         NaN                                  NaN  \n",
       "22819                         NaN                                  NaN  \n",
       "\n",
       "[22820 rows x 8 columns]"
      ],
      "text/html": "<div>\n<style scoped>\n    .dataframe tbody tr th:only-of-type {\n        vertical-align: middle;\n    }\n\n    .dataframe tbody tr th {\n        vertical-align: top;\n    }\n\n    .dataframe thead th {\n        text-align: right;\n    }\n</style>\n<table border=\"1\" class=\"dataframe\">\n  <thead>\n    <tr style=\"text-align: right;\">\n      <th></th>\n      <th>0</th>\n      <th>1</th>\n      <th>2</th>\n      <th>3</th>\n      <th>4</th>\n      <th>5</th>\n      <th>6</th>\n      <th>7</th>\n    </tr>\n  </thead>\n  <tbody>\n    <tr>\n      <th>0</th>\n      <td>Period</td>\n      <td>Period Label</td>\n      <td>Economy</td>\n      <td>Economy Label</td>\n      <td>Annual average growth rate per capita</td>\n      <td>Annual average growth rate per capita Footnote</td>\n      <td>Annual average growth rate</td>\n      <td>Annual average growth rate Footnote</td>\n    </tr>\n    <tr>\n      <th>1</th>\n      <td>19701971,\"1971\",0000,\"World\",2.2902,,4.373,</td>\n      <td>NaN</td>\n      <td>NaN</td>\n      <td>NaN</td>\n      <td>NaN</td>\n      <td>NaN</td>\n      <td>NaN</td>\n      <td>NaN</td>\n    </tr>\n    <tr>\n      <th>2</th>\n      <td>19701971,\"1971\",004,\"Afghanistan\",-2.89839,,-0...</td>\n      <td>NaN</td>\n      <td>NaN</td>\n      <td>NaN</td>\n      <td>NaN</td>\n      <td>NaN</td>\n      <td>NaN</td>\n      <td>NaN</td>\n    </tr>\n    <tr>\n      <th>3</th>\n      <td>19701971,\"1971\",008,\"Albania\",1.56952,,4.00082,</td>\n      <td>NaN</td>\n      <td>NaN</td>\n      <td>NaN</td>\n      <td>NaN</td>\n      <td>NaN</td>\n      <td>NaN</td>\n      <td>NaN</td>\n    </tr>\n    <tr>\n      <th>4</th>\n      <td>19701971,\"1971\",012,\"Algeria\",-12.00035,,-9.52...</td>\n      <td>NaN</td>\n      <td>NaN</td>\n      <td>NaN</td>\n      <td>NaN</td>\n      <td>NaN</td>\n      <td>NaN</td>\n      <td>NaN</td>\n    </tr>\n    <tr>\n      <th>...</th>\n      <td>...</td>\n      <td>...</td>\n      <td>...</td>\n      <td>...</td>\n      <td>...</td>\n      <td>...</td>\n      <td>...</td>\n      <td>...</td>\n    </tr>\n    <tr>\n      <th>22815</th>\n      <td>20182019,\"2019\",862,\"Venezuela (Bolivarian Rep...</td>\n      <td>NaN</td>\n      <td>NaN</td>\n      <td>NaN</td>\n      <td>NaN</td>\n      <td>NaN</td>\n      <td>NaN</td>\n      <td>NaN</td>\n    </tr>\n    <tr>\n      <th>22816</th>\n      <td>20182019,\"2019\",882,\"Samoa\",1.75115,,2.25179,</td>\n      <td>NaN</td>\n      <td>NaN</td>\n      <td>NaN</td>\n      <td>NaN</td>\n      <td>NaN</td>\n      <td>NaN</td>\n      <td>NaN</td>\n    </tr>\n    <tr>\n      <th>22817</th>\n      <td>20182019,\"2019\",887,\"Yemen\",-0.22209,,2.1,</td>\n      <td>NaN</td>\n      <td>NaN</td>\n      <td>NaN</td>\n      <td>NaN</td>\n      <td>NaN</td>\n      <td>NaN</td>\n      <td>NaN</td>\n    </tr>\n    <tr>\n      <th>22818</th>\n      <td>20182019,\"2019\",894,\"Zambia\",-1.4517,,1.44096,</td>\n      <td>NaN</td>\n      <td>NaN</td>\n      <td>NaN</td>\n      <td>NaN</td>\n      <td>NaN</td>\n      <td>NaN</td>\n      <td>NaN</td>\n    </tr>\n    <tr>\n      <th>22819</th>\n      <td>20182019,\"2019\",926,\"United Kingdom\",0.67718,,...</td>\n      <td>NaN</td>\n      <td>NaN</td>\n      <td>NaN</td>\n      <td>NaN</td>\n      <td>NaN</td>\n      <td>NaN</td>\n      <td>NaN</td>\n    </tr>\n  </tbody>\n</table>\n<p>22820 rows × 8 columns</p>\n</div>"
     },
     "metadata": {},
     "execution_count": 29
    }
   ],
   "source": [
    "GDPR"
   ]
  },
  {
   "cell_type": "code",
   "execution_count": 30,
   "metadata": {},
   "outputs": [],
   "source": [
    "Titles = GDPR.iloc[0, :]"
   ]
  },
  {
   "cell_type": "code",
   "execution_count": 31,
   "metadata": {},
   "outputs": [],
   "source": [
    "GDPR = normalize_dataframe(GDPR, sep= ',')"
   ]
  },
  {
   "cell_type": "code",
   "execution_count": 36,
   "metadata": {},
   "outputs": [
    {
     "output_type": "execute_result",
     "data": {
      "text/plain": [
       "0        Period     NaN   NaN                               NaN        NaN  \\\n",
       "1      19701971  \"1971\"  0000                           \"World\"     2.2902   \n",
       "2      19701971  \"1971\"   004                     \"Afghanistan\"   -2.89839   \n",
       "3      19701971  \"1971\"   008                         \"Albania\"    1.56952   \n",
       "4      19701971  \"1971\"   012                         \"Algeria\"  -12.00035   \n",
       "5      19701971  \"1971\"   020                         \"Andorra\"   -0.65441   \n",
       "...         ...     ...   ...                               ...        ...   \n",
       "22815  20182019  \"2019\"   862  \"Venezuela (Bolivarian Rep. of)\"  -34.15367   \n",
       "22816  20182019  \"2019\"   882                           \"Samoa\"    1.75115   \n",
       "22817  20182019  \"2019\"   887                           \"Yemen\"   -0.22209   \n",
       "22818  20182019  \"2019\"   894                          \"Zambia\"    -1.4517   \n",
       "22819  20182019  \"2019\"   926                  \"United Kingdom\"    0.67718   \n",
       "\n",
       "0     NaN       NaN NaN   NaN  \n",
       "1             4.373      None  \n",
       "2          -0.27571      None  \n",
       "3           4.00082      None  \n",
       "4          -9.52272      None  \n",
       "5           4.64947      None  \n",
       "...    ..       ...  ..   ...  \n",
       "22815           -35      None  \n",
       "22816       2.25179      None  \n",
       "22817           2.1      None  \n",
       "22818       1.44096      None  \n",
       "22819       1.26091      None  \n",
       "\n",
       "[22819 rows x 9 columns]"
      ],
      "text/html": "<div>\n<style scoped>\n    .dataframe tbody tr th:only-of-type {\n        vertical-align: middle;\n    }\n\n    .dataframe tbody tr th {\n        vertical-align: top;\n    }\n\n    .dataframe thead th {\n        text-align: right;\n    }\n</style>\n<table border=\"1\" class=\"dataframe\">\n  <thead>\n    <tr style=\"text-align: right;\">\n      <th></th>\n      <th>Period</th>\n      <th>NaN</th>\n      <th>NaN</th>\n      <th>NaN</th>\n      <th>NaN</th>\n      <th>NaN</th>\n      <th>NaN</th>\n      <th>NaN</th>\n      <th>NaN</th>\n    </tr>\n  </thead>\n  <tbody>\n    <tr>\n      <th>1</th>\n      <td>19701971</td>\n      <td>\"1971\"</td>\n      <td>0000</td>\n      <td>\"World\"</td>\n      <td>2.2902</td>\n      <td></td>\n      <td>4.373</td>\n      <td></td>\n      <td>None</td>\n    </tr>\n    <tr>\n      <th>2</th>\n      <td>19701971</td>\n      <td>\"1971\"</td>\n      <td>004</td>\n      <td>\"Afghanistan\"</td>\n      <td>-2.89839</td>\n      <td></td>\n      <td>-0.27571</td>\n      <td></td>\n      <td>None</td>\n    </tr>\n    <tr>\n      <th>3</th>\n      <td>19701971</td>\n      <td>\"1971\"</td>\n      <td>008</td>\n      <td>\"Albania\"</td>\n      <td>1.56952</td>\n      <td></td>\n      <td>4.00082</td>\n      <td></td>\n      <td>None</td>\n    </tr>\n    <tr>\n      <th>4</th>\n      <td>19701971</td>\n      <td>\"1971\"</td>\n      <td>012</td>\n      <td>\"Algeria\"</td>\n      <td>-12.00035</td>\n      <td></td>\n      <td>-9.52272</td>\n      <td></td>\n      <td>None</td>\n    </tr>\n    <tr>\n      <th>5</th>\n      <td>19701971</td>\n      <td>\"1971\"</td>\n      <td>020</td>\n      <td>\"Andorra\"</td>\n      <td>-0.65441</td>\n      <td></td>\n      <td>4.64947</td>\n      <td></td>\n      <td>None</td>\n    </tr>\n    <tr>\n      <th>...</th>\n      <td>...</td>\n      <td>...</td>\n      <td>...</td>\n      <td>...</td>\n      <td>...</td>\n      <td>...</td>\n      <td>...</td>\n      <td>...</td>\n      <td>...</td>\n    </tr>\n    <tr>\n      <th>22815</th>\n      <td>20182019</td>\n      <td>\"2019\"</td>\n      <td>862</td>\n      <td>\"Venezuela (Bolivarian Rep. of)\"</td>\n      <td>-34.15367</td>\n      <td></td>\n      <td>-35</td>\n      <td></td>\n      <td>None</td>\n    </tr>\n    <tr>\n      <th>22816</th>\n      <td>20182019</td>\n      <td>\"2019\"</td>\n      <td>882</td>\n      <td>\"Samoa\"</td>\n      <td>1.75115</td>\n      <td></td>\n      <td>2.25179</td>\n      <td></td>\n      <td>None</td>\n    </tr>\n    <tr>\n      <th>22817</th>\n      <td>20182019</td>\n      <td>\"2019\"</td>\n      <td>887</td>\n      <td>\"Yemen\"</td>\n      <td>-0.22209</td>\n      <td></td>\n      <td>2.1</td>\n      <td></td>\n      <td>None</td>\n    </tr>\n    <tr>\n      <th>22818</th>\n      <td>20182019</td>\n      <td>\"2019\"</td>\n      <td>894</td>\n      <td>\"Zambia\"</td>\n      <td>-1.4517</td>\n      <td></td>\n      <td>1.44096</td>\n      <td></td>\n      <td>None</td>\n    </tr>\n    <tr>\n      <th>22819</th>\n      <td>20182019</td>\n      <td>\"2019\"</td>\n      <td>926</td>\n      <td>\"United Kingdom\"</td>\n      <td>0.67718</td>\n      <td></td>\n      <td>1.26091</td>\n      <td></td>\n      <td>None</td>\n    </tr>\n  </tbody>\n</table>\n<p>22819 rows × 9 columns</p>\n</div>"
     },
     "metadata": {},
     "execution_count": 36
    }
   ],
   "source": [
    "GDPR.dropna(how='all',axis= 1)"
   ]
  },
  {
   "cell_type": "code",
   "execution_count": 33,
   "metadata": {},
   "outputs": [
    {
     "output_type": "error",
     "ename": "ValueError",
     "evalue": "Length mismatch: Expected axis has 9 elements, new values have 8 elements",
     "traceback": [
      "\u001b[1;31m---------------------------------------------------------------------------\u001b[0m",
      "\u001b[1;31mValueError\u001b[0m                                Traceback (most recent call last)",
      "\u001b[1;32m<ipython-input-33-5c0930b0d68e>\u001b[0m in \u001b[0;36m<module>\u001b[1;34m\u001b[0m\n\u001b[1;32m----> 1\u001b[1;33m \u001b[0mGDPR\u001b[0m\u001b[1;33m.\u001b[0m\u001b[0mcolumns\u001b[0m \u001b[1;33m=\u001b[0m \u001b[0mTitles\u001b[0m\u001b[1;33m\u001b[0m\u001b[1;33m\u001b[0m\u001b[0m\n\u001b[0m",
      "\u001b[1;32m~\\AppData\\Local\\Programs\\Python\\Python37\\lib\\site-packages\\pandas\\core\\generic.py\u001b[0m in \u001b[0;36m__setattr__\u001b[1;34m(self, name, value)\u001b[0m\n\u001b[0;32m   5476\u001b[0m         \u001b[1;32mtry\u001b[0m\u001b[1;33m:\u001b[0m\u001b[1;33m\u001b[0m\u001b[1;33m\u001b[0m\u001b[0m\n\u001b[0;32m   5477\u001b[0m             \u001b[0mobject\u001b[0m\u001b[1;33m.\u001b[0m\u001b[0m__getattribute__\u001b[0m\u001b[1;33m(\u001b[0m\u001b[0mself\u001b[0m\u001b[1;33m,\u001b[0m \u001b[0mname\u001b[0m\u001b[1;33m)\u001b[0m\u001b[1;33m\u001b[0m\u001b[1;33m\u001b[0m\u001b[0m\n\u001b[1;32m-> 5478\u001b[1;33m             \u001b[1;32mreturn\u001b[0m \u001b[0mobject\u001b[0m\u001b[1;33m.\u001b[0m\u001b[0m__setattr__\u001b[0m\u001b[1;33m(\u001b[0m\u001b[0mself\u001b[0m\u001b[1;33m,\u001b[0m \u001b[0mname\u001b[0m\u001b[1;33m,\u001b[0m \u001b[0mvalue\u001b[0m\u001b[1;33m)\u001b[0m\u001b[1;33m\u001b[0m\u001b[1;33m\u001b[0m\u001b[0m\n\u001b[0m\u001b[0;32m   5479\u001b[0m         \u001b[1;32mexcept\u001b[0m \u001b[0mAttributeError\u001b[0m\u001b[1;33m:\u001b[0m\u001b[1;33m\u001b[0m\u001b[1;33m\u001b[0m\u001b[0m\n\u001b[0;32m   5480\u001b[0m             \u001b[1;32mpass\u001b[0m\u001b[1;33m\u001b[0m\u001b[1;33m\u001b[0m\u001b[0m\n",
      "\u001b[1;32mpandas\\_libs\\properties.pyx\u001b[0m in \u001b[0;36mpandas._libs.properties.AxisProperty.__set__\u001b[1;34m()\u001b[0m\n",
      "\u001b[1;32m~\\AppData\\Local\\Programs\\Python\\Python37\\lib\\site-packages\\pandas\\core\\generic.py\u001b[0m in \u001b[0;36m_set_axis\u001b[1;34m(self, axis, labels)\u001b[0m\n\u001b[0;32m    668\u001b[0m     \u001b[1;32mdef\u001b[0m \u001b[0m_set_axis\u001b[0m\u001b[1;33m(\u001b[0m\u001b[0mself\u001b[0m\u001b[1;33m,\u001b[0m \u001b[0maxis\u001b[0m\u001b[1;33m:\u001b[0m \u001b[0mint\u001b[0m\u001b[1;33m,\u001b[0m \u001b[0mlabels\u001b[0m\u001b[1;33m:\u001b[0m \u001b[0mIndex\u001b[0m\u001b[1;33m)\u001b[0m \u001b[1;33m->\u001b[0m \u001b[1;32mNone\u001b[0m\u001b[1;33m:\u001b[0m\u001b[1;33m\u001b[0m\u001b[1;33m\u001b[0m\u001b[0m\n\u001b[0;32m    669\u001b[0m         \u001b[0mlabels\u001b[0m \u001b[1;33m=\u001b[0m \u001b[0mensure_index\u001b[0m\u001b[1;33m(\u001b[0m\u001b[0mlabels\u001b[0m\u001b[1;33m)\u001b[0m\u001b[1;33m\u001b[0m\u001b[1;33m\u001b[0m\u001b[0m\n\u001b[1;32m--> 670\u001b[1;33m         \u001b[0mself\u001b[0m\u001b[1;33m.\u001b[0m\u001b[0m_mgr\u001b[0m\u001b[1;33m.\u001b[0m\u001b[0mset_axis\u001b[0m\u001b[1;33m(\u001b[0m\u001b[0maxis\u001b[0m\u001b[1;33m,\u001b[0m \u001b[0mlabels\u001b[0m\u001b[1;33m)\u001b[0m\u001b[1;33m\u001b[0m\u001b[1;33m\u001b[0m\u001b[0m\n\u001b[0m\u001b[0;32m    671\u001b[0m         \u001b[0mself\u001b[0m\u001b[1;33m.\u001b[0m\u001b[0m_clear_item_cache\u001b[0m\u001b[1;33m(\u001b[0m\u001b[1;33m)\u001b[0m\u001b[1;33m\u001b[0m\u001b[1;33m\u001b[0m\u001b[0m\n\u001b[0;32m    672\u001b[0m \u001b[1;33m\u001b[0m\u001b[0m\n",
      "\u001b[1;32m~\\AppData\\Local\\Programs\\Python\\Python37\\lib\\site-packages\\pandas\\core\\internals\\managers.py\u001b[0m in \u001b[0;36mset_axis\u001b[1;34m(self, axis, new_labels)\u001b[0m\n\u001b[0;32m    219\u001b[0m         \u001b[1;32mif\u001b[0m \u001b[0mnew_len\u001b[0m \u001b[1;33m!=\u001b[0m \u001b[0mold_len\u001b[0m\u001b[1;33m:\u001b[0m\u001b[1;33m\u001b[0m\u001b[1;33m\u001b[0m\u001b[0m\n\u001b[0;32m    220\u001b[0m             raise ValueError(\n\u001b[1;32m--> 221\u001b[1;33m                 \u001b[1;34mf\"Length mismatch: Expected axis has {old_len} elements, new \"\u001b[0m\u001b[1;33m\u001b[0m\u001b[1;33m\u001b[0m\u001b[0m\n\u001b[0m\u001b[0;32m    222\u001b[0m                 \u001b[1;34mf\"values have {new_len} elements\"\u001b[0m\u001b[1;33m\u001b[0m\u001b[1;33m\u001b[0m\u001b[0m\n\u001b[0;32m    223\u001b[0m             )\n",
      "\u001b[1;31mValueError\u001b[0m: Length mismatch: Expected axis has 9 elements, new values have 8 elements"
     ]
    }
   ],
   "source": [
    "GDPR.columns = Titles"
   ]
  },
  {
   "cell_type": "code",
   "execution_count": null,
   "metadata": {},
   "outputs": [],
   "source": []
  }
 ]
}