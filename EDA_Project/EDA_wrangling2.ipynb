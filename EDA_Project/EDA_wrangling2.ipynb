{
 "metadata": {
  "language_info": {
   "codemirror_mode": {
    "name": "ipython",
    "version": 3
   },
   "file_extension": ".py",
   "mimetype": "text/x-python",
   "name": "python",
   "nbconvert_exporter": "python",
   "pygments_lexer": "ipython3",
   "version": "3.7.4"
  },
  "orig_nbformat": 2,
  "kernelspec": {
   "name": "python374jvsc74a57bd0e811f325e74d49824b5fcfc3c0f5c4bcd6461d80b4e4f70be476a8b343d99570",
   "display_name": "Python 3.7.4 64-bit"
  }
 },
 "nbformat": 4,
 "nbformat_minor": 2,
 "cells": [
  {
   "cell_type": "code",
   "execution_count": 2,
   "metadata": {},
   "outputs": [],
   "source": [
    "import pandas as pd\n",
    "import dtale\n",
    "import matplotlib.pyplot as plt\n",
    "import seaborn as sns\n",
    "import numpy as np\n",
    "import os\n",
    "import datetime\n",
    "from utils import normalize_dataframe\n",
    "from utils import count_numbers_in_column"
   ]
  },
  {
   "cell_type": "code",
   "execution_count": 3,
   "metadata": {},
   "outputs": [],
   "source": [
    "GDPR = pd.read_csv('./Datasets/US_GDPGR.csv', header= None)"
   ]
  },
  {
   "cell_type": "code",
   "execution_count": 4,
   "metadata": {},
   "outputs": [
    {
     "output_type": "execute_result",
     "data": {
      "text/plain": [
       "                                                       0             1  \\\n",
       "0                                                 Period  Period Label   \n",
       "1            19701971,\"1971\",0000,\"World\",2.2902,,4.373,           NaN   \n",
       "2      19701971,\"1971\",004,\"Afghanistan\",-2.89839,,-0...           NaN   \n",
       "3        19701971,\"1971\",008,\"Albania\",1.56952,,4.00082,           NaN   \n",
       "4      19701971,\"1971\",012,\"Algeria\",-12.00035,,-9.52...           NaN   \n",
       "...                                                  ...           ...   \n",
       "22815  20182019,\"2019\",862,\"Venezuela (Bolivarian Rep...           NaN   \n",
       "22816      20182019,\"2019\",882,\"Samoa\",1.75115,,2.25179,           NaN   \n",
       "22817         20182019,\"2019\",887,\"Yemen\",-0.22209,,2.1,           NaN   \n",
       "22818     20182019,\"2019\",894,\"Zambia\",-1.4517,,1.44096,           NaN   \n",
       "22819  20182019,\"2019\",926,\"United Kingdom\",0.67718,,...           NaN   \n",
       "\n",
       "             2              3                                      4  \\\n",
       "0      Economy  Economy Label  Annual average growth rate per capita   \n",
       "1          NaN            NaN                                    NaN   \n",
       "2          NaN            NaN                                    NaN   \n",
       "3          NaN            NaN                                    NaN   \n",
       "4          NaN            NaN                                    NaN   \n",
       "...        ...            ...                                    ...   \n",
       "22815      NaN            NaN                                    NaN   \n",
       "22816      NaN            NaN                                    NaN   \n",
       "22817      NaN            NaN                                    NaN   \n",
       "22818      NaN            NaN                                    NaN   \n",
       "22819      NaN            NaN                                    NaN   \n",
       "\n",
       "                                                    5  \\\n",
       "0      Annual average growth rate per capita Footnote   \n",
       "1                                                 NaN   \n",
       "2                                                 NaN   \n",
       "3                                                 NaN   \n",
       "4                                                 NaN   \n",
       "...                                               ...   \n",
       "22815                                             NaN   \n",
       "22816                                             NaN   \n",
       "22817                                             NaN   \n",
       "22818                                             NaN   \n",
       "22819                                             NaN   \n",
       "\n",
       "                                6                                    7  \n",
       "0      Annual average growth rate  Annual average growth rate Footnote  \n",
       "1                             NaN                                  NaN  \n",
       "2                             NaN                                  NaN  \n",
       "3                             NaN                                  NaN  \n",
       "4                             NaN                                  NaN  \n",
       "...                           ...                                  ...  \n",
       "22815                         NaN                                  NaN  \n",
       "22816                         NaN                                  NaN  \n",
       "22817                         NaN                                  NaN  \n",
       "22818                         NaN                                  NaN  \n",
       "22819                         NaN                                  NaN  \n",
       "\n",
       "[22820 rows x 8 columns]"
      ],
      "text/html": "<div>\n<style scoped>\n    .dataframe tbody tr th:only-of-type {\n        vertical-align: middle;\n    }\n\n    .dataframe tbody tr th {\n        vertical-align: top;\n    }\n\n    .dataframe thead th {\n        text-align: right;\n    }\n</style>\n<table border=\"1\" class=\"dataframe\">\n  <thead>\n    <tr style=\"text-align: right;\">\n      <th></th>\n      <th>0</th>\n      <th>1</th>\n      <th>2</th>\n      <th>3</th>\n      <th>4</th>\n      <th>5</th>\n      <th>6</th>\n      <th>7</th>\n    </tr>\n  </thead>\n  <tbody>\n    <tr>\n      <th>0</th>\n      <td>Period</td>\n      <td>Period Label</td>\n      <td>Economy</td>\n      <td>Economy Label</td>\n      <td>Annual average growth rate per capita</td>\n      <td>Annual average growth rate per capita Footnote</td>\n      <td>Annual average growth rate</td>\n      <td>Annual average growth rate Footnote</td>\n    </tr>\n    <tr>\n      <th>1</th>\n      <td>19701971,\"1971\",0000,\"World\",2.2902,,4.373,</td>\n      <td>NaN</td>\n      <td>NaN</td>\n      <td>NaN</td>\n      <td>NaN</td>\n      <td>NaN</td>\n      <td>NaN</td>\n      <td>NaN</td>\n    </tr>\n    <tr>\n      <th>2</th>\n      <td>19701971,\"1971\",004,\"Afghanistan\",-2.89839,,-0...</td>\n      <td>NaN</td>\n      <td>NaN</td>\n      <td>NaN</td>\n      <td>NaN</td>\n      <td>NaN</td>\n      <td>NaN</td>\n      <td>NaN</td>\n    </tr>\n    <tr>\n      <th>3</th>\n      <td>19701971,\"1971\",008,\"Albania\",1.56952,,4.00082,</td>\n      <td>NaN</td>\n      <td>NaN</td>\n      <td>NaN</td>\n      <td>NaN</td>\n      <td>NaN</td>\n      <td>NaN</td>\n      <td>NaN</td>\n    </tr>\n    <tr>\n      <th>4</th>\n      <td>19701971,\"1971\",012,\"Algeria\",-12.00035,,-9.52...</td>\n      <td>NaN</td>\n      <td>NaN</td>\n      <td>NaN</td>\n      <td>NaN</td>\n      <td>NaN</td>\n      <td>NaN</td>\n      <td>NaN</td>\n    </tr>\n    <tr>\n      <th>...</th>\n      <td>...</td>\n      <td>...</td>\n      <td>...</td>\n      <td>...</td>\n      <td>...</td>\n      <td>...</td>\n      <td>...</td>\n      <td>...</td>\n    </tr>\n    <tr>\n      <th>22815</th>\n      <td>20182019,\"2019\",862,\"Venezuela (Bolivarian Rep...</td>\n      <td>NaN</td>\n      <td>NaN</td>\n      <td>NaN</td>\n      <td>NaN</td>\n      <td>NaN</td>\n      <td>NaN</td>\n      <td>NaN</td>\n    </tr>\n    <tr>\n      <th>22816</th>\n      <td>20182019,\"2019\",882,\"Samoa\",1.75115,,2.25179,</td>\n      <td>NaN</td>\n      <td>NaN</td>\n      <td>NaN</td>\n      <td>NaN</td>\n      <td>NaN</td>\n      <td>NaN</td>\n      <td>NaN</td>\n    </tr>\n    <tr>\n      <th>22817</th>\n      <td>20182019,\"2019\",887,\"Yemen\",-0.22209,,2.1,</td>\n      <td>NaN</td>\n      <td>NaN</td>\n      <td>NaN</td>\n      <td>NaN</td>\n      <td>NaN</td>\n      <td>NaN</td>\n      <td>NaN</td>\n    </tr>\n    <tr>\n      <th>22818</th>\n      <td>20182019,\"2019\",894,\"Zambia\",-1.4517,,1.44096,</td>\n      <td>NaN</td>\n      <td>NaN</td>\n      <td>NaN</td>\n      <td>NaN</td>\n      <td>NaN</td>\n      <td>NaN</td>\n      <td>NaN</td>\n    </tr>\n    <tr>\n      <th>22819</th>\n      <td>20182019,\"2019\",926,\"United Kingdom\",0.67718,,...</td>\n      <td>NaN</td>\n      <td>NaN</td>\n      <td>NaN</td>\n      <td>NaN</td>\n      <td>NaN</td>\n      <td>NaN</td>\n      <td>NaN</td>\n    </tr>\n  </tbody>\n</table>\n<p>22820 rows × 8 columns</p>\n</div>"
     },
     "metadata": {},
     "execution_count": 4
    }
   ],
   "source": [
    "GDPR"
   ]
  },
  {
   "cell_type": "code",
   "execution_count": 5,
   "metadata": {},
   "outputs": [],
   "source": [
    "Titles = GDPR.iloc[0, :]"
   ]
  },
  {
   "cell_type": "code",
   "execution_count": 6,
   "metadata": {},
   "outputs": [],
   "source": [
    "GDPR = normalize_dataframe(GDPR, sep= ',')"
   ]
  },
  {
   "cell_type": "code",
   "execution_count": 7,
   "metadata": {},
   "outputs": [],
   "source": [
    "GDPR = GDPR.iloc[:,:-1]"
   ]
  },
  {
   "cell_type": "code",
   "execution_count": 8,
   "metadata": {},
   "outputs": [],
   "source": [
    "GDPR.columns = Titles"
   ]
  },
  {
   "cell_type": "code",
   "execution_count": 9,
   "metadata": {},
   "outputs": [],
   "source": [
    "from utils import drop_quot_marks"
   ]
  },
  {
   "cell_type": "code",
   "execution_count": 10,
   "metadata": {},
   "outputs": [],
   "source": [
    "GDPR = drop_quot_marks(GDPR, 'Period Label')"
   ]
  },
  {
   "cell_type": "code",
   "execution_count": 11,
   "metadata": {},
   "outputs": [
    {
     "output_type": "execute_result",
     "data": {
      "text/plain": [
       "0        Period Period Label Economy                     Economy Label  \\\n",
       "1      19701971         1971    0000                           \"World\"   \n",
       "2      19701971         1971     004                     \"Afghanistan\"   \n",
       "3      19701971         1971     008                         \"Albania\"   \n",
       "4      19701971         1971     012                         \"Algeria\"   \n",
       "5      19701971         1971     020                         \"Andorra\"   \n",
       "...         ...          ...     ...                               ...   \n",
       "22815  20182019         2019     862  \"Venezuela (Bolivarian Rep. of)\"   \n",
       "22816  20182019         2019     882                           \"Samoa\"   \n",
       "22817  20182019         2019     887                           \"Yemen\"   \n",
       "22818  20182019         2019     894                          \"Zambia\"   \n",
       "22819  20182019         2019     926                  \"United Kingdom\"   \n",
       "\n",
       "0     Annual average growth rate per capita  \\\n",
       "1                                    2.2902   \n",
       "2                                  -2.89839   \n",
       "3                                   1.56952   \n",
       "4                                 -12.00035   \n",
       "5                                  -0.65441   \n",
       "...                                     ...   \n",
       "22815                             -34.15367   \n",
       "22816                               1.75115   \n",
       "22817                              -0.22209   \n",
       "22818                               -1.4517   \n",
       "22819                               0.67718   \n",
       "\n",
       "0     Annual average growth rate per capita Footnote  \\\n",
       "1                                                      \n",
       "2                                                      \n",
       "3                                                      \n",
       "4                                                      \n",
       "5                                                      \n",
       "...                                              ...   \n",
       "22815                                                  \n",
       "22816                                                  \n",
       "22817                                                  \n",
       "22818                                                  \n",
       "22819                                                  \n",
       "\n",
       "0     Annual average growth rate Annual average growth rate Footnote  \n",
       "1                          4.373                                      \n",
       "2                       -0.27571                                      \n",
       "3                        4.00082                                      \n",
       "4                       -9.52272                                      \n",
       "5                        4.64947                                      \n",
       "...                          ...                                 ...  \n",
       "22815                        -35                                      \n",
       "22816                    2.25179                                      \n",
       "22817                        2.1                                      \n",
       "22818                    1.44096                                      \n",
       "22819                    1.26091                                      \n",
       "\n",
       "[22819 rows x 8 columns]"
      ],
      "text/html": "<div>\n<style scoped>\n    .dataframe tbody tr th:only-of-type {\n        vertical-align: middle;\n    }\n\n    .dataframe tbody tr th {\n        vertical-align: top;\n    }\n\n    .dataframe thead th {\n        text-align: right;\n    }\n</style>\n<table border=\"1\" class=\"dataframe\">\n  <thead>\n    <tr style=\"text-align: right;\">\n      <th></th>\n      <th>Period</th>\n      <th>Period Label</th>\n      <th>Economy</th>\n      <th>Economy Label</th>\n      <th>Annual average growth rate per capita</th>\n      <th>Annual average growth rate per capita Footnote</th>\n      <th>Annual average growth rate</th>\n      <th>Annual average growth rate Footnote</th>\n    </tr>\n  </thead>\n  <tbody>\n    <tr>\n      <th>1</th>\n      <td>19701971</td>\n      <td>1971</td>\n      <td>0000</td>\n      <td>\"World\"</td>\n      <td>2.2902</td>\n      <td></td>\n      <td>4.373</td>\n      <td></td>\n    </tr>\n    <tr>\n      <th>2</th>\n      <td>19701971</td>\n      <td>1971</td>\n      <td>004</td>\n      <td>\"Afghanistan\"</td>\n      <td>-2.89839</td>\n      <td></td>\n      <td>-0.27571</td>\n      <td></td>\n    </tr>\n    <tr>\n      <th>3</th>\n      <td>19701971</td>\n      <td>1971</td>\n      <td>008</td>\n      <td>\"Albania\"</td>\n      <td>1.56952</td>\n      <td></td>\n      <td>4.00082</td>\n      <td></td>\n    </tr>\n    <tr>\n      <th>4</th>\n      <td>19701971</td>\n      <td>1971</td>\n      <td>012</td>\n      <td>\"Algeria\"</td>\n      <td>-12.00035</td>\n      <td></td>\n      <td>-9.52272</td>\n      <td></td>\n    </tr>\n    <tr>\n      <th>5</th>\n      <td>19701971</td>\n      <td>1971</td>\n      <td>020</td>\n      <td>\"Andorra\"</td>\n      <td>-0.65441</td>\n      <td></td>\n      <td>4.64947</td>\n      <td></td>\n    </tr>\n    <tr>\n      <th>...</th>\n      <td>...</td>\n      <td>...</td>\n      <td>...</td>\n      <td>...</td>\n      <td>...</td>\n      <td>...</td>\n      <td>...</td>\n      <td>...</td>\n    </tr>\n    <tr>\n      <th>22815</th>\n      <td>20182019</td>\n      <td>2019</td>\n      <td>862</td>\n      <td>\"Venezuela (Bolivarian Rep. of)\"</td>\n      <td>-34.15367</td>\n      <td></td>\n      <td>-35</td>\n      <td></td>\n    </tr>\n    <tr>\n      <th>22816</th>\n      <td>20182019</td>\n      <td>2019</td>\n      <td>882</td>\n      <td>\"Samoa\"</td>\n      <td>1.75115</td>\n      <td></td>\n      <td>2.25179</td>\n      <td></td>\n    </tr>\n    <tr>\n      <th>22817</th>\n      <td>20182019</td>\n      <td>2019</td>\n      <td>887</td>\n      <td>\"Yemen\"</td>\n      <td>-0.22209</td>\n      <td></td>\n      <td>2.1</td>\n      <td></td>\n    </tr>\n    <tr>\n      <th>22818</th>\n      <td>20182019</td>\n      <td>2019</td>\n      <td>894</td>\n      <td>\"Zambia\"</td>\n      <td>-1.4517</td>\n      <td></td>\n      <td>1.44096</td>\n      <td></td>\n    </tr>\n    <tr>\n      <th>22819</th>\n      <td>20182019</td>\n      <td>2019</td>\n      <td>926</td>\n      <td>\"United Kingdom\"</td>\n      <td>0.67718</td>\n      <td></td>\n      <td>1.26091</td>\n      <td></td>\n    </tr>\n  </tbody>\n</table>\n<p>22819 rows × 8 columns</p>\n</div>"
     },
     "metadata": {},
     "execution_count": 11
    }
   ],
   "source": [
    "GDPR"
   ]
  },
  {
   "cell_type": "code",
   "execution_count": 12,
   "metadata": {},
   "outputs": [],
   "source": [
    "GDPR = GDPR[GDPR['Economy Label'] == '\"World\"']"
   ]
  },
  {
   "cell_type": "code",
   "execution_count": 13,
   "metadata": {},
   "outputs": [],
   "source": [
    "Global_gdpr = GDPR.drop(columns=['Period', 'Economy','Economy Label', 'Annual average growth rate per capita Footnote','Annual average growth rate Footnote'])"
   ]
  },
  {
   "cell_type": "code",
   "execution_count": 14,
   "metadata": {},
   "outputs": [],
   "source": [
    "Global_gdpr = Global_gdpr.reset_index(drop=True)"
   ]
  },
  {
   "cell_type": "code",
   "execution_count": 15,
   "metadata": {},
   "outputs": [],
   "source": [
    "Global_gdpr.to_csv('./Def_Data/df_globalgdpr.csv')"
   ]
  },
  {
   "cell_type": "code",
   "execution_count": 21,
   "metadata": {},
   "outputs": [],
   "source": [
    "GDP_Total = pd.read_csv('./Def_Data/US_GDPTota.csv', header=None)"
   ]
  },
  {
   "cell_type": "code",
   "execution_count": 25,
   "metadata": {},
   "outputs": [],
   "source": [
    "GDP_Title = GDP_Total.iloc[0, :]"
   ]
  },
  {
   "cell_type": "code",
   "execution_count": 31,
   "metadata": {},
   "outputs": [],
   "source": [
    "GDP_Total= normalize_dataframe(GDP_Total, sep=',')"
   ]
  },
  {
   "cell_type": "code",
   "execution_count": 32,
   "metadata": {},
   "outputs": [],
   "source": [
    "GDP_Total = GDP_Total.iloc[:, :-1]"
   ]
  },
  {
   "cell_type": "code",
   "execution_count": 34,
   "metadata": {},
   "outputs": [],
   "source": [
    "GDP_Total.columns = GDP_Title"
   ]
  },
  {
   "cell_type": "code",
   "execution_count": 36,
   "metadata": {},
   "outputs": [
    {
     "output_type": "execute_result",
     "data": {
      "text/plain": [
       "array(['\"World\"', '\"Afghanistan\"', '\"Albania\"', '\"Algeria\"', '\"Andorra\"',\n",
       "       '\"Angola\"', '\"Antigua and Barbuda\"', '\"Argentina\"', '\"Australia\"',\n",
       "       '\"Austria\"', '\"Bahamas\"', '\"Bahrain\"', '\"Bangladesh\"',\n",
       "       '\"Barbados\"', '\"Belgium\"', '\"Bermuda\"', '\"Bhutan\"',\n",
       "       '\"Bolivia (Plurinational State of)\"', '\"Botswana\"', '\"Brazil\"',\n",
       "       '\"Belize\"', '\"Solomon Islands\"', '\"British Virgin Islands\"',\n",
       "       '\"Brunei Darussalam\"', '\"Bulgaria\"', '\"Myanmar\"', '\"Burundi\"',\n",
       "       '\"Cambodia\"', '\"Cameroon\"', '\"Canada\"', '\"Cabo Verde\"',\n",
       "       '\"Cayman Islands\"', '\"Central African Republic\"', '\"Sri Lanka\"',\n",
       "       '\"Chad\"', '\"Chile\"', '\"China\"', '\"China', '\"Colombia\"',\n",
       "       '\"Comoros\"', '\"Congo\"', '\"Congo', '\"Cook Islands\"', '\"Costa Rica\"',\n",
       "       '\"Cuba\"', '\"Cyprus\"', '\"Czechoslovakia\"', '\"Benin\"', '\"Denmark\"',\n",
       "       '\"Developed economies: Asia and Oceania\"',\n",
       "       '\"Developing economies: Asia and Oceania\"',\n",
       "       '\"Developed economies: Asia\"', '\"Developing economies: Asia\"',\n",
       "       '\"Developed economies: Oceania\"',\n",
       "       '\"Developing economies: Oceania\"',\n",
       "       '\"Sub-Saharan Africa excluding South Africa\"',\n",
       "       '\"Africa excluding South Africa\"', '\"Dominica\"',\n",
       "       '\"Dominican Republic\"', '\"Developing economies excluding China\"',\n",
       "       '\"Developing economies excluding LDCs\"', '\"Ecuador\"',\n",
       "       '\"Developing regions (M49)\"', '\"Developed regions (M49)\"',\n",
       "       '\"LDCs (Least developed countries)\"', '\"LDCs: Africa and Haiti\"',\n",
       "       '\"LDCs: Asia\"', '\"LDCs: Islands\"', '\"El Salvador\"',\n",
       "       '\"LLDCs (Landlocked developing countries)\"', '\"LDCs: Africa\"',\n",
       "       '\"LDCs: Islands and Haiti\"',\n",
       "       '\"SIDS (Small island developing States) (UNCTAD)\"',\n",
       "       '\"SIDS: Atlantic and Indian Ocean\"', '\"SIDS: Caribbean\"',\n",
       "       '\"SIDS: Pacific\"',\n",
       "       '\"SIDS (Small island developing States) (UN-OHRLLS)\"',\n",
       "       '\"Equatorial Guinea\"', '\"Ethiopia (...1991)\"',\n",
       "       '\"Selected exporters of petroleum\"',\n",
       "       '\"Selected exporters of manufactured goods\"',\n",
       "       '\"Selected exporters of manufactured goods and primary commodities\"',\n",
       "       '\"Selected exporters of agricultural products\"',\n",
       "       '\"Selected exporters of minerals and mining products\"',\n",
       "       '\"Selected LIFDC (Low-income food-deficit countries)\"',\n",
       "       '\"LIFDC (Low-income food-deficit countries) (FAO)\"',\n",
       "       '\"Net food-importing economies\"', '\"Net food-exporting economies\"',\n",
       "       '\"Net food-exporting developing economies\"',\n",
       "       '\"Net food-exporting developed economies\"',\n",
       "       '\"Major net food-exporting economies\"', '\"Fiji\"',\n",
       "       '\"Net food-importing developing economies\"',\n",
       "       '\"Net food-importing developed economies\"',\n",
       "       '\"Major net food-importing economies\"', '\"Finland\"',\n",
       "       '\"Industrialized economies (UNIDO)\"',\n",
       "       '\"EIEs (Emerging Industrial Economies) (UNIDO)\"', '\"France\"',\n",
       "       '\"Emerging markets\"', '\"Emerging markets: Africa\"',\n",
       "       '\"Emerging markets: America\"', '\"Emerging markets: Asia\"',\n",
       "       '\"Emerging markets: Europe and Kazakhstan\"', '\"French Polynesia\"',\n",
       "       '\"HIPCs (Heavily indebted poor countries) (IMF)\"', '\"Djibouti\"',\n",
       "       '\"High-income developing economies\"',\n",
       "       '\"Middle-income developing economies\"',\n",
       "       '\"Low-income developing economies\"',\n",
       "       '\"Low-income economies (World Bank)\"',\n",
       "       '\"Lower-middle-income economies (World Bank)\"',\n",
       "       '\"Upper-middle-income economies (World Bank)\"',\n",
       "       '\"High-income economies (World Bank)\"',\n",
       "       '\"High-income OECD members (World Bank)\"',\n",
       "       '\"High-income non OECD members (World Bank)\"', '\"Gabon\"',\n",
       "       '\"Gambia\"', '\"BASIC\"', '\"BRICS\"', '\"State of Palestine\"',\n",
       "       '\"Germany', '\"Ghana\"', '\"Kiribati\"', '\"Greece\"', '\"Greenland\"',\n",
       "       '\"Grenada\"', '\"AMU (Arab Maghreb Union)\"',\n",
       "       '\"COMESA (Common Market for Eastern and Southern Africa)\"',\n",
       "       '\"ECCAS (Economic Community of Central African States)\"',\n",
       "       '\"ECOWAS (Economic Community of West African States)\"',\n",
       "       '\"MRU (Mano River Union)\"',\n",
       "       '\"SADC (Southern African Development Community)\"',\n",
       "       '\"CEMAC (Economic and Monetary Community of Central Africa)\"',\n",
       "       '\"WAEMU (West African Economic and Monetary Union)\"',\n",
       "       '\"CEPGL (Economic Community of the Great Lakes Countries)\"',\n",
       "       '\"EAC (East African Community)\"',\n",
       "       '\"SACU (Southern African Customs Union)\"',\n",
       "       '\"CEN-SAD (Community of Sahel-Saharan States)\"',\n",
       "       '\"IGAD (Intergovernmental Authority on Development)\"',\n",
       "       '\"United Nations member States\"', '\"Guatemala\"',\n",
       "       '\"CAN (Andean Community)\"',\n",
       "       '\"CACM (Central American Common Market)\"',\n",
       "       '\"CARICOM (Caribbean Community)\"',\n",
       "       '\"LAIA (Latin American Integration Association)\"',\n",
       "       '\"NAFTA (North American Free Trade Agreement)\"',\n",
       "       '\"OECS (Organisation of Eastern Caribbean States)\"',\n",
       "       '\"MERCOSUR (Southern Common Market)\"',\n",
       "       '\"ALBA-TCP (Bolivarian Alliance for the Peoples of Our America - Peoples\\' Trade Treaty)\"',\n",
       "       '\"UNASUR (Union of South American Nations)\"',\n",
       "       '\"ACS (Association of Caribbean States)\"', '\"Guinea\"', '\"Guyana\"',\n",
       "       '\"ASEAN (Association of Southeast Asian Nations)\"',\n",
       "       '\"APTA (Asia-Pacific Trade Agreement)\"',\n",
       "       '\"GCC (The Cooperation Council for the Arab States of the Gulf)\"',\n",
       "       '\"SAARC (South Asian Association for Regional Cooperation)\"',\n",
       "       '\"ASEAN (Association of Southeast Asian Nations) plus China',\n",
       "       '\"ECO (Economic Cooperation Organization)\"', '\"African Union\"',\n",
       "       '\"ADB (African Development Bank)', '\"ADB: Group A\"',\n",
       "       '\"ADB: Group B\"', '\"ADB: Group C\"', '\"Haiti\"',\n",
       "       '\"ECA (Economic Commission for Africa)\"', '\"ECA: North Africa\"',\n",
       "       '\"ECA: Eastern Africa\"', '\"ECA: Central Africa\"',\n",
       "       '\"ECA: Southern Africa\"', '\"ECA: West Africa\"',\n",
       "       '\"ECA: Island economies\"', '\"ECA: Landlocked countries\"',\n",
       "       '\"ECA: Landlocked LDCs\"', '\"ECA: Least developed countries\"',\n",
       "       '\"ECLAC (Economic Commission for Latin America and the Caribbean)\"',\n",
       "       '\"ECLAC: Caribbean\"', '\"ECLAC: Latin America\"',\n",
       "       '\"ECA: Mineral-rich countries\"', '\"ECA: Non-oil LDCs\"',\n",
       "       '\"ECA: Non-oil Producing\"', '\"ECA: Oil LDCs\"',\n",
       "       '\"ECA: Oil producing economies\"', '\"ECA: Sahel\"',\n",
       "       '\"ECA: Small island States\"',\n",
       "       '\"ESCAP (Economic and Social Commission for Asia and the Pacific)\"',\n",
       "       '\"ESCAP: Africa\"', '\"ESCAP: Latin America\"', '\"ESCAP: Europe\"',\n",
       "       '\"ESCAP: East and North-East Asia (ENEA)\"',\n",
       "       '\"ESCAP: North and Central Asia\"',\n",
       "       '\"ESCAP: South and South-West Asia\"', '\"ESCAP: Pacific\"',\n",
       "       '\"ESCAP: Pacific island developing economies (PIDE)\"',\n",
       "       '\"ESCAP: Other area\"', '\"ESCAP: East and North-East Asia',\n",
       "       '\"ESCAP: Least developed countries\"',\n",
       "       '\"ESCAP: Landlocked developing countries\"',\n",
       "       '\"ESCAP: Countries with special needs\"',\n",
       "       '\"ESCAP: Small islands developing States\"',\n",
       "       '\"UNECE (Economic Commission for Europe)\"',\n",
       "       '\"ESCAP: High-income economies (World Bank)\"',\n",
       "       '\"ESCAP: Upper-middle-income economies (World Bank)\"',\n",
       "       '\"ESCAP: Lower-middle-income economies (World Bank)\"',\n",
       "       '\"ESCAP: Low-income economies (World Bank)\"',\n",
       "       '\"UNECE: Eastern Europe', '\"UNECE: West Balkans\"',\n",
       "       '\"ESCWA (Economic and Social Commission for Western Asia)\"',\n",
       "       '\"ESCWA: Arab countries\"', '\"ESCWA: Mashreq\"', '\"ESCWA: Maghreb\"',\n",
       "       '\"ESCWA: Arab LDCs\"', '\"CBD (Convention on Biological Diversity)\"',\n",
       "       '\"CITES (Convention on International Trade in Endangered Species of Wild Fauna and Flora)\"',\n",
       "       '\"Nagoya Protocol on Access and Benefit Sharing\"',\n",
       "       '\"LMMC (Like-Minded Megadiverse Countries)\"',\n",
       "       '\"BioTrade countries\"', '\"Honduras\"',\n",
       "       '\"EFTA (European Free Trade Association)\"',\n",
       "       '\"EU25 (European Union 2004 … 2007)\"',\n",
       "       '\"EU15 (European Union 1995 … 2004)\"', '\"Euro area\"',\n",
       "       '\"EU27 (European Union 2007 … 2013)\"',\n",
       "       '\"EU28 (European Union 2013 … 2020)\"', '\"European Union (2020 …)\"',\n",
       "       '\"Hungary\"', '\"MSG (Melanesian Spearhead Group)\"', '\"Iceland\"',\n",
       "       '\"India\"', '\"Northern America and Europe\"',\n",
       "       '\"Central and Southern Asia\"', '\"Eastern and South-Eastern Asia\"',\n",
       "       '\"Western Asia and Northern Africa\"',\n",
       "       '\"Iran (Islamic Republic of)\"', '\"Iraq\"', '\"Ireland\"', '\"Israel\"',\n",
       "       '\"Italy\"', '\"Côte d\\'Ivoire\"', '\"Jamaica\"',\n",
       "       '\"APEC (Asia-Pacific Economic Cooperation)\"',\n",
       "       '\"OECD (Organisation for Economic Cooperation and Development)\"',\n",
       "       '\"OPEC (Organization of the Petroleum Exporting Countries)\"',\n",
       "       '\"ACP (African', '\"LAS (League of Arab States)\"',\n",
       "       '\"OIC (Organisation of Islamic Cooperation)\"',\n",
       "       '\"OAS (Organization of American States)\"', '\"G7 (Group of Seven)\"',\n",
       "       '\"G8 (Group of Eight)\"', '\"G20 (Group of Twenty)\"',\n",
       "       '\"G-77 (Group of 77)\"', '\"Japan\"',\n",
       "       '\"GSTP (Global System of Trade Preferences among Developing Countries)\"',\n",
       "       '\"GSTP: Africa\"', '\"GSTP: Latin America\"', '\"GSTP: Asia\"',\n",
       "       '\"TPP (Trans-Pacific Partnership)\"', '\"ACP: Africa\"',\n",
       "       '\"ACP: Western Africa\"', '\"ACP: Eastern Africa\"',\n",
       "       '\"ACP: Central Africa\"', '\"ACP: Southern Africa\"',\n",
       "       '\"ACP: Caribbean\"', '\"ACP: Pacific\"', '\"ACP: LDCs\"',\n",
       "       '\"ACP: LLDCs\"', '\"ACP: Islands States\"', '\"ACP: Northern Africa\"',\n",
       "       '\"Jordan\"', '\"Kenya\"', '\"Korea', '\"Kuwait\"',\n",
       "       '\"Lao People\\'s Dem. Rep.\"', '\"Lebanon\"', '\"Lesotho\"', '\"Liberia\"',\n",
       "       '\"Libya\"', '\"Liechtenstein\"', '\"Luxembourg\"', '\"Madagascar\"',\n",
       "       '\"Malawi\"', '\"Malaysia\"', '\"Maldives\"', '\"Mali\"', '\"Malta\"',\n",
       "       '\"Mauritania\"', '\"Mauritius\"', '\"Mexico\"', '\"Monaco\"',\n",
       "       '\"Mongolia\"', '\"Montserrat\"', '\"Morocco\"', '\"Mozambique\"',\n",
       "       '\"Africa\"', '\"Northern Africa\"', '\"Oman\"', '\"Sub-Saharan Africa\"',\n",
       "       '\"Eastern Africa\"', '\"Middle Africa\"', '\"Southern Africa\"',\n",
       "       '\"Western Africa\"', '\"Namibia\"', '\"Nauru\"', '\"America\"',\n",
       "       '\"Northern America\"', '\"Latin America and the Caribbean\"',\n",
       "       '\"Caribbean\"', '\"Central America\"', '\"South America\"', '\"Nepal\"',\n",
       "       '\"Netherlands\"', '\"Netherlands Antilles\"', '\"Asia\"',\n",
       "       '\"Southern Asia\"', '\"Aruba\"', '\"Eastern Asia\"', '\"Western Asia\"',\n",
       "       '\"South-eastern Asia\"', '\"New Caledonia\"', '\"Europe\"',\n",
       "       '\"Eastern Europe\"', '\"Northern Europe\"', '\"Southern Europe\"',\n",
       "       '\"Western Europe\"', '\"Vanuatu\"', '\"Oceania\"', '\"New Zealand\"',\n",
       "       '\"Nicaragua\"', '\"Asia and Oceania\"', '\"Niger\"', '\"Nigeria\"',\n",
       "       '\"Norway\"', '\"Pacific Islands', '\"Pakistan\"', '\"Panama',\n",
       "       '\"Papua New Guinea\"', '\"Paraguay\"', '\"Peru\"', '\"Philippines\"',\n",
       "       '\"Poland\"', '\"Portugal\"', '\"Guinea-Bissau\"', '\"Puerto Rico\"',\n",
       "       '\"Qatar\"', '\"Romania\"', '\"Rwanda\"', '\"Saint Kitts and Nevis\"',\n",
       "       '\"Anguilla\"', '\"Saint Lucia\"',\n",
       "       '\"Saint Vincent and the Grenadines\"', '\"San Marino\"',\n",
       "       '\"Sao Tome and Principe\"', '\"Saudi Arabia\"', '\"Senegal\"',\n",
       "       '\"Seychelles\"', '\"Sierra Leone\"', '\"Singapore\"', '\"Viet Nam\"',\n",
       "       '\"Somalia\"', '\"South Africa\"', '\"Zimbabwe\"', '\"Yemen', '\"Spain\"',\n",
       "       '\"Sudan (...2011)\"', '\"Suriname\"', '\"Eswatini\"', '\"Sweden\"',\n",
       "       '\"Switzerland\"', '\"Switzerland', '\"Syrian Arab Republic\"',\n",
       "       '\"Thailand\"', '\"Togo\"', '\"Tonga\"', '\"Trinidad and Tobago\"',\n",
       "       '\"United Arab Emirates\"', '\"Tunisia\"', '\"Turkey\"',\n",
       "       '\"Turks and Caicos Islands\"', '\"Tuvalu\"', '\"Uganda\"',\n",
       "       '\"Union of Soviet Socialist Republics\"', '\"Egypt\"',\n",
       "       '\"United Kingdom excl. Channel Islands and Isle of Man\"',\n",
       "       '\"Tanzania',\n",
       "       '\"United States of America excluding Puerto Rico and United States Virgin Islands\"',\n",
       "       '\"United States of America including Puerto Rico\"',\n",
       "       '\"United States of America\"', '\"Burkina Faso\"', '\"Uruguay\"',\n",
       "       '\"Venezuela (Bolivarian Rep. of)\"', '\"Samoa\"', '\"Yugoslavia',\n",
       "       '\"Zambia\"', '\"United Kingdom\"', '\"Indonesia (...2002)\"',\n",
       "       '\"Panama\"', '\"Micronesia (Federated States of)\"',\n",
       "       '\"Marshall Islands\"', '\"Palau\"', '\"Germany\"', '\"Yemen\"',\n",
       "       '\"Azerbaijan\"', '\"Armenia\"', '\"Bosnia and Herzegovina\"',\n",
       "       '\"Belarus\"', '\"Croatia\"', '\"Ethiopia\"', '\"Eritrea\"', '\"Estonia\"',\n",
       "       '\"Georgia\"', '\"CIS (Commonwealth of Independent States)\"',\n",
       "       '\"Kazakhstan\"', '\"Kyrgyzstan\"', '\"Latvia\"', '\"Lithuania\"',\n",
       "       '\"Moldova', '\"Central Asia\"', '\"Russian Federation\"', '\"Slovenia\"',\n",
       "       '\"Tajikistan\"', '\"Turkmenistan\"', '\"Ukraine\"', '\"North Macedonia\"',\n",
       "       '\"Uzbekistan\"', '\"Serbia and Montenegro\"', '\"Czechia\"',\n",
       "       '\"Slovakia\"', '\"Indonesia\"', '\"Timor-Leste\"',\n",
       "       '\"CEFTA (Central European Free Trade Agreement)\"', '\"Montenegro\"',\n",
       "       '\"Serbia\"', '\"Curaçao\"', '\"Sint Maarten (Dutch part)\"',\n",
       "       '\"South Sudan\"', '\"Sudan\"'], dtype=object)"
      ]
     },
     "metadata": {},
     "execution_count": 36
    }
   ],
   "source": [
    "GDP_Total['Economy Label'].unique()"
   ]
  },
  {
   "cell_type": "code",
   "execution_count": 38,
   "metadata": {},
   "outputs": [],
   "source": [
    "GDP_world = GDP_Total[GDP_Total['Economy Label'] == '\"World\"']"
   ]
  },
  {
   "cell_type": "code",
   "execution_count": 41,
   "metadata": {},
   "outputs": [],
   "source": [
    "GDP_world = GDP_world.drop(columns=['Series','US dollars at current prices in millions Footnote', 'US dollars at current prices per capita Footnote', 'US dollars at constant prices (2015) in millions Footnote', 'US dollars at constant prices (2015) per capita Footnote' ])"
   ]
  },
  {
   "cell_type": "code",
   "execution_count": 45,
   "metadata": {},
   "outputs": [],
   "source": [
    "GDP_world = GDP_world.reset_index(drop=True)"
   ]
  },
  {
   "cell_type": "code",
   "execution_count": 40,
   "metadata": {},
   "outputs": [],
   "source": [
    "GDP_G20 = GDP_Total[GDP_Total['Economy Label'] == '\"G20 (Group of Twenty)\"']"
   ]
  },
  {
   "cell_type": "code",
   "execution_count": 46,
   "metadata": {},
   "outputs": [],
   "source": [
    "GDP_G20 = GDP_G20.drop(columns=['Series','US dollars at current prices in millions Footnote', 'US dollars at current prices per capita Footnote', 'US dollars at constant prices (2015) in millions Footnote', 'US dollars at constant prices (2015) per capita Footnote' ])"
   ]
  },
  {
   "cell_type": "code",
   "execution_count": 47,
   "metadata": {},
   "outputs": [],
   "source": [
    "GDP_world.to_csv('./Def_Data/GDP_world.csv')"
   ]
  },
  {
   "cell_type": "code",
   "execution_count": 48,
   "metadata": {},
   "outputs": [],
   "source": [
    "GDP_G20.to_csv('./Def_Data/GDP_G20.csv')"
   ]
  },
  {
   "cell_type": "code",
   "execution_count": null,
   "metadata": {},
   "outputs": [],
   "source": []
  }
 ]
}