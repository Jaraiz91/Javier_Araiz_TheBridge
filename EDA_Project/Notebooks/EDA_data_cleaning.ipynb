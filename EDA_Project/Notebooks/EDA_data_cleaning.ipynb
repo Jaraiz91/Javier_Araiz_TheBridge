{
 "metadata": {
  "language_info": {
   "codemirror_mode": {
    "name": "ipython",
    "version": 3
   },
   "file_extension": ".py",
   "mimetype": "text/x-python",
   "name": "python",
   "nbconvert_exporter": "python",
   "pygments_lexer": "ipython3",
   "version": "3.7.4"
  },
  "orig_nbformat": 2,
  "kernelspec": {
   "name": "python374jvsc74a57bd0e811f325e74d49824b5fcfc3c0f5c4bcd6461d80b4e4f70be476a8b343d99570",
   "display_name": "Python 3.7.4 64-bit"
  }
 },
 "nbformat": 4,
 "nbformat_minor": 2,
 "cells": [
  {
   "cell_type": "code",
   "execution_count": 2,
   "metadata": {},
   "outputs": [],
   "source": [
    "import pandas as pd\n",
    "import dtale\n",
    "import matplotlib.pyplot as plt\n",
    "import seaborn as sns\n",
    "import numpy as np\n",
    "import os\n",
    "import datetime\n",
    "from utils import normalize_dataframe\n",
    "from utils import count_numbers_in_column"
   ]
  },
  {
   "cell_type": "code",
   "execution_count": 3,
   "metadata": {},
   "outputs": [],
   "source": [
    "df_fleet = pd.read_csv('./Cleaned_Data/cleaned_fleet.csv')"
   ]
  },
  {
   "cell_type": "code",
   "execution_count": 4,
   "metadata": {},
   "outputs": [],
   "source": [
    "df_fleet = df_fleet[df_fleet['Economy Label'] == 'World']"
   ]
  },
  {
   "cell_type": "code",
   "execution_count": 5,
   "metadata": {},
   "outputs": [
    {
     "output_type": "execute_result",
     "data": {
      "text/plain": [
       "       Unnamed: 0  Year Economy Economy Label  ShipType        ShipType Label  \\\n",
       "0               0  1980    0000         World         0           Total fleet   \n",
       "1               1  1980    0000         World         1           Oil tankers   \n",
       "2               2  1980    0000         World         2         Bulk carriers   \n",
       "3               3  1980    0000         World         3         General cargo   \n",
       "4               4  1980    0000         World         4       Container ships   \n",
       "...           ...   ...     ...           ...       ...                   ...   \n",
       "77552       77552  2020    0000         World         1           Oil tankers   \n",
       "77553       77553  2020    0000         World         2         Bulk carriers   \n",
       "77554       77554  2020    0000         World         3         General cargo   \n",
       "77555       77555  2020    0000         World         4       Container ships   \n",
       "77556       77556  2020    0000         World         5  Other types of ships   \n",
       "\n",
       "       Dead weight tons in thousands  Percentage of total world  \\\n",
       "0                         672142.488                      100.0   \n",
       "1                         337895.557                      100.0   \n",
       "2                         181880.282                      100.0   \n",
       "3                         112840.897                      100.0   \n",
       "4                          10290.114                      100.0   \n",
       "...                              ...                        ...   \n",
       "77552                     601544.100                      100.0   \n",
       "77553                     879330.459                      100.0   \n",
       "77554                      76139.507                      100.0   \n",
       "77555                     274856.487                      100.0   \n",
       "77556                     237099.636                      100.0   \n",
       "\n",
       "       Percentage of total fleet  Number of ships  \n",
       "0                      100.00000              NaN  \n",
       "1                       50.27142              NaN  \n",
       "2                       27.05978              NaN  \n",
       "3                       16.78824              NaN  \n",
       "4                        1.53094              NaN  \n",
       "...                          ...              ...  \n",
       "77552                   29.07457          11201.0  \n",
       "77553                   42.50088          11965.0  \n",
       "77554                    3.68007          19116.0  \n",
       "77555                   13.28470           5371.0  \n",
       "77556                   11.45979          50487.0  \n",
       "\n",
       "[246 rows x 10 columns]"
      ],
      "text/html": "<div>\n<style scoped>\n    .dataframe tbody tr th:only-of-type {\n        vertical-align: middle;\n    }\n\n    .dataframe tbody tr th {\n        vertical-align: top;\n    }\n\n    .dataframe thead th {\n        text-align: right;\n    }\n</style>\n<table border=\"1\" class=\"dataframe\">\n  <thead>\n    <tr style=\"text-align: right;\">\n      <th></th>\n      <th>Unnamed: 0</th>\n      <th>Year</th>\n      <th>Economy</th>\n      <th>Economy Label</th>\n      <th>ShipType</th>\n      <th>ShipType Label</th>\n      <th>Dead weight tons in thousands</th>\n      <th>Percentage of total world</th>\n      <th>Percentage of total fleet</th>\n      <th>Number of ships</th>\n    </tr>\n  </thead>\n  <tbody>\n    <tr>\n      <th>0</th>\n      <td>0</td>\n      <td>1980</td>\n      <td>0000</td>\n      <td>World</td>\n      <td>0</td>\n      <td>Total fleet</td>\n      <td>672142.488</td>\n      <td>100.0</td>\n      <td>100.00000</td>\n      <td>NaN</td>\n    </tr>\n    <tr>\n      <th>1</th>\n      <td>1</td>\n      <td>1980</td>\n      <td>0000</td>\n      <td>World</td>\n      <td>1</td>\n      <td>Oil tankers</td>\n      <td>337895.557</td>\n      <td>100.0</td>\n      <td>50.27142</td>\n      <td>NaN</td>\n    </tr>\n    <tr>\n      <th>2</th>\n      <td>2</td>\n      <td>1980</td>\n      <td>0000</td>\n      <td>World</td>\n      <td>2</td>\n      <td>Bulk carriers</td>\n      <td>181880.282</td>\n      <td>100.0</td>\n      <td>27.05978</td>\n      <td>NaN</td>\n    </tr>\n    <tr>\n      <th>3</th>\n      <td>3</td>\n      <td>1980</td>\n      <td>0000</td>\n      <td>World</td>\n      <td>3</td>\n      <td>General cargo</td>\n      <td>112840.897</td>\n      <td>100.0</td>\n      <td>16.78824</td>\n      <td>NaN</td>\n    </tr>\n    <tr>\n      <th>4</th>\n      <td>4</td>\n      <td>1980</td>\n      <td>0000</td>\n      <td>World</td>\n      <td>4</td>\n      <td>Container ships</td>\n      <td>10290.114</td>\n      <td>100.0</td>\n      <td>1.53094</td>\n      <td>NaN</td>\n    </tr>\n    <tr>\n      <th>...</th>\n      <td>...</td>\n      <td>...</td>\n      <td>...</td>\n      <td>...</td>\n      <td>...</td>\n      <td>...</td>\n      <td>...</td>\n      <td>...</td>\n      <td>...</td>\n      <td>...</td>\n    </tr>\n    <tr>\n      <th>77552</th>\n      <td>77552</td>\n      <td>2020</td>\n      <td>0000</td>\n      <td>World</td>\n      <td>1</td>\n      <td>Oil tankers</td>\n      <td>601544.100</td>\n      <td>100.0</td>\n      <td>29.07457</td>\n      <td>11201.0</td>\n    </tr>\n    <tr>\n      <th>77553</th>\n      <td>77553</td>\n      <td>2020</td>\n      <td>0000</td>\n      <td>World</td>\n      <td>2</td>\n      <td>Bulk carriers</td>\n      <td>879330.459</td>\n      <td>100.0</td>\n      <td>42.50088</td>\n      <td>11965.0</td>\n    </tr>\n    <tr>\n      <th>77554</th>\n      <td>77554</td>\n      <td>2020</td>\n      <td>0000</td>\n      <td>World</td>\n      <td>3</td>\n      <td>General cargo</td>\n      <td>76139.507</td>\n      <td>100.0</td>\n      <td>3.68007</td>\n      <td>19116.0</td>\n    </tr>\n    <tr>\n      <th>77555</th>\n      <td>77555</td>\n      <td>2020</td>\n      <td>0000</td>\n      <td>World</td>\n      <td>4</td>\n      <td>Container ships</td>\n      <td>274856.487</td>\n      <td>100.0</td>\n      <td>13.28470</td>\n      <td>5371.0</td>\n    </tr>\n    <tr>\n      <th>77556</th>\n      <td>77556</td>\n      <td>2020</td>\n      <td>0000</td>\n      <td>World</td>\n      <td>5</td>\n      <td>Other types of ships</td>\n      <td>237099.636</td>\n      <td>100.0</td>\n      <td>11.45979</td>\n      <td>50487.0</td>\n    </tr>\n  </tbody>\n</table>\n<p>246 rows × 10 columns</p>\n</div>"
     },
     "metadata": {},
     "execution_count": 5
    }
   ],
   "source": [
    "df_fleet"
   ]
  },
  {
   "cell_type": "code",
   "execution_count": 6,
   "metadata": {},
   "outputs": [],
   "source": [
    "df_fleet = df_fleet.groupby(['Year','ShipType Label'])[['Dead weight tons in thousands', 'Percentage of total fleet', 'Number of ships']].sum()"
   ]
  },
  {
   "cell_type": "code",
   "execution_count": 7,
   "metadata": {},
   "outputs": [],
   "source": [
    "df_fleet.to_csv('./Def_Data/df_fleet.csv')"
   ]
  },
  {
   "cell_type": "code",
   "execution_count": 7,
   "metadata": {},
   "outputs": [],
   "source": [
    "df_owners = pd.read_csv('./Cleaned_Data/cleaned_owners.csv')"
   ]
  },
  {
   "cell_type": "code",
   "execution_count": 8,
   "metadata": {},
   "outputs": [],
   "source": [
    "df_owners = df_owners[df_owners['FlagOfRegistration Label'] == 'Total all flags']"
   ]
  },
  {
   "cell_type": "code",
   "execution_count": 9,
   "metadata": {},
   "outputs": [
    {
     "output_type": "execute_result",
     "data": {
      "text/plain": [
       "       Unnamed: 0  Year  FlagOfRegistration FlagOfRegistration Label  \\\n",
       "0               0  2014                   0          Total all flags   \n",
       "1               1  2014                   0          Total all flags   \n",
       "2               2  2014                   0          Total all flags   \n",
       "3               3  2014                   0          Total all flags   \n",
       "4               4  2014                   0          Total all flags   \n",
       "...           ...   ...                 ...                      ...   \n",
       "49906       49906  2020                   0          Total all flags   \n",
       "49907       49907  2020                   0          Total all flags   \n",
       "49908       49908  2020                   0          Total all flags   \n",
       "49909       49909  2020                   0          Total all flags   \n",
       "49910       49910  2020                   0          Total all flags   \n",
       "\n",
       "      BeneficialOwnership       BeneficialOwnership Label  \\\n",
       "0                    0000                           World   \n",
       "1                   0000u                    World n.e.s.   \n",
       "2                     008                         Albania   \n",
       "3                     012                         Algeria   \n",
       "4                     016                  American Samoa   \n",
       "...                   ...                             ...   \n",
       "49906                 862  Venezuela (Bolivarian Rep. of)   \n",
       "49907                 876       Wallis and Futuna Islands   \n",
       "49908                 882                           Samoa   \n",
       "49909                 887                           Yemen   \n",
       "49910                 926                  United Kingdom   \n",
       "\n",
       "       Dead weight tons in thousands  Percentage of total fleet  \\\n",
       "0                        1677345.179                  100.00000   \n",
       "1                           5498.359                    0.32780   \n",
       "2                             87.149                    0.00520   \n",
       "3                           1380.595                    0.08231   \n",
       "4                              0.000                    0.00000   \n",
       "...                              ...                        ...   \n",
       "49906                       2531.223                    0.12341   \n",
       "49907                          0.000                    0.00000   \n",
       "49908                         59.056                    0.00288   \n",
       "49909                        580.613                    0.02831   \n",
       "49910                      54297.480                    2.64734   \n",
       "\n",
       "       Number of ships  \n",
       "0                47497  \n",
       "1                  624  \n",
       "2                   22  \n",
       "3                   45  \n",
       "4                    0  \n",
       "...                ...  \n",
       "49906               65  \n",
       "49907                0  \n",
       "49908                5  \n",
       "49909               20  \n",
       "49910             1364  \n",
       "\n",
       "[2751 rows x 9 columns]"
      ],
      "text/html": "<div>\n<style scoped>\n    .dataframe tbody tr th:only-of-type {\n        vertical-align: middle;\n    }\n\n    .dataframe tbody tr th {\n        vertical-align: top;\n    }\n\n    .dataframe thead th {\n        text-align: right;\n    }\n</style>\n<table border=\"1\" class=\"dataframe\">\n  <thead>\n    <tr style=\"text-align: right;\">\n      <th></th>\n      <th>Unnamed: 0</th>\n      <th>Year</th>\n      <th>FlagOfRegistration</th>\n      <th>FlagOfRegistration Label</th>\n      <th>BeneficialOwnership</th>\n      <th>BeneficialOwnership Label</th>\n      <th>Dead weight tons in thousands</th>\n      <th>Percentage of total fleet</th>\n      <th>Number of ships</th>\n    </tr>\n  </thead>\n  <tbody>\n    <tr>\n      <th>0</th>\n      <td>0</td>\n      <td>2014</td>\n      <td>0</td>\n      <td>Total all flags</td>\n      <td>0000</td>\n      <td>World</td>\n      <td>1677345.179</td>\n      <td>100.00000</td>\n      <td>47497</td>\n    </tr>\n    <tr>\n      <th>1</th>\n      <td>1</td>\n      <td>2014</td>\n      <td>0</td>\n      <td>Total all flags</td>\n      <td>0000u</td>\n      <td>World n.e.s.</td>\n      <td>5498.359</td>\n      <td>0.32780</td>\n      <td>624</td>\n    </tr>\n    <tr>\n      <th>2</th>\n      <td>2</td>\n      <td>2014</td>\n      <td>0</td>\n      <td>Total all flags</td>\n      <td>008</td>\n      <td>Albania</td>\n      <td>87.149</td>\n      <td>0.00520</td>\n      <td>22</td>\n    </tr>\n    <tr>\n      <th>3</th>\n      <td>3</td>\n      <td>2014</td>\n      <td>0</td>\n      <td>Total all flags</td>\n      <td>012</td>\n      <td>Algeria</td>\n      <td>1380.595</td>\n      <td>0.08231</td>\n      <td>45</td>\n    </tr>\n    <tr>\n      <th>4</th>\n      <td>4</td>\n      <td>2014</td>\n      <td>0</td>\n      <td>Total all flags</td>\n      <td>016</td>\n      <td>American Samoa</td>\n      <td>0.000</td>\n      <td>0.00000</td>\n      <td>0</td>\n    </tr>\n    <tr>\n      <th>...</th>\n      <td>...</td>\n      <td>...</td>\n      <td>...</td>\n      <td>...</td>\n      <td>...</td>\n      <td>...</td>\n      <td>...</td>\n      <td>...</td>\n      <td>...</td>\n    </tr>\n    <tr>\n      <th>49906</th>\n      <td>49906</td>\n      <td>2020</td>\n      <td>0</td>\n      <td>Total all flags</td>\n      <td>862</td>\n      <td>Venezuela (Bolivarian Rep. of)</td>\n      <td>2531.223</td>\n      <td>0.12341</td>\n      <td>65</td>\n    </tr>\n    <tr>\n      <th>49907</th>\n      <td>49907</td>\n      <td>2020</td>\n      <td>0</td>\n      <td>Total all flags</td>\n      <td>876</td>\n      <td>Wallis and Futuna Islands</td>\n      <td>0.000</td>\n      <td>0.00000</td>\n      <td>0</td>\n    </tr>\n    <tr>\n      <th>49908</th>\n      <td>49908</td>\n      <td>2020</td>\n      <td>0</td>\n      <td>Total all flags</td>\n      <td>882</td>\n      <td>Samoa</td>\n      <td>59.056</td>\n      <td>0.00288</td>\n      <td>5</td>\n    </tr>\n    <tr>\n      <th>49909</th>\n      <td>49909</td>\n      <td>2020</td>\n      <td>0</td>\n      <td>Total all flags</td>\n      <td>887</td>\n      <td>Yemen</td>\n      <td>580.613</td>\n      <td>0.02831</td>\n      <td>20</td>\n    </tr>\n    <tr>\n      <th>49910</th>\n      <td>49910</td>\n      <td>2020</td>\n      <td>0</td>\n      <td>Total all flags</td>\n      <td>926</td>\n      <td>United Kingdom</td>\n      <td>54297.480</td>\n      <td>2.64734</td>\n      <td>1364</td>\n    </tr>\n  </tbody>\n</table>\n<p>2751 rows × 9 columns</p>\n</div>"
     },
     "metadata": {},
     "execution_count": 9
    }
   ],
   "source": [
    "df_owners"
   ]
  },
  {
   "cell_type": "code",
   "execution_count": 10,
   "metadata": {},
   "outputs": [],
   "source": [
    "df_owners = df_owners.groupby(['Year'])[['Dead weight tons in thousands', 'Number of ships']].sum()"
   ]
  },
  {
   "cell_type": "code",
   "execution_count": 11,
   "metadata": {},
   "outputs": [
    {
     "output_type": "execute_result",
     "data": {
      "text/plain": [
       "      Dead weight tons in thousands  Number of ships\n",
       "Year                                                \n",
       "2014                   4.616658e+07          1320323\n",
       "2015                   4.768194e+07          1346902\n",
       "2016                   4.976840e+07          1376342\n",
       "2017                   5.068231e+07          1395563\n",
       "2018                   5.254061e+07          1439709\n",
       "2019                   5.404864e+07          1461743\n",
       "2020                   5.635639e+07          1485737"
      ],
      "text/html": "<div>\n<style scoped>\n    .dataframe tbody tr th:only-of-type {\n        vertical-align: middle;\n    }\n\n    .dataframe tbody tr th {\n        vertical-align: top;\n    }\n\n    .dataframe thead th {\n        text-align: right;\n    }\n</style>\n<table border=\"1\" class=\"dataframe\">\n  <thead>\n    <tr style=\"text-align: right;\">\n      <th></th>\n      <th>Dead weight tons in thousands</th>\n      <th>Number of ships</th>\n    </tr>\n    <tr>\n      <th>Year</th>\n      <th></th>\n      <th></th>\n    </tr>\n  </thead>\n  <tbody>\n    <tr>\n      <th>2014</th>\n      <td>4.616658e+07</td>\n      <td>1320323</td>\n    </tr>\n    <tr>\n      <th>2015</th>\n      <td>4.768194e+07</td>\n      <td>1346902</td>\n    </tr>\n    <tr>\n      <th>2016</th>\n      <td>4.976840e+07</td>\n      <td>1376342</td>\n    </tr>\n    <tr>\n      <th>2017</th>\n      <td>5.068231e+07</td>\n      <td>1395563</td>\n    </tr>\n    <tr>\n      <th>2018</th>\n      <td>5.254061e+07</td>\n      <td>1439709</td>\n    </tr>\n    <tr>\n      <th>2019</th>\n      <td>5.404864e+07</td>\n      <td>1461743</td>\n    </tr>\n    <tr>\n      <th>2020</th>\n      <td>5.635639e+07</td>\n      <td>1485737</td>\n    </tr>\n  </tbody>\n</table>\n</div>"
     },
     "metadata": {},
     "execution_count": 11
    }
   ],
   "source": [
    "df_owners"
   ]
  },
  {
   "cell_type": "code",
   "execution_count": 12,
   "metadata": {},
   "outputs": [],
   "source": [
    "df_port_calls = pd.read_csv('./Cleaned_Data/cleaned_port_calls.csv')"
   ]
  },
  {
   "cell_type": "code",
   "execution_count": 13,
   "metadata": {},
   "outputs": [
    {
     "output_type": "execute_result",
     "data": {
      "text/plain": [
       "    Unnamed: 0  Year Frequency Economy Label  \\\n",
       "0            1  2018         A       \"World\"   \n",
       "1            2  2018         A       \"World\"   \n",
       "2            3  2018         A       \"World\"   \n",
       "3            4  2018         A       \"World\"   \n",
       "4            5  2018         A       \"World\"   \n",
       "5            6  2018         A       \"World\"   \n",
       "6            7  2018         A       \"World\"   \n",
       "7            8  2018         A       \"World\"   \n",
       "8            9  2018         A       \"World\"   \n",
       "9         2922  2019         A       \"World\"   \n",
       "10        2923  2019         A       \"World\"   \n",
       "11        2924  2019         A       \"World\"   \n",
       "12        2925  2019         A       \"World\"   \n",
       "13        2926  2019         A       \"World\"   \n",
       "14        2927  2019         A       \"World\"   \n",
       "15        2928  2019         A       \"World\"   \n",
       "16        2929  2019         A       \"World\"   \n",
       "17        2930  2019         A       \"World\"   \n",
       "18        5845  2020         A       \"World\"   \n",
       "19        5846  2020         A       \"World\"   \n",
       "20        5847  2020         A       \"World\"   \n",
       "21        5848  2020         A       \"World\"   \n",
       "22        5849  2020         A       \"World\"   \n",
       "23        5850  2020         A       \"World\"   \n",
       "24        5851  2020         A       \"World\"   \n",
       "25        5852  2020         A       \"World\"   \n",
       "26        5853  2020         A       \"World\"   \n",
       "\n",
       "                CommercialMarket Label  Number of port calls  \n",
       "0                          \"All ships\"               4112944  \n",
       "1                    \"Passenger ships\"               2227407  \n",
       "2               \"Liquid bulk carriers\"                494120  \n",
       "3                    \"Container ships\"                454016  \n",
       "4             \"Dry breakbulk carriers\"                430344  \n",
       "5                  \"Dry bulk carriers\"                259551  \n",
       "6            \"Roll-on/ roll-off ships\"                187532  \n",
       "7   \"Liquefied petroleum gas carriers\"                 49357  \n",
       "8     \"Liquefied natural gas carriers\"                 10617  \n",
       "9                          \"All ships\"               4362737  \n",
       "10                   \"Passenger ships\"               2378937  \n",
       "11              \"Liquid bulk carriers\"                526202  \n",
       "12                   \"Container ships\"                474553  \n",
       "13            \"Dry breakbulk carriers\"                446817  \n",
       "14                 \"Dry bulk carriers\"                277872  \n",
       "15           \"Roll-on/ roll-off ships\"                190907  \n",
       "16  \"Liquefied petroleum gas carriers\"                 55227  \n",
       "17    \"Liquefied natural gas carriers\"                 12222  \n",
       "18                         \"All ships\"               3906987  \n",
       "19                   \"Passenger ships\"               2047156  \n",
       "20              \"Liquid bulk carriers\"                488876  \n",
       "21                   \"Container ships\"                459417  \n",
       "22            \"Dry breakbulk carriers\"                413961  \n",
       "23                 \"Dry bulk carriers\"                266337  \n",
       "24           \"Roll-on/ roll-off ships\"                166215  \n",
       "25  \"Liquefied petroleum gas carriers\"                 52639  \n",
       "26    \"Liquefied natural gas carriers\"                 12386  "
      ],
      "text/html": "<div>\n<style scoped>\n    .dataframe tbody tr th:only-of-type {\n        vertical-align: middle;\n    }\n\n    .dataframe tbody tr th {\n        vertical-align: top;\n    }\n\n    .dataframe thead th {\n        text-align: right;\n    }\n</style>\n<table border=\"1\" class=\"dataframe\">\n  <thead>\n    <tr style=\"text-align: right;\">\n      <th></th>\n      <th>Unnamed: 0</th>\n      <th>Year</th>\n      <th>Frequency</th>\n      <th>Economy Label</th>\n      <th>CommercialMarket Label</th>\n      <th>Number of port calls</th>\n    </tr>\n  </thead>\n  <tbody>\n    <tr>\n      <th>0</th>\n      <td>1</td>\n      <td>2018</td>\n      <td>A</td>\n      <td>\"World\"</td>\n      <td>\"All ships\"</td>\n      <td>4112944</td>\n    </tr>\n    <tr>\n      <th>1</th>\n      <td>2</td>\n      <td>2018</td>\n      <td>A</td>\n      <td>\"World\"</td>\n      <td>\"Passenger ships\"</td>\n      <td>2227407</td>\n    </tr>\n    <tr>\n      <th>2</th>\n      <td>3</td>\n      <td>2018</td>\n      <td>A</td>\n      <td>\"World\"</td>\n      <td>\"Liquid bulk carriers\"</td>\n      <td>494120</td>\n    </tr>\n    <tr>\n      <th>3</th>\n      <td>4</td>\n      <td>2018</td>\n      <td>A</td>\n      <td>\"World\"</td>\n      <td>\"Container ships\"</td>\n      <td>454016</td>\n    </tr>\n    <tr>\n      <th>4</th>\n      <td>5</td>\n      <td>2018</td>\n      <td>A</td>\n      <td>\"World\"</td>\n      <td>\"Dry breakbulk carriers\"</td>\n      <td>430344</td>\n    </tr>\n    <tr>\n      <th>5</th>\n      <td>6</td>\n      <td>2018</td>\n      <td>A</td>\n      <td>\"World\"</td>\n      <td>\"Dry bulk carriers\"</td>\n      <td>259551</td>\n    </tr>\n    <tr>\n      <th>6</th>\n      <td>7</td>\n      <td>2018</td>\n      <td>A</td>\n      <td>\"World\"</td>\n      <td>\"Roll-on/ roll-off ships\"</td>\n      <td>187532</td>\n    </tr>\n    <tr>\n      <th>7</th>\n      <td>8</td>\n      <td>2018</td>\n      <td>A</td>\n      <td>\"World\"</td>\n      <td>\"Liquefied petroleum gas carriers\"</td>\n      <td>49357</td>\n    </tr>\n    <tr>\n      <th>8</th>\n      <td>9</td>\n      <td>2018</td>\n      <td>A</td>\n      <td>\"World\"</td>\n      <td>\"Liquefied natural gas carriers\"</td>\n      <td>10617</td>\n    </tr>\n    <tr>\n      <th>9</th>\n      <td>2922</td>\n      <td>2019</td>\n      <td>A</td>\n      <td>\"World\"</td>\n      <td>\"All ships\"</td>\n      <td>4362737</td>\n    </tr>\n    <tr>\n      <th>10</th>\n      <td>2923</td>\n      <td>2019</td>\n      <td>A</td>\n      <td>\"World\"</td>\n      <td>\"Passenger ships\"</td>\n      <td>2378937</td>\n    </tr>\n    <tr>\n      <th>11</th>\n      <td>2924</td>\n      <td>2019</td>\n      <td>A</td>\n      <td>\"World\"</td>\n      <td>\"Liquid bulk carriers\"</td>\n      <td>526202</td>\n    </tr>\n    <tr>\n      <th>12</th>\n      <td>2925</td>\n      <td>2019</td>\n      <td>A</td>\n      <td>\"World\"</td>\n      <td>\"Container ships\"</td>\n      <td>474553</td>\n    </tr>\n    <tr>\n      <th>13</th>\n      <td>2926</td>\n      <td>2019</td>\n      <td>A</td>\n      <td>\"World\"</td>\n      <td>\"Dry breakbulk carriers\"</td>\n      <td>446817</td>\n    </tr>\n    <tr>\n      <th>14</th>\n      <td>2927</td>\n      <td>2019</td>\n      <td>A</td>\n      <td>\"World\"</td>\n      <td>\"Dry bulk carriers\"</td>\n      <td>277872</td>\n    </tr>\n    <tr>\n      <th>15</th>\n      <td>2928</td>\n      <td>2019</td>\n      <td>A</td>\n      <td>\"World\"</td>\n      <td>\"Roll-on/ roll-off ships\"</td>\n      <td>190907</td>\n    </tr>\n    <tr>\n      <th>16</th>\n      <td>2929</td>\n      <td>2019</td>\n      <td>A</td>\n      <td>\"World\"</td>\n      <td>\"Liquefied petroleum gas carriers\"</td>\n      <td>55227</td>\n    </tr>\n    <tr>\n      <th>17</th>\n      <td>2930</td>\n      <td>2019</td>\n      <td>A</td>\n      <td>\"World\"</td>\n      <td>\"Liquefied natural gas carriers\"</td>\n      <td>12222</td>\n    </tr>\n    <tr>\n      <th>18</th>\n      <td>5845</td>\n      <td>2020</td>\n      <td>A</td>\n      <td>\"World\"</td>\n      <td>\"All ships\"</td>\n      <td>3906987</td>\n    </tr>\n    <tr>\n      <th>19</th>\n      <td>5846</td>\n      <td>2020</td>\n      <td>A</td>\n      <td>\"World\"</td>\n      <td>\"Passenger ships\"</td>\n      <td>2047156</td>\n    </tr>\n    <tr>\n      <th>20</th>\n      <td>5847</td>\n      <td>2020</td>\n      <td>A</td>\n      <td>\"World\"</td>\n      <td>\"Liquid bulk carriers\"</td>\n      <td>488876</td>\n    </tr>\n    <tr>\n      <th>21</th>\n      <td>5848</td>\n      <td>2020</td>\n      <td>A</td>\n      <td>\"World\"</td>\n      <td>\"Container ships\"</td>\n      <td>459417</td>\n    </tr>\n    <tr>\n      <th>22</th>\n      <td>5849</td>\n      <td>2020</td>\n      <td>A</td>\n      <td>\"World\"</td>\n      <td>\"Dry breakbulk carriers\"</td>\n      <td>413961</td>\n    </tr>\n    <tr>\n      <th>23</th>\n      <td>5850</td>\n      <td>2020</td>\n      <td>A</td>\n      <td>\"World\"</td>\n      <td>\"Dry bulk carriers\"</td>\n      <td>266337</td>\n    </tr>\n    <tr>\n      <th>24</th>\n      <td>5851</td>\n      <td>2020</td>\n      <td>A</td>\n      <td>\"World\"</td>\n      <td>\"Roll-on/ roll-off ships\"</td>\n      <td>166215</td>\n    </tr>\n    <tr>\n      <th>25</th>\n      <td>5852</td>\n      <td>2020</td>\n      <td>A</td>\n      <td>\"World\"</td>\n      <td>\"Liquefied petroleum gas carriers\"</td>\n      <td>52639</td>\n    </tr>\n    <tr>\n      <th>26</th>\n      <td>5853</td>\n      <td>2020</td>\n      <td>A</td>\n      <td>\"World\"</td>\n      <td>\"Liquefied natural gas carriers\"</td>\n      <td>12386</td>\n    </tr>\n  </tbody>\n</table>\n</div>"
     },
     "metadata": {},
     "execution_count": 13
    }
   ],
   "source": [
    "df_port_calls"
   ]
  },
  {
   "cell_type": "code",
   "execution_count": 14,
   "metadata": {},
   "outputs": [],
   "source": [
    "df_port_calls = df_port_calls[df_port_calls['CommercialMarket Label'] != '\"Passenger ships\"']\n",
    "df_port_calls = df_port_calls[df_port_calls['CommercialMarket Label'] != '\"Roll-on/ roll-off ships\"']"
   ]
  },
  {
   "cell_type": "code",
   "execution_count": 15,
   "metadata": {},
   "outputs": [],
   "source": [
    "df_port_calls = df_port_calls.drop(columns=['Unnamed: 0', 'Frequency', 'Frequency'], axis= 1)"
   ]
  },
  {
   "cell_type": "code",
   "execution_count": 16,
   "metadata": {},
   "outputs": [],
   "source": [
    "df_port_calls.index = range(len(df_port_calls.index))"
   ]
  },
  {
   "cell_type": "code",
   "execution_count": 17,
   "metadata": {},
   "outputs": [
    {
     "output_type": "execute_result",
     "data": {
      "text/plain": [
       "    Year Economy Label              CommercialMarket Label  \\\n",
       "0   2018       \"World\"                         \"All ships\"   \n",
       "1   2018       \"World\"              \"Liquid bulk carriers\"   \n",
       "2   2018       \"World\"                   \"Container ships\"   \n",
       "3   2018       \"World\"            \"Dry breakbulk carriers\"   \n",
       "4   2018       \"World\"                 \"Dry bulk carriers\"   \n",
       "5   2018       \"World\"  \"Liquefied petroleum gas carriers\"   \n",
       "6   2018       \"World\"    \"Liquefied natural gas carriers\"   \n",
       "7   2019       \"World\"                         \"All ships\"   \n",
       "8   2019       \"World\"              \"Liquid bulk carriers\"   \n",
       "9   2019       \"World\"                   \"Container ships\"   \n",
       "10  2019       \"World\"            \"Dry breakbulk carriers\"   \n",
       "11  2019       \"World\"                 \"Dry bulk carriers\"   \n",
       "12  2019       \"World\"  \"Liquefied petroleum gas carriers\"   \n",
       "13  2019       \"World\"    \"Liquefied natural gas carriers\"   \n",
       "14  2020       \"World\"                         \"All ships\"   \n",
       "15  2020       \"World\"              \"Liquid bulk carriers\"   \n",
       "16  2020       \"World\"                   \"Container ships\"   \n",
       "17  2020       \"World\"            \"Dry breakbulk carriers\"   \n",
       "18  2020       \"World\"                 \"Dry bulk carriers\"   \n",
       "19  2020       \"World\"  \"Liquefied petroleum gas carriers\"   \n",
       "20  2020       \"World\"    \"Liquefied natural gas carriers\"   \n",
       "\n",
       "    Number of port calls  \n",
       "0                4112944  \n",
       "1                 494120  \n",
       "2                 454016  \n",
       "3                 430344  \n",
       "4                 259551  \n",
       "5                  49357  \n",
       "6                  10617  \n",
       "7                4362737  \n",
       "8                 526202  \n",
       "9                 474553  \n",
       "10                446817  \n",
       "11                277872  \n",
       "12                 55227  \n",
       "13                 12222  \n",
       "14               3906987  \n",
       "15                488876  \n",
       "16                459417  \n",
       "17                413961  \n",
       "18                266337  \n",
       "19                 52639  \n",
       "20                 12386  "
      ],
      "text/html": "<div>\n<style scoped>\n    .dataframe tbody tr th:only-of-type {\n        vertical-align: middle;\n    }\n\n    .dataframe tbody tr th {\n        vertical-align: top;\n    }\n\n    .dataframe thead th {\n        text-align: right;\n    }\n</style>\n<table border=\"1\" class=\"dataframe\">\n  <thead>\n    <tr style=\"text-align: right;\">\n      <th></th>\n      <th>Year</th>\n      <th>Economy Label</th>\n      <th>CommercialMarket Label</th>\n      <th>Number of port calls</th>\n    </tr>\n  </thead>\n  <tbody>\n    <tr>\n      <th>0</th>\n      <td>2018</td>\n      <td>\"World\"</td>\n      <td>\"All ships\"</td>\n      <td>4112944</td>\n    </tr>\n    <tr>\n      <th>1</th>\n      <td>2018</td>\n      <td>\"World\"</td>\n      <td>\"Liquid bulk carriers\"</td>\n      <td>494120</td>\n    </tr>\n    <tr>\n      <th>2</th>\n      <td>2018</td>\n      <td>\"World\"</td>\n      <td>\"Container ships\"</td>\n      <td>454016</td>\n    </tr>\n    <tr>\n      <th>3</th>\n      <td>2018</td>\n      <td>\"World\"</td>\n      <td>\"Dry breakbulk carriers\"</td>\n      <td>430344</td>\n    </tr>\n    <tr>\n      <th>4</th>\n      <td>2018</td>\n      <td>\"World\"</td>\n      <td>\"Dry bulk carriers\"</td>\n      <td>259551</td>\n    </tr>\n    <tr>\n      <th>5</th>\n      <td>2018</td>\n      <td>\"World\"</td>\n      <td>\"Liquefied petroleum gas carriers\"</td>\n      <td>49357</td>\n    </tr>\n    <tr>\n      <th>6</th>\n      <td>2018</td>\n      <td>\"World\"</td>\n      <td>\"Liquefied natural gas carriers\"</td>\n      <td>10617</td>\n    </tr>\n    <tr>\n      <th>7</th>\n      <td>2019</td>\n      <td>\"World\"</td>\n      <td>\"All ships\"</td>\n      <td>4362737</td>\n    </tr>\n    <tr>\n      <th>8</th>\n      <td>2019</td>\n      <td>\"World\"</td>\n      <td>\"Liquid bulk carriers\"</td>\n      <td>526202</td>\n    </tr>\n    <tr>\n      <th>9</th>\n      <td>2019</td>\n      <td>\"World\"</td>\n      <td>\"Container ships\"</td>\n      <td>474553</td>\n    </tr>\n    <tr>\n      <th>10</th>\n      <td>2019</td>\n      <td>\"World\"</td>\n      <td>\"Dry breakbulk carriers\"</td>\n      <td>446817</td>\n    </tr>\n    <tr>\n      <th>11</th>\n      <td>2019</td>\n      <td>\"World\"</td>\n      <td>\"Dry bulk carriers\"</td>\n      <td>277872</td>\n    </tr>\n    <tr>\n      <th>12</th>\n      <td>2019</td>\n      <td>\"World\"</td>\n      <td>\"Liquefied petroleum gas carriers\"</td>\n      <td>55227</td>\n    </tr>\n    <tr>\n      <th>13</th>\n      <td>2019</td>\n      <td>\"World\"</td>\n      <td>\"Liquefied natural gas carriers\"</td>\n      <td>12222</td>\n    </tr>\n    <tr>\n      <th>14</th>\n      <td>2020</td>\n      <td>\"World\"</td>\n      <td>\"All ships\"</td>\n      <td>3906987</td>\n    </tr>\n    <tr>\n      <th>15</th>\n      <td>2020</td>\n      <td>\"World\"</td>\n      <td>\"Liquid bulk carriers\"</td>\n      <td>488876</td>\n    </tr>\n    <tr>\n      <th>16</th>\n      <td>2020</td>\n      <td>\"World\"</td>\n      <td>\"Container ships\"</td>\n      <td>459417</td>\n    </tr>\n    <tr>\n      <th>17</th>\n      <td>2020</td>\n      <td>\"World\"</td>\n      <td>\"Dry breakbulk carriers\"</td>\n      <td>413961</td>\n    </tr>\n    <tr>\n      <th>18</th>\n      <td>2020</td>\n      <td>\"World\"</td>\n      <td>\"Dry bulk carriers\"</td>\n      <td>266337</td>\n    </tr>\n    <tr>\n      <th>19</th>\n      <td>2020</td>\n      <td>\"World\"</td>\n      <td>\"Liquefied petroleum gas carriers\"</td>\n      <td>52639</td>\n    </tr>\n    <tr>\n      <th>20</th>\n      <td>2020</td>\n      <td>\"World\"</td>\n      <td>\"Liquefied natural gas carriers\"</td>\n      <td>12386</td>\n    </tr>\n  </tbody>\n</table>\n</div>"
     },
     "metadata": {},
     "execution_count": 17
    }
   ],
   "source": [
    "df_port_calls"
   ]
  },
  {
   "cell_type": "code",
   "execution_count": 18,
   "metadata": {},
   "outputs": [],
   "source": [
    "df_port_calls.to_csv('./Def_Data/df_port_calls.csv')"
   ]
  },
  {
   "cell_type": "code",
   "execution_count": 19,
   "metadata": {},
   "outputs": [],
   "source": [
    "df_sea_trade = pd.read_csv('./Cleaned_Data/cleaned_sea_trade.csv')"
   ]
  },
  {
   "cell_type": "code",
   "execution_count": 20,
   "metadata": {},
   "outputs": [
    {
     "output_type": "execute_result",
     "data": {
      "text/plain": [
       "      YEAR  YEAR.1  \"CARGO TYPE\"  \"Crude oil loaded\"  \\\n",
       "0   \"1970\"  \"1970\"           NaN            1207.000   \n",
       "1   \"1971\"  \"1971\"           NaN            1210.000   \n",
       "2   \"1972\"  \"1972\"           NaN            1321.000   \n",
       "3   \"1973\"  \"1973\"           NaN            1514.000   \n",
       "4   \"1974\"  \"1974\"           NaN            1497.000   \n",
       "5   \"1975\"  \"1975\"           NaN            1364.000   \n",
       "6   \"1976\"  \"1976\"           NaN            1555.000   \n",
       "7   \"1977\"  \"1977\"           NaN            1599.000   \n",
       "8   \"1978\"  \"1978\"           NaN            1604.000   \n",
       "9   \"1979\"  \"1979\"           NaN            1725.000   \n",
       "10  \"1980\"  \"1980\"           NaN            1527.000   \n",
       "11  \"1981\"  \"1981\"           NaN            1364.000   \n",
       "12  \"1982\"  \"1982\"           NaN            1163.000   \n",
       "13  \"1983\"  \"1983\"           NaN            1069.000   \n",
       "14  \"1984\"  \"1984\"           NaN            1079.000   \n",
       "15  \"1985\"  \"1985\"           NaN            1049.000   \n",
       "16  \"1986\"  \"1986\"           NaN            1126.000   \n",
       "17  \"1987\"  \"1987\"           NaN            1107.000   \n",
       "18  \"1988\"  \"1988\"           NaN            1160.000   \n",
       "19  \"1989\"  \"1989\"           NaN            1260.000   \n",
       "20  \"1990\"  \"1990\"           NaN            1287.000   \n",
       "21  \"1991\"  \"1991\"           NaN            1333.000   \n",
       "22  \"1992\"  \"1992\"           NaN            1394.000   \n",
       "23  \"1993\"  \"1993\"           NaN            1443.000   \n",
       "24  \"1994\"  \"1994\"           NaN            1498.000   \n",
       "25  \"1995\"  \"1995\"           NaN            1532.000   \n",
       "26  \"1996\"  \"1996\"           NaN            1590.000   \n",
       "27  \"1997\"  \"1997\"           NaN            1626.000   \n",
       "28  \"1998\"  \"1998\"           NaN            1548.000   \n",
       "29  \"1999\"  \"1999\"           NaN            1553.000   \n",
       "30  \"2000\"  \"2000\"           NaN            1605.000   \n",
       "31  \"2001\"  \"2001\"           NaN            1678.000   \n",
       "32  \"2002\"  \"2002\"           NaN            1637.000   \n",
       "33  \"2003\"  \"2003\"           NaN            1690.000   \n",
       "34  \"2004\"  \"2004\"           NaN            1770.000   \n",
       "35  \"2005\"  \"2005\"           NaN            1857.000   \n",
       "36  \"2006\"  \"2006\"           NaN            1783.415   \n",
       "37  \"2007\"  \"2007\"           NaN            1813.685   \n",
       "38  \"2008\"  \"2008\"           NaN            1784.849   \n",
       "39  \"2009\"  \"2009\"           NaN            1710.139   \n",
       "40  \"2010\"  \"2010\"           NaN            1784.592   \n",
       "41  \"2011\"  \"2011\"           NaN            1750.981   \n",
       "42  \"2012\"  \"2012\"           NaN            1785.425   \n",
       "43  \"2013\"  \"2013\"           NaN            1737.674   \n",
       "44  \"2014\"  \"2014\"           NaN            1711.701   \n",
       "45  \"2015\"  \"2015\"           NaN            1760.751   \n",
       "46  \"2016\"  \"2016\"           NaN            1832.259   \n",
       "47  \"2017\"  \"2017\"           NaN            1874.572   \n",
       "48  \"2018\"  \"2018\"           NaN            1881.053   \n",
       "49  \"2019\"  \"2019\"           NaN            1860.158   \n",
       "\n",
       "    \"Other tanker trade loaded\"  \"Dry cargo loaded\"  \"Total goods loaded\"  \\\n",
       "0                      233.0000            1165.000              2605.000   \n",
       "1                      320.0000            1162.000              2692.000   \n",
       "2                      332.0000            1221.000              2874.000   \n",
       "3                      353.0000            1407.000              3274.000   \n",
       "4                      335.0000            1472.000              3304.000   \n",
       "5                      280.0000            1428.000              3072.000   \n",
       "6                      289.0000            1522.000              3366.000   \n",
       "7                      293.0000            1576.000              3468.000   \n",
       "8                      296.0000            1650.000              3550.000   \n",
       "9                      318.0000            1785.000              3828.000   \n",
       "10                     344.0000            1833.000              3704.000   \n",
       "11                     327.0000            1864.000              3555.000   \n",
       "12                     350.0000            1760.000              3273.000   \n",
       "13                     392.0000            1770.000              3231.000   \n",
       "14                     399.0000            1886.000              3364.000   \n",
       "15                     410.0000            1895.000              3330.000   \n",
       "16                     424.0000            1835.000              3385.000   \n",
       "17                     441.0000            1987.000              3505.000   \n",
       "18                     456.0000            2119.000              3735.000   \n",
       "19                     468.0000            2212.000              3940.000   \n",
       "20                     468.0000            2253.000              4008.000   \n",
       "21                     457.0000            2330.000              4120.000   \n",
       "22                     466.0000            2360.000              4220.000   \n",
       "23                     502.0000            2385.000              4330.000   \n",
       "24                     509.0000            2478.000              4485.000   \n",
       "25                     518.0000            2601.000              4651.000   \n",
       "26                     537.0000            2631.000              4758.000   \n",
       "27                     546.0000            2781.000              4953.000   \n",
       "28                     534.0000            3549.000              5631.000   \n",
       "29                     532.0000            3598.000              5683.000   \n",
       "30                     558.0000            3821.000              5984.000   \n",
       "31                     499.0000            3844.000              6020.000   \n",
       "32                     509.0000            3981.000              6127.000   \n",
       "33                     533.0000            4257.000              6480.000   \n",
       "34                     546.0000            4442.000              6758.000   \n",
       "35                     565.0000            4687.000              7109.000   \n",
       "36                     914.9099            5003.782              7702.107   \n",
       "37                     933.6598            5288.885              8036.231   \n",
       "38                     957.1575            5485.523              8227.529   \n",
       "39                     931.1412            5176.829              7818.109   \n",
       "40                     967.7164            5648.615              8400.924   \n",
       "41                    1028.4740            5959.098              8738.553   \n",
       "42                    1054.7080            6357.247              9197.381   \n",
       "43                    1090.5820            6624.669              9452.926   \n",
       "44                    1121.5000            6983.243              9816.443   \n",
       "45                    1178.0500            7074.325             10013.130   \n",
       "46                    1238.1070            7176.248             10246.610   \n",
       "47                    1279.0150            7560.303             10713.890   \n",
       "48                    1319.7450            7818.362             11019.160   \n",
       "49                    1308.3620            7907.397             11075.920   \n",
       "\n",
       "    \"Crude oil unloaded\"  \"Other tanker trade unloaded\"  \n",
       "0               1101.000                       298.0000  \n",
       "1               1199.000                       300.0000  \n",
       "2               1325.000                       316.0000  \n",
       "3               1521.000                       339.0000  \n",
       "4               1470.000                       312.0000  \n",
       "5               1373.000                       287.0000  \n",
       "6               1522.000                       312.0000  \n",
       "7               1585.000                       321.0000  \n",
       "8               1634.000                       321.0000  \n",
       "9               1724.000                       308.0000  \n",
       "10              1530.000                       326.0000  \n",
       "11              1363.000                       310.0000  \n",
       "12              1283.000                       330.0000  \n",
       "13              1133.000                       349.0000  \n",
       "14              1166.000                       371.0000  \n",
       "15              1128.000                       367.0000  \n",
       "16              1220.000                       390.0000  \n",
       "17              1110.000                       408.0000  \n",
       "18              1194.000                       422.0000  \n",
       "19              1300.000                       433.0000  \n",
       "20              1315.000                       466.0000  \n",
       "21              1355.000                       441.0000  \n",
       "22              1414.000                       451.0000  \n",
       "23              1465.000                       480.0000  \n",
       "24              1508.000                       490.0000  \n",
       "25              1550.000                       508.0000  \n",
       "26              1599.000                       480.0000  \n",
       "27              1625.000                       522.0000  \n",
       "28              1515.000                       548.0000  \n",
       "29              1543.000                       510.0000  \n",
       "30              1633.000                       513.0000  \n",
       "31              1712.000                       534.0000  \n",
       "32              1696.000                       540.0000  \n",
       "33              1743.000                       536.0000  \n",
       "34              1773.000                       545.0000  \n",
       "35              1854.000                       573.0000  \n",
       "36              1939.890                       897.1749  \n",
       "37              1996.193                       901.6196  \n",
       "38              1942.790                       932.7750  \n",
       "39              1874.597                       922.6986  \n",
       "40              1939.385                       970.5974  \n",
       "41              1897.015                      1039.3070  \n",
       "42              1930.007                      1055.8430  \n",
       "43              1881.765                      1090.6640  \n",
       "44              1850.156                      1087.5590  \n",
       "45              1909.958                      1175.4690  \n",
       "46              1985.472                      1234.7660  \n",
       "47              2033.454                      1287.8850  \n",
       "48              2048.803                      1338.5500  \n",
       "49              2033.371                      1329.3220  "
      ],
      "text/html": "<div>\n<style scoped>\n    .dataframe tbody tr th:only-of-type {\n        vertical-align: middle;\n    }\n\n    .dataframe tbody tr th {\n        vertical-align: top;\n    }\n\n    .dataframe thead th {\n        text-align: right;\n    }\n</style>\n<table border=\"1\" class=\"dataframe\">\n  <thead>\n    <tr style=\"text-align: right;\">\n      <th></th>\n      <th>YEAR</th>\n      <th>YEAR.1</th>\n      <th>\"CARGO TYPE\"</th>\n      <th>\"Crude oil loaded\"</th>\n      <th>\"Other tanker trade loaded\"</th>\n      <th>\"Dry cargo loaded\"</th>\n      <th>\"Total goods loaded\"</th>\n      <th>\"Crude oil unloaded\"</th>\n      <th>\"Other tanker trade unloaded\"</th>\n    </tr>\n  </thead>\n  <tbody>\n    <tr>\n      <th>0</th>\n      <td>\"1970\"</td>\n      <td>\"1970\"</td>\n      <td>NaN</td>\n      <td>1207.000</td>\n      <td>233.0000</td>\n      <td>1165.000</td>\n      <td>2605.000</td>\n      <td>1101.000</td>\n      <td>298.0000</td>\n    </tr>\n    <tr>\n      <th>1</th>\n      <td>\"1971\"</td>\n      <td>\"1971\"</td>\n      <td>NaN</td>\n      <td>1210.000</td>\n      <td>320.0000</td>\n      <td>1162.000</td>\n      <td>2692.000</td>\n      <td>1199.000</td>\n      <td>300.0000</td>\n    </tr>\n    <tr>\n      <th>2</th>\n      <td>\"1972\"</td>\n      <td>\"1972\"</td>\n      <td>NaN</td>\n      <td>1321.000</td>\n      <td>332.0000</td>\n      <td>1221.000</td>\n      <td>2874.000</td>\n      <td>1325.000</td>\n      <td>316.0000</td>\n    </tr>\n    <tr>\n      <th>3</th>\n      <td>\"1973\"</td>\n      <td>\"1973\"</td>\n      <td>NaN</td>\n      <td>1514.000</td>\n      <td>353.0000</td>\n      <td>1407.000</td>\n      <td>3274.000</td>\n      <td>1521.000</td>\n      <td>339.0000</td>\n    </tr>\n    <tr>\n      <th>4</th>\n      <td>\"1974\"</td>\n      <td>\"1974\"</td>\n      <td>NaN</td>\n      <td>1497.000</td>\n      <td>335.0000</td>\n      <td>1472.000</td>\n      <td>3304.000</td>\n      <td>1470.000</td>\n      <td>312.0000</td>\n    </tr>\n    <tr>\n      <th>5</th>\n      <td>\"1975\"</td>\n      <td>\"1975\"</td>\n      <td>NaN</td>\n      <td>1364.000</td>\n      <td>280.0000</td>\n      <td>1428.000</td>\n      <td>3072.000</td>\n      <td>1373.000</td>\n      <td>287.0000</td>\n    </tr>\n    <tr>\n      <th>6</th>\n      <td>\"1976\"</td>\n      <td>\"1976\"</td>\n      <td>NaN</td>\n      <td>1555.000</td>\n      <td>289.0000</td>\n      <td>1522.000</td>\n      <td>3366.000</td>\n      <td>1522.000</td>\n      <td>312.0000</td>\n    </tr>\n    <tr>\n      <th>7</th>\n      <td>\"1977\"</td>\n      <td>\"1977\"</td>\n      <td>NaN</td>\n      <td>1599.000</td>\n      <td>293.0000</td>\n      <td>1576.000</td>\n      <td>3468.000</td>\n      <td>1585.000</td>\n      <td>321.0000</td>\n    </tr>\n    <tr>\n      <th>8</th>\n      <td>\"1978\"</td>\n      <td>\"1978\"</td>\n      <td>NaN</td>\n      <td>1604.000</td>\n      <td>296.0000</td>\n      <td>1650.000</td>\n      <td>3550.000</td>\n      <td>1634.000</td>\n      <td>321.0000</td>\n    </tr>\n    <tr>\n      <th>9</th>\n      <td>\"1979\"</td>\n      <td>\"1979\"</td>\n      <td>NaN</td>\n      <td>1725.000</td>\n      <td>318.0000</td>\n      <td>1785.000</td>\n      <td>3828.000</td>\n      <td>1724.000</td>\n      <td>308.0000</td>\n    </tr>\n    <tr>\n      <th>10</th>\n      <td>\"1980\"</td>\n      <td>\"1980\"</td>\n      <td>NaN</td>\n      <td>1527.000</td>\n      <td>344.0000</td>\n      <td>1833.000</td>\n      <td>3704.000</td>\n      <td>1530.000</td>\n      <td>326.0000</td>\n    </tr>\n    <tr>\n      <th>11</th>\n      <td>\"1981\"</td>\n      <td>\"1981\"</td>\n      <td>NaN</td>\n      <td>1364.000</td>\n      <td>327.0000</td>\n      <td>1864.000</td>\n      <td>3555.000</td>\n      <td>1363.000</td>\n      <td>310.0000</td>\n    </tr>\n    <tr>\n      <th>12</th>\n      <td>\"1982\"</td>\n      <td>\"1982\"</td>\n      <td>NaN</td>\n      <td>1163.000</td>\n      <td>350.0000</td>\n      <td>1760.000</td>\n      <td>3273.000</td>\n      <td>1283.000</td>\n      <td>330.0000</td>\n    </tr>\n    <tr>\n      <th>13</th>\n      <td>\"1983\"</td>\n      <td>\"1983\"</td>\n      <td>NaN</td>\n      <td>1069.000</td>\n      <td>392.0000</td>\n      <td>1770.000</td>\n      <td>3231.000</td>\n      <td>1133.000</td>\n      <td>349.0000</td>\n    </tr>\n    <tr>\n      <th>14</th>\n      <td>\"1984\"</td>\n      <td>\"1984\"</td>\n      <td>NaN</td>\n      <td>1079.000</td>\n      <td>399.0000</td>\n      <td>1886.000</td>\n      <td>3364.000</td>\n      <td>1166.000</td>\n      <td>371.0000</td>\n    </tr>\n    <tr>\n      <th>15</th>\n      <td>\"1985\"</td>\n      <td>\"1985\"</td>\n      <td>NaN</td>\n      <td>1049.000</td>\n      <td>410.0000</td>\n      <td>1895.000</td>\n      <td>3330.000</td>\n      <td>1128.000</td>\n      <td>367.0000</td>\n    </tr>\n    <tr>\n      <th>16</th>\n      <td>\"1986\"</td>\n      <td>\"1986\"</td>\n      <td>NaN</td>\n      <td>1126.000</td>\n      <td>424.0000</td>\n      <td>1835.000</td>\n      <td>3385.000</td>\n      <td>1220.000</td>\n      <td>390.0000</td>\n    </tr>\n    <tr>\n      <th>17</th>\n      <td>\"1987\"</td>\n      <td>\"1987\"</td>\n      <td>NaN</td>\n      <td>1107.000</td>\n      <td>441.0000</td>\n      <td>1987.000</td>\n      <td>3505.000</td>\n      <td>1110.000</td>\n      <td>408.0000</td>\n    </tr>\n    <tr>\n      <th>18</th>\n      <td>\"1988\"</td>\n      <td>\"1988\"</td>\n      <td>NaN</td>\n      <td>1160.000</td>\n      <td>456.0000</td>\n      <td>2119.000</td>\n      <td>3735.000</td>\n      <td>1194.000</td>\n      <td>422.0000</td>\n    </tr>\n    <tr>\n      <th>19</th>\n      <td>\"1989\"</td>\n      <td>\"1989\"</td>\n      <td>NaN</td>\n      <td>1260.000</td>\n      <td>468.0000</td>\n      <td>2212.000</td>\n      <td>3940.000</td>\n      <td>1300.000</td>\n      <td>433.0000</td>\n    </tr>\n    <tr>\n      <th>20</th>\n      <td>\"1990\"</td>\n      <td>\"1990\"</td>\n      <td>NaN</td>\n      <td>1287.000</td>\n      <td>468.0000</td>\n      <td>2253.000</td>\n      <td>4008.000</td>\n      <td>1315.000</td>\n      <td>466.0000</td>\n    </tr>\n    <tr>\n      <th>21</th>\n      <td>\"1991\"</td>\n      <td>\"1991\"</td>\n      <td>NaN</td>\n      <td>1333.000</td>\n      <td>457.0000</td>\n      <td>2330.000</td>\n      <td>4120.000</td>\n      <td>1355.000</td>\n      <td>441.0000</td>\n    </tr>\n    <tr>\n      <th>22</th>\n      <td>\"1992\"</td>\n      <td>\"1992\"</td>\n      <td>NaN</td>\n      <td>1394.000</td>\n      <td>466.0000</td>\n      <td>2360.000</td>\n      <td>4220.000</td>\n      <td>1414.000</td>\n      <td>451.0000</td>\n    </tr>\n    <tr>\n      <th>23</th>\n      <td>\"1993\"</td>\n      <td>\"1993\"</td>\n      <td>NaN</td>\n      <td>1443.000</td>\n      <td>502.0000</td>\n      <td>2385.000</td>\n      <td>4330.000</td>\n      <td>1465.000</td>\n      <td>480.0000</td>\n    </tr>\n    <tr>\n      <th>24</th>\n      <td>\"1994\"</td>\n      <td>\"1994\"</td>\n      <td>NaN</td>\n      <td>1498.000</td>\n      <td>509.0000</td>\n      <td>2478.000</td>\n      <td>4485.000</td>\n      <td>1508.000</td>\n      <td>490.0000</td>\n    </tr>\n    <tr>\n      <th>25</th>\n      <td>\"1995\"</td>\n      <td>\"1995\"</td>\n      <td>NaN</td>\n      <td>1532.000</td>\n      <td>518.0000</td>\n      <td>2601.000</td>\n      <td>4651.000</td>\n      <td>1550.000</td>\n      <td>508.0000</td>\n    </tr>\n    <tr>\n      <th>26</th>\n      <td>\"1996\"</td>\n      <td>\"1996\"</td>\n      <td>NaN</td>\n      <td>1590.000</td>\n      <td>537.0000</td>\n      <td>2631.000</td>\n      <td>4758.000</td>\n      <td>1599.000</td>\n      <td>480.0000</td>\n    </tr>\n    <tr>\n      <th>27</th>\n      <td>\"1997\"</td>\n      <td>\"1997\"</td>\n      <td>NaN</td>\n      <td>1626.000</td>\n      <td>546.0000</td>\n      <td>2781.000</td>\n      <td>4953.000</td>\n      <td>1625.000</td>\n      <td>522.0000</td>\n    </tr>\n    <tr>\n      <th>28</th>\n      <td>\"1998\"</td>\n      <td>\"1998\"</td>\n      <td>NaN</td>\n      <td>1548.000</td>\n      <td>534.0000</td>\n      <td>3549.000</td>\n      <td>5631.000</td>\n      <td>1515.000</td>\n      <td>548.0000</td>\n    </tr>\n    <tr>\n      <th>29</th>\n      <td>\"1999\"</td>\n      <td>\"1999\"</td>\n      <td>NaN</td>\n      <td>1553.000</td>\n      <td>532.0000</td>\n      <td>3598.000</td>\n      <td>5683.000</td>\n      <td>1543.000</td>\n      <td>510.0000</td>\n    </tr>\n    <tr>\n      <th>30</th>\n      <td>\"2000\"</td>\n      <td>\"2000\"</td>\n      <td>NaN</td>\n      <td>1605.000</td>\n      <td>558.0000</td>\n      <td>3821.000</td>\n      <td>5984.000</td>\n      <td>1633.000</td>\n      <td>513.0000</td>\n    </tr>\n    <tr>\n      <th>31</th>\n      <td>\"2001\"</td>\n      <td>\"2001\"</td>\n      <td>NaN</td>\n      <td>1678.000</td>\n      <td>499.0000</td>\n      <td>3844.000</td>\n      <td>6020.000</td>\n      <td>1712.000</td>\n      <td>534.0000</td>\n    </tr>\n    <tr>\n      <th>32</th>\n      <td>\"2002\"</td>\n      <td>\"2002\"</td>\n      <td>NaN</td>\n      <td>1637.000</td>\n      <td>509.0000</td>\n      <td>3981.000</td>\n      <td>6127.000</td>\n      <td>1696.000</td>\n      <td>540.0000</td>\n    </tr>\n    <tr>\n      <th>33</th>\n      <td>\"2003\"</td>\n      <td>\"2003\"</td>\n      <td>NaN</td>\n      <td>1690.000</td>\n      <td>533.0000</td>\n      <td>4257.000</td>\n      <td>6480.000</td>\n      <td>1743.000</td>\n      <td>536.0000</td>\n    </tr>\n    <tr>\n      <th>34</th>\n      <td>\"2004\"</td>\n      <td>\"2004\"</td>\n      <td>NaN</td>\n      <td>1770.000</td>\n      <td>546.0000</td>\n      <td>4442.000</td>\n      <td>6758.000</td>\n      <td>1773.000</td>\n      <td>545.0000</td>\n    </tr>\n    <tr>\n      <th>35</th>\n      <td>\"2005\"</td>\n      <td>\"2005\"</td>\n      <td>NaN</td>\n      <td>1857.000</td>\n      <td>565.0000</td>\n      <td>4687.000</td>\n      <td>7109.000</td>\n      <td>1854.000</td>\n      <td>573.0000</td>\n    </tr>\n    <tr>\n      <th>36</th>\n      <td>\"2006\"</td>\n      <td>\"2006\"</td>\n      <td>NaN</td>\n      <td>1783.415</td>\n      <td>914.9099</td>\n      <td>5003.782</td>\n      <td>7702.107</td>\n      <td>1939.890</td>\n      <td>897.1749</td>\n    </tr>\n    <tr>\n      <th>37</th>\n      <td>\"2007\"</td>\n      <td>\"2007\"</td>\n      <td>NaN</td>\n      <td>1813.685</td>\n      <td>933.6598</td>\n      <td>5288.885</td>\n      <td>8036.231</td>\n      <td>1996.193</td>\n      <td>901.6196</td>\n    </tr>\n    <tr>\n      <th>38</th>\n      <td>\"2008\"</td>\n      <td>\"2008\"</td>\n      <td>NaN</td>\n      <td>1784.849</td>\n      <td>957.1575</td>\n      <td>5485.523</td>\n      <td>8227.529</td>\n      <td>1942.790</td>\n      <td>932.7750</td>\n    </tr>\n    <tr>\n      <th>39</th>\n      <td>\"2009\"</td>\n      <td>\"2009\"</td>\n      <td>NaN</td>\n      <td>1710.139</td>\n      <td>931.1412</td>\n      <td>5176.829</td>\n      <td>7818.109</td>\n      <td>1874.597</td>\n      <td>922.6986</td>\n    </tr>\n    <tr>\n      <th>40</th>\n      <td>\"2010\"</td>\n      <td>\"2010\"</td>\n      <td>NaN</td>\n      <td>1784.592</td>\n      <td>967.7164</td>\n      <td>5648.615</td>\n      <td>8400.924</td>\n      <td>1939.385</td>\n      <td>970.5974</td>\n    </tr>\n    <tr>\n      <th>41</th>\n      <td>\"2011\"</td>\n      <td>\"2011\"</td>\n      <td>NaN</td>\n      <td>1750.981</td>\n      <td>1028.4740</td>\n      <td>5959.098</td>\n      <td>8738.553</td>\n      <td>1897.015</td>\n      <td>1039.3070</td>\n    </tr>\n    <tr>\n      <th>42</th>\n      <td>\"2012\"</td>\n      <td>\"2012\"</td>\n      <td>NaN</td>\n      <td>1785.425</td>\n      <td>1054.7080</td>\n      <td>6357.247</td>\n      <td>9197.381</td>\n      <td>1930.007</td>\n      <td>1055.8430</td>\n    </tr>\n    <tr>\n      <th>43</th>\n      <td>\"2013\"</td>\n      <td>\"2013\"</td>\n      <td>NaN</td>\n      <td>1737.674</td>\n      <td>1090.5820</td>\n      <td>6624.669</td>\n      <td>9452.926</td>\n      <td>1881.765</td>\n      <td>1090.6640</td>\n    </tr>\n    <tr>\n      <th>44</th>\n      <td>\"2014\"</td>\n      <td>\"2014\"</td>\n      <td>NaN</td>\n      <td>1711.701</td>\n      <td>1121.5000</td>\n      <td>6983.243</td>\n      <td>9816.443</td>\n      <td>1850.156</td>\n      <td>1087.5590</td>\n    </tr>\n    <tr>\n      <th>45</th>\n      <td>\"2015\"</td>\n      <td>\"2015\"</td>\n      <td>NaN</td>\n      <td>1760.751</td>\n      <td>1178.0500</td>\n      <td>7074.325</td>\n      <td>10013.130</td>\n      <td>1909.958</td>\n      <td>1175.4690</td>\n    </tr>\n    <tr>\n      <th>46</th>\n      <td>\"2016\"</td>\n      <td>\"2016\"</td>\n      <td>NaN</td>\n      <td>1832.259</td>\n      <td>1238.1070</td>\n      <td>7176.248</td>\n      <td>10246.610</td>\n      <td>1985.472</td>\n      <td>1234.7660</td>\n    </tr>\n    <tr>\n      <th>47</th>\n      <td>\"2017\"</td>\n      <td>\"2017\"</td>\n      <td>NaN</td>\n      <td>1874.572</td>\n      <td>1279.0150</td>\n      <td>7560.303</td>\n      <td>10713.890</td>\n      <td>2033.454</td>\n      <td>1287.8850</td>\n    </tr>\n    <tr>\n      <th>48</th>\n      <td>\"2018\"</td>\n      <td>\"2018\"</td>\n      <td>NaN</td>\n      <td>1881.053</td>\n      <td>1319.7450</td>\n      <td>7818.362</td>\n      <td>11019.160</td>\n      <td>2048.803</td>\n      <td>1338.5500</td>\n    </tr>\n    <tr>\n      <th>49</th>\n      <td>\"2019\"</td>\n      <td>\"2019\"</td>\n      <td>NaN</td>\n      <td>1860.158</td>\n      <td>1308.3620</td>\n      <td>7907.397</td>\n      <td>11075.920</td>\n      <td>2033.371</td>\n      <td>1329.3220</td>\n    </tr>\n  </tbody>\n</table>\n</div>"
     },
     "metadata": {},
     "execution_count": 20
    }
   ],
   "source": [
    "df_sea_trade"
   ]
  },
  {
   "cell_type": "code",
   "execution_count": 21,
   "metadata": {},
   "outputs": [],
   "source": [
    "df_sea_trade = df_sea_trade.drop(columns=['YEAR.1', '\"CARGO TYPE\"'], axis=1)"
   ]
  },
  {
   "cell_type": "code",
   "execution_count": 22,
   "metadata": {},
   "outputs": [],
   "source": [
    "from utils import drop_quot_marks\n",
    "df_sea_trade = drop_quot_marks(df_sea_trade, 'YEAR')"
   ]
  },
  {
   "cell_type": "code",
   "execution_count": 23,
   "metadata": {},
   "outputs": [],
   "source": [
    "df_sea_trade['YEAR'] = pd.to_datetime(df_sea_trade['YEAR'])"
   ]
  },
  {
   "cell_type": "code",
   "execution_count": 24,
   "metadata": {},
   "outputs": [],
   "source": [
    "df_sea_trade.to_csv('./Def_Data/df_sea_trade.csv')"
   ]
  },
  {
   "cell_type": "code",
   "execution_count": 25,
   "metadata": {},
   "outputs": [],
   "source": [
    "df_ship_buildings = pd.read_csv('./Cleaned_Data/cleaned_ship_buildings.csv')"
   ]
  },
  {
   "cell_type": "code",
   "execution_count": 26,
   "metadata": {},
   "outputs": [],
   "source": [
    "df_ship_buildings = df_ship_buildings[df_ship_buildings['Country Label'] == 'World']"
   ]
  },
  {
   "cell_type": "code",
   "execution_count": 27,
   "metadata": {},
   "outputs": [],
   "source": [
    "df_ship_buildings = df_ship_buildings.drop(columns=['Unnamed: 0','Series','ShipType', 'Percentage of total all economies', 'Country', 'Series Label'])"
   ]
  },
  {
   "cell_type": "code",
   "execution_count": 28,
   "metadata": {},
   "outputs": [],
   "source": [
    "df_ship_buildings = df_ship_buildings.rename(columns={'Gross Tonnage': 'GT built'}, inplace=False)"
   ]
  },
  {
   "cell_type": "code",
   "execution_count": 29,
   "metadata": {},
   "outputs": [
    {
     "output_type": "execute_result",
     "data": {
      "text/plain": [
       "      Year Country Label ShipType Label  GT built\n",
       "0     2014         World    Total fleet  63662235\n",
       "219   2015         World    Total fleet  67876902\n",
       "438   2016         World    Total fleet  66782739\n",
       "657   2017         World    Total fleet  65712437\n",
       "876   2018         World    Total fleet  58045134\n",
       "1095  2019         World    Total fleet  65910572"
      ],
      "text/html": "<div>\n<style scoped>\n    .dataframe tbody tr th:only-of-type {\n        vertical-align: middle;\n    }\n\n    .dataframe tbody tr th {\n        vertical-align: top;\n    }\n\n    .dataframe thead th {\n        text-align: right;\n    }\n</style>\n<table border=\"1\" class=\"dataframe\">\n  <thead>\n    <tr style=\"text-align: right;\">\n      <th></th>\n      <th>Year</th>\n      <th>Country Label</th>\n      <th>ShipType Label</th>\n      <th>GT built</th>\n    </tr>\n  </thead>\n  <tbody>\n    <tr>\n      <th>0</th>\n      <td>2014</td>\n      <td>World</td>\n      <td>Total fleet</td>\n      <td>63662235</td>\n    </tr>\n    <tr>\n      <th>219</th>\n      <td>2015</td>\n      <td>World</td>\n      <td>Total fleet</td>\n      <td>67876902</td>\n    </tr>\n    <tr>\n      <th>438</th>\n      <td>2016</td>\n      <td>World</td>\n      <td>Total fleet</td>\n      <td>66782739</td>\n    </tr>\n    <tr>\n      <th>657</th>\n      <td>2017</td>\n      <td>World</td>\n      <td>Total fleet</td>\n      <td>65712437</td>\n    </tr>\n    <tr>\n      <th>876</th>\n      <td>2018</td>\n      <td>World</td>\n      <td>Total fleet</td>\n      <td>58045134</td>\n    </tr>\n    <tr>\n      <th>1095</th>\n      <td>2019</td>\n      <td>World</td>\n      <td>Total fleet</td>\n      <td>65910572</td>\n    </tr>\n  </tbody>\n</table>\n</div>"
     },
     "metadata": {},
     "execution_count": 29
    }
   ],
   "source": [
    "df_ship_buildings"
   ]
  },
  {
   "cell_type": "code",
   "execution_count": 30,
   "metadata": {},
   "outputs": [],
   "source": [
    "df_ship_scrapping = pd.read_csv('./Cleaned_Data/cleaned_ship_scrapping.csv')"
   ]
  },
  {
   "cell_type": "code",
   "execution_count": 31,
   "metadata": {},
   "outputs": [
    {
     "output_type": "execute_result",
     "data": {
      "text/plain": [
       "     Unnamed: 0  Year  Series                              Series Label  \\\n",
       "0             0  2017    2307  Ship scrapping by country of destruction   \n",
       "1             1  2017    2307  Ship scrapping by country of destruction   \n",
       "2             2  2017    2307  Ship scrapping by country of destruction   \n",
       "3             3  2017    2307  Ship scrapping by country of destruction   \n",
       "4             4  2017    2307  Ship scrapping by country of destruction   \n",
       "..          ...   ...     ...                                       ...   \n",
       "598         598  2019    2307  Ship scrapping by country of destruction   \n",
       "599         599  2019    2307  Ship scrapping by country of destruction   \n",
       "600         600  2019    2307  Ship scrapping by country of destruction   \n",
       "601         601  2019    2307  Ship scrapping by country of destruction   \n",
       "602         602  2019    2307  Ship scrapping by country of destruction   \n",
       "\n",
       "    Country             Country Label  ShipType ShipType Label  \\\n",
       "0      0000                     World         0    Total fleet   \n",
       "1     0000u              World n.e.s.         0    Total fleet   \n",
       "2       031                Azerbaijan         0    Total fleet   \n",
       "3       036                 Australia         0    Total fleet   \n",
       "4       050                Bangladesh         0    Total fleet   \n",
       "..      ...                       ...       ...            ...   \n",
       "598     792                    Turkey         0    Total fleet   \n",
       "599     804                   Ukraine         0    Total fleet   \n",
       "600     818                     Egypt         0    Total fleet   \n",
       "601     842  United States of America         0    Total fleet   \n",
       "602     926            United Kingdom         0    Total fleet   \n",
       "\n",
       "     Percentage of total all economies  Gross Tonnage  \n",
       "0                            100.00000     23137868.0  \n",
       "1                              0.55387       128154.0  \n",
       "2                              0.00321          742.0  \n",
       "3                              0.00000            0.0  \n",
       "4                             28.92787      6693292.0  \n",
       "..                                 ...            ...  \n",
       "598                            8.96088      1094811.0  \n",
       "599                            0.00205          251.0  \n",
       "600                            0.00000            0.0  \n",
       "601                            0.52769        64471.0  \n",
       "602                            0.00623          761.0  \n",
       "\n",
       "[603 rows x 10 columns]"
      ],
      "text/html": "<div>\n<style scoped>\n    .dataframe tbody tr th:only-of-type {\n        vertical-align: middle;\n    }\n\n    .dataframe tbody tr th {\n        vertical-align: top;\n    }\n\n    .dataframe thead th {\n        text-align: right;\n    }\n</style>\n<table border=\"1\" class=\"dataframe\">\n  <thead>\n    <tr style=\"text-align: right;\">\n      <th></th>\n      <th>Unnamed: 0</th>\n      <th>Year</th>\n      <th>Series</th>\n      <th>Series Label</th>\n      <th>Country</th>\n      <th>Country Label</th>\n      <th>ShipType</th>\n      <th>ShipType Label</th>\n      <th>Percentage of total all economies</th>\n      <th>Gross Tonnage</th>\n    </tr>\n  </thead>\n  <tbody>\n    <tr>\n      <th>0</th>\n      <td>0</td>\n      <td>2017</td>\n      <td>2307</td>\n      <td>Ship scrapping by country of destruction</td>\n      <td>0000</td>\n      <td>World</td>\n      <td>0</td>\n      <td>Total fleet</td>\n      <td>100.00000</td>\n      <td>23137868.0</td>\n    </tr>\n    <tr>\n      <th>1</th>\n      <td>1</td>\n      <td>2017</td>\n      <td>2307</td>\n      <td>Ship scrapping by country of destruction</td>\n      <td>0000u</td>\n      <td>World n.e.s.</td>\n      <td>0</td>\n      <td>Total fleet</td>\n      <td>0.55387</td>\n      <td>128154.0</td>\n    </tr>\n    <tr>\n      <th>2</th>\n      <td>2</td>\n      <td>2017</td>\n      <td>2307</td>\n      <td>Ship scrapping by country of destruction</td>\n      <td>031</td>\n      <td>Azerbaijan</td>\n      <td>0</td>\n      <td>Total fleet</td>\n      <td>0.00321</td>\n      <td>742.0</td>\n    </tr>\n    <tr>\n      <th>3</th>\n      <td>3</td>\n      <td>2017</td>\n      <td>2307</td>\n      <td>Ship scrapping by country of destruction</td>\n      <td>036</td>\n      <td>Australia</td>\n      <td>0</td>\n      <td>Total fleet</td>\n      <td>0.00000</td>\n      <td>0.0</td>\n    </tr>\n    <tr>\n      <th>4</th>\n      <td>4</td>\n      <td>2017</td>\n      <td>2307</td>\n      <td>Ship scrapping by country of destruction</td>\n      <td>050</td>\n      <td>Bangladesh</td>\n      <td>0</td>\n      <td>Total fleet</td>\n      <td>28.92787</td>\n      <td>6693292.0</td>\n    </tr>\n    <tr>\n      <th>...</th>\n      <td>...</td>\n      <td>...</td>\n      <td>...</td>\n      <td>...</td>\n      <td>...</td>\n      <td>...</td>\n      <td>...</td>\n      <td>...</td>\n      <td>...</td>\n      <td>...</td>\n    </tr>\n    <tr>\n      <th>598</th>\n      <td>598</td>\n      <td>2019</td>\n      <td>2307</td>\n      <td>Ship scrapping by country of destruction</td>\n      <td>792</td>\n      <td>Turkey</td>\n      <td>0</td>\n      <td>Total fleet</td>\n      <td>8.96088</td>\n      <td>1094811.0</td>\n    </tr>\n    <tr>\n      <th>599</th>\n      <td>599</td>\n      <td>2019</td>\n      <td>2307</td>\n      <td>Ship scrapping by country of destruction</td>\n      <td>804</td>\n      <td>Ukraine</td>\n      <td>0</td>\n      <td>Total fleet</td>\n      <td>0.00205</td>\n      <td>251.0</td>\n    </tr>\n    <tr>\n      <th>600</th>\n      <td>600</td>\n      <td>2019</td>\n      <td>2307</td>\n      <td>Ship scrapping by country of destruction</td>\n      <td>818</td>\n      <td>Egypt</td>\n      <td>0</td>\n      <td>Total fleet</td>\n      <td>0.00000</td>\n      <td>0.0</td>\n    </tr>\n    <tr>\n      <th>601</th>\n      <td>601</td>\n      <td>2019</td>\n      <td>2307</td>\n      <td>Ship scrapping by country of destruction</td>\n      <td>842</td>\n      <td>United States of America</td>\n      <td>0</td>\n      <td>Total fleet</td>\n      <td>0.52769</td>\n      <td>64471.0</td>\n    </tr>\n    <tr>\n      <th>602</th>\n      <td>602</td>\n      <td>2019</td>\n      <td>2307</td>\n      <td>Ship scrapping by country of destruction</td>\n      <td>926</td>\n      <td>United Kingdom</td>\n      <td>0</td>\n      <td>Total fleet</td>\n      <td>0.00623</td>\n      <td>761.0</td>\n    </tr>\n  </tbody>\n</table>\n<p>603 rows × 10 columns</p>\n</div>"
     },
     "metadata": {},
     "execution_count": 31
    }
   ],
   "source": [
    "df_ship_scrapping"
   ]
  },
  {
   "cell_type": "code",
   "execution_count": 32,
   "metadata": {},
   "outputs": [],
   "source": [
    "df_ship_scrapping = df_ship_scrapping[df_ship_scrapping['Country Label'] == 'World']"
   ]
  },
  {
   "cell_type": "code",
   "execution_count": 33,
   "metadata": {},
   "outputs": [
    {
     "output_type": "execute_result",
     "data": {
      "text/plain": [
       "     Unnamed: 0  Year  Series                              Series Label  \\\n",
       "0             0  2017    2307  Ship scrapping by country of destruction   \n",
       "201         201  2018    2307  Ship scrapping by country of destruction   \n",
       "402         402  2019    2307  Ship scrapping by country of destruction   \n",
       "\n",
       "    Country Country Label  ShipType ShipType Label  \\\n",
       "0      0000         World         0    Total fleet   \n",
       "201    0000         World         0    Total fleet   \n",
       "402    0000         World         0    Total fleet   \n",
       "\n",
       "     Percentage of total all economies  Gross Tonnage  \n",
       "0                                100.0     23137868.0  \n",
       "201                              100.0     19002604.0  \n",
       "402                              100.0     12217675.0  "
      ],
      "text/html": "<div>\n<style scoped>\n    .dataframe tbody tr th:only-of-type {\n        vertical-align: middle;\n    }\n\n    .dataframe tbody tr th {\n        vertical-align: top;\n    }\n\n    .dataframe thead th {\n        text-align: right;\n    }\n</style>\n<table border=\"1\" class=\"dataframe\">\n  <thead>\n    <tr style=\"text-align: right;\">\n      <th></th>\n      <th>Unnamed: 0</th>\n      <th>Year</th>\n      <th>Series</th>\n      <th>Series Label</th>\n      <th>Country</th>\n      <th>Country Label</th>\n      <th>ShipType</th>\n      <th>ShipType Label</th>\n      <th>Percentage of total all economies</th>\n      <th>Gross Tonnage</th>\n    </tr>\n  </thead>\n  <tbody>\n    <tr>\n      <th>0</th>\n      <td>0</td>\n      <td>2017</td>\n      <td>2307</td>\n      <td>Ship scrapping by country of destruction</td>\n      <td>0000</td>\n      <td>World</td>\n      <td>0</td>\n      <td>Total fleet</td>\n      <td>100.0</td>\n      <td>23137868.0</td>\n    </tr>\n    <tr>\n      <th>201</th>\n      <td>201</td>\n      <td>2018</td>\n      <td>2307</td>\n      <td>Ship scrapping by country of destruction</td>\n      <td>0000</td>\n      <td>World</td>\n      <td>0</td>\n      <td>Total fleet</td>\n      <td>100.0</td>\n      <td>19002604.0</td>\n    </tr>\n    <tr>\n      <th>402</th>\n      <td>402</td>\n      <td>2019</td>\n      <td>2307</td>\n      <td>Ship scrapping by country of destruction</td>\n      <td>0000</td>\n      <td>World</td>\n      <td>0</td>\n      <td>Total fleet</td>\n      <td>100.0</td>\n      <td>12217675.0</td>\n    </tr>\n  </tbody>\n</table>\n</div>"
     },
     "metadata": {},
     "execution_count": 33
    }
   ],
   "source": [
    "df_ship_scrapping"
   ]
  },
  {
   "cell_type": "code",
   "execution_count": 34,
   "metadata": {},
   "outputs": [],
   "source": [
    "df_ship_scrapping = df_ship_scrapping.drop(columns=['Unnamed: 0','Series','ShipType', 'Percentage of total all economies', 'Country', 'Series Label'])"
   ]
  },
  {
   "cell_type": "code",
   "execution_count": 35,
   "metadata": {},
   "outputs": [],
   "source": [
    "df_ship_scrapping = df_ship_scrapping.rename(columns={'Gross Tonnage': 'GT scrapped'}, inplace=False)"
   ]
  },
  {
   "cell_type": "code",
   "execution_count": 36,
   "metadata": {},
   "outputs": [
    {
     "output_type": "execute_result",
     "data": {
      "text/plain": [
       "     Year Country Label ShipType Label  GT scrapped\n",
       "0    2017         World    Total fleet   23137868.0\n",
       "201  2018         World    Total fleet   19002604.0\n",
       "402  2019         World    Total fleet   12217675.0"
      ],
      "text/html": "<div>\n<style scoped>\n    .dataframe tbody tr th:only-of-type {\n        vertical-align: middle;\n    }\n\n    .dataframe tbody tr th {\n        vertical-align: top;\n    }\n\n    .dataframe thead th {\n        text-align: right;\n    }\n</style>\n<table border=\"1\" class=\"dataframe\">\n  <thead>\n    <tr style=\"text-align: right;\">\n      <th></th>\n      <th>Year</th>\n      <th>Country Label</th>\n      <th>ShipType Label</th>\n      <th>GT scrapped</th>\n    </tr>\n  </thead>\n  <tbody>\n    <tr>\n      <th>0</th>\n      <td>2017</td>\n      <td>World</td>\n      <td>Total fleet</td>\n      <td>23137868.0</td>\n    </tr>\n    <tr>\n      <th>201</th>\n      <td>2018</td>\n      <td>World</td>\n      <td>Total fleet</td>\n      <td>19002604.0</td>\n    </tr>\n    <tr>\n      <th>402</th>\n      <td>2019</td>\n      <td>World</td>\n      <td>Total fleet</td>\n      <td>12217675.0</td>\n    </tr>\n  </tbody>\n</table>\n</div>"
     },
     "metadata": {},
     "execution_count": 36
    }
   ],
   "source": [
    "df_ship_scrapping"
   ]
  },
  {
   "cell_type": "code",
   "execution_count": 37,
   "metadata": {},
   "outputs": [],
   "source": [
    "df_build_scrapp = df_ship_buildings.merge(df_ship_scrapping, how= 'left')"
   ]
  },
  {
   "cell_type": "code",
   "execution_count": 38,
   "metadata": {},
   "outputs": [],
   "source": [
    "df_build_scrapp.to_csv('./Def_Data/df_build&scrap.csv')"
   ]
  },
  {
   "cell_type": "code",
   "execution_count": 65,
   "metadata": {},
   "outputs": [],
   "source": [
    "df_trade_volume = pd.read_csv('./Cleaned_Data/cleaned_trade_volume.csv')"
   ]
  },
  {
   "cell_type": "code",
   "execution_count": 66,
   "metadata": {},
   "outputs": [
    {
     "output_type": "execute_result",
     "data": {
      "text/plain": [
       "     Unnamed: 0  Quarter Quarter Label  Economy Economy Label  Flow  \\\n",
       "0             1  2005Q01     \"Q1 2005\"        0       \"World\"     1   \n",
       "1             2  2005Q01     \"Q1 2005\"        0       \"World\"     2   \n",
       "2           277  2005Q02     \"Q2 2005\"        0       \"World\"     1   \n",
       "3           278  2005Q02     \"Q2 2005\"        0       \"World\"     2   \n",
       "4           553  2005Q03     \"Q3 2005\"        0       \"World\"     1   \n",
       "..          ...      ...           ...      ...           ...   ...   \n",
       "123       16838  2020Q02     \"Q2 2020\"        0       \"World\"     2   \n",
       "124       17113  2020Q03     \"Q3 2020\"        0       \"World\"     1   \n",
       "125       17114  2020Q03     \"Q3 2020\"        0       \"World\"     2   \n",
       "126       17389  2020Q04     \"Q4 2020\"        0       \"World\"     1   \n",
       "127       17390  2020Q04     \"Q4 2020\"        0       \"World\"     2   \n",
       "\n",
       "    Flow Label  \"Growth rate   year-on-year\"  \"Growth rate.1  \\\n",
       "0    \"Imports\"           NaN             NaN             NaN   \n",
       "1    \"Exports\"           NaN             NaN             NaN   \n",
       "2    \"Imports\"           NaN             NaN         7.67535   \n",
       "3    \"Exports\"           NaN             NaN         7.72633   \n",
       "4    \"Imports\"           NaN             NaN        -0.56606   \n",
       "..         ...           ...             ...             ...   \n",
       "123  \"Exports\"     -16.21963             NaN       -11.60969   \n",
       "124  \"Imports\"      -5.24466             NaN        12.92354   \n",
       "125  \"Exports\"      -3.53888             NaN        15.64311   \n",
       "126  \"Imports\"       0.21284             NaN         7.18972   \n",
       "127  \"Exports\"      -0.00372             NaN         6.07115   \n",
       "\n",
       "      year-on-year Footnote\"  Growth rate (over previous period)  \\\n",
       "0                        NaN                            100.0000   \n",
       "1                        NaN                            100.0000   \n",
       "2                        NaN                            107.6753   \n",
       "3                        NaN                            107.7263   \n",
       "4                        NaN                            107.0658   \n",
       "..                       ...                                 ...   \n",
       "123                      NaN                            134.7400   \n",
       "124                      NaN                            154.2230   \n",
       "125                      NaN                            155.8175   \n",
       "126                      NaN                            165.3112   \n",
       "127                      NaN                            165.2774   \n",
       "\n",
       "     Growth rate (over previous period) Footnote  Volume Index (2005=100)  \n",
       "0                                            NaN                  100.000  \n",
       "1                                            NaN                  100.000  \n",
       "2                                            NaN                  102.842  \n",
       "3                                            NaN                  103.197  \n",
       "4                                            NaN                  104.027  \n",
       "..                                           ...                      ...  \n",
       "123                                          NaN                  131.693  \n",
       "124                                          NaN                  146.164  \n",
       "125                                          NaN                  149.821  \n",
       "126                                          NaN                  153.442  \n",
       "127                                          NaN                  155.597  \n",
       "\n",
       "[128 rows x 14 columns]"
      ],
      "text/html": "<div>\n<style scoped>\n    .dataframe tbody tr th:only-of-type {\n        vertical-align: middle;\n    }\n\n    .dataframe tbody tr th {\n        vertical-align: top;\n    }\n\n    .dataframe thead th {\n        text-align: right;\n    }\n</style>\n<table border=\"1\" class=\"dataframe\">\n  <thead>\n    <tr style=\"text-align: right;\">\n      <th></th>\n      <th>Unnamed: 0</th>\n      <th>Quarter</th>\n      <th>Quarter Label</th>\n      <th>Economy</th>\n      <th>Economy Label</th>\n      <th>Flow</th>\n      <th>Flow Label</th>\n      <th>\"Growth rate</th>\n      <th>year-on-year\"</th>\n      <th>\"Growth rate.1</th>\n      <th>year-on-year Footnote\"</th>\n      <th>Growth rate (over previous period)</th>\n      <th>Growth rate (over previous period) Footnote</th>\n      <th>Volume Index (2005=100)</th>\n    </tr>\n  </thead>\n  <tbody>\n    <tr>\n      <th>0</th>\n      <td>1</td>\n      <td>2005Q01</td>\n      <td>\"Q1 2005\"</td>\n      <td>0</td>\n      <td>\"World\"</td>\n      <td>1</td>\n      <td>\"Imports\"</td>\n      <td>NaN</td>\n      <td>NaN</td>\n      <td>NaN</td>\n      <td>NaN</td>\n      <td>100.0000</td>\n      <td>NaN</td>\n      <td>100.000</td>\n    </tr>\n    <tr>\n      <th>1</th>\n      <td>2</td>\n      <td>2005Q01</td>\n      <td>\"Q1 2005\"</td>\n      <td>0</td>\n      <td>\"World\"</td>\n      <td>2</td>\n      <td>\"Exports\"</td>\n      <td>NaN</td>\n      <td>NaN</td>\n      <td>NaN</td>\n      <td>NaN</td>\n      <td>100.0000</td>\n      <td>NaN</td>\n      <td>100.000</td>\n    </tr>\n    <tr>\n      <th>2</th>\n      <td>277</td>\n      <td>2005Q02</td>\n      <td>\"Q2 2005\"</td>\n      <td>0</td>\n      <td>\"World\"</td>\n      <td>1</td>\n      <td>\"Imports\"</td>\n      <td>NaN</td>\n      <td>NaN</td>\n      <td>7.67535</td>\n      <td>NaN</td>\n      <td>107.6753</td>\n      <td>NaN</td>\n      <td>102.842</td>\n    </tr>\n    <tr>\n      <th>3</th>\n      <td>278</td>\n      <td>2005Q02</td>\n      <td>\"Q2 2005\"</td>\n      <td>0</td>\n      <td>\"World\"</td>\n      <td>2</td>\n      <td>\"Exports\"</td>\n      <td>NaN</td>\n      <td>NaN</td>\n      <td>7.72633</td>\n      <td>NaN</td>\n      <td>107.7263</td>\n      <td>NaN</td>\n      <td>103.197</td>\n    </tr>\n    <tr>\n      <th>4</th>\n      <td>553</td>\n      <td>2005Q03</td>\n      <td>\"Q3 2005\"</td>\n      <td>0</td>\n      <td>\"World\"</td>\n      <td>1</td>\n      <td>\"Imports\"</td>\n      <td>NaN</td>\n      <td>NaN</td>\n      <td>-0.56606</td>\n      <td>NaN</td>\n      <td>107.0658</td>\n      <td>NaN</td>\n      <td>104.027</td>\n    </tr>\n    <tr>\n      <th>...</th>\n      <td>...</td>\n      <td>...</td>\n      <td>...</td>\n      <td>...</td>\n      <td>...</td>\n      <td>...</td>\n      <td>...</td>\n      <td>...</td>\n      <td>...</td>\n      <td>...</td>\n      <td>...</td>\n      <td>...</td>\n      <td>...</td>\n      <td>...</td>\n    </tr>\n    <tr>\n      <th>123</th>\n      <td>16838</td>\n      <td>2020Q02</td>\n      <td>\"Q2 2020\"</td>\n      <td>0</td>\n      <td>\"World\"</td>\n      <td>2</td>\n      <td>\"Exports\"</td>\n      <td>-16.21963</td>\n      <td>NaN</td>\n      <td>-11.60969</td>\n      <td>NaN</td>\n      <td>134.7400</td>\n      <td>NaN</td>\n      <td>131.693</td>\n    </tr>\n    <tr>\n      <th>124</th>\n      <td>17113</td>\n      <td>2020Q03</td>\n      <td>\"Q3 2020\"</td>\n      <td>0</td>\n      <td>\"World\"</td>\n      <td>1</td>\n      <td>\"Imports\"</td>\n      <td>-5.24466</td>\n      <td>NaN</td>\n      <td>12.92354</td>\n      <td>NaN</td>\n      <td>154.2230</td>\n      <td>NaN</td>\n      <td>146.164</td>\n    </tr>\n    <tr>\n      <th>125</th>\n      <td>17114</td>\n      <td>2020Q03</td>\n      <td>\"Q3 2020\"</td>\n      <td>0</td>\n      <td>\"World\"</td>\n      <td>2</td>\n      <td>\"Exports\"</td>\n      <td>-3.53888</td>\n      <td>NaN</td>\n      <td>15.64311</td>\n      <td>NaN</td>\n      <td>155.8175</td>\n      <td>NaN</td>\n      <td>149.821</td>\n    </tr>\n    <tr>\n      <th>126</th>\n      <td>17389</td>\n      <td>2020Q04</td>\n      <td>\"Q4 2020\"</td>\n      <td>0</td>\n      <td>\"World\"</td>\n      <td>1</td>\n      <td>\"Imports\"</td>\n      <td>0.21284</td>\n      <td>NaN</td>\n      <td>7.18972</td>\n      <td>NaN</td>\n      <td>165.3112</td>\n      <td>NaN</td>\n      <td>153.442</td>\n    </tr>\n    <tr>\n      <th>127</th>\n      <td>17390</td>\n      <td>2020Q04</td>\n      <td>\"Q4 2020\"</td>\n      <td>0</td>\n      <td>\"World\"</td>\n      <td>2</td>\n      <td>\"Exports\"</td>\n      <td>-0.00372</td>\n      <td>NaN</td>\n      <td>6.07115</td>\n      <td>NaN</td>\n      <td>165.2774</td>\n      <td>NaN</td>\n      <td>155.597</td>\n    </tr>\n  </tbody>\n</table>\n<p>128 rows × 14 columns</p>\n</div>"
     },
     "metadata": {},
     "execution_count": 66
    }
   ],
   "source": [
    "df_trade_volume"
   ]
  },
  {
   "cell_type": "code",
   "execution_count": 67,
   "metadata": {},
   "outputs": [],
   "source": [
    "year = []\n",
    "for val in df_trade_volume['Quarter']:\n",
    "    val = int(val[0:4])\n",
    "    year.append(val)\n",
    "df_trade_volume['Quarter'] = year    "
   ]
  },
  {
   "cell_type": "code",
   "execution_count": 68,
   "metadata": {},
   "outputs": [],
   "source": [
    "df_trade_volume = drop_quot_marks(df_trade_volume, 'Quarter Label')"
   ]
  },
  {
   "cell_type": "code",
   "execution_count": 69,
   "metadata": {},
   "outputs": [],
   "source": [
    "quar = []\n",
    "for val in df_trade_volume['Quarter Label']:\n",
    "    val = val[:2]\n",
    "    quar.append(val)\n",
    "df_trade_volume['Quarter Label'] = quar"
   ]
  },
  {
   "cell_type": "code",
   "execution_count": 70,
   "metadata": {},
   "outputs": [
    {
     "output_type": "execute_result",
     "data": {
      "text/plain": [
       "     Unnamed: 0  Quarter Quarter Label  Economy Economy Label  Flow  \\\n",
       "0             1     2005            Q1        0       \"World\"     1   \n",
       "1             2     2005            Q1        0       \"World\"     2   \n",
       "2           277     2005            Q2        0       \"World\"     1   \n",
       "3           278     2005            Q2        0       \"World\"     2   \n",
       "4           553     2005            Q3        0       \"World\"     1   \n",
       "..          ...      ...           ...      ...           ...   ...   \n",
       "123       16838     2020            Q2        0       \"World\"     2   \n",
       "124       17113     2020            Q3        0       \"World\"     1   \n",
       "125       17114     2020            Q3        0       \"World\"     2   \n",
       "126       17389     2020            Q4        0       \"World\"     1   \n",
       "127       17390     2020            Q4        0       \"World\"     2   \n",
       "\n",
       "    Flow Label  \"Growth rate   year-on-year\"  \"Growth rate.1  \\\n",
       "0    \"Imports\"           NaN             NaN             NaN   \n",
       "1    \"Exports\"           NaN             NaN             NaN   \n",
       "2    \"Imports\"           NaN             NaN         7.67535   \n",
       "3    \"Exports\"           NaN             NaN         7.72633   \n",
       "4    \"Imports\"           NaN             NaN        -0.56606   \n",
       "..         ...           ...             ...             ...   \n",
       "123  \"Exports\"     -16.21963             NaN       -11.60969   \n",
       "124  \"Imports\"      -5.24466             NaN        12.92354   \n",
       "125  \"Exports\"      -3.53888             NaN        15.64311   \n",
       "126  \"Imports\"       0.21284             NaN         7.18972   \n",
       "127  \"Exports\"      -0.00372             NaN         6.07115   \n",
       "\n",
       "      year-on-year Footnote\"  Growth rate (over previous period)  \\\n",
       "0                        NaN                            100.0000   \n",
       "1                        NaN                            100.0000   \n",
       "2                        NaN                            107.6753   \n",
       "3                        NaN                            107.7263   \n",
       "4                        NaN                            107.0658   \n",
       "..                       ...                                 ...   \n",
       "123                      NaN                            134.7400   \n",
       "124                      NaN                            154.2230   \n",
       "125                      NaN                            155.8175   \n",
       "126                      NaN                            165.3112   \n",
       "127                      NaN                            165.2774   \n",
       "\n",
       "     Growth rate (over previous period) Footnote  Volume Index (2005=100)  \n",
       "0                                            NaN                  100.000  \n",
       "1                                            NaN                  100.000  \n",
       "2                                            NaN                  102.842  \n",
       "3                                            NaN                  103.197  \n",
       "4                                            NaN                  104.027  \n",
       "..                                           ...                      ...  \n",
       "123                                          NaN                  131.693  \n",
       "124                                          NaN                  146.164  \n",
       "125                                          NaN                  149.821  \n",
       "126                                          NaN                  153.442  \n",
       "127                                          NaN                  155.597  \n",
       "\n",
       "[128 rows x 14 columns]"
      ],
      "text/html": "<div>\n<style scoped>\n    .dataframe tbody tr th:only-of-type {\n        vertical-align: middle;\n    }\n\n    .dataframe tbody tr th {\n        vertical-align: top;\n    }\n\n    .dataframe thead th {\n        text-align: right;\n    }\n</style>\n<table border=\"1\" class=\"dataframe\">\n  <thead>\n    <tr style=\"text-align: right;\">\n      <th></th>\n      <th>Unnamed: 0</th>\n      <th>Quarter</th>\n      <th>Quarter Label</th>\n      <th>Economy</th>\n      <th>Economy Label</th>\n      <th>Flow</th>\n      <th>Flow Label</th>\n      <th>\"Growth rate</th>\n      <th>year-on-year\"</th>\n      <th>\"Growth rate.1</th>\n      <th>year-on-year Footnote\"</th>\n      <th>Growth rate (over previous period)</th>\n      <th>Growth rate (over previous period) Footnote</th>\n      <th>Volume Index (2005=100)</th>\n    </tr>\n  </thead>\n  <tbody>\n    <tr>\n      <th>0</th>\n      <td>1</td>\n      <td>2005</td>\n      <td>Q1</td>\n      <td>0</td>\n      <td>\"World\"</td>\n      <td>1</td>\n      <td>\"Imports\"</td>\n      <td>NaN</td>\n      <td>NaN</td>\n      <td>NaN</td>\n      <td>NaN</td>\n      <td>100.0000</td>\n      <td>NaN</td>\n      <td>100.000</td>\n    </tr>\n    <tr>\n      <th>1</th>\n      <td>2</td>\n      <td>2005</td>\n      <td>Q1</td>\n      <td>0</td>\n      <td>\"World\"</td>\n      <td>2</td>\n      <td>\"Exports\"</td>\n      <td>NaN</td>\n      <td>NaN</td>\n      <td>NaN</td>\n      <td>NaN</td>\n      <td>100.0000</td>\n      <td>NaN</td>\n      <td>100.000</td>\n    </tr>\n    <tr>\n      <th>2</th>\n      <td>277</td>\n      <td>2005</td>\n      <td>Q2</td>\n      <td>0</td>\n      <td>\"World\"</td>\n      <td>1</td>\n      <td>\"Imports\"</td>\n      <td>NaN</td>\n      <td>NaN</td>\n      <td>7.67535</td>\n      <td>NaN</td>\n      <td>107.6753</td>\n      <td>NaN</td>\n      <td>102.842</td>\n    </tr>\n    <tr>\n      <th>3</th>\n      <td>278</td>\n      <td>2005</td>\n      <td>Q2</td>\n      <td>0</td>\n      <td>\"World\"</td>\n      <td>2</td>\n      <td>\"Exports\"</td>\n      <td>NaN</td>\n      <td>NaN</td>\n      <td>7.72633</td>\n      <td>NaN</td>\n      <td>107.7263</td>\n      <td>NaN</td>\n      <td>103.197</td>\n    </tr>\n    <tr>\n      <th>4</th>\n      <td>553</td>\n      <td>2005</td>\n      <td>Q3</td>\n      <td>0</td>\n      <td>\"World\"</td>\n      <td>1</td>\n      <td>\"Imports\"</td>\n      <td>NaN</td>\n      <td>NaN</td>\n      <td>-0.56606</td>\n      <td>NaN</td>\n      <td>107.0658</td>\n      <td>NaN</td>\n      <td>104.027</td>\n    </tr>\n    <tr>\n      <th>...</th>\n      <td>...</td>\n      <td>...</td>\n      <td>...</td>\n      <td>...</td>\n      <td>...</td>\n      <td>...</td>\n      <td>...</td>\n      <td>...</td>\n      <td>...</td>\n      <td>...</td>\n      <td>...</td>\n      <td>...</td>\n      <td>...</td>\n      <td>...</td>\n    </tr>\n    <tr>\n      <th>123</th>\n      <td>16838</td>\n      <td>2020</td>\n      <td>Q2</td>\n      <td>0</td>\n      <td>\"World\"</td>\n      <td>2</td>\n      <td>\"Exports\"</td>\n      <td>-16.21963</td>\n      <td>NaN</td>\n      <td>-11.60969</td>\n      <td>NaN</td>\n      <td>134.7400</td>\n      <td>NaN</td>\n      <td>131.693</td>\n    </tr>\n    <tr>\n      <th>124</th>\n      <td>17113</td>\n      <td>2020</td>\n      <td>Q3</td>\n      <td>0</td>\n      <td>\"World\"</td>\n      <td>1</td>\n      <td>\"Imports\"</td>\n      <td>-5.24466</td>\n      <td>NaN</td>\n      <td>12.92354</td>\n      <td>NaN</td>\n      <td>154.2230</td>\n      <td>NaN</td>\n      <td>146.164</td>\n    </tr>\n    <tr>\n      <th>125</th>\n      <td>17114</td>\n      <td>2020</td>\n      <td>Q3</td>\n      <td>0</td>\n      <td>\"World\"</td>\n      <td>2</td>\n      <td>\"Exports\"</td>\n      <td>-3.53888</td>\n      <td>NaN</td>\n      <td>15.64311</td>\n      <td>NaN</td>\n      <td>155.8175</td>\n      <td>NaN</td>\n      <td>149.821</td>\n    </tr>\n    <tr>\n      <th>126</th>\n      <td>17389</td>\n      <td>2020</td>\n      <td>Q4</td>\n      <td>0</td>\n      <td>\"World\"</td>\n      <td>1</td>\n      <td>\"Imports\"</td>\n      <td>0.21284</td>\n      <td>NaN</td>\n      <td>7.18972</td>\n      <td>NaN</td>\n      <td>165.3112</td>\n      <td>NaN</td>\n      <td>153.442</td>\n    </tr>\n    <tr>\n      <th>127</th>\n      <td>17390</td>\n      <td>2020</td>\n      <td>Q4</td>\n      <td>0</td>\n      <td>\"World\"</td>\n      <td>2</td>\n      <td>\"Exports\"</td>\n      <td>-0.00372</td>\n      <td>NaN</td>\n      <td>6.07115</td>\n      <td>NaN</td>\n      <td>165.2774</td>\n      <td>NaN</td>\n      <td>155.597</td>\n    </tr>\n  </tbody>\n</table>\n<p>128 rows × 14 columns</p>\n</div>"
     },
     "metadata": {},
     "execution_count": 70
    }
   ],
   "source": [
    "df_trade_volume"
   ]
  },
  {
   "cell_type": "code",
   "execution_count": 71,
   "metadata": {},
   "outputs": [],
   "source": [
    "df_trade_volume = df_trade_volume.drop(columns=['Unnamed: 0', 'Economy', 'Economy Label','Flow', 'Growth rate (over previous period) Footnote'])"
   ]
  },
  {
   "cell_type": "code",
   "execution_count": 72,
   "metadata": {},
   "outputs": [
    {
     "output_type": "execute_result",
     "data": {
      "text/plain": [
       "     Quarter Quarter Label Flow Label  \"Growth rate   year-on-year\"  \\\n",
       "0       2005            Q1  \"Imports\"           NaN             NaN   \n",
       "1       2005            Q1  \"Exports\"           NaN             NaN   \n",
       "2       2005            Q2  \"Imports\"           NaN             NaN   \n",
       "3       2005            Q2  \"Exports\"           NaN             NaN   \n",
       "4       2005            Q3  \"Imports\"           NaN             NaN   \n",
       "..       ...           ...        ...           ...             ...   \n",
       "123     2020            Q2  \"Exports\"     -16.21963             NaN   \n",
       "124     2020            Q3  \"Imports\"      -5.24466             NaN   \n",
       "125     2020            Q3  \"Exports\"      -3.53888             NaN   \n",
       "126     2020            Q4  \"Imports\"       0.21284             NaN   \n",
       "127     2020            Q4  \"Exports\"      -0.00372             NaN   \n",
       "\n",
       "     \"Growth rate.1   year-on-year Footnote\"  \\\n",
       "0               NaN                      NaN   \n",
       "1               NaN                      NaN   \n",
       "2           7.67535                      NaN   \n",
       "3           7.72633                      NaN   \n",
       "4          -0.56606                      NaN   \n",
       "..              ...                      ...   \n",
       "123       -11.60969                      NaN   \n",
       "124        12.92354                      NaN   \n",
       "125        15.64311                      NaN   \n",
       "126         7.18972                      NaN   \n",
       "127         6.07115                      NaN   \n",
       "\n",
       "     Growth rate (over previous period)  Volume Index (2005=100)  \n",
       "0                              100.0000                  100.000  \n",
       "1                              100.0000                  100.000  \n",
       "2                              107.6753                  102.842  \n",
       "3                              107.7263                  103.197  \n",
       "4                              107.0658                  104.027  \n",
       "..                                  ...                      ...  \n",
       "123                            134.7400                  131.693  \n",
       "124                            154.2230                  146.164  \n",
       "125                            155.8175                  149.821  \n",
       "126                            165.3112                  153.442  \n",
       "127                            165.2774                  155.597  \n",
       "\n",
       "[128 rows x 9 columns]"
      ],
      "text/html": "<div>\n<style scoped>\n    .dataframe tbody tr th:only-of-type {\n        vertical-align: middle;\n    }\n\n    .dataframe tbody tr th {\n        vertical-align: top;\n    }\n\n    .dataframe thead th {\n        text-align: right;\n    }\n</style>\n<table border=\"1\" class=\"dataframe\">\n  <thead>\n    <tr style=\"text-align: right;\">\n      <th></th>\n      <th>Quarter</th>\n      <th>Quarter Label</th>\n      <th>Flow Label</th>\n      <th>\"Growth rate</th>\n      <th>year-on-year\"</th>\n      <th>\"Growth rate.1</th>\n      <th>year-on-year Footnote\"</th>\n      <th>Growth rate (over previous period)</th>\n      <th>Volume Index (2005=100)</th>\n    </tr>\n  </thead>\n  <tbody>\n    <tr>\n      <th>0</th>\n      <td>2005</td>\n      <td>Q1</td>\n      <td>\"Imports\"</td>\n      <td>NaN</td>\n      <td>NaN</td>\n      <td>NaN</td>\n      <td>NaN</td>\n      <td>100.0000</td>\n      <td>100.000</td>\n    </tr>\n    <tr>\n      <th>1</th>\n      <td>2005</td>\n      <td>Q1</td>\n      <td>\"Exports\"</td>\n      <td>NaN</td>\n      <td>NaN</td>\n      <td>NaN</td>\n      <td>NaN</td>\n      <td>100.0000</td>\n      <td>100.000</td>\n    </tr>\n    <tr>\n      <th>2</th>\n      <td>2005</td>\n      <td>Q2</td>\n      <td>\"Imports\"</td>\n      <td>NaN</td>\n      <td>NaN</td>\n      <td>7.67535</td>\n      <td>NaN</td>\n      <td>107.6753</td>\n      <td>102.842</td>\n    </tr>\n    <tr>\n      <th>3</th>\n      <td>2005</td>\n      <td>Q2</td>\n      <td>\"Exports\"</td>\n      <td>NaN</td>\n      <td>NaN</td>\n      <td>7.72633</td>\n      <td>NaN</td>\n      <td>107.7263</td>\n      <td>103.197</td>\n    </tr>\n    <tr>\n      <th>4</th>\n      <td>2005</td>\n      <td>Q3</td>\n      <td>\"Imports\"</td>\n      <td>NaN</td>\n      <td>NaN</td>\n      <td>-0.56606</td>\n      <td>NaN</td>\n      <td>107.0658</td>\n      <td>104.027</td>\n    </tr>\n    <tr>\n      <th>...</th>\n      <td>...</td>\n      <td>...</td>\n      <td>...</td>\n      <td>...</td>\n      <td>...</td>\n      <td>...</td>\n      <td>...</td>\n      <td>...</td>\n      <td>...</td>\n    </tr>\n    <tr>\n      <th>123</th>\n      <td>2020</td>\n      <td>Q2</td>\n      <td>\"Exports\"</td>\n      <td>-16.21963</td>\n      <td>NaN</td>\n      <td>-11.60969</td>\n      <td>NaN</td>\n      <td>134.7400</td>\n      <td>131.693</td>\n    </tr>\n    <tr>\n      <th>124</th>\n      <td>2020</td>\n      <td>Q3</td>\n      <td>\"Imports\"</td>\n      <td>-5.24466</td>\n      <td>NaN</td>\n      <td>12.92354</td>\n      <td>NaN</td>\n      <td>154.2230</td>\n      <td>146.164</td>\n    </tr>\n    <tr>\n      <th>125</th>\n      <td>2020</td>\n      <td>Q3</td>\n      <td>\"Exports\"</td>\n      <td>-3.53888</td>\n      <td>NaN</td>\n      <td>15.64311</td>\n      <td>NaN</td>\n      <td>155.8175</td>\n      <td>149.821</td>\n    </tr>\n    <tr>\n      <th>126</th>\n      <td>2020</td>\n      <td>Q4</td>\n      <td>\"Imports\"</td>\n      <td>0.21284</td>\n      <td>NaN</td>\n      <td>7.18972</td>\n      <td>NaN</td>\n      <td>165.3112</td>\n      <td>153.442</td>\n    </tr>\n    <tr>\n      <th>127</th>\n      <td>2020</td>\n      <td>Q4</td>\n      <td>\"Exports\"</td>\n      <td>-0.00372</td>\n      <td>NaN</td>\n      <td>6.07115</td>\n      <td>NaN</td>\n      <td>165.2774</td>\n      <td>155.597</td>\n    </tr>\n  </tbody>\n</table>\n<p>128 rows × 9 columns</p>\n</div>"
     },
     "metadata": {},
     "execution_count": 72
    }
   ],
   "source": [
    "df_trade_volume"
   ]
  },
  {
   "cell_type": "code",
   "execution_count": 74,
   "metadata": {},
   "outputs": [],
   "source": [
    "df_trade_volume = drop_quot_marks(df_trade_volume, 'Flow Label')"
   ]
  },
  {
   "cell_type": "code",
   "execution_count": 76,
   "metadata": {},
   "outputs": [
    {
     "output_type": "execute_result",
     "data": {
      "text/plain": [
       "     Year Quarter Label Flow Label  \"Growth rate   year-on-year\"  \\\n",
       "0    2005            Q1    Imports           NaN             NaN   \n",
       "1    2005            Q1    Exports           NaN             NaN   \n",
       "2    2005            Q2    Imports           NaN             NaN   \n",
       "3    2005            Q2    Exports           NaN             NaN   \n",
       "4    2005            Q3    Imports           NaN             NaN   \n",
       "..    ...           ...        ...           ...             ...   \n",
       "123  2020            Q2    Exports     -16.21963             NaN   \n",
       "124  2020            Q3    Imports      -5.24466             NaN   \n",
       "125  2020            Q3    Exports      -3.53888             NaN   \n",
       "126  2020            Q4    Imports       0.21284             NaN   \n",
       "127  2020            Q4    Exports      -0.00372             NaN   \n",
       "\n",
       "     \"Growth rate.1   year-on-year Footnote\"  \\\n",
       "0               NaN                      NaN   \n",
       "1               NaN                      NaN   \n",
       "2           7.67535                      NaN   \n",
       "3           7.72633                      NaN   \n",
       "4          -0.56606                      NaN   \n",
       "..              ...                      ...   \n",
       "123       -11.60969                      NaN   \n",
       "124        12.92354                      NaN   \n",
       "125        15.64311                      NaN   \n",
       "126         7.18972                      NaN   \n",
       "127         6.07115                      NaN   \n",
       "\n",
       "     Growth rate (over previous period)  Volume Index (2005=100)  \n",
       "0                              100.0000                  100.000  \n",
       "1                              100.0000                  100.000  \n",
       "2                              107.6753                  102.842  \n",
       "3                              107.7263                  103.197  \n",
       "4                              107.0658                  104.027  \n",
       "..                                  ...                      ...  \n",
       "123                            134.7400                  131.693  \n",
       "124                            154.2230                  146.164  \n",
       "125                            155.8175                  149.821  \n",
       "126                            165.3112                  153.442  \n",
       "127                            165.2774                  155.597  \n",
       "\n",
       "[128 rows x 9 columns]"
      ],
      "text/html": "<div>\n<style scoped>\n    .dataframe tbody tr th:only-of-type {\n        vertical-align: middle;\n    }\n\n    .dataframe tbody tr th {\n        vertical-align: top;\n    }\n\n    .dataframe thead th {\n        text-align: right;\n    }\n</style>\n<table border=\"1\" class=\"dataframe\">\n  <thead>\n    <tr style=\"text-align: right;\">\n      <th></th>\n      <th>Year</th>\n      <th>Quarter Label</th>\n      <th>Flow Label</th>\n      <th>\"Growth rate</th>\n      <th>year-on-year\"</th>\n      <th>\"Growth rate.1</th>\n      <th>year-on-year Footnote\"</th>\n      <th>Growth rate (over previous period)</th>\n      <th>Volume Index (2005=100)</th>\n    </tr>\n  </thead>\n  <tbody>\n    <tr>\n      <th>0</th>\n      <td>2005</td>\n      <td>Q1</td>\n      <td>Imports</td>\n      <td>NaN</td>\n      <td>NaN</td>\n      <td>NaN</td>\n      <td>NaN</td>\n      <td>100.0000</td>\n      <td>100.000</td>\n    </tr>\n    <tr>\n      <th>1</th>\n      <td>2005</td>\n      <td>Q1</td>\n      <td>Exports</td>\n      <td>NaN</td>\n      <td>NaN</td>\n      <td>NaN</td>\n      <td>NaN</td>\n      <td>100.0000</td>\n      <td>100.000</td>\n    </tr>\n    <tr>\n      <th>2</th>\n      <td>2005</td>\n      <td>Q2</td>\n      <td>Imports</td>\n      <td>NaN</td>\n      <td>NaN</td>\n      <td>7.67535</td>\n      <td>NaN</td>\n      <td>107.6753</td>\n      <td>102.842</td>\n    </tr>\n    <tr>\n      <th>3</th>\n      <td>2005</td>\n      <td>Q2</td>\n      <td>Exports</td>\n      <td>NaN</td>\n      <td>NaN</td>\n      <td>7.72633</td>\n      <td>NaN</td>\n      <td>107.7263</td>\n      <td>103.197</td>\n    </tr>\n    <tr>\n      <th>4</th>\n      <td>2005</td>\n      <td>Q3</td>\n      <td>Imports</td>\n      <td>NaN</td>\n      <td>NaN</td>\n      <td>-0.56606</td>\n      <td>NaN</td>\n      <td>107.0658</td>\n      <td>104.027</td>\n    </tr>\n    <tr>\n      <th>...</th>\n      <td>...</td>\n      <td>...</td>\n      <td>...</td>\n      <td>...</td>\n      <td>...</td>\n      <td>...</td>\n      <td>...</td>\n      <td>...</td>\n      <td>...</td>\n    </tr>\n    <tr>\n      <th>123</th>\n      <td>2020</td>\n      <td>Q2</td>\n      <td>Exports</td>\n      <td>-16.21963</td>\n      <td>NaN</td>\n      <td>-11.60969</td>\n      <td>NaN</td>\n      <td>134.7400</td>\n      <td>131.693</td>\n    </tr>\n    <tr>\n      <th>124</th>\n      <td>2020</td>\n      <td>Q3</td>\n      <td>Imports</td>\n      <td>-5.24466</td>\n      <td>NaN</td>\n      <td>12.92354</td>\n      <td>NaN</td>\n      <td>154.2230</td>\n      <td>146.164</td>\n    </tr>\n    <tr>\n      <th>125</th>\n      <td>2020</td>\n      <td>Q3</td>\n      <td>Exports</td>\n      <td>-3.53888</td>\n      <td>NaN</td>\n      <td>15.64311</td>\n      <td>NaN</td>\n      <td>155.8175</td>\n      <td>149.821</td>\n    </tr>\n    <tr>\n      <th>126</th>\n      <td>2020</td>\n      <td>Q4</td>\n      <td>Imports</td>\n      <td>0.21284</td>\n      <td>NaN</td>\n      <td>7.18972</td>\n      <td>NaN</td>\n      <td>165.3112</td>\n      <td>153.442</td>\n    </tr>\n    <tr>\n      <th>127</th>\n      <td>2020</td>\n      <td>Q4</td>\n      <td>Exports</td>\n      <td>-0.00372</td>\n      <td>NaN</td>\n      <td>6.07115</td>\n      <td>NaN</td>\n      <td>165.2774</td>\n      <td>155.597</td>\n    </tr>\n  </tbody>\n</table>\n<p>128 rows × 9 columns</p>\n</div>"
     },
     "metadata": {},
     "execution_count": 76
    }
   ],
   "source": [
    "df_trade_volume.rename(columns={'Quarter': 'Year'})"
   ]
  },
  {
   "cell_type": "code",
   "execution_count": 78,
   "metadata": {},
   "outputs": [],
   "source": [
    "df_trade_volume = df_trade_volume.dropna(how='all', axis= 1)"
   ]
  },
  {
   "cell_type": "code",
   "execution_count": 79,
   "metadata": {},
   "outputs": [],
   "source": [
    "df_trade_volume.to_csv('./Def_Data/df_trade_volume.csv')"
   ]
  },
  {
   "cell_type": "code",
   "execution_count": null,
   "metadata": {},
   "outputs": [],
   "source": [
    "Brent['YEAR'] = pd.to_datetime(Brent['YEAR'])\n",
    "Brent = Brent.set_index(Brent['YEAR'], drop= True)\n",
    "Brent_years = Brent.resample('Y').mean()\n",
    "Brent_years"
   ]
  }
 ]
}