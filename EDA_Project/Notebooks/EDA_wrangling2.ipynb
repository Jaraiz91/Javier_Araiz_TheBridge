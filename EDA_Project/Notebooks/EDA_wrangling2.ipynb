{
 "metadata": {
  "language_info": {
   "codemirror_mode": {
    "name": "ipython",
    "version": 3
   },
   "file_extension": ".py",
   "mimetype": "text/x-python",
   "name": "python",
   "nbconvert_exporter": "python",
   "pygments_lexer": "ipython3",
   "version": "3.7.4"
  },
  "orig_nbformat": 2,
  "kernelspec": {
   "name": "python374jvsc74a57bd0e811f325e74d49824b5fcfc3c0f5c4bcd6461d80b4e4f70be476a8b343d99570",
   "display_name": "Python 3.7.4 64-bit"
  }
 },
 "nbformat": 4,
 "nbformat_minor": 2,
 "cells": [
  {
   "cell_type": "code",
   "execution_count": 2,
   "metadata": {},
   "outputs": [],
   "source": [
    "import pandas as pd\n",
    "import dtale\n",
    "import matplotlib.pyplot as plt\n",
    "import seaborn as sns\n",
    "import numpy as np\n",
    "import os\n",
    "import datetime\n",
    "from utils import normalize_dataframe\n",
    "from utils import count_numbers_in_column"
   ]
  },
  {
   "cell_type": "code",
   "execution_count": 3,
   "metadata": {},
   "outputs": [],
   "source": [
    "GDPR = pd.read_csv('./Datasets/US_GDPGR.csv', header= None)"
   ]
  },
  {
   "cell_type": "code",
   "execution_count": 4,
   "metadata": {},
   "outputs": [
    {
     "output_type": "execute_result",
     "data": {
      "text/plain": [
       "                                                       0             1  \\\n",
       "0                                                 Period  Period Label   \n",
       "1            19701971,\"1971\",0000,\"World\",2.2902,,4.373,           NaN   \n",
       "2      19701971,\"1971\",004,\"Afghanistan\",-2.89839,,-0...           NaN   \n",
       "3        19701971,\"1971\",008,\"Albania\",1.56952,,4.00082,           NaN   \n",
       "4      19701971,\"1971\",012,\"Algeria\",-12.00035,,-9.52...           NaN   \n",
       "...                                                  ...           ...   \n",
       "22815  20182019,\"2019\",862,\"Venezuela (Bolivarian Rep...           NaN   \n",
       "22816      20182019,\"2019\",882,\"Samoa\",1.75115,,2.25179,           NaN   \n",
       "22817         20182019,\"2019\",887,\"Yemen\",-0.22209,,2.1,           NaN   \n",
       "22818     20182019,\"2019\",894,\"Zambia\",-1.4517,,1.44096,           NaN   \n",
       "22819  20182019,\"2019\",926,\"United Kingdom\",0.67718,,...           NaN   \n",
       "\n",
       "             2              3                                      4  \\\n",
       "0      Economy  Economy Label  Annual average growth rate per capita   \n",
       "1          NaN            NaN                                    NaN   \n",
       "2          NaN            NaN                                    NaN   \n",
       "3          NaN            NaN                                    NaN   \n",
       "4          NaN            NaN                                    NaN   \n",
       "...        ...            ...                                    ...   \n",
       "22815      NaN            NaN                                    NaN   \n",
       "22816      NaN            NaN                                    NaN   \n",
       "22817      NaN            NaN                                    NaN   \n",
       "22818      NaN            NaN                                    NaN   \n",
       "22819      NaN            NaN                                    NaN   \n",
       "\n",
       "                                                    5  \\\n",
       "0      Annual average growth rate per capita Footnote   \n",
       "1                                                 NaN   \n",
       "2                                                 NaN   \n",
       "3                                                 NaN   \n",
       "4                                                 NaN   \n",
       "...                                               ...   \n",
       "22815                                             NaN   \n",
       "22816                                             NaN   \n",
       "22817                                             NaN   \n",
       "22818                                             NaN   \n",
       "22819                                             NaN   \n",
       "\n",
       "                                6                                    7  \n",
       "0      Annual average growth rate  Annual average growth rate Footnote  \n",
       "1                             NaN                                  NaN  \n",
       "2                             NaN                                  NaN  \n",
       "3                             NaN                                  NaN  \n",
       "4                             NaN                                  NaN  \n",
       "...                           ...                                  ...  \n",
       "22815                         NaN                                  NaN  \n",
       "22816                         NaN                                  NaN  \n",
       "22817                         NaN                                  NaN  \n",
       "22818                         NaN                                  NaN  \n",
       "22819                         NaN                                  NaN  \n",
       "\n",
       "[22820 rows x 8 columns]"
      ],
      "text/html": "<div>\n<style scoped>\n    .dataframe tbody tr th:only-of-type {\n        vertical-align: middle;\n    }\n\n    .dataframe tbody tr th {\n        vertical-align: top;\n    }\n\n    .dataframe thead th {\n        text-align: right;\n    }\n</style>\n<table border=\"1\" class=\"dataframe\">\n  <thead>\n    <tr style=\"text-align: right;\">\n      <th></th>\n      <th>0</th>\n      <th>1</th>\n      <th>2</th>\n      <th>3</th>\n      <th>4</th>\n      <th>5</th>\n      <th>6</th>\n      <th>7</th>\n    </tr>\n  </thead>\n  <tbody>\n    <tr>\n      <th>0</th>\n      <td>Period</td>\n      <td>Period Label</td>\n      <td>Economy</td>\n      <td>Economy Label</td>\n      <td>Annual average growth rate per capita</td>\n      <td>Annual average growth rate per capita Footnote</td>\n      <td>Annual average growth rate</td>\n      <td>Annual average growth rate Footnote</td>\n    </tr>\n    <tr>\n      <th>1</th>\n      <td>19701971,\"1971\",0000,\"World\",2.2902,,4.373,</td>\n      <td>NaN</td>\n      <td>NaN</td>\n      <td>NaN</td>\n      <td>NaN</td>\n      <td>NaN</td>\n      <td>NaN</td>\n      <td>NaN</td>\n    </tr>\n    <tr>\n      <th>2</th>\n      <td>19701971,\"1971\",004,\"Afghanistan\",-2.89839,,-0...</td>\n      <td>NaN</td>\n      <td>NaN</td>\n      <td>NaN</td>\n      <td>NaN</td>\n      <td>NaN</td>\n      <td>NaN</td>\n      <td>NaN</td>\n    </tr>\n    <tr>\n      <th>3</th>\n      <td>19701971,\"1971\",008,\"Albania\",1.56952,,4.00082,</td>\n      <td>NaN</td>\n      <td>NaN</td>\n      <td>NaN</td>\n      <td>NaN</td>\n      <td>NaN</td>\n      <td>NaN</td>\n      <td>NaN</td>\n    </tr>\n    <tr>\n      <th>4</th>\n      <td>19701971,\"1971\",012,\"Algeria\",-12.00035,,-9.52...</td>\n      <td>NaN</td>\n      <td>NaN</td>\n      <td>NaN</td>\n      <td>NaN</td>\n      <td>NaN</td>\n      <td>NaN</td>\n      <td>NaN</td>\n    </tr>\n    <tr>\n      <th>...</th>\n      <td>...</td>\n      <td>...</td>\n      <td>...</td>\n      <td>...</td>\n      <td>...</td>\n      <td>...</td>\n      <td>...</td>\n      <td>...</td>\n    </tr>\n    <tr>\n      <th>22815</th>\n      <td>20182019,\"2019\",862,\"Venezuela (Bolivarian Rep...</td>\n      <td>NaN</td>\n      <td>NaN</td>\n      <td>NaN</td>\n      <td>NaN</td>\n      <td>NaN</td>\n      <td>NaN</td>\n      <td>NaN</td>\n    </tr>\n    <tr>\n      <th>22816</th>\n      <td>20182019,\"2019\",882,\"Samoa\",1.75115,,2.25179,</td>\n      <td>NaN</td>\n      <td>NaN</td>\n      <td>NaN</td>\n      <td>NaN</td>\n      <td>NaN</td>\n      <td>NaN</td>\n      <td>NaN</td>\n    </tr>\n    <tr>\n      <th>22817</th>\n      <td>20182019,\"2019\",887,\"Yemen\",-0.22209,,2.1,</td>\n      <td>NaN</td>\n      <td>NaN</td>\n      <td>NaN</td>\n      <td>NaN</td>\n      <td>NaN</td>\n      <td>NaN</td>\n      <td>NaN</td>\n    </tr>\n    <tr>\n      <th>22818</th>\n      <td>20182019,\"2019\",894,\"Zambia\",-1.4517,,1.44096,</td>\n      <td>NaN</td>\n      <td>NaN</td>\n      <td>NaN</td>\n      <td>NaN</td>\n      <td>NaN</td>\n      <td>NaN</td>\n      <td>NaN</td>\n    </tr>\n    <tr>\n      <th>22819</th>\n      <td>20182019,\"2019\",926,\"United Kingdom\",0.67718,,...</td>\n      <td>NaN</td>\n      <td>NaN</td>\n      <td>NaN</td>\n      <td>NaN</td>\n      <td>NaN</td>\n      <td>NaN</td>\n      <td>NaN</td>\n    </tr>\n  </tbody>\n</table>\n<p>22820 rows × 8 columns</p>\n</div>"
     },
     "metadata": {},
     "execution_count": 4
    }
   ],
   "source": [
    "GDPR"
   ]
  },
  {
   "cell_type": "code",
   "execution_count": 5,
   "metadata": {},
   "outputs": [],
   "source": [
    "Titles = GDPR.iloc[0, :]"
   ]
  },
  {
   "cell_type": "code",
   "execution_count": 6,
   "metadata": {},
   "outputs": [],
   "source": [
    "GDPR = normalize_dataframe(GDPR, sep= ',')"
   ]
  },
  {
   "cell_type": "code",
   "execution_count": 7,
   "metadata": {},
   "outputs": [],
   "source": [
    "GDPR = GDPR.iloc[:,:-1]"
   ]
  },
  {
   "cell_type": "code",
   "execution_count": 8,
   "metadata": {},
   "outputs": [],
   "source": [
    "GDPR.columns = Titles"
   ]
  },
  {
   "cell_type": "code",
   "execution_count": 9,
   "metadata": {},
   "outputs": [],
   "source": [
    "from utils import drop_quot_marks"
   ]
  },
  {
   "cell_type": "code",
   "execution_count": 10,
   "metadata": {},
   "outputs": [],
   "source": [
    "GDPR = drop_quot_marks(GDPR, 'Period Label')"
   ]
  },
  {
   "cell_type": "code",
   "execution_count": 11,
   "metadata": {},
   "outputs": [
    {
     "output_type": "execute_result",
     "data": {
      "text/plain": [
       "0        Period Period Label Economy                     Economy Label  \\\n",
       "1      19701971         1971    0000                           \"World\"   \n",
       "2      19701971         1971     004                     \"Afghanistan\"   \n",
       "3      19701971         1971     008                         \"Albania\"   \n",
       "4      19701971         1971     012                         \"Algeria\"   \n",
       "5      19701971         1971     020                         \"Andorra\"   \n",
       "...         ...          ...     ...                               ...   \n",
       "22815  20182019         2019     862  \"Venezuela (Bolivarian Rep. of)\"   \n",
       "22816  20182019         2019     882                           \"Samoa\"   \n",
       "22817  20182019         2019     887                           \"Yemen\"   \n",
       "22818  20182019         2019     894                          \"Zambia\"   \n",
       "22819  20182019         2019     926                  \"United Kingdom\"   \n",
       "\n",
       "0     Annual average growth rate per capita  \\\n",
       "1                                    2.2902   \n",
       "2                                  -2.89839   \n",
       "3                                   1.56952   \n",
       "4                                 -12.00035   \n",
       "5                                  -0.65441   \n",
       "...                                     ...   \n",
       "22815                             -34.15367   \n",
       "22816                               1.75115   \n",
       "22817                              -0.22209   \n",
       "22818                               -1.4517   \n",
       "22819                               0.67718   \n",
       "\n",
       "0     Annual average growth rate per capita Footnote  \\\n",
       "1                                                      \n",
       "2                                                      \n",
       "3                                                      \n",
       "4                                                      \n",
       "5                                                      \n",
       "...                                              ...   \n",
       "22815                                                  \n",
       "22816                                                  \n",
       "22817                                                  \n",
       "22818                                                  \n",
       "22819                                                  \n",
       "\n",
       "0     Annual average growth rate Annual average growth rate Footnote  \n",
       "1                          4.373                                      \n",
       "2                       -0.27571                                      \n",
       "3                        4.00082                                      \n",
       "4                       -9.52272                                      \n",
       "5                        4.64947                                      \n",
       "...                          ...                                 ...  \n",
       "22815                        -35                                      \n",
       "22816                    2.25179                                      \n",
       "22817                        2.1                                      \n",
       "22818                    1.44096                                      \n",
       "22819                    1.26091                                      \n",
       "\n",
       "[22819 rows x 8 columns]"
      ],
      "text/html": "<div>\n<style scoped>\n    .dataframe tbody tr th:only-of-type {\n        vertical-align: middle;\n    }\n\n    .dataframe tbody tr th {\n        vertical-align: top;\n    }\n\n    .dataframe thead th {\n        text-align: right;\n    }\n</style>\n<table border=\"1\" class=\"dataframe\">\n  <thead>\n    <tr style=\"text-align: right;\">\n      <th></th>\n      <th>Period</th>\n      <th>Period Label</th>\n      <th>Economy</th>\n      <th>Economy Label</th>\n      <th>Annual average growth rate per capita</th>\n      <th>Annual average growth rate per capita Footnote</th>\n      <th>Annual average growth rate</th>\n      <th>Annual average growth rate Footnote</th>\n    </tr>\n  </thead>\n  <tbody>\n    <tr>\n      <th>1</th>\n      <td>19701971</td>\n      <td>1971</td>\n      <td>0000</td>\n      <td>\"World\"</td>\n      <td>2.2902</td>\n      <td></td>\n      <td>4.373</td>\n      <td></td>\n    </tr>\n    <tr>\n      <th>2</th>\n      <td>19701971</td>\n      <td>1971</td>\n      <td>004</td>\n      <td>\"Afghanistan\"</td>\n      <td>-2.89839</td>\n      <td></td>\n      <td>-0.27571</td>\n      <td></td>\n    </tr>\n    <tr>\n      <th>3</th>\n      <td>19701971</td>\n      <td>1971</td>\n      <td>008</td>\n      <td>\"Albania\"</td>\n      <td>1.56952</td>\n      <td></td>\n      <td>4.00082</td>\n      <td></td>\n    </tr>\n    <tr>\n      <th>4</th>\n      <td>19701971</td>\n      <td>1971</td>\n      <td>012</td>\n      <td>\"Algeria\"</td>\n      <td>-12.00035</td>\n      <td></td>\n      <td>-9.52272</td>\n      <td></td>\n    </tr>\n    <tr>\n      <th>5</th>\n      <td>19701971</td>\n      <td>1971</td>\n      <td>020</td>\n      <td>\"Andorra\"</td>\n      <td>-0.65441</td>\n      <td></td>\n      <td>4.64947</td>\n      <td></td>\n    </tr>\n    <tr>\n      <th>...</th>\n      <td>...</td>\n      <td>...</td>\n      <td>...</td>\n      <td>...</td>\n      <td>...</td>\n      <td>...</td>\n      <td>...</td>\n      <td>...</td>\n    </tr>\n    <tr>\n      <th>22815</th>\n      <td>20182019</td>\n      <td>2019</td>\n      <td>862</td>\n      <td>\"Venezuela (Bolivarian Rep. of)\"</td>\n      <td>-34.15367</td>\n      <td></td>\n      <td>-35</td>\n      <td></td>\n    </tr>\n    <tr>\n      <th>22816</th>\n      <td>20182019</td>\n      <td>2019</td>\n      <td>882</td>\n      <td>\"Samoa\"</td>\n      <td>1.75115</td>\n      <td></td>\n      <td>2.25179</td>\n      <td></td>\n    </tr>\n    <tr>\n      <th>22817</th>\n      <td>20182019</td>\n      <td>2019</td>\n      <td>887</td>\n      <td>\"Yemen\"</td>\n      <td>-0.22209</td>\n      <td></td>\n      <td>2.1</td>\n      <td></td>\n    </tr>\n    <tr>\n      <th>22818</th>\n      <td>20182019</td>\n      <td>2019</td>\n      <td>894</td>\n      <td>\"Zambia\"</td>\n      <td>-1.4517</td>\n      <td></td>\n      <td>1.44096</td>\n      <td></td>\n    </tr>\n    <tr>\n      <th>22819</th>\n      <td>20182019</td>\n      <td>2019</td>\n      <td>926</td>\n      <td>\"United Kingdom\"</td>\n      <td>0.67718</td>\n      <td></td>\n      <td>1.26091</td>\n      <td></td>\n    </tr>\n  </tbody>\n</table>\n<p>22819 rows × 8 columns</p>\n</div>"
     },
     "metadata": {},
     "execution_count": 11
    }
   ],
   "source": [
    "GDPR"
   ]
  },
  {
   "cell_type": "code",
   "execution_count": 12,
   "metadata": {},
   "outputs": [],
   "source": [
    "GDPR = GDPR[GDPR['Economy Label'] == '\"World\"']"
   ]
  },
  {
   "cell_type": "code",
   "execution_count": 13,
   "metadata": {},
   "outputs": [],
   "source": [
    "Global_gdpr = GDPR.drop(columns=['Period', 'Economy','Economy Label', 'Annual average growth rate per capita Footnote','Annual average growth rate Footnote'])"
   ]
  },
  {
   "cell_type": "code",
   "execution_count": 14,
   "metadata": {},
   "outputs": [],
   "source": [
    "Global_gdpr = Global_gdpr.reset_index(drop=True)"
   ]
  },
  {
   "cell_type": "code",
   "execution_count": 15,
   "metadata": {},
   "outputs": [],
   "source": [
    "Global_gdpr.to_csv('./Def_Data/df_globalgdpr.csv')"
   ]
  },
  {
   "cell_type": "code",
   "execution_count": 16,
   "metadata": {},
   "outputs": [],
   "source": [
    "GDP_Total = pd.read_csv('./Def_Data/US_GDPTota.csv', header=None)"
   ]
  },
  {
   "cell_type": "code",
   "execution_count": 17,
   "metadata": {},
   "outputs": [],
   "source": [
    "GDP_Title = GDP_Total.iloc[0, :]"
   ]
  },
  {
   "cell_type": "code",
   "execution_count": 18,
   "metadata": {},
   "outputs": [],
   "source": [
    "GDP_Total= normalize_dataframe(GDP_Total, sep=',')"
   ]
  },
  {
   "cell_type": "code",
   "execution_count": 19,
   "metadata": {},
   "outputs": [],
   "source": [
    "GDP_Total = GDP_Total.iloc[:, :-1]"
   ]
  },
  {
   "cell_type": "code",
   "execution_count": 20,
   "metadata": {},
   "outputs": [],
   "source": [
    "GDP_Total.columns = GDP_Title"
   ]
  },
  {
   "cell_type": "code",
   "execution_count": 21,
   "metadata": {},
   "outputs": [
    {
     "output_type": "execute_result",
     "data": {
      "text/plain": [
       "array(['\"World\"', '\"Afghanistan\"', '\"Albania\"', '\"Algeria\"', '\"Andorra\"',\n",
       "       '\"Angola\"', '\"Antigua and Barbuda\"', '\"Argentina\"', '\"Australia\"',\n",
       "       '\"Austria\"', '\"Bahamas\"', '\"Bahrain\"', '\"Bangladesh\"',\n",
       "       '\"Barbados\"', '\"Belgium\"', '\"Bermuda\"', '\"Bhutan\"',\n",
       "       '\"Bolivia (Plurinational State of)\"', '\"Botswana\"', '\"Brazil\"',\n",
       "       '\"Belize\"', '\"Solomon Islands\"', '\"British Virgin Islands\"',\n",
       "       '\"Brunei Darussalam\"', '\"Bulgaria\"', '\"Myanmar\"', '\"Burundi\"',\n",
       "       '\"Cambodia\"', '\"Cameroon\"', '\"Canada\"', '\"Cabo Verde\"',\n",
       "       '\"Cayman Islands\"', '\"Central African Republic\"', '\"Sri Lanka\"',\n",
       "       '\"Chad\"', '\"Chile\"', '\"China\"', '\"China', '\"Colombia\"',\n",
       "       '\"Comoros\"', '\"Congo\"', '\"Congo', '\"Cook Islands\"', '\"Costa Rica\"',\n",
       "       '\"Cuba\"', '\"Cyprus\"', '\"Czechoslovakia\"', '\"Benin\"', '\"Denmark\"',\n",
       "       '\"Developed economies: Asia and Oceania\"',\n",
       "       '\"Developing economies: Asia and Oceania\"',\n",
       "       '\"Developed economies: Asia\"', '\"Developing economies: Asia\"',\n",
       "       '\"Developed economies: Oceania\"',\n",
       "       '\"Developing economies: Oceania\"',\n",
       "       '\"Sub-Saharan Africa excluding South Africa\"',\n",
       "       '\"Africa excluding South Africa\"', '\"Dominica\"',\n",
       "       '\"Dominican Republic\"', '\"Developing economies excluding China\"',\n",
       "       '\"Developing economies excluding LDCs\"', '\"Ecuador\"',\n",
       "       '\"Developing regions (M49)\"', '\"Developed regions (M49)\"',\n",
       "       '\"LDCs (Least developed countries)\"', '\"LDCs: Africa and Haiti\"',\n",
       "       '\"LDCs: Asia\"', '\"LDCs: Islands\"', '\"El Salvador\"',\n",
       "       '\"LLDCs (Landlocked developing countries)\"', '\"LDCs: Africa\"',\n",
       "       '\"LDCs: Islands and Haiti\"',\n",
       "       '\"SIDS (Small island developing States) (UNCTAD)\"',\n",
       "       '\"SIDS: Atlantic and Indian Ocean\"', '\"SIDS: Caribbean\"',\n",
       "       '\"SIDS: Pacific\"',\n",
       "       '\"SIDS (Small island developing States) (UN-OHRLLS)\"',\n",
       "       '\"Equatorial Guinea\"', '\"Ethiopia (...1991)\"',\n",
       "       '\"Selected exporters of petroleum\"',\n",
       "       '\"Selected exporters of manufactured goods\"',\n",
       "       '\"Selected exporters of manufactured goods and primary commodities\"',\n",
       "       '\"Selected exporters of agricultural products\"',\n",
       "       '\"Selected exporters of minerals and mining products\"',\n",
       "       '\"Selected LIFDC (Low-income food-deficit countries)\"',\n",
       "       '\"LIFDC (Low-income food-deficit countries) (FAO)\"',\n",
       "       '\"Net food-importing economies\"', '\"Net food-exporting economies\"',\n",
       "       '\"Net food-exporting developing economies\"',\n",
       "       '\"Net food-exporting developed economies\"',\n",
       "       '\"Major net food-exporting economies\"', '\"Fiji\"',\n",
       "       '\"Net food-importing developing economies\"',\n",
       "       '\"Net food-importing developed economies\"',\n",
       "       '\"Major net food-importing economies\"', '\"Finland\"',\n",
       "       '\"Industrialized economies (UNIDO)\"',\n",
       "       '\"EIEs (Emerging Industrial Economies) (UNIDO)\"', '\"France\"',\n",
       "       '\"Emerging markets\"', '\"Emerging markets: Africa\"',\n",
       "       '\"Emerging markets: America\"', '\"Emerging markets: Asia\"',\n",
       "       '\"Emerging markets: Europe and Kazakhstan\"', '\"French Polynesia\"',\n",
       "       '\"HIPCs (Heavily indebted poor countries) (IMF)\"', '\"Djibouti\"',\n",
       "       '\"High-income developing economies\"',\n",
       "       '\"Middle-income developing economies\"',\n",
       "       '\"Low-income developing economies\"',\n",
       "       '\"Low-income economies (World Bank)\"',\n",
       "       '\"Lower-middle-income economies (World Bank)\"',\n",
       "       '\"Upper-middle-income economies (World Bank)\"',\n",
       "       '\"High-income economies (World Bank)\"',\n",
       "       '\"High-income OECD members (World Bank)\"',\n",
       "       '\"High-income non OECD members (World Bank)\"', '\"Gabon\"',\n",
       "       '\"Gambia\"', '\"BASIC\"', '\"BRICS\"', '\"State of Palestine\"',\n",
       "       '\"Germany', '\"Ghana\"', '\"Kiribati\"', '\"Greece\"', '\"Greenland\"',\n",
       "       '\"Grenada\"', '\"AMU (Arab Maghreb Union)\"',\n",
       "       '\"COMESA (Common Market for Eastern and Southern Africa)\"',\n",
       "       '\"ECCAS (Economic Community of Central African States)\"',\n",
       "       '\"ECOWAS (Economic Community of West African States)\"',\n",
       "       '\"MRU (Mano River Union)\"',\n",
       "       '\"SADC (Southern African Development Community)\"',\n",
       "       '\"CEMAC (Economic and Monetary Community of Central Africa)\"',\n",
       "       '\"WAEMU (West African Economic and Monetary Union)\"',\n",
       "       '\"CEPGL (Economic Community of the Great Lakes Countries)\"',\n",
       "       '\"EAC (East African Community)\"',\n",
       "       '\"SACU (Southern African Customs Union)\"',\n",
       "       '\"CEN-SAD (Community of Sahel-Saharan States)\"',\n",
       "       '\"IGAD (Intergovernmental Authority on Development)\"',\n",
       "       '\"United Nations member States\"', '\"Guatemala\"',\n",
       "       '\"CAN (Andean Community)\"',\n",
       "       '\"CACM (Central American Common Market)\"',\n",
       "       '\"CARICOM (Caribbean Community)\"',\n",
       "       '\"LAIA (Latin American Integration Association)\"',\n",
       "       '\"NAFTA (North American Free Trade Agreement)\"',\n",
       "       '\"OECS (Organisation of Eastern Caribbean States)\"',\n",
       "       '\"MERCOSUR (Southern Common Market)\"',\n",
       "       '\"ALBA-TCP (Bolivarian Alliance for the Peoples of Our America - Peoples\\' Trade Treaty)\"',\n",
       "       '\"UNASUR (Union of South American Nations)\"',\n",
       "       '\"ACS (Association of Caribbean States)\"', '\"Guinea\"', '\"Guyana\"',\n",
       "       '\"ASEAN (Association of Southeast Asian Nations)\"',\n",
       "       '\"APTA (Asia-Pacific Trade Agreement)\"',\n",
       "       '\"GCC (The Cooperation Council for the Arab States of the Gulf)\"',\n",
       "       '\"SAARC (South Asian Association for Regional Cooperation)\"',\n",
       "       '\"ASEAN (Association of Southeast Asian Nations) plus China',\n",
       "       '\"ECO (Economic Cooperation Organization)\"', '\"African Union\"',\n",
       "       '\"ADB (African Development Bank)', '\"ADB: Group A\"',\n",
       "       '\"ADB: Group B\"', '\"ADB: Group C\"', '\"Haiti\"',\n",
       "       '\"ECA (Economic Commission for Africa)\"', '\"ECA: North Africa\"',\n",
       "       '\"ECA: Eastern Africa\"', '\"ECA: Central Africa\"',\n",
       "       '\"ECA: Southern Africa\"', '\"ECA: West Africa\"',\n",
       "       '\"ECA: Island economies\"', '\"ECA: Landlocked countries\"',\n",
       "       '\"ECA: Landlocked LDCs\"', '\"ECA: Least developed countries\"',\n",
       "       '\"ECLAC (Economic Commission for Latin America and the Caribbean)\"',\n",
       "       '\"ECLAC: Caribbean\"', '\"ECLAC: Latin America\"',\n",
       "       '\"ECA: Mineral-rich countries\"', '\"ECA: Non-oil LDCs\"',\n",
       "       '\"ECA: Non-oil Producing\"', '\"ECA: Oil LDCs\"',\n",
       "       '\"ECA: Oil producing economies\"', '\"ECA: Sahel\"',\n",
       "       '\"ECA: Small island States\"',\n",
       "       '\"ESCAP (Economic and Social Commission for Asia and the Pacific)\"',\n",
       "       '\"ESCAP: Africa\"', '\"ESCAP: Latin America\"', '\"ESCAP: Europe\"',\n",
       "       '\"ESCAP: East and North-East Asia (ENEA)\"',\n",
       "       '\"ESCAP: North and Central Asia\"',\n",
       "       '\"ESCAP: South and South-West Asia\"', '\"ESCAP: Pacific\"',\n",
       "       '\"ESCAP: Pacific island developing economies (PIDE)\"',\n",
       "       '\"ESCAP: Other area\"', '\"ESCAP: East and North-East Asia',\n",
       "       '\"ESCAP: Least developed countries\"',\n",
       "       '\"ESCAP: Landlocked developing countries\"',\n",
       "       '\"ESCAP: Countries with special needs\"',\n",
       "       '\"ESCAP: Small islands developing States\"',\n",
       "       '\"UNECE (Economic Commission for Europe)\"',\n",
       "       '\"ESCAP: High-income economies (World Bank)\"',\n",
       "       '\"ESCAP: Upper-middle-income economies (World Bank)\"',\n",
       "       '\"ESCAP: Lower-middle-income economies (World Bank)\"',\n",
       "       '\"ESCAP: Low-income economies (World Bank)\"',\n",
       "       '\"UNECE: Eastern Europe', '\"UNECE: West Balkans\"',\n",
       "       '\"ESCWA (Economic and Social Commission for Western Asia)\"',\n",
       "       '\"ESCWA: Arab countries\"', '\"ESCWA: Mashreq\"', '\"ESCWA: Maghreb\"',\n",
       "       '\"ESCWA: Arab LDCs\"', '\"CBD (Convention on Biological Diversity)\"',\n",
       "       '\"CITES (Convention on International Trade in Endangered Species of Wild Fauna and Flora)\"',\n",
       "       '\"Nagoya Protocol on Access and Benefit Sharing\"',\n",
       "       '\"LMMC (Like-Minded Megadiverse Countries)\"',\n",
       "       '\"BioTrade countries\"', '\"Honduras\"',\n",
       "       '\"EFTA (European Free Trade Association)\"',\n",
       "       '\"EU25 (European Union 2004 … 2007)\"',\n",
       "       '\"EU15 (European Union 1995 … 2004)\"', '\"Euro area\"',\n",
       "       '\"EU27 (European Union 2007 … 2013)\"',\n",
       "       '\"EU28 (European Union 2013 … 2020)\"', '\"European Union (2020 …)\"',\n",
       "       '\"Hungary\"', '\"MSG (Melanesian Spearhead Group)\"', '\"Iceland\"',\n",
       "       '\"India\"', '\"Northern America and Europe\"',\n",
       "       '\"Central and Southern Asia\"', '\"Eastern and South-Eastern Asia\"',\n",
       "       '\"Western Asia and Northern Africa\"',\n",
       "       '\"Iran (Islamic Republic of)\"', '\"Iraq\"', '\"Ireland\"', '\"Israel\"',\n",
       "       '\"Italy\"', '\"Côte d\\'Ivoire\"', '\"Jamaica\"',\n",
       "       '\"APEC (Asia-Pacific Economic Cooperation)\"',\n",
       "       '\"OECD (Organisation for Economic Cooperation and Development)\"',\n",
       "       '\"OPEC (Organization of the Petroleum Exporting Countries)\"',\n",
       "       '\"ACP (African', '\"LAS (League of Arab States)\"',\n",
       "       '\"OIC (Organisation of Islamic Cooperation)\"',\n",
       "       '\"OAS (Organization of American States)\"', '\"G7 (Group of Seven)\"',\n",
       "       '\"G8 (Group of Eight)\"', '\"G20 (Group of Twenty)\"',\n",
       "       '\"G-77 (Group of 77)\"', '\"Japan\"',\n",
       "       '\"GSTP (Global System of Trade Preferences among Developing Countries)\"',\n",
       "       '\"GSTP: Africa\"', '\"GSTP: Latin America\"', '\"GSTP: Asia\"',\n",
       "       '\"TPP (Trans-Pacific Partnership)\"', '\"ACP: Africa\"',\n",
       "       '\"ACP: Western Africa\"', '\"ACP: Eastern Africa\"',\n",
       "       '\"ACP: Central Africa\"', '\"ACP: Southern Africa\"',\n",
       "       '\"ACP: Caribbean\"', '\"ACP: Pacific\"', '\"ACP: LDCs\"',\n",
       "       '\"ACP: LLDCs\"', '\"ACP: Islands States\"', '\"ACP: Northern Africa\"',\n",
       "       '\"Jordan\"', '\"Kenya\"', '\"Korea', '\"Kuwait\"',\n",
       "       '\"Lao People\\'s Dem. Rep.\"', '\"Lebanon\"', '\"Lesotho\"', '\"Liberia\"',\n",
       "       '\"Libya\"', '\"Liechtenstein\"', '\"Luxembourg\"', '\"Madagascar\"',\n",
       "       '\"Malawi\"', '\"Malaysia\"', '\"Maldives\"', '\"Mali\"', '\"Malta\"',\n",
       "       '\"Mauritania\"', '\"Mauritius\"', '\"Mexico\"', '\"Monaco\"',\n",
       "       '\"Mongolia\"', '\"Montserrat\"', '\"Morocco\"', '\"Mozambique\"',\n",
       "       '\"Africa\"', '\"Northern Africa\"', '\"Oman\"', '\"Sub-Saharan Africa\"',\n",
       "       '\"Eastern Africa\"', '\"Middle Africa\"', '\"Southern Africa\"',\n",
       "       '\"Western Africa\"', '\"Namibia\"', '\"Nauru\"', '\"America\"',\n",
       "       '\"Northern America\"', '\"Latin America and the Caribbean\"',\n",
       "       '\"Caribbean\"', '\"Central America\"', '\"South America\"', '\"Nepal\"',\n",
       "       '\"Netherlands\"', '\"Netherlands Antilles\"', '\"Asia\"',\n",
       "       '\"Southern Asia\"', '\"Aruba\"', '\"Eastern Asia\"', '\"Western Asia\"',\n",
       "       '\"South-eastern Asia\"', '\"New Caledonia\"', '\"Europe\"',\n",
       "       '\"Eastern Europe\"', '\"Northern Europe\"', '\"Southern Europe\"',\n",
       "       '\"Western Europe\"', '\"Vanuatu\"', '\"Oceania\"', '\"New Zealand\"',\n",
       "       '\"Nicaragua\"', '\"Asia and Oceania\"', '\"Niger\"', '\"Nigeria\"',\n",
       "       '\"Norway\"', '\"Pacific Islands', '\"Pakistan\"', '\"Panama',\n",
       "       '\"Papua New Guinea\"', '\"Paraguay\"', '\"Peru\"', '\"Philippines\"',\n",
       "       '\"Poland\"', '\"Portugal\"', '\"Guinea-Bissau\"', '\"Puerto Rico\"',\n",
       "       '\"Qatar\"', '\"Romania\"', '\"Rwanda\"', '\"Saint Kitts and Nevis\"',\n",
       "       '\"Anguilla\"', '\"Saint Lucia\"',\n",
       "       '\"Saint Vincent and the Grenadines\"', '\"San Marino\"',\n",
       "       '\"Sao Tome and Principe\"', '\"Saudi Arabia\"', '\"Senegal\"',\n",
       "       '\"Seychelles\"', '\"Sierra Leone\"', '\"Singapore\"', '\"Viet Nam\"',\n",
       "       '\"Somalia\"', '\"South Africa\"', '\"Zimbabwe\"', '\"Yemen', '\"Spain\"',\n",
       "       '\"Sudan (...2011)\"', '\"Suriname\"', '\"Eswatini\"', '\"Sweden\"',\n",
       "       '\"Switzerland\"', '\"Switzerland', '\"Syrian Arab Republic\"',\n",
       "       '\"Thailand\"', '\"Togo\"', '\"Tonga\"', '\"Trinidad and Tobago\"',\n",
       "       '\"United Arab Emirates\"', '\"Tunisia\"', '\"Turkey\"',\n",
       "       '\"Turks and Caicos Islands\"', '\"Tuvalu\"', '\"Uganda\"',\n",
       "       '\"Union of Soviet Socialist Republics\"', '\"Egypt\"',\n",
       "       '\"United Kingdom excl. Channel Islands and Isle of Man\"',\n",
       "       '\"Tanzania',\n",
       "       '\"United States of America excluding Puerto Rico and United States Virgin Islands\"',\n",
       "       '\"United States of America including Puerto Rico\"',\n",
       "       '\"United States of America\"', '\"Burkina Faso\"', '\"Uruguay\"',\n",
       "       '\"Venezuela (Bolivarian Rep. of)\"', '\"Samoa\"', '\"Yugoslavia',\n",
       "       '\"Zambia\"', '\"United Kingdom\"', '\"Indonesia (...2002)\"',\n",
       "       '\"Panama\"', '\"Micronesia (Federated States of)\"',\n",
       "       '\"Marshall Islands\"', '\"Palau\"', '\"Germany\"', '\"Yemen\"',\n",
       "       '\"Azerbaijan\"', '\"Armenia\"', '\"Bosnia and Herzegovina\"',\n",
       "       '\"Belarus\"', '\"Croatia\"', '\"Ethiopia\"', '\"Eritrea\"', '\"Estonia\"',\n",
       "       '\"Georgia\"', '\"CIS (Commonwealth of Independent States)\"',\n",
       "       '\"Kazakhstan\"', '\"Kyrgyzstan\"', '\"Latvia\"', '\"Lithuania\"',\n",
       "       '\"Moldova', '\"Central Asia\"', '\"Russian Federation\"', '\"Slovenia\"',\n",
       "       '\"Tajikistan\"', '\"Turkmenistan\"', '\"Ukraine\"', '\"North Macedonia\"',\n",
       "       '\"Uzbekistan\"', '\"Serbia and Montenegro\"', '\"Czechia\"',\n",
       "       '\"Slovakia\"', '\"Indonesia\"', '\"Timor-Leste\"',\n",
       "       '\"CEFTA (Central European Free Trade Agreement)\"', '\"Montenegro\"',\n",
       "       '\"Serbia\"', '\"Curaçao\"', '\"Sint Maarten (Dutch part)\"',\n",
       "       '\"South Sudan\"', '\"Sudan\"'], dtype=object)"
      ]
     },
     "metadata": {},
     "execution_count": 21
    }
   ],
   "source": [
    "GDP_Total['Economy Label'].unique()"
   ]
  },
  {
   "cell_type": "code",
   "execution_count": 22,
   "metadata": {},
   "outputs": [],
   "source": [
    "GDP_world = GDP_Total[GDP_Total['Economy Label'] == '\"World\"']"
   ]
  },
  {
   "cell_type": "code",
   "execution_count": 23,
   "metadata": {},
   "outputs": [],
   "source": [
    "GDP_world = GDP_world.drop(columns=['Series','US dollars at current prices in millions Footnote', 'US dollars at current prices per capita Footnote', 'US dollars at constant prices (2015) in millions Footnote', 'US dollars at constant prices (2015) per capita Footnote' ])"
   ]
  },
  {
   "cell_type": "code",
   "execution_count": 24,
   "metadata": {},
   "outputs": [],
   "source": [
    "GDP_world = GDP_world.reset_index(drop=True)"
   ]
  },
  {
   "cell_type": "code",
   "execution_count": 25,
   "metadata": {},
   "outputs": [],
   "source": [
    "GDP_G20 = GDP_Total[GDP_Total['Economy Label'] == '\"G20 (Group of Twenty)\"']"
   ]
  },
  {
   "cell_type": "code",
   "execution_count": 26,
   "metadata": {},
   "outputs": [],
   "source": [
    "GDP_G20 = GDP_G20.drop(columns=['Series','US dollars at current prices in millions Footnote', 'US dollars at current prices per capita Footnote', 'US dollars at constant prices (2015) in millions Footnote', 'US dollars at constant prices (2015) per capita Footnote' ])"
   ]
  },
  {
   "cell_type": "code",
   "execution_count": 27,
   "metadata": {},
   "outputs": [],
   "source": [
    "GDP_world.to_csv('./Def_Data/GDP_world.csv')"
   ]
  },
  {
   "cell_type": "code",
   "execution_count": 28,
   "metadata": {},
   "outputs": [],
   "source": [
    "GDP_G20.to_csv('./Def_Data/GDP_G20.csv')"
   ]
  },
  {
   "cell_type": "code",
   "execution_count": 38,
   "metadata": {},
   "outputs": [],
   "source": [
    "BDI = pd.read_excel('./Datasets/BDIY.xlsx')"
   ]
  },
  {
   "cell_type": "code",
   "execution_count": 39,
   "metadata": {},
   "outputs": [],
   "source": [
    "BDI = BDI.drop(BDI.index[:8])"
   ]
  },
  {
   "cell_type": "code",
   "execution_count": 40,
   "metadata": {},
   "outputs": [],
   "source": [
    "BDI = BDI.reset_index(drop=True)"
   ]
  },
  {
   "cell_type": "code",
   "execution_count": 42,
   "metadata": {},
   "outputs": [],
   "source": [
    "BDI.columns = ['Date', 'Price']"
   ]
  },
  {
   "cell_type": "code",
   "execution_count": 46,
   "metadata": {},
   "outputs": [],
   "source": [
    "BDI['Date'] = pd.to_datetime(BDI['Date'])\n",
    "BDI = BDI.set_index(BDI['Date'])\n",
    "BDI_yearly = BDI.resample('Y').mean()"
   ]
  },
  {
   "cell_type": "code",
   "execution_count": 48,
   "metadata": {},
   "outputs": [],
   "source": [
    "BDI_yearly.to_csv('./Def_Data/BDI_yearly.csv')"
   ]
  },
  {
   "cell_type": "code",
   "execution_count": 44,
   "metadata": {},
   "outputs": [
    {
     "output_type": "execute_result",
     "data": {
      "text/plain": [
       "<AxesSubplot:xlabel='Date', ylabel='Price'>"
      ]
     },
     "metadata": {},
     "execution_count": 44
    },
    {
     "output_type": "display_data",
     "data": {
      "text/plain": "<Figure size 432x288 with 1 Axes>",
      "image/svg+xml": "<?xml version=\"1.0\" encoding=\"utf-8\" standalone=\"no\"?>\r\n<!DOCTYPE svg PUBLIC \"-//W3C//DTD SVG 1.1//EN\"\r\n  \"http://www.w3.org/Graphics/SVG/1.1/DTD/svg11.dtd\">\r\n<svg height=\"262.19625pt\" version=\"1.1\" viewBox=\"0 0 401.690625 262.19625\" width=\"401.690625pt\" xmlns=\"http://www.w3.org/2000/svg\" xmlns:xlink=\"http://www.w3.org/1999/xlink\">\r\n <metadata>\r\n  <rdf:RDF xmlns:cc=\"http://creativecommons.org/ns#\" xmlns:dc=\"http://purl.org/dc/elements/1.1/\" xmlns:rdf=\"http://www.w3.org/1999/02/22-rdf-syntax-ns#\">\r\n   <cc:Work>\r\n    <dc:type rdf:resource=\"http://purl.org/dc/dcmitype/StillImage\"/>\r\n    <dc:date>2021-05-27T17:31:09.213820</dc:date>\r\n    <dc:format>image/svg+xml</dc:format>\r\n    <dc:creator>\r\n     <cc:Agent>\r\n      <dc:title>Matplotlib v3.4.2, https://matplotlib.org/</dc:title>\r\n     </cc:Agent>\r\n    </dc:creator>\r\n   </cc:Work>\r\n  </rdf:RDF>\r\n </metadata>\r\n <defs>\r\n  <style type=\"text/css\">*{stroke-linecap:butt;stroke-linejoin:round;}</style>\r\n </defs>\r\n <g id=\"figure_1\">\r\n  <g id=\"patch_1\">\r\n   <path d=\"M 0 262.19625 \r\nL 401.690625 262.19625 \r\nL 401.690625 0 \r\nL 0 0 \r\nz\r\n\" style=\"fill:none;\"/>\r\n  </g>\r\n  <g id=\"axes_1\">\r\n   <g id=\"patch_2\">\r\n    <path d=\"M 59.690625 224.64 \r\nL 394.490625 224.64 \r\nL 394.490625 7.2 \r\nL 59.690625 7.2 \r\nz\r\n\" style=\"fill:#ffffff;\"/>\r\n   </g>\r\n   <g id=\"matplotlib.axis_1\">\r\n    <g id=\"xtick_1\">\r\n     <g id=\"line2d_1\">\r\n      <defs>\r\n       <path d=\"M 0 0 \r\nL 0 3.5 \r\n\" id=\"m309c0738f4\" style=\"stroke:#000000;stroke-width:0.8;\"/>\r\n      </defs>\r\n      <g>\r\n       <use style=\"stroke:#000000;stroke-width:0.8;\" x=\"66.544927\" xlink:href=\"#m309c0738f4\" y=\"224.64\"/>\r\n      </g>\r\n     </g>\r\n     <g id=\"text_1\">\r\n      <!-- 1992 -->\r\n      <g transform=\"translate(53.819927 239.238437)scale(0.1 -0.1)\">\r\n       <defs>\r\n        <path d=\"M 794 531 \r\nL 1825 531 \r\nL 1825 4091 \r\nL 703 3866 \r\nL 703 4441 \r\nL 1819 4666 \r\nL 2450 4666 \r\nL 2450 531 \r\nL 3481 531 \r\nL 3481 0 \r\nL 794 0 \r\nL 794 531 \r\nz\r\n\" id=\"DejaVuSans-31\" transform=\"scale(0.015625)\"/>\r\n        <path d=\"M 703 97 \r\nL 703 672 \r\nQ 941 559 1184 500 \r\nQ 1428 441 1663 441 \r\nQ 2288 441 2617 861 \r\nQ 2947 1281 2994 2138 \r\nQ 2813 1869 2534 1725 \r\nQ 2256 1581 1919 1581 \r\nQ 1219 1581 811 2004 \r\nQ 403 2428 403 3163 \r\nQ 403 3881 828 4315 \r\nQ 1253 4750 1959 4750 \r\nQ 2769 4750 3195 4129 \r\nQ 3622 3509 3622 2328 \r\nQ 3622 1225 3098 567 \r\nQ 2575 -91 1691 -91 \r\nQ 1453 -91 1209 -44 \r\nQ 966 3 703 97 \r\nz\r\nM 1959 2075 \r\nQ 2384 2075 2632 2365 \r\nQ 2881 2656 2881 3163 \r\nQ 2881 3666 2632 3958 \r\nQ 2384 4250 1959 4250 \r\nQ 1534 4250 1286 3958 \r\nQ 1038 3666 1038 3163 \r\nQ 1038 2656 1286 2365 \r\nQ 1534 2075 1959 2075 \r\nz\r\n\" id=\"DejaVuSans-39\" transform=\"scale(0.015625)\"/>\r\n        <path d=\"M 1228 531 \r\nL 3431 531 \r\nL 3431 0 \r\nL 469 0 \r\nL 469 531 \r\nQ 828 903 1448 1529 \r\nQ 2069 2156 2228 2338 \r\nQ 2531 2678 2651 2914 \r\nQ 2772 3150 2772 3378 \r\nQ 2772 3750 2511 3984 \r\nQ 2250 4219 1831 4219 \r\nQ 1534 4219 1204 4116 \r\nQ 875 4013 500 3803 \r\nL 500 4441 \r\nQ 881 4594 1212 4672 \r\nQ 1544 4750 1819 4750 \r\nQ 2544 4750 2975 4387 \r\nQ 3406 4025 3406 3419 \r\nQ 3406 3131 3298 2873 \r\nQ 3191 2616 2906 2266 \r\nQ 2828 2175 2409 1742 \r\nQ 1991 1309 1228 531 \r\nz\r\n\" id=\"DejaVuSans-32\" transform=\"scale(0.015625)\"/>\r\n       </defs>\r\n       <use xlink:href=\"#DejaVuSans-31\"/>\r\n       <use x=\"63.623047\" xlink:href=\"#DejaVuSans-39\"/>\r\n       <use x=\"127.246094\" xlink:href=\"#DejaVuSans-39\"/>\r\n       <use x=\"190.869141\" xlink:href=\"#DejaVuSans-32\"/>\r\n      </g>\r\n     </g>\r\n    </g>\r\n    <g id=\"xtick_2\">\r\n     <g id=\"line2d_2\">\r\n      <g>\r\n       <use style=\"stroke:#000000;stroke-width:0.8;\" x=\"109.122031\" xlink:href=\"#m309c0738f4\" y=\"224.64\"/>\r\n      </g>\r\n     </g>\r\n     <g id=\"text_2\">\r\n      <!-- 1996 -->\r\n      <g transform=\"translate(96.397031 239.238437)scale(0.1 -0.1)\">\r\n       <defs>\r\n        <path d=\"M 2113 2584 \r\nQ 1688 2584 1439 2293 \r\nQ 1191 2003 1191 1497 \r\nQ 1191 994 1439 701 \r\nQ 1688 409 2113 409 \r\nQ 2538 409 2786 701 \r\nQ 3034 994 3034 1497 \r\nQ 3034 2003 2786 2293 \r\nQ 2538 2584 2113 2584 \r\nz\r\nM 3366 4563 \r\nL 3366 3988 \r\nQ 3128 4100 2886 4159 \r\nQ 2644 4219 2406 4219 \r\nQ 1781 4219 1451 3797 \r\nQ 1122 3375 1075 2522 \r\nQ 1259 2794 1537 2939 \r\nQ 1816 3084 2150 3084 \r\nQ 2853 3084 3261 2657 \r\nQ 3669 2231 3669 1497 \r\nQ 3669 778 3244 343 \r\nQ 2819 -91 2113 -91 \r\nQ 1303 -91 875 529 \r\nQ 447 1150 447 2328 \r\nQ 447 3434 972 4092 \r\nQ 1497 4750 2381 4750 \r\nQ 2619 4750 2861 4703 \r\nQ 3103 4656 3366 4563 \r\nz\r\n\" id=\"DejaVuSans-36\" transform=\"scale(0.015625)\"/>\r\n       </defs>\r\n       <use xlink:href=\"#DejaVuSans-31\"/>\r\n       <use x=\"63.623047\" xlink:href=\"#DejaVuSans-39\"/>\r\n       <use x=\"127.246094\" xlink:href=\"#DejaVuSans-39\"/>\r\n       <use x=\"190.869141\" xlink:href=\"#DejaVuSans-36\"/>\r\n      </g>\r\n     </g>\r\n    </g>\r\n    <g id=\"xtick_3\">\r\n     <g id=\"line2d_3\">\r\n      <g>\r\n       <use style=\"stroke:#000000;stroke-width:0.8;\" x=\"151.699134\" xlink:href=\"#m309c0738f4\" y=\"224.64\"/>\r\n      </g>\r\n     </g>\r\n     <g id=\"text_3\">\r\n      <!-- 2000 -->\r\n      <g transform=\"translate(138.974134 239.238437)scale(0.1 -0.1)\">\r\n       <defs>\r\n        <path d=\"M 2034 4250 \r\nQ 1547 4250 1301 3770 \r\nQ 1056 3291 1056 2328 \r\nQ 1056 1369 1301 889 \r\nQ 1547 409 2034 409 \r\nQ 2525 409 2770 889 \r\nQ 3016 1369 3016 2328 \r\nQ 3016 3291 2770 3770 \r\nQ 2525 4250 2034 4250 \r\nz\r\nM 2034 4750 \r\nQ 2819 4750 3233 4129 \r\nQ 3647 3509 3647 2328 \r\nQ 3647 1150 3233 529 \r\nQ 2819 -91 2034 -91 \r\nQ 1250 -91 836 529 \r\nQ 422 1150 422 2328 \r\nQ 422 3509 836 4129 \r\nQ 1250 4750 2034 4750 \r\nz\r\n\" id=\"DejaVuSans-30\" transform=\"scale(0.015625)\"/>\r\n       </defs>\r\n       <use xlink:href=\"#DejaVuSans-32\"/>\r\n       <use x=\"63.623047\" xlink:href=\"#DejaVuSans-30\"/>\r\n       <use x=\"127.246094\" xlink:href=\"#DejaVuSans-30\"/>\r\n       <use x=\"190.869141\" xlink:href=\"#DejaVuSans-30\"/>\r\n      </g>\r\n     </g>\r\n    </g>\r\n    <g id=\"xtick_4\">\r\n     <g id=\"line2d_4\">\r\n      <g>\r\n       <use style=\"stroke:#000000;stroke-width:0.8;\" x=\"194.276238\" xlink:href=\"#m309c0738f4\" y=\"224.64\"/>\r\n      </g>\r\n     </g>\r\n     <g id=\"text_4\">\r\n      <!-- 2004 -->\r\n      <g transform=\"translate(181.551238 239.238437)scale(0.1 -0.1)\">\r\n       <defs>\r\n        <path d=\"M 2419 4116 \r\nL 825 1625 \r\nL 2419 1625 \r\nL 2419 4116 \r\nz\r\nM 2253 4666 \r\nL 3047 4666 \r\nL 3047 1625 \r\nL 3713 1625 \r\nL 3713 1100 \r\nL 3047 1100 \r\nL 3047 0 \r\nL 2419 0 \r\nL 2419 1100 \r\nL 313 1100 \r\nL 313 1709 \r\nL 2253 4666 \r\nz\r\n\" id=\"DejaVuSans-34\" transform=\"scale(0.015625)\"/>\r\n       </defs>\r\n       <use xlink:href=\"#DejaVuSans-32\"/>\r\n       <use x=\"63.623047\" xlink:href=\"#DejaVuSans-30\"/>\r\n       <use x=\"127.246094\" xlink:href=\"#DejaVuSans-30\"/>\r\n       <use x=\"190.869141\" xlink:href=\"#DejaVuSans-34\"/>\r\n      </g>\r\n     </g>\r\n    </g>\r\n    <g id=\"xtick_5\">\r\n     <g id=\"line2d_5\">\r\n      <g>\r\n       <use style=\"stroke:#000000;stroke-width:0.8;\" x=\"236.853342\" xlink:href=\"#m309c0738f4\" y=\"224.64\"/>\r\n      </g>\r\n     </g>\r\n     <g id=\"text_5\">\r\n      <!-- 2008 -->\r\n      <g transform=\"translate(224.128342 239.238437)scale(0.1 -0.1)\">\r\n       <defs>\r\n        <path d=\"M 2034 2216 \r\nQ 1584 2216 1326 1975 \r\nQ 1069 1734 1069 1313 \r\nQ 1069 891 1326 650 \r\nQ 1584 409 2034 409 \r\nQ 2484 409 2743 651 \r\nQ 3003 894 3003 1313 \r\nQ 3003 1734 2745 1975 \r\nQ 2488 2216 2034 2216 \r\nz\r\nM 1403 2484 \r\nQ 997 2584 770 2862 \r\nQ 544 3141 544 3541 \r\nQ 544 4100 942 4425 \r\nQ 1341 4750 2034 4750 \r\nQ 2731 4750 3128 4425 \r\nQ 3525 4100 3525 3541 \r\nQ 3525 3141 3298 2862 \r\nQ 3072 2584 2669 2484 \r\nQ 3125 2378 3379 2068 \r\nQ 3634 1759 3634 1313 \r\nQ 3634 634 3220 271 \r\nQ 2806 -91 2034 -91 \r\nQ 1263 -91 848 271 \r\nQ 434 634 434 1313 \r\nQ 434 1759 690 2068 \r\nQ 947 2378 1403 2484 \r\nz\r\nM 1172 3481 \r\nQ 1172 3119 1398 2916 \r\nQ 1625 2713 2034 2713 \r\nQ 2441 2713 2670 2916 \r\nQ 2900 3119 2900 3481 \r\nQ 2900 3844 2670 4047 \r\nQ 2441 4250 2034 4250 \r\nQ 1625 4250 1398 4047 \r\nQ 1172 3844 1172 3481 \r\nz\r\n\" id=\"DejaVuSans-38\" transform=\"scale(0.015625)\"/>\r\n       </defs>\r\n       <use xlink:href=\"#DejaVuSans-32\"/>\r\n       <use x=\"63.623047\" xlink:href=\"#DejaVuSans-30\"/>\r\n       <use x=\"127.246094\" xlink:href=\"#DejaVuSans-30\"/>\r\n       <use x=\"190.869141\" xlink:href=\"#DejaVuSans-38\"/>\r\n      </g>\r\n     </g>\r\n    </g>\r\n    <g id=\"xtick_6\">\r\n     <g id=\"line2d_6\">\r\n      <g>\r\n       <use style=\"stroke:#000000;stroke-width:0.8;\" x=\"279.430446\" xlink:href=\"#m309c0738f4\" y=\"224.64\"/>\r\n      </g>\r\n     </g>\r\n     <g id=\"text_6\">\r\n      <!-- 2012 -->\r\n      <g transform=\"translate(266.705446 239.238437)scale(0.1 -0.1)\">\r\n       <use xlink:href=\"#DejaVuSans-32\"/>\r\n       <use x=\"63.623047\" xlink:href=\"#DejaVuSans-30\"/>\r\n       <use x=\"127.246094\" xlink:href=\"#DejaVuSans-31\"/>\r\n       <use x=\"190.869141\" xlink:href=\"#DejaVuSans-32\"/>\r\n      </g>\r\n     </g>\r\n    </g>\r\n    <g id=\"xtick_7\">\r\n     <g id=\"line2d_7\">\r\n      <g>\r\n       <use style=\"stroke:#000000;stroke-width:0.8;\" x=\"322.00755\" xlink:href=\"#m309c0738f4\" y=\"224.64\"/>\r\n      </g>\r\n     </g>\r\n     <g id=\"text_7\">\r\n      <!-- 2016 -->\r\n      <g transform=\"translate(309.28255 239.238437)scale(0.1 -0.1)\">\r\n       <use xlink:href=\"#DejaVuSans-32\"/>\r\n       <use x=\"63.623047\" xlink:href=\"#DejaVuSans-30\"/>\r\n       <use x=\"127.246094\" xlink:href=\"#DejaVuSans-31\"/>\r\n       <use x=\"190.869141\" xlink:href=\"#DejaVuSans-36\"/>\r\n      </g>\r\n     </g>\r\n    </g>\r\n    <g id=\"xtick_8\">\r\n     <g id=\"line2d_8\">\r\n      <g>\r\n       <use style=\"stroke:#000000;stroke-width:0.8;\" x=\"364.584654\" xlink:href=\"#m309c0738f4\" y=\"224.64\"/>\r\n      </g>\r\n     </g>\r\n     <g id=\"text_8\">\r\n      <!-- 2020 -->\r\n      <g transform=\"translate(351.859654 239.238437)scale(0.1 -0.1)\">\r\n       <use xlink:href=\"#DejaVuSans-32\"/>\r\n       <use x=\"63.623047\" xlink:href=\"#DejaVuSans-30\"/>\r\n       <use x=\"127.246094\" xlink:href=\"#DejaVuSans-32\"/>\r\n       <use x=\"190.869141\" xlink:href=\"#DejaVuSans-30\"/>\r\n      </g>\r\n     </g>\r\n    </g>\r\n    <g id=\"text_9\">\r\n     <!-- Date -->\r\n     <g transform=\"translate(215.139844 252.916562)scale(0.1 -0.1)\">\r\n      <defs>\r\n       <path d=\"M 1259 4147 \r\nL 1259 519 \r\nL 2022 519 \r\nQ 2988 519 3436 956 \r\nQ 3884 1394 3884 2338 \r\nQ 3884 3275 3436 3711 \r\nQ 2988 4147 2022 4147 \r\nL 1259 4147 \r\nz\r\nM 628 4666 \r\nL 1925 4666 \r\nQ 3281 4666 3915 4102 \r\nQ 4550 3538 4550 2338 \r\nQ 4550 1131 3912 565 \r\nQ 3275 0 1925 0 \r\nL 628 0 \r\nL 628 4666 \r\nz\r\n\" id=\"DejaVuSans-44\" transform=\"scale(0.015625)\"/>\r\n       <path d=\"M 2194 1759 \r\nQ 1497 1759 1228 1600 \r\nQ 959 1441 959 1056 \r\nQ 959 750 1161 570 \r\nQ 1363 391 1709 391 \r\nQ 2188 391 2477 730 \r\nQ 2766 1069 2766 1631 \r\nL 2766 1759 \r\nL 2194 1759 \r\nz\r\nM 3341 1997 \r\nL 3341 0 \r\nL 2766 0 \r\nL 2766 531 \r\nQ 2569 213 2275 61 \r\nQ 1981 -91 1556 -91 \r\nQ 1019 -91 701 211 \r\nQ 384 513 384 1019 \r\nQ 384 1609 779 1909 \r\nQ 1175 2209 1959 2209 \r\nL 2766 2209 \r\nL 2766 2266 \r\nQ 2766 2663 2505 2880 \r\nQ 2244 3097 1772 3097 \r\nQ 1472 3097 1187 3025 \r\nQ 903 2953 641 2809 \r\nL 641 3341 \r\nQ 956 3463 1253 3523 \r\nQ 1550 3584 1831 3584 \r\nQ 2591 3584 2966 3190 \r\nQ 3341 2797 3341 1997 \r\nz\r\n\" id=\"DejaVuSans-61\" transform=\"scale(0.015625)\"/>\r\n       <path d=\"M 1172 4494 \r\nL 1172 3500 \r\nL 2356 3500 \r\nL 2356 3053 \r\nL 1172 3053 \r\nL 1172 1153 \r\nQ 1172 725 1289 603 \r\nQ 1406 481 1766 481 \r\nL 2356 481 \r\nL 2356 0 \r\nL 1766 0 \r\nQ 1100 0 847 248 \r\nQ 594 497 594 1153 \r\nL 594 3053 \r\nL 172 3053 \r\nL 172 3500 \r\nL 594 3500 \r\nL 594 4494 \r\nL 1172 4494 \r\nz\r\n\" id=\"DejaVuSans-74\" transform=\"scale(0.015625)\"/>\r\n       <path d=\"M 3597 1894 \r\nL 3597 1613 \r\nL 953 1613 \r\nQ 991 1019 1311 708 \r\nQ 1631 397 2203 397 \r\nQ 2534 397 2845 478 \r\nQ 3156 559 3463 722 \r\nL 3463 178 \r\nQ 3153 47 2828 -22 \r\nQ 2503 -91 2169 -91 \r\nQ 1331 -91 842 396 \r\nQ 353 884 353 1716 \r\nQ 353 2575 817 3079 \r\nQ 1281 3584 2069 3584 \r\nQ 2775 3584 3186 3129 \r\nQ 3597 2675 3597 1894 \r\nz\r\nM 3022 2063 \r\nQ 3016 2534 2758 2815 \r\nQ 2500 3097 2075 3097 \r\nQ 1594 3097 1305 2825 \r\nQ 1016 2553 972 2059 \r\nL 3022 2063 \r\nz\r\n\" id=\"DejaVuSans-65\" transform=\"scale(0.015625)\"/>\r\n      </defs>\r\n      <use xlink:href=\"#DejaVuSans-44\"/>\r\n      <use x=\"77.001953\" xlink:href=\"#DejaVuSans-61\"/>\r\n      <use x=\"138.28125\" xlink:href=\"#DejaVuSans-74\"/>\r\n      <use x=\"177.490234\" xlink:href=\"#DejaVuSans-65\"/>\r\n     </g>\r\n    </g>\r\n   </g>\r\n   <g id=\"matplotlib.axis_2\">\r\n    <g id=\"ytick_1\">\r\n     <g id=\"line2d_9\">\r\n      <defs>\r\n       <path d=\"M 0 0 \r\nL -3.5 0 \r\n\" id=\"m767add171a\" style=\"stroke:#000000;stroke-width:0.8;\"/>\r\n      </defs>\r\n      <g>\r\n       <use style=\"stroke:#000000;stroke-width:0.8;\" x=\"59.690625\" xlink:href=\"#m767add171a\" y=\"219.739854\"/>\r\n      </g>\r\n     </g>\r\n     <g id=\"text_10\">\r\n      <!-- 0 -->\r\n      <g transform=\"translate(46.328125 223.539073)scale(0.1 -0.1)\">\r\n       <use xlink:href=\"#DejaVuSans-30\"/>\r\n      </g>\r\n     </g>\r\n    </g>\r\n    <g id=\"ytick_2\">\r\n     <g id=\"line2d_10\">\r\n      <g>\r\n       <use style=\"stroke:#000000;stroke-width:0.8;\" x=\"59.690625\" xlink:href=\"#m767add171a\" y=\"185.370954\"/>\r\n      </g>\r\n     </g>\r\n     <g id=\"text_11\">\r\n      <!-- 2000 -->\r\n      <g transform=\"translate(27.240625 189.170173)scale(0.1 -0.1)\">\r\n       <use xlink:href=\"#DejaVuSans-32\"/>\r\n       <use x=\"63.623047\" xlink:href=\"#DejaVuSans-30\"/>\r\n       <use x=\"127.246094\" xlink:href=\"#DejaVuSans-30\"/>\r\n       <use x=\"190.869141\" xlink:href=\"#DejaVuSans-30\"/>\r\n      </g>\r\n     </g>\r\n    </g>\r\n    <g id=\"ytick_3\">\r\n     <g id=\"line2d_11\">\r\n      <g>\r\n       <use style=\"stroke:#000000;stroke-width:0.8;\" x=\"59.690625\" xlink:href=\"#m767add171a\" y=\"151.002054\"/>\r\n      </g>\r\n     </g>\r\n     <g id=\"text_12\">\r\n      <!-- 4000 -->\r\n      <g transform=\"translate(27.240625 154.801273)scale(0.1 -0.1)\">\r\n       <use xlink:href=\"#DejaVuSans-34\"/>\r\n       <use x=\"63.623047\" xlink:href=\"#DejaVuSans-30\"/>\r\n       <use x=\"127.246094\" xlink:href=\"#DejaVuSans-30\"/>\r\n       <use x=\"190.869141\" xlink:href=\"#DejaVuSans-30\"/>\r\n      </g>\r\n     </g>\r\n    </g>\r\n    <g id=\"ytick_4\">\r\n     <g id=\"line2d_12\">\r\n      <g>\r\n       <use style=\"stroke:#000000;stroke-width:0.8;\" x=\"59.690625\" xlink:href=\"#m767add171a\" y=\"116.633155\"/>\r\n      </g>\r\n     </g>\r\n     <g id=\"text_13\">\r\n      <!-- 6000 -->\r\n      <g transform=\"translate(27.240625 120.432373)scale(0.1 -0.1)\">\r\n       <use xlink:href=\"#DejaVuSans-36\"/>\r\n       <use x=\"63.623047\" xlink:href=\"#DejaVuSans-30\"/>\r\n       <use x=\"127.246094\" xlink:href=\"#DejaVuSans-30\"/>\r\n       <use x=\"190.869141\" xlink:href=\"#DejaVuSans-30\"/>\r\n      </g>\r\n     </g>\r\n    </g>\r\n    <g id=\"ytick_5\">\r\n     <g id=\"line2d_13\">\r\n      <g>\r\n       <use style=\"stroke:#000000;stroke-width:0.8;\" x=\"59.690625\" xlink:href=\"#m767add171a\" y=\"82.264255\"/>\r\n      </g>\r\n     </g>\r\n     <g id=\"text_14\">\r\n      <!-- 8000 -->\r\n      <g transform=\"translate(27.240625 86.063474)scale(0.1 -0.1)\">\r\n       <use xlink:href=\"#DejaVuSans-38\"/>\r\n       <use x=\"63.623047\" xlink:href=\"#DejaVuSans-30\"/>\r\n       <use x=\"127.246094\" xlink:href=\"#DejaVuSans-30\"/>\r\n       <use x=\"190.869141\" xlink:href=\"#DejaVuSans-30\"/>\r\n      </g>\r\n     </g>\r\n    </g>\r\n    <g id=\"ytick_6\">\r\n     <g id=\"line2d_14\">\r\n      <g>\r\n       <use style=\"stroke:#000000;stroke-width:0.8;\" x=\"59.690625\" xlink:href=\"#m767add171a\" y=\"47.895355\"/>\r\n      </g>\r\n     </g>\r\n     <g id=\"text_15\">\r\n      <!-- 10000 -->\r\n      <g transform=\"translate(20.878125 51.694574)scale(0.1 -0.1)\">\r\n       <use xlink:href=\"#DejaVuSans-31\"/>\r\n       <use x=\"63.623047\" xlink:href=\"#DejaVuSans-30\"/>\r\n       <use x=\"127.246094\" xlink:href=\"#DejaVuSans-30\"/>\r\n       <use x=\"190.869141\" xlink:href=\"#DejaVuSans-30\"/>\r\n       <use x=\"254.492188\" xlink:href=\"#DejaVuSans-30\"/>\r\n      </g>\r\n     </g>\r\n    </g>\r\n    <g id=\"ytick_7\">\r\n     <g id=\"line2d_15\">\r\n      <g>\r\n       <use style=\"stroke:#000000;stroke-width:0.8;\" x=\"59.690625\" xlink:href=\"#m767add171a\" y=\"13.526455\"/>\r\n      </g>\r\n     </g>\r\n     <g id=\"text_16\">\r\n      <!-- 12000 -->\r\n      <g transform=\"translate(20.878125 17.325674)scale(0.1 -0.1)\">\r\n       <use xlink:href=\"#DejaVuSans-31\"/>\r\n       <use x=\"63.623047\" xlink:href=\"#DejaVuSans-32\"/>\r\n       <use x=\"127.246094\" xlink:href=\"#DejaVuSans-30\"/>\r\n       <use x=\"190.869141\" xlink:href=\"#DejaVuSans-30\"/>\r\n       <use x=\"254.492188\" xlink:href=\"#DejaVuSans-30\"/>\r\n      </g>\r\n     </g>\r\n    </g>\r\n    <g id=\"text_17\">\r\n     <!-- Price -->\r\n     <g transform=\"translate(14.798438 128.117656)rotate(-90)scale(0.1 -0.1)\">\r\n      <defs>\r\n       <path d=\"M 1259 4147 \r\nL 1259 2394 \r\nL 2053 2394 \r\nQ 2494 2394 2734 2622 \r\nQ 2975 2850 2975 3272 \r\nQ 2975 3691 2734 3919 \r\nQ 2494 4147 2053 4147 \r\nL 1259 4147 \r\nz\r\nM 628 4666 \r\nL 2053 4666 \r\nQ 2838 4666 3239 4311 \r\nQ 3641 3956 3641 3272 \r\nQ 3641 2581 3239 2228 \r\nQ 2838 1875 2053 1875 \r\nL 1259 1875 \r\nL 1259 0 \r\nL 628 0 \r\nL 628 4666 \r\nz\r\n\" id=\"DejaVuSans-50\" transform=\"scale(0.015625)\"/>\r\n       <path d=\"M 2631 2963 \r\nQ 2534 3019 2420 3045 \r\nQ 2306 3072 2169 3072 \r\nQ 1681 3072 1420 2755 \r\nQ 1159 2438 1159 1844 \r\nL 1159 0 \r\nL 581 0 \r\nL 581 3500 \r\nL 1159 3500 \r\nL 1159 2956 \r\nQ 1341 3275 1631 3429 \r\nQ 1922 3584 2338 3584 \r\nQ 2397 3584 2469 3576 \r\nQ 2541 3569 2628 3553 \r\nL 2631 2963 \r\nz\r\n\" id=\"DejaVuSans-72\" transform=\"scale(0.015625)\"/>\r\n       <path d=\"M 603 3500 \r\nL 1178 3500 \r\nL 1178 0 \r\nL 603 0 \r\nL 603 3500 \r\nz\r\nM 603 4863 \r\nL 1178 4863 \r\nL 1178 4134 \r\nL 603 4134 \r\nL 603 4863 \r\nz\r\n\" id=\"DejaVuSans-69\" transform=\"scale(0.015625)\"/>\r\n       <path d=\"M 3122 3366 \r\nL 3122 2828 \r\nQ 2878 2963 2633 3030 \r\nQ 2388 3097 2138 3097 \r\nQ 1578 3097 1268 2742 \r\nQ 959 2388 959 1747 \r\nQ 959 1106 1268 751 \r\nQ 1578 397 2138 397 \r\nQ 2388 397 2633 464 \r\nQ 2878 531 3122 666 \r\nL 3122 134 \r\nQ 2881 22 2623 -34 \r\nQ 2366 -91 2075 -91 \r\nQ 1284 -91 818 406 \r\nQ 353 903 353 1747 \r\nQ 353 2603 823 3093 \r\nQ 1294 3584 2113 3584 \r\nQ 2378 3584 2631 3529 \r\nQ 2884 3475 3122 3366 \r\nz\r\n\" id=\"DejaVuSans-63\" transform=\"scale(0.015625)\"/>\r\n      </defs>\r\n      <use xlink:href=\"#DejaVuSans-50\"/>\r\n      <use x=\"58.552734\" xlink:href=\"#DejaVuSans-72\"/>\r\n      <use x=\"99.666016\" xlink:href=\"#DejaVuSans-69\"/>\r\n      <use x=\"127.449219\" xlink:href=\"#DejaVuSans-63\"/>\r\n      <use x=\"182.429688\" xlink:href=\"#DejaVuSans-65\"/>\r\n     </g>\r\n    </g>\r\n   </g>\r\n   <g id=\"line2d_16\">\r\n    <path clip-path=\"url(#p0617a8ab3d)\" d=\"M 74.908807 201.730551 \r\nL 75.083661 201.524337 \r\nL 75.375086 200.64793 \r\nL 75.520798 200.510455 \r\nL 75.870507 199.324728 \r\nL 76.161932 197.21104 \r\nL 76.307644 197.022011 \r\nL 76.482499 196.678322 \r\nL 76.803065 196.145604 \r\nL 77.152775 196.111235 \r\nL 77.356772 196.454924 \r\nL 77.531626 197.262594 \r\nL 77.793908 198.018709 \r\nL 77.823051 197.915603 \r\nL 78.201902 197.846865 \r\nL 78.376757 197.142302 \r\nL 78.551612 196.798613 \r\nL 78.726466 196.145604 \r\nL 78.813894 196.111235 \r\nL 78.843036 196.145604 \r\nL 78.988748 196.179973 \r\nL 79.25103 195.20046 \r\nL 79.804737 193.911626 \r\nL 80.008734 194.375606 \r\nL 80.037876 194.358422 \r\nL 80.241873 194.341237 \r\nL 80.475013 193.550752 \r\nL 80.620725 193.258617 \r\nL 80.883007 192.743083 \r\nL 81.028719 192.657161 \r\nL 81.436713 191.522987 \r\nL 81.494998 191.849492 \r\nL 81.64071 191.935414 \r\nL 81.902992 192.880559 \r\nL 82.660696 195.50978 \r\nL 82.83555 196.179973 \r\nL 82.864693 196.179973 \r\nL 83.010405 196.351818 \r\nL 83.06869 196.43774 \r\nL 83.330972 196.729876 \r\nL 83.622396 196.798613 \r\nL 83.884678 195.458226 \r\nL 84.03039 194.702111 \r\nL 84.088675 194.788033 \r\nL 84.350957 195.526964 \r\nL 84.496669 195.578518 \r\nL 84.525812 195.526964 \r\nL 84.729809 195.269197 \r\nL 84.758951 195.286382 \r\nL 84.846379 195.286382 \r\nL 84.875521 195.406673 \r\nL 84.933806 195.269197 \r\nL 85.050376 195.269197 \r\nL 85.137803 195.423857 \r\nL 85.166945 195.406673 \r\nL 85.691509 196.145604 \r\nL 85.778937 196.695507 \r\nL 86.070361 197.125118 \r\nL 86.099504 197.107934 \r\nL 86.478355 197.142302 \r\nL 86.682352 197.67502 \r\nL 86.944634 198.276476 \r\nL 87.002919 198.207738 \r\nL 87.148631 198.310845 \r\nL 87.323486 198.585796 \r\nL 88.022905 198.895116 \r\nL 88.139474 198.774825 \r\nL 88.314329 198.396767 \r\nL 88.401756 198.396767 \r\nL 89.334314 200.355795 \r\nL 89.771451 200.630746 \r\nL 89.800593 200.579192 \r\nL 90.966291 197.571914 \r\nL 91.694852 193.963179 \r\nL 91.869707 193.945995 \r\nL 92.044561 194.031917 \r\nL 92.102846 194.616188 \r\nL 92.219416 194.684926 \r\nL 92.452555 196.231527 \r\nL 92.714837 197.21104 \r\nL 92.889692 197.125118 \r\nL 93.122831 196.74706 \r\nL 93.443398 195.715993 \r\nL 93.734823 195.062984 \r\nL 94.026247 194.942693 \r\nL 94.346814 193.980364 \r\nL 94.492526 193.842888 \r\nL 94.550811 193.791335 \r\nL 94.667381 193.911626 \r\nL 94.929663 195.080168 \r\nL 94.958805 194.959877 \r\nL 95.075375 194.667742 \r\nL 95.366799 193.327355 \r\nL 95.512511 192.794637 \r\nL 95.774793 191.282405 \r\nL 95.920506 190.64658 \r\nL 96.124503 188.842213 \r\nL 96.386785 187.8627 \r\nL 96.561639 187.536195 \r\nL 96.590782 187.587748 \r\nL 96.678209 187.604933 \r\nL 96.940491 188.292311 \r\nL 96.998776 188.257942 \r\nL 97.144488 188.223573 \r\nL 97.40677 186.986293 \r\nL 97.52334 186.762895 \r\nL 97.814764 184.906974 \r\nL 97.931334 184.632023 \r\nL 97.960476 184.700761 \r\nL 98.164473 185.594352 \r\nL 98.36847 185.852119 \r\nL 98.572468 186.041148 \r\nL 98.776465 185.04445 \r\nL 98.951319 184.150858 \r\nL 99.009604 184.168043 \r\nL 99.388456 185.955226 \r\nL 99.534168 186.092701 \r\nL 99.56331 186.109886 \r\nL 99.767308 185.645905 \r\nL 99.79645 185.697459 \r\nL 99.825592 185.66309 \r\nL 100.058732 184.906974 \r\nL 100.204444 184.614839 \r\nL 100.437584 183.46348 \r\nL 100.583296 181.659113 \r\nL 100.758151 180.559308 \r\nL 100.816435 180.301542 \r\nL 100.87472 180.404648 \r\nL 100.962148 180.542124 \r\nL 101.166145 181.985618 \r\nL 101.22443 182.002802 \r\nL 101.253572 181.951249 \r\nL 101.982133 179.322028 \r\nL 102.06956 179.425135 \r\nL 102.244415 179.734455 \r\nL 102.506697 181.796589 \r\nL 102.652409 182.655811 \r\nL 102.914691 184.42581 \r\nL 103.2644 185.66309 \r\nL 103.293543 185.542799 \r\nL 103.410112 185.405323 \r\nL 103.468397 185.456877 \r\nL 103.49754 185.388139 \r\nL 103.61411 185.250663 \r\nL 103.643252 185.336585 \r\nL 103.701537 185.559983 \r\nL 103.934676 186.453575 \r\nL 104.080389 186.316099 \r\nL 104.226101 186.058332 \r\nL 104.284386 185.97241 \r\nL 104.954662 183.927461 \r\nL 105.042089 183.893092 \r\nL 105.158659 183.532218 \r\nL 105.333513 183.30882 \r\nL 105.362656 183.274451 \r\nL 105.479226 183.343189 \r\nL 105.77065 184.546101 \r\nL 105.88722 184.906974 \r\nL 106.062074 185.388139 \r\nL 106.120359 185.542799 \r\nL 106.761493 189.495222 \r\nL 107.19863 192.949297 \r\nL 107.373484 193.31017 \r\nL 107.490054 193.224248 \r\nL 107.577481 192.22755 \r\nL 107.810621 189.701436 \r\nL 107.898048 189.615513 \r\nL 108.218615 191.660463 \r\nL 108.422612 192.141628 \r\nL 108.539182 191.969783 \r\nL 108.626609 191.488618 \r\nL 109.209458 192.433763 \r\nL 109.530025 193.224248 \r\nL 109.996304 193.911626 \r\nL 110.258586 194.770848 \r\nL 110.55001 195.131722 \r\nL 111.016289 196.5924 \r\nL 111.045432 196.575216 \r\nL 111.365998 196.111235 \r\nL 111.482568 195.303566 \r\nL 111.62828 195.166091 \r\nL 111.773993 194.839586 \r\nL 111.832277 194.753664 \r\nL 111.86142 194.684926 \r\nL 112.094559 194.822402 \r\nL 112.298556 194.856771 \r\nL 112.589981 194.599004 \r\nL 112.648266 194.719295 \r\nL 113.027117 195.028615 \r\nL 114.513382 199.754339 \r\nL 114.892234 200.716668 \r\nL 115.096231 200.940066 \r\nL 115.300228 201.421231 \r\nL 115.44594 201.507153 \r\nL 115.679079 201.386862 \r\nL 115.883077 200.682299 \r\nL 115.970504 200.510455 \r\nL 116.116216 200.562008 \r\nL 116.786492 202.53822 \r\nL 116.961347 202.658511 \r\nL 116.990489 202.589773 \r\nL 117.107059 202.503851 \r\nL 117.60248 200.063659 \r\nL 118.127044 196.403371 \r\nL 118.360184 193.585121 \r\nL 118.418469 193.705413 \r\nL 118.535038 194.169393 \r\nL 118.768178 195.20046 \r\nL 118.826463 195.286382 \r\nL 118.943033 195.097353 \r\nL 119.409312 193.567937 \r\nL 119.438454 193.602306 \r\nL 119.525881 193.567937 \r\nL 119.555024 193.671044 \r\nL 119.99216 193.791335 \r\nL 120.021303 193.877257 \r\nL 120.050445 193.842888 \r\nL 120.167015 193.77415 \r\nL 120.196158 193.860073 \r\nL 120.633294 196.351818 \r\nL 120.662437 196.248711 \r\nL 120.808149 195.905022 \r\nL 120.983003 195.097353 \r\nL 121.245285 194.513082 \r\nL 121.565852 195.166091 \r\nL 121.624137 195.441042 \r\nL 121.65328 195.35512 \r\nL 121.886419 194.39279 \r\nL 122.032131 194.08347 \r\nL 122.177843 193.516384 \r\nL 122.206986 193.550752 \r\nL 122.265271 193.739781 \r\nL 122.410983 193.860073 \r\nL 122.673265 195.097353 \r\nL 122.877262 196.351818 \r\nL 123.110401 197.846865 \r\nL 123.285256 198.121816 \r\nL 123.314399 198.087447 \r\nL 123.489253 197.881234 \r\nL 123.722393 197.692205 \r\nL 124.101244 197.657836 \r\nL 124.276099 198.139001 \r\nL 124.421811 198.345214 \r\nL 124.713236 197.640652 \r\nL 124.742378 197.692205 \r\nL 124.858948 197.726574 \r\nL 125.150372 196.661138 \r\nL 125.296084 196.351818 \r\nL 125.441797 196.162789 \r\nL 125.704079 196.695507 \r\nL 125.908076 197.692205 \r\nL 125.966361 197.760943 \r\nL 126.141215 197.67502 \r\nL 126.257785 197.726574 \r\nL 126.345212 197.623467 \r\nL 126.461782 197.537545 \r\nL 126.549209 197.382885 \r\nL 126.898919 196.815798 \r\nL 126.957203 196.850167 \r\nL 127.190343 197.52036 \r\nL 127.39434 197.692205 \r\nL 127.51091 197.726574 \r\nL 127.598337 197.795312 \r\nL 127.889762 197.623467 \r\nL 127.977189 197.107934 \r\nL 128.152043 196.351818 \r\nL 128.181186 196.386187 \r\nL 128.356041 196.884536 \r\nL 128.385183 196.815798 \r\nL 128.530895 196.867351 \r\nL 128.997174 198.173369 \r\nL 129.230314 199.462203 \r\nL 129.376026 199.668417 \r\nL 129.405168 199.616863 \r\nL 129.754878 198.757641 \r\nL 129.929732 197.589098 \r\nL 129.988017 197.812496 \r\nL 130.162872 198.499874 \r\nL 130.192014 198.585796 \r\nL 130.745721 198.757641 \r\nL 131.008003 200.304241 \r\nL 131.270284 201.885211 \r\nL 131.386854 202.280453 \r\nL 131.561709 203.672393 \r\nL 131.678279 203.655209 \r\nL 131.794848 203.431811 \r\nL 132.086273 201.180648 \r\nL 132.377697 200.751037 \r\nL 132.40684 200.80259 \r\nL 132.785691 202.125793 \r\nL 133.018831 203.139675 \r\nL 133.193685 203.380258 \r\nL 133.718249 202.366375 \r\nL 133.863962 202.435113 \r\nL 134.038816 202.589773 \r\nL 134.126244 202.486666 \r\nL 134.242813 202.675695 \r\nL 134.330241 202.84754 \r\nL 134.44681 202.864724 \r\nL 134.738235 203.483364 \r\nL 134.825662 203.569287 \r\nL 135.058802 204.445694 \r\nL 135.117086 204.497247 \r\nL 135.146229 204.376956 \r\nL 135.291941 204.08482 \r\nL 135.350226 204.205111 \r\nL 135.466796 204.342587 \r\nL 135.75822 205.339285 \r\nL 135.962217 205.270547 \r\nL 136.311926 205.236178 \r\nL 136.574208 205.562683 \r\nL 136.690778 205.734527 \r\nL 136.923918 206.335983 \r\nL 137.098772 206.250061 \r\nL 137.390197 205.700159 \r\nL 137.535909 205.700159 \r\nL 137.798191 205.047149 \r\nL 137.914761 204.840936 \r\nL 138.789034 202.417929 \r\nL 138.818176 202.469482 \r\nL 138.934746 202.572589 \r\nL 139.197028 203.345889 \r\nL 139.22617 203.328704 \r\nL 139.750734 203.139675 \r\nL 139.983874 203.328704 \r\nL 140.829005 206.095401 \r\nL 141.033002 206.095401 \r\nL 141.178714 206.353168 \r\nL 141.236999 206.12977 \r\nL 141.266141 206.146954 \r\nL 141.586708 206.387537 \r\nL 141.761563 205.167441 \r\nL 141.819848 205.253363 \r\nL 142.052987 206.095401 \r\nL 142.082129 205.992294 \r\nL 142.256984 205.872003 \r\nL 142.606693 204.686276 \r\nL 142.81069 202.916278 \r\nL 142.839833 202.985015 \r\nL 142.898118 203.31152 \r\nL 142.985545 203.277151 \r\nL 143.218685 202.53822 \r\nL 143.247827 202.641326 \r\nL 143.510109 203.448996 \r\nL 143.626679 203.964529 \r\nL 143.684964 204.428509 \r\nL 143.859818 204.737829 \r\nL 144.00553 204.995596 \r\nL 144.034673 205.029965 \r\nL 144.442667 202.641326 \r\nL 144.530094 200.991619 \r\nL 144.704949 200.768221 \r\nL 144.821519 200.407348 \r\nL 144.908946 200.888513 \r\nL 145.142086 202.091424 \r\nL 145.258655 202.263269 \r\nL 145.491795 203.036569 \r\nL 145.754077 202.091424 \r\nL 145.841504 202.160162 \r\nL 146.074644 203.328704 \r\nL 146.103786 203.122491 \r\nL 146.162071 202.830355 \r\nL 146.249498 202.864724 \r\nL 146.482638 203.46618 \r\nL 146.657492 202.795987 \r\nL 146.686635 202.830355 \r\nL 146.86149 202.761618 \r\nL 146.978059 203.019384 \r\nL 147.094629 202.916278 \r\nL 147.386053 201.988317 \r\nL 147.794048 201.438415 \r\nL 147.910617 201.644628 \r\nL 147.998045 201.850842 \r\nL 148.202042 201.885211 \r\nL 148.318611 201.678997 \r\nL 148.726606 199.032592 \r\nL 148.784891 198.895116 \r\nL 148.814033 198.912301 \r\nL 148.959745 198.723272 \r\nL 149.1346 197.967156 \r\nL 149.338597 197.262594 \r\nL 149.600879 195.578518 \r\nL 149.746591 195.853469 \r\nL 150.038015 197.468807 \r\nL 150.125443 197.451623 \r\nL 150.21287 196.970458 \r\nL 150.387725 196.558031 \r\nL 150.737434 196.454924 \r\nL 150.941431 196.695507 \r\nL 151.145428 196.369002 \r\nL 151.174571 196.403371 \r\nL 151.465995 197.073565 \r\nL 151.786562 197.05638 \r\nL 152.165413 195.578518 \r\nL 152.223698 195.681624 \r\nL 152.777405 197.812496 \r\nL 152.806547 197.795312 \r\nL 153.301969 193.77415 \r\nL 153.418538 193.430461 \r\nL 153.709963 191.471434 \r\nL 153.79739 191.402696 \r\nL 153.826533 191.471434 \r\nL 154.088814 191.952599 \r\nL 154.234527 191.780754 \r\nL 154.467666 190.887163 \r\nL 154.613378 190.766872 \r\nL 154.642521 190.80124 \r\nL 155.429367 192.124443 \r\nL 155.458509 192.090074 \r\nL 155.633364 191.986968 \r\nL 156.30364 192.949297 \r\nL 156.711634 192.038521 \r\nL 156.857346 191.797939 \r\nL 157.061343 192.021336 \r\nL 157.26534 192.244734 \r\nL 157.294483 192.22755 \r\nL 157.673335 191.746385 \r\nL 157.789904 191.660463 \r\nL 158.081329 191.368327 \r\nL 158.314468 191.660463 \r\nL 158.518465 191.780754 \r\nL 158.780747 191.351143 \r\nL 159.013887 190.595027 \r\nL 159.305311 190.199785 \r\nL 159.509308 189.838911 \r\nL 159.77159 190.079494 \r\nL 159.917302 190.199785 \r\nL 160.121299 190.113862 \r\nL 160.587578 189.512407 \r\nL 160.733291 189.478038 \r\nL 160.937288 189.804542 \r\nL 161.141285 190.388814 \r\nL 161.257855 190.680949 \r\nL 161.374424 190.818425 \r\nL 161.782418 192.279103 \r\nL 161.840703 192.571239 \r\nL 161.869846 192.554054 \r\nL 162.015558 192.38221 \r\nL 162.073843 192.279103 \r\nL 162.39441 192.261919 \r\nL 162.569264 192.399394 \r\nL 162.627549 192.38221 \r\nL 162.889831 192.829006 \r\nL 163.006401 193.069588 \r\nL 163.297825 194.169393 \r\nL 163.414395 194.444344 \r\nL 163.58925 194.908324 \r\nL 163.647535 194.89114 \r\nL 164.084671 193.31017 \r\nL 164.113814 193.327355 \r\nL 164.201241 193.327355 \r\nL 164.43438 194.08347 \r\nL 164.638378 193.825704 \r\nL 164.725805 193.92881 \r\nL 164.842375 194.203762 \r\nL 165.046372 195.269197 \r\nL 165.104657 195.269197 \r\nL 165.133799 195.217644 \r\nL 165.483508 195.131722 \r\nL 165.687505 194.616188 \r\nL 165.74579 194.633373 \r\nL 166.066357 194.650557 \r\nL 166.241212 194.289684 \r\nL 166.270354 194.324053 \r\nL 166.969773 196.43774 \r\nL 167.086342 196.403371 \r\nL 167.290339 195.905022 \r\nL 167.465194 195.801915 \r\nL 167.552621 195.836284 \r\nL 167.873188 197.05638 \r\nL 168.281182 200.18395 \r\nL 168.36861 200.80259 \r\nL 168.601749 202.194531 \r\nL 168.747461 202.53822 \r\nL 168.951459 203.191229 \r\nL 169.097171 202.916278 \r\nL 169.126313 202.967831 \r\nL 169.388595 203.603656 \r\nL 169.592592 204.308218 \r\nL 169.738304 204.136374 \r\nL 170.029729 202.641326 \r\nL 170.146299 202.710064 \r\nL 170.583435 204.480063 \r\nL 170.612578 204.462878 \r\nL 170.845717 204.136374 \r\nL 170.962287 204.222296 \r\nL 171.341139 205.184625 \r\nL 171.428566 205.236178 \r\nL 171.457708 205.201809 \r\nL 172.419409 204.737829 \r\nL 172.681691 204.806567 \r\nL 172.885688 204.686276 \r\nL 173.060542 204.462878 \r\nL 173.468537 203.088122 \r\nL 173.905673 204.136374 \r\nL 174.080528 204.016082 \r\nL 174.313667 203.328704 \r\nL 174.45938 202.933462 \r\nL 174.663377 202.057055 \r\nL 175.100513 201.404046 \r\nL 175.246225 201.249386 \r\nL 175.42108 201.077542 \r\nL 175.450223 201.11191 \r\nL 175.508507 201.146279 \r\nL 175.829074 201.077542 \r\nL 176.033071 200.768221 \r\nL 176.091356 200.871328 \r\nL 176.441065 201.988317 \r\nL 176.557635 202.280453 \r\nL 176.703347 202.125793 \r\nL 176.84906 201.868026 \r\nL 176.878202 201.850842 \r\nL 176.907344 201.902395 \r\nL 177.082199 202.022686 \r\nL 177.169626 201.953948 \r\nL 177.344481 201.76492 \r\nL 177.373624 201.833657 \r\nL 177.548478 202.297637 \r\nL 177.752475 202.933462 \r\nL 177.92733 202.830355 \r\nL 178.160469 202.452298 \r\nL 178.189612 202.469482 \r\nL 178.685033 202.521035 \r\nL 179.0056 203.208413 \r\nL 179.355309 203.036569 \r\nL 179.617591 202.332006 \r\nL 179.821588 202.194531 \r\nL 179.996443 202.039871 \r\nL 180.31701 200.80259 \r\nL 180.521007 199.359097 \r\nL 180.783289 197.657836 \r\nL 180.958144 196.179973 \r\nL 181.162141 196.575216 \r\nL 181.39528 196.815798 \r\nL 181.424423 196.661138 \r\nL 181.62842 195.939391 \r\nL 181.861559 195.20046 \r\nL 181.978129 195.080168 \r\nL 182.065556 194.89114 \r\nL 182.415266 194.873955 \r\nL 182.560978 194.495897 \r\nL 182.852402 192.210365 \r\nL 183.289539 189.890465 \r\nL 183.406108 189.87328 \r\nL 183.78496 189.804542 \r\nL 183.988957 189.495222 \r\nL 184.280382 190.869978 \r\nL 184.513521 193.447646 \r\nL 184.600948 193.447646 \r\nL 185.242082 189.357747 \r\nL 185.271225 189.374931 \r\nL 185.504364 189.701436 \r\nL 185.708361 188.773475 \r\nL 185.941501 186.487944 \r\nL 186.05807 186.402021 \r\nL 186.087213 186.470759 \r\nL 186.116355 186.522312 \r\nL 186.145498 186.43639 \r\nL 186.262067 186.350468 \r\nL 186.553492 184.185227 \r\nL 187.340338 182.054355 \r\nL 187.660905 179.614164 \r\nL 187.690047 179.579795 \r\nL 187.894044 181.624744 \r\nL 188.068899 183.377558 \r\nL 188.185468 182.982316 \r\nL 188.302038 183.136976 \r\nL 188.360323 183.051054 \r\nL 188.535178 182.724549 \r\nL 188.68089 182.913578 \r\nL 188.79746 183.188529 \r\nL 188.943172 183.188529 \r\nL 189.147169 182.483967 \r\nL 189.322024 181.281055 \r\nL 189.351166 181.246686 \r\nL 189.380309 181.315424 \r\nL 189.526021 181.60756 \r\nL 189.613448 181.830958 \r\nL 189.730018 181.985618 \r\nL 189.817445 182.346491 \r\nL 189.904872 182.260569 \r\nL 190.225439 179.476688 \r\nL 190.342009 179.528241 \r\nL 190.633433 180.817075 \r\nL 190.720861 180.868628 \r\nL 190.750003 180.817075 \r\nL 191.18714 178.359699 \r\nL 191.391137 174.974362 \r\nL 191.973986 145.863904 \r\nL 192.003128 146.087302 \r\nL 192.03227 145.777982 \r\nL 192.236268 142.152063 \r\nL 192.26541 142.117694 \r\nL 192.440265 141.378763 \r\nL 192.469407 141.464685 \r\nL 192.556834 141.413131 \r\nL 192.993971 150.555259 \r\nL 193.052256 149.696036 \r\nL 193.285395 143.836139 \r\nL 193.46025 142.530121 \r\nL 193.780817 139.694686 \r\nL 194.043099 137.85595 \r\nL 194.392808 137.993426 \r\nL 194.421951 137.873135 \r\nL 194.480235 135.518865 \r\nL 194.684232 125.483146 \r\nL 194.713375 125.345671 \r\nL 194.800802 125.551884 \r\nL 195.004799 129.315279 \r\nL 195.063084 127.974892 \r\nL 195.237939 122.40713 \r\nL 195.267081 122.114994 \r\nL 195.296224 122.596159 \r\nL 195.529363 129.658968 \r\nL 195.616791 129.521492 \r\nL 195.820788 124.606739 \r\nL 195.84993 125.431593 \r\nL 196.053927 131.239937 \r\nL 196.08307 131.9445 \r\nL 196.112212 131.497704 \r\nL 196.287067 127.253145 \r\nL 196.316209 127.218776 \r\nL 197.132197 141.275656 \r\nL 197.27791 141.516238 \r\nL 197.481907 140.004007 \r\nL 197.540192 141.636529 \r\nL 197.773331 151.723801 \r\nL 197.919043 152.565839 \r\nL 197.977328 152.308073 \r\nL 198.064755 152.239335 \r\nL 198.152183 155.34972 \r\nL 198.35618 162.206316 \r\nL 198.589319 163.271752 \r\nL 198.705889 163.34049 \r\nL 198.880744 165.883788 \r\nL 199.172168 173.032519 \r\nL 199.31788 174.682226 \r\nL 199.347023 174.510382 \r\nL 199.725874 161.312724 \r\nL 199.929872 149.524192 \r\nL 199.959014 149.833512 \r\nL 200.221296 154.456129 \r\nL 200.337866 153.889042 \r\nL 200.571005 147.479242 \r\nL 200.62929 148.78526 \r\nL 200.74586 149.489823 \r\nL 200.775002 149.317978 \r\nL 201.008142 147.685456 \r\nL 201.124712 147.462058 \r\nL 201.212139 146.998078 \r\nL 201.241281 147.135553 \r\nL 201.357851 147.805747 \r\nL 201.532706 150.761472 \r\nL 201.561848 150.692734 \r\nL 201.794988 147.427689 \r\nL 201.9407 146.998078 \r\nL 201.969842 147.066815 \r\nL 201.998985 147.187107 \r\nL 202.173839 149.180503 \r\nL 202.202982 149.283609 \r\nL 202.232124 149.197687 \r\nL 202.377836 148.304096 \r\nL 203.164682 134.900225 \r\nL 203.572676 131.205568 \r\nL 203.834958 123.060139 \r\nL 204.068098 114.330438 \r\nL 204.184668 113.058789 \r\nL 204.21381 113.196265 \r\nL 204.417807 124.348973 \r\nL 204.650947 138.646435 \r\nL 204.709232 140.725753 \r\nL 205.058941 144.214197 \r\nL 205.088083 144.042352 \r\nL 205.262938 137.666921 \r\nL 205.29208 137.70129 \r\nL 205.612647 145.984195 \r\nL 205.64179 145.726428 \r\nL 205.816644 142.616043 \r\nL 205.845787 142.925363 \r\nL 206.049784 147.994776 \r\nL 206.48692 135.879739 \r\nL 206.516063 136.670223 \r\nL 206.72006 140.36488 \r\nL 206.924057 137.409155 \r\nL 206.953199 137.804397 \r\nL 207.040627 138.268377 \r\nL 207.128054 141.120996 \r\nL 207.157196 140.261773 \r\nL 207.332051 139.230706 \r\nL 207.477763 139.454104 \r\nL 207.565191 140.227404 \r\nL 207.652618 140.158667 \r\nL 207.973185 136.653039 \r\nL 208.060612 137.08265 \r\nL 208.497749 154.181178 \r\nL 208.526891 153.837489 \r\nL 208.672603 150.589628 \r\nL 208.701746 150.727103 \r\nL 208.964028 158.580397 \r\nL 209.896586 176.469409 \r\nL 209.925728 176.606885 \r\nL 210.100583 174.699411 \r\nL 210.18801 176.417856 \r\nL 210.42115 179.09863 \r\nL 210.566862 179.56261 \r\nL 210.800001 183.085422 \r\nL 211.003998 187.931437 \r\nL 211.178853 189.71862 \r\nL 211.38285 186.075517 \r\nL 211.645132 177.156787 \r\nL 211.790844 174.476013 \r\nL 211.849129 174.630673 \r\nL 211.994841 175.19776 \r\nL 212.169696 178.187854 \r\nL 212.46112 169.062911 \r\nL 212.57769 167.997475 \r\nL 212.635975 166.93204 \r\nL 212.665118 167.000777 \r\nL 212.752545 167.189806 \r\nL 212.869115 169.784658 \r\nL 212.985684 168.513009 \r\nL 213.277109 161.828258 \r\nL 213.364536 161.982918 \r\nL 213.568533 166.193108 \r\nL 213.597676 166.038448 \r\nL 213.65596 165.626021 \r\nL 213.685103 165.780681 \r\nL 213.801673 166.794564 \r\nL 213.976527 169.131649 \r\nL 214.00567 169.303494 \r\nL 214.034812 169.114465 \r\nL 214.180524 167.361651 \r\nL 214.267952 169.303494 \r\nL 214.501091 172.362326 \r\nL 214.588519 172.671646 \r\nL 214.617661 172.602908 \r\nL 214.675946 172.104559 \r\nL 214.705088 172.190481 \r\nL 214.792516 172.242035 \r\nL 215.31708 178.376883 \r\nL 215.637646 177.844165 \r\nL 215.725074 176.830283 \r\nL 215.812501 176.89902 \r\nL 216.074783 181.693482 \r\nL 216.27878 184.803867 \r\nL 216.424492 184.185227 \r\nL 216.686774 181.538822 \r\nL 216.890771 177.053681 \r\nL 217.036483 171.657763 \r\nL 217.065626 171.76087 \r\nL 217.153053 174.682226 \r\nL 217.269623 173.685528 \r\nL 217.298765 173.204364 \r\nL 217.35705 173.651159 \r\nL 217.47362 173.908926 \r\nL 217.561047 173.273102 \r\nL 217.648475 173.393393 \r\nL 217.852472 176.89902 \r\nL 217.910757 176.331934 \r\nL 218.056469 175.593002 \r\nL 218.173039 176.847467 \r\nL 218.377036 176.538147 \r\nL 218.493605 176.520963 \r\nL 218.55189 176.727176 \r\nL 218.697602 176.864652 \r\nL 218.989027 179.047077 \r\nL 219.134739 179.09863 \r\nL 219.338736 177.809796 \r\nL 219.484448 176.761545 \r\nL 219.513591 176.74436 \r\nL 219.805015 177.947272 \r\nL 219.921585 178.222223 \r\nL 220.417006 172.912228 \r\nL 220.533576 172.84349 \r\nL 220.591861 172.07019 \r\nL 220.825001 168.805145 \r\nL 220.912428 168.47864 \r\nL 220.94157 168.78796 \r\nL 221.116425 170.52359 \r\nL 221.145567 170.781356 \r\nL 221.17471 170.506405 \r\nL 221.524419 164.715246 \r\nL 221.757559 162.395345 \r\nL 221.932413 156.947874 \r\nL 222.194695 153.734382 \r\nL 222.223838 154.232731 \r\nL 222.398692 157.308748 \r\nL 222.456977 156.329234 \r\nL 222.602689 154.524867 \r\nL 222.748402 153.02982 \r\nL 222.835829 152.926713 \r\nL 223.010683 148.78526 \r\nL 223.156396 146.207593 \r\nL 223.185538 146.276331 \r\nL 223.44782 152.531471 \r\nL 223.56439 151.75817 \r\nL 223.593532 151.689432 \r\nL 223.651817 152.187782 \r\nL 223.68096 151.620695 \r\nL 223.855814 148.836814 \r\nL 223.972384 147.874485 \r\nL 224.263808 151.775355 \r\nL 224.292951 151.311375 \r\nL 224.409521 150.36623 \r\nL 224.613518 146.843418 \r\nL 224.64266 146.602835 \r\nL 224.671803 146.791864 \r\nL 224.8758 148.922736 \r\nL 225.196366 147.427689 \r\nL 225.429506 144.007983 \r\nL 225.633503 146.362253 \r\nL 225.808358 145.434293 \r\nL 225.895785 144.781284 \r\nL 225.924927 144.179828 \r\nL 226.245494 143.767401 \r\nL 226.507776 139.883715 \r\nL 226.536919 139.969638 \r\nL 226.624346 140.193035 \r\nL 226.828343 145.159342 \r\nL 226.91577 144.386041 \r\nL 226.944913 144.695361 \r\nL 227.03234 145.107788 \r\nL 227.119767 147.23866 \r\nL 227.14891 146.826233 \r\nL 227.26548 146.00138 \r\nL 227.440334 145.021866 \r\nL 227.498619 144.712546 \r\nL 227.556904 144.901575 \r\nL 227.673474 144.832837 \r\nL 228.285465 132.631878 \r\nL 228.46032 131.703917 \r\nL 228.693459 127.562465 \r\nL 228.751744 127.717125 \r\nL 228.955741 124.675477 \r\nL 229.276308 124.159944 \r\nL 229.480305 117.973542 \r\nL 229.596875 112.680731 \r\nL 229.771729 111.890246 \r\nL 230.121439 104.810253 \r\nL 230.937427 124.572371 \r\nL 231.024854 129.384017 \r\nL 231.112282 129.452754 \r\nL 231.170567 126.290816 \r\nL 231.345421 114.828787 \r\nL 231.520276 111.409082 \r\nL 231.578561 111.598111 \r\nL 231.636846 113.17908 \r\nL 231.724273 112.852576 \r\nL 231.840843 104.500933 \r\nL 231.957412 105.68666 \r\nL 232.015697 106.889572 \r\nL 232.04484 106.3053 \r\nL 232.161409 104.260351 \r\nL 232.394549 99.568996 \r\nL 232.452834 99.328414 \r\nL 232.569404 100.032976 \r\nL 232.598546 100.875014 \r\nL 232.627688 100.54851 \r\nL 232.831686 93.966865 \r\nL 232.860828 94.069972 \r\nL 232.948255 94.482399 \r\nL 233.00654 95.822786 \r\nL 233.064825 94.688612 \r\nL 233.210537 91.303276 \r\nL 233.560247 74.067272 \r\nL 233.589389 74.221932 \r\nL 233.764244 77.177658 \r\nL 233.793386 76.885522 \r\nL 234.20138 55.353406 \r\nL 234.230523 55.439329 \r\nL 234.259665 56.264182 \r\nL 234.288808 55.886124 \r\nL 234.405377 50.301178 \r\nL 234.580232 34.903911 \r\nL 234.638517 35.453813 \r\nL 234.667659 35.316338 \r\nL 234.900799 30.281294 \r\nL 234.988226 30.143818 \r\nL 235.192223 38.632937 \r\nL 235.425363 30.040712 \r\nL 235.454505 30.796827 \r\nL 235.687645 42.258855 \r\nL 235.833357 49.665353 \r\nL 235.862499 49.235742 \r\nL 236.008211 43.255554 \r\nL 236.037354 42.997787 \r\nL 236.241351 49.115451 \r\nL 236.270493 48.99516 \r\nL 236.299636 48.771762 \r\nL 236.328778 49.30448 \r\nL 236.445348 52.174283 \r\nL 236.620203 62.622429 \r\nL 236.882485 66.95291 \r\nL 236.940769 70.200771 \r\nL 237.028197 69.685238 \r\nL 237.057339 69.719606 \r\nL 237.115624 76.541833 \r\nL 237.348764 108.693939 \r\nL 237.436191 107.817532 \r\nL 237.494476 112.40578 \r\nL 237.640188 121.925965 \r\nL 237.66933 123.249168 \r\nL 237.756758 114.330438 \r\nL 237.844185 114.553836 \r\nL 237.90247 116.598786 \r\nL 237.931612 114.313254 \r\nL 238.164752 93.348225 \r\nL 238.252179 92.901429 \r\nL 238.339607 99.483074 \r\nL 238.368749 96.235213 \r\nL 238.543604 93.743467 \r\nL 238.776743 73.05339 \r\nL 238.86417 71.541158 \r\nL 238.893313 72.640963 \r\nL 239.068168 83.759302 \r\nL 239.126452 85.68396 \r\nL 239.155595 87.694541 \r\nL 239.301307 88.81153 \r\nL 239.359592 84.257651 \r\nL 239.476162 80.872314 \r\nL 239.534447 88.19289 \r\nL 239.592731 86.783765 \r\nL 239.680159 86.715027 \r\nL 239.767586 85.305902 \r\nL 239.884156 82.934448 \r\nL 239.913298 83.003186 \r\nL 239.942441 82.831342 \r\nL 240.117295 72.812807 \r\nL 240.29215 59.168354 \r\nL 240.321292 60.38845 \r\nL 240.350435 58.962141 \r\nL 240.758429 36.742647 \r\nL 240.933284 17.083636 \r\nL 240.962426 17.461694 \r\nL 241.166423 26.500715 \r\nL 241.399563 18.870819 \r\nL 241.574417 28.906538 \r\nL 241.72013 57.87952 \r\nL 241.749272 57.982627 \r\nL 241.807557 56.934376 \r\nL 241.836699 57.72486 \r\nL 241.953269 62.691166 \r\nL 241.982411 60.886799 \r\nL 242.040696 54.786319 \r\nL 242.128124 54.958164 \r\nL 242.244693 67.588735 \r\nL 242.332121 65.698445 \r\nL 242.419548 59.701072 \r\nL 242.448691 61.127381 \r\nL 242.594403 63.498836 \r\nL 242.827542 69.015044 \r\nL 243.031539 76.404357 \r\nL 243.206394 84.515418 \r\nL 243.381249 99.58618 \r\nL 243.556103 88.759977 \r\nL 243.585246 90.117548 \r\nL 243.672673 96.922591 \r\nL 243.789243 97.472493 \r\nL 243.99324 108.625201 \r\nL 244.226379 133.370809 \r\nL 244.372092 138.16527 \r\nL 244.401234 137.941873 \r\nL 244.488661 134.247216 \r\nL 244.576089 134.694012 \r\nL 245.275507 193.860073 \r\nL 245.508647 200.80259 \r\nL 245.625216 202.864724 \r\nL 245.800071 205.528314 \r\nL 245.829213 205.734527 \r\nL 245.858356 205.545498 \r\nL 245.887498 205.322101 \r\nL 245.916641 205.493945 \r\nL 246.033211 205.682974 \r\nL 246.062353 205.579867 \r\nL 246.237208 204.875305 \r\nL 246.441205 205.923556 \r\nL 246.616059 207.710739 \r\nL 246.732629 208.346564 \r\nL 246.849199 208.071613 \r\nL 246.907484 207.52171 \r\nL 247.082338 205.373654 \r\nL 247.286335 206.43909 \r\nL 247.665187 206.421905 \r\nL 247.723472 205.631421 \r\nL 247.869184 204.08482 \r\nL 247.898327 203.93016 \r\nL 247.927469 204.136374 \r\nL 248.044039 204.823752 \r\nL 248.073181 204.755014 \r\nL 248.364606 201.352493 \r\nL 248.452033 200.854144 \r\nL 248.510318 197.125118 \r\nL 248.714315 184.42581 \r\nL 248.860027 188.01736 \r\nL 248.88917 187.175322 \r\nL 248.976597 183.669694 \r\nL 249.064024 183.927461 \r\nL 249.151452 186.230177 \r\nL 249.180594 185.611537 \r\nL 249.297164 184.786683 \r\nL 249.501161 180.249988 \r\nL 249.530303 180.713968 \r\nL 249.792585 189.117164 \r\nL 249.909155 189.529591 \r\nL 250.171437 193.31017 \r\nL 250.346292 194.599004 \r\nL 250.375434 194.341237 \r\nL 250.521146 194.100655 \r\nL 250.783428 187.140953 \r\nL 250.812571 187.553379 \r\nL 250.92914 188.979689 \r\nL 250.958283 189.289009 \r\nL 250.987425 189.048427 \r\nL 251.133137 187.140953 \r\nL 251.220565 181.693482 \r\nL 251.307992 181.676298 \r\nL 251.395419 177.947272 \r\nL 251.541132 174.304169 \r\nL 251.628559 171.863977 \r\nL 251.745129 169.183202 \r\nL 251.978268 146.00138 \r\nL 252.182265 160.419133 \r\nL 252.24055 158.16797 \r\nL 252.415405 149.74759 \r\nL 252.531975 150.503705 \r\nL 252.648544 156.105836 \r\nL 252.765114 155.177876 \r\nL 252.794256 155.435643 \r\nL 253.143966 168.616116 \r\nL 253.173108 166.519613 \r\nL 253.260536 158.872533 \r\nL 253.347963 159.40525 \r\nL 253.464533 162.257869 \r\nL 253.610245 159.611464 \r\nL 253.639387 160.539424 \r\nL 253.989097 174.665042 \r\nL 254.018239 174.854071 \r\nL 254.163951 172.07019 \r\nL 254.397091 178.703388 \r\nL 254.426233 178.033194 \r\nL 254.484518 178.136301 \r\nL 254.601088 178.101932 \r\nL 254.63023 178.273776 \r\nL 254.688515 178.239408 \r\nL 254.775942 177.998825 \r\nL 254.86337 176.916205 \r\nL 254.892512 177.328632 \r\nL 255.038224 178.239408 \r\nL 255.271364 182.569889 \r\nL 255.417076 182.191831 \r\nL 255.650216 175.988245 \r\nL 255.795928 173.410577 \r\nL 255.854213 175.111838 \r\nL 255.883355 173.548053 \r\nL 256.203922 167.430389 \r\nL 256.262207 168.427087 \r\nL 256.291349 167.963107 \r\nL 256.524489 161.433016 \r\nL 256.641058 157.618068 \r\nL 256.90334 139.643133 \r\nL 256.932483 142.289538 \r\nL 257.049053 145.159342 \r\nL 257.25305 153.820304 \r\nL 257.340477 149.163318 \r\nL 257.427904 150.383414 \r\nL 257.631901 159.078746 \r\nL 257.690186 160.041075 \r\nL 257.923326 168.100582 \r\nL 258.243893 165.780681 \r\nL 258.273035 163.546703 \r\nL 258.33132 165.626021 \r\nL 258.360462 165.780681 \r\nL 258.477032 165.436992 \r\nL 258.535317 164.148159 \r\nL 258.564459 163.048354 \r\nL 258.651887 163.117092 \r\nL 258.710172 165.471361 \r\nL 258.768457 164.680877 \r\nL 258.855884 164.354372 \r\nL 258.885026 164.663692 \r\nL 259.118166 173.80582 \r\nL 259.147308 173.599606 \r\nL 259.263878 172.963781 \r\nL 259.322163 174.544751 \r\nL 259.380448 175.558633 \r\nL 259.467875 175.644556 \r\nL 259.701015 172.929413 \r\nL 259.730157 173.221548 \r\nL 259.788442 172.68883 \r\nL 259.905012 171.76087 \r\nL 260.079866 163.735732 \r\nL 260.109009 164.57777 \r\nL 260.167294 162.756218 \r\nL 260.283863 158.32263 \r\nL 260.400433 161.673598 \r\nL 260.517003 163.374858 \r\nL 260.721 168.495824 \r\nL 260.779285 168.341164 \r\nL 260.924997 168.513009 \r\nL 261.012424 169.681552 \r\nL 261.099852 169.71592 \r\nL 261.362134 168.031844 \r\nL 261.391276 168.083398 \r\nL 261.420419 167.963107 \r\nL 261.507846 167.842815 \r\nL 261.595273 162.017287 \r\nL 261.624416 162.103209 \r\nL 261.740985 162.137578 \r\nL 261.79927 160.144182 \r\nL 261.974125 152.926713 \r\nL 262.03241 152.22215 \r\nL 262.119837 152.342442 \r\nL 262.207264 154.387391 \r\nL 262.236407 153.682829 \r\nL 262.323834 151.981568 \r\nL 262.382119 147.410504 \r\nL 262.440404 149.661667 \r\nL 262.556974 149.730405 \r\nL 262.615259 152.153413 \r\nL 263.168965 175.97106 \r\nL 263.256392 176.761545 \r\nL 263.34382 177.088049 \r\nL 263.576959 183.188529 \r\nL 263.751814 188.120466 \r\nL 263.839241 190.526289 \r\nL 263.868383 190.1826 \r\nL 263.955811 189.976387 \r\nL 264.276378 185.938041 \r\nL 264.363805 185.766197 \r\nL 264.42209 186.109886 \r\nL 264.451232 185.749012 \r\nL 265.004939 170.575143 \r\nL 265.063223 173.290286 \r\nL 265.092366 173.135626 \r\nL 265.208936 173.118442 \r\nL 265.50036 168.272427 \r\nL 265.587787 168.598931 \r\nL 265.675215 172.706015 \r\nL 265.908354 177.741059 \r\nL 265.995782 177.620767 \r\nL 266.024924 176.709992 \r\nL 266.083209 177.70669 \r\nL 266.199779 177.156787 \r\nL 266.316348 173.410577 \r\nL 266.403776 173.427762 \r\nL 266.491203 172.156112 \r\nL 266.520345 172.276403 \r\nL 266.607773 172.37951 \r\nL 266.6952 172.99815 \r\nL 266.724342 172.877859 \r\nL 266.870055 171.898346 \r\nL 267.044909 175.060284 \r\nL 267.132337 176.864652 \r\nL 267.248906 177.345816 \r\nL 267.278049 177.569214 \r\nL 267.452903 181.60756 \r\nL 267.540331 182.707365 \r\nL 267.686043 181.710666 \r\nL 267.715185 181.934064 \r\nL 267.89004 183.721247 \r\nL 268.035752 182.294938 \r\nL 268.094037 182.896394 \r\nL 268.268892 184.185227 \r\nL 268.560316 189.271824 \r\nL 268.880883 190.64658 \r\nL 269.055738 194.049101 \r\nL 269.376304 196.197158 \r\nL 269.463732 196.626769 \r\nL 269.726014 201.455599 \r\nL 269.784299 201.816473 \r\nL 269.871726 201.782104 \r\nL 270.192293 197.382885 \r\nL 270.308863 197.760943 \r\nL 270.367147 198.396767 \r\nL 270.39629 198.345214 \r\nL 270.51286 198.053078 \r\nL 270.745999 194.444344 \r\nL 270.804284 192.897743 \r\nL 270.891711 192.949297 \r\nL 271.008281 193.430461 \r\nL 271.095708 193.430461 \r\nL 271.299705 192.502501 \r\nL 271.561987 195.166091 \r\nL 271.765984 196.987642 \r\nL 271.999124 198.190554 \r\nL 272.144836 198.259292 \r\nL 272.523688 196.575216 \r\nL 272.55283 196.643953 \r\nL 272.78597 197.898418 \r\nL 272.960825 195.715993 \r\nL 273.048252 194.409975 \r\nL 273.339676 194.23813 \r\nL 273.456246 195.372304 \r\nL 273.543673 195.475411 \r\nL 273.572816 195.681624 \r\nL 273.601958 195.595702 \r\nL 273.631101 195.269197 \r\nL 273.660243 195.286382 \r\nL 273.805955 195.578518 \r\nL 273.835098 195.441042 \r\nL 273.951667 194.959877 \r\nL 273.98081 195.028615 \r\nL 274.039095 195.458226 \r\nL 274.068237 195.303566 \r\nL 274.155665 195.35512 \r\nL 274.243092 194.770848 \r\nL 274.272234 194.839586 \r\nL 274.359662 195.0458 \r\nL 274.563659 196.712691 \r\nL 274.680228 197.004827 \r\nL 274.796798 197.228225 \r\nL 275.000795 198.207738 \r\nL 275.088223 197.949972 \r\nL 275.204792 198.139001 \r\nL 275.233935 198.001525 \r\nL 275.437932 196.179973 \r\nL 275.641929 192.210365 \r\nL 275.671071 192.554054 \r\nL 275.700214 193.258617 \r\nL 275.816784 193.327355 \r\nL 275.991638 189.667067 \r\nL 276.25392 186.625419 \r\nL 276.049923 189.770173 \r\nL 276.283063 186.969108 \r\nL 276.399632 189.426484 \r\nL 276.428775 188.893767 \r\nL 276.48706 187.36435 \r\nL 276.603629 186.608235 \r\nL 276.632772 186.625419 \r\nL 276.836769 187.347166 \r\nL 277.128193 182.398044 \r\nL 277.244763 183.033869 \r\nL 277.273906 182.965131 \r\nL 277.303048 182.604258 \r\nL 277.33219 182.741733 \r\nL 277.419618 182.741733 \r\nL 277.44876 182.604258 \r\nL 277.477903 182.879209 \r\nL 277.740185 189.082795 \r\nL 277.856754 189.512407 \r\nL 277.915039 188.120466 \r\nL 277.944182 188.206389 \r\nL 278.031609 188.498524 \r\nL 278.119036 187.123768 \r\nL 278.148179 187.175322 \r\nL 278.264748 187.879884 \r\nL 278.352176 188.687553 \r\nL 278.439603 188.653184 \r\nL 278.556173 187.673671 \r\nL 278.672743 187.982991 \r\nL 278.701885 187.965806 \r\nL 278.847597 186.573866 \r\nL 278.87674 186.711341 \r\nL 279.109879 187.845515 \r\nL 279.168164 189.87328 \r\nL 279.488731 191.832307 \r\nL 279.780155 201.644628 \r\nL 279.896725 203.0022 \r\nL 280.100722 205.872003 \r\nL 280.392147 208.621515 \r\nL 280.479574 208.604331 \r\nL 280.712713 207.126468 \r\nL 280.770998 207.315497 \r\nL 280.945853 207.642001 \r\nL 280.974995 207.607632 \r\nL 281.208135 206.490643 \r\nL 281.353847 206.026663 \r\nL 281.616129 204.720645 \r\nL 281.732699 204.5488 \r\nL 281.907553 204.067636 \r\nL 282.11155 203.689578 \r\nL 282.169835 203.827053 \r\nL 282.198978 203.792685 \r\nL 282.34469 203.792685 \r\nL 282.840111 199.87463 \r\nL 283.044109 199.857446 \r\nL 283.160678 199.71997 \r\nL 283.364675 200.321426 \r\nL 283.452103 200.132397 \r\nL 283.53953 200.132397 \r\nL 283.772669 202.795987 \r\nL 283.860097 204.205111 \r\nL 284.034951 204.755014 \r\nL 284.064094 204.669092 \r\nL 284.180664 204.39414 \r\nL 284.559515 202.933462 \r\nL 284.646943 202.658511 \r\nL 284.792655 201.472784 \r\nL 284.96751 199.771523 \r\nL 284.996652 199.805892 \r\nL 285.69607 205.098703 \r\nL 285.81264 205.373654 \r\nL 286.04578 207.229575 \r\nL 286.220634 207.556079 \r\nL 286.424631 207.298312 \r\nL 286.832626 208.363748 \r\nL 287.00748 208.346564 \r\nL 287.12405 206.43909 \r\nL 287.211477 206.473459 \r\nL 287.298905 206.954623 \r\nL 287.328047 206.576565 \r\nL 287.473759 206.026663 \r\nL 287.619471 204.565985 \r\nL 287.677756 204.70346 \r\nL 287.881753 202.572589 \r\nL 287.910896 202.744433 \r\nL 287.940038 202.38356 \r\nL 288.027466 201.91958 \r\nL 288.056608 200.682299 \r\nL 288.114893 201.678997 \r\nL 288.260605 201.816473 \r\nL 288.522887 203.998898 \r\nL 288.756027 201.936764 \r\nL 289.105736 200.768221 \r\nL 289.134878 200.888513 \r\nL 289.338875 202.727249 \r\nL 289.776012 207.710739 \r\nL 290.154864 207.710739 \r\nL 290.533715 206.318799 \r\nL 290.679428 205.339285 \r\nL 290.94171 206.559381 \r\nL 291.116564 207.040546 \r\nL 291.145707 207.023361 \r\nL 291.174849 206.868701 \r\nL 291.203992 206.885886 \r\nL 291.378846 206.885886 \r\nL 291.407989 206.799963 \r\nL 291.553701 207.109283 \r\nL 291.611986 207.023361 \r\nL 291.757698 206.937439 \r\nL 292.223977 204.411325 \r\nL 292.340547 204.067636 \r\nL 292.427974 203.706762 \r\nL 292.544544 203.741131 \r\nL 292.835968 204.944043 \r\nL 292.952538 205.029965 \r\nL 292.98168 204.978412 \r\nL 293.21482 204.531616 \r\nL 293.33139 204.462878 \r\nL 293.593672 204.926858 \r\nL 293.768526 204.462878 \r\nL 293.797669 204.411325 \r\nL 293.826811 204.462878 \r\nL 294.263948 205.545498 \r\nL 294.40966 205.682974 \r\nL 294.555372 205.889187 \r\nL 294.613657 205.97511 \r\nL 294.642799 205.889187 \r\nL 294.817654 205.184625 \r\nL 295.283933 199.616863 \r\nL 295.37136 199.479388 \r\nL 295.400503 199.634048 \r\nL 295.48793 200.854144 \r\nL 295.808497 199.943368 \r\nL 295.837639 199.960552 \r\nL 296.070779 200.974435 \r\nL 296.245634 201.489968 \r\nL 296.274776 201.421231 \r\nL 296.303918 201.438415 \r\nL 296.420488 201.76492 \r\nL 296.595343 202.624142 \r\nL 296.653628 201.524337 \r\nL 296.828482 200.063659 \r\nL 296.91591 199.71997 \r\nL 297.032479 199.651232 \r\nL 297.119907 200.287057 \r\nL 297.207334 200.166766 \r\nL 297.323904 196.506478 \r\nL 297.87761 183.188529 \r\nL 297.906753 183.429111 \r\nL 298.052465 185.474061 \r\nL 298.227319 183.394743 \r\nL 298.256462 182.862025 \r\nL 298.285604 183.222898 \r\nL 298.431316 186.041148 \r\nL 298.489601 185.97241 \r\nL 298.518744 186.058332 \r\nL 298.751883 191.024638 \r\nL 298.868453 193.086772 \r\nL 298.897596 194.23813 \r\nL 298.95588 193.533568 \r\nL 299.043308 193.069588 \r\nL 299.101593 192.210365 \r\nL 299.159877 192.571239 \r\nL 299.30559 193.430461 \r\nL 299.480444 194.049101 \r\nL 299.509587 193.499199 \r\nL 299.567872 194.255315 \r\nL 299.655299 194.100655 \r\nL 299.713584 192.708714 \r\nL 299.888438 186.711341 \r\nL 300.15072 179.579795 \r\nL 300.26729 180.353095 \r\nL 300.354717 183.068238 \r\nL 300.38386 181.796589 \r\nL 300.50043 180.610862 \r\nL 300.791854 184.752314 \r\nL 300.937566 188.361049 \r\nL 301.112421 196.197158 \r\nL 301.141563 196.12842 \r\nL 301.287276 195.20046 \r\nL 301.520415 199.513757 \r\nL 301.724412 201.11191 \r\nL 301.899267 200.905697 \r\nL 301.928409 200.991619 \r\nL 301.957552 201.094726 \r\nL 301.986694 200.888513 \r\nL 302.511258 197.812496 \r\nL 302.744398 192.588423 \r\nL 302.77354 194.770848 \r\nL 302.831825 194.358422 \r\nL 302.919252 194.289684 \r\nL 303.006679 191.883861 \r\nL 303.123249 192.210365 \r\nL 303.181534 194.031917 \r\nL 303.327246 196.334633 \r\nL 303.647813 202.521035 \r\nL 303.764383 203.070938 \r\nL 303.822668 203.758316 \r\nL 303.96838 203.603656 \r\nL 304.055807 203.122491 \r\nL 304.143235 203.225598 \r\nL 304.201519 203.534918 \r\nL 304.259804 202.263269 \r\nL 304.405517 202.177346 \r\nL 304.580371 202.864724 \r\nL 304.667798 202.091424 \r\nL 304.755226 202.177346 \r\nL 304.871796 203.174044 \r\nL 304.988365 203.019384 \r\nL 305.075793 203.689578 \r\nL 305.16322 203.689578 \r\nL 305.396359 202.486666 \r\nL 305.600357 204.995596 \r\nL 305.629499 204.840936 \r\nL 305.687784 204.205111 \r\nL 305.804354 204.840936 \r\nL 305.862639 205.579867 \r\nL 305.891781 205.459576 \r\nL 305.979208 205.133072 \r\nL 306.008351 204.376956 \r\nL 306.095778 204.39414 \r\nL 306.212348 204.600354 \r\nL 306.503772 207.160837 \r\nL 306.620342 207.315497 \r\nL 306.649484 207.246759 \r\nL 306.882624 206.765594 \r\nL 306.999194 206.799963 \r\nL 307.086621 206.59375 \r\nL 307.261476 204.772198 \r\nL 307.407188 201.833657 \r\nL 307.43633 201.868026 \r\nL 307.494615 200.905697 \r\nL 307.523758 201.043173 \r\nL 307.66947 201.472784 \r\nL 307.815182 199.960552 \r\nL 307.873467 200.115212 \r\nL 307.902609 200.02929 \r\nL 308.077464 199.170068 \r\nL 308.135749 199.445019 \r\nL 308.223176 199.582494 \r\nL 308.456316 201.300939 \r\nL 308.5146 201.902395 \r\nL 308.543743 201.713366 \r\nL 308.660313 201.472784 \r\nL 308.689455 201.610259 \r\nL 308.951737 203.191229 \r\nL 309.097449 203.672393 \r\nL 309.126592 203.758316 \r\nL 309.155734 203.517733 \r\nL 309.243161 203.019384 \r\nL 309.359731 199.25599 \r\nL 309.680298 194.23813 \r\nL 309.709441 194.581819 \r\nL 309.971722 198.156185 \r\nL 310.05915 198.018709 \r\nL 310.146577 196.850167 \r\nL 310.17572 196.987642 \r\nL 310.292289 197.176671 \r\nL 310.467144 200.201135 \r\nL 310.554571 202.2289 \r\nL 310.787711 204.909674 \r\nL 311.13742 206.301614 \r\nL 311.487129 206.662488 \r\nL 311.545414 206.954623 \r\nL 311.603699 207.556079 \r\nL 311.691126 207.315497 \r\nL 311.720269 206.645303 \r\nL 311.807696 207.006177 \r\nL 311.895123 207.040546 \r\nL 311.953408 206.507828 \r\nL 311.982551 206.834332 \r\nL 312.21569 209.291709 \r\nL 312.769397 210.992969 \r\nL 312.798539 210.9586 \r\nL 313.002536 210.580542 \r\nL 313.235676 210.03064 \r\nL 313.352245 209.979087 \r\nL 313.381388 210.03064 \r\nL 313.41053 210.116562 \r\nL 313.439673 210.082193 \r\nL 313.585385 209.927533 \r\nL 313.731097 209.532291 \r\nL 313.818524 209.463553 \r\nL 313.847667 209.497922 \r\nL 313.964237 209.394815 \r\nL 313.993379 209.497922 \r\nL 314.022522 209.635398 \r\nL 314.343088 209.807242 \r\nL 314.372231 209.755689 \r\nL 314.576228 209.412 \r\nL 314.984222 209.772873 \r\nL 315.042507 209.893164 \r\nL 315.071649 209.87598 \r\nL 315.159077 209.807242 \r\nL 315.246504 208.79336 \r\nL 315.363074 208.913651 \r\nL 315.596213 209.704135 \r\nL 315.771068 209.618213 \r\nL 315.858495 209.377631 \r\nL 316.208204 208.037244 \r\nL 316.383059 206.353168 \r\nL 316.470486 205.493945 \r\nL 316.499629 205.597052 \r\nL 316.674484 206.095401 \r\nL 316.703626 205.906372 \r\nL 316.820196 205.476761 \r\nL 317.024193 204.016082 \r\nL 317.257332 200.527639 \r\nL 317.286475 200.80259 \r\nL 317.315617 201.077542 \r\nL 317.403044 201.008804 \r\nL 317.461329 200.768221 \r\nL 317.490472 200.836959 \r\nL 317.665326 198.740456 \r\nL 317.694469 199.10133 \r\nL 317.811039 199.170068 \r\nL 318.044178 201.76492 \r\nL 318.335603 204.222296 \r\nL 318.452172 204.08482 \r\nL 318.481315 204.170742 \r\nL 318.743597 205.682974 \r\nL 318.860166 205.957925 \r\nL 318.889309 205.751712 \r\nL 319.035021 202.933462 \r\nL 319.093306 203.981714 \r\nL 319.151591 203.534918 \r\nL 319.239018 203.534918 \r\nL 319.559585 205.837634 \r\nL 319.676155 205.923556 \r\nL 319.851009 206.90307 \r\nL 319.938437 206.232876 \r\nL 319.967579 206.43909 \r\nL 320.259004 207.607632 \r\nL 320.375573 208.896466 \r\nL 320.492143 209.051126 \r\nL 320.725283 210.821125 \r\nL 320.783567 211.181998 \r\nL 320.92928 210.357144 \r\nL 321.104134 209.463553 \r\nL 321.570413 211.645978 \r\nL 321.599556 211.542872 \r\nL 321.77441 211.525687 \r\nL 322.153262 211.714716 \r\nL 322.357259 212.969181 \r\nL 322.561256 213.587821 \r\nL 322.794396 214.154908 \r\nL 322.998393 214.618888 \r\nL 323.231532 214.739179 \r\nL 323.348102 214.567335 \r\nL 323.522957 214.309568 \r\nL 323.814381 213.862772 \r\nL 324.134948 212.986365 \r\nL 324.251518 212.951996 \r\nL 324.601227 212.625492 \r\nL 325.184076 208.209088 \r\nL 325.242361 208.226273 \r\nL 325.417215 207.452972 \r\nL 325.59207 208.020059 \r\nL 325.766925 209.154233 \r\nL 325.854352 209.790058 \r\nL 325.883494 209.429184 \r\nL 325.970922 209.205786 \r\nL 326.000064 208.690253 \r\nL 326.087491 208.999573 \r\nL 326.204061 209.119864 \r\nL 326.262346 209.412 \r\nL 326.291488 209.326077 \r\nL 326.437201 209.222971 \r\nL 326.466343 209.326077 \r\nL 326.495486 209.25734 \r\nL 326.699483 209.25734 \r\nL 326.845195 209.360446 \r\nL 327.020049 209.772873 \r\nL 327.049192 209.686951 \r\nL 327.428044 207.848215 \r\nL 327.632041 207.52171 \r\nL 327.806895 206.885886 \r\nL 327.86518 207.092099 \r\nL 328.214889 208.569962 \r\nL 328.331459 208.810544 \r\nL 328.477171 208.776175 \r\nL 328.652026 207.934137 \r\nL 328.739453 208.002875 \r\nL 328.856023 207.848215 \r\nL 328.94345 207.36705 \r\nL 329.118305 207.504526 \r\nL 329.438872 205.923556 \r\nL 329.468014 206.061032 \r\nL 329.497157 206.74841 \r\nL 329.555442 205.992294 \r\nL 329.701154 204.222296 \r\nL 329.759439 203.569287 \r\nL 329.876009 203.758316 \r\nL 330.080006 204.961227 \r\nL 330.109148 204.806567 \r\nL 330.167433 203.912976 \r\nL 330.284003 203.895791 \r\nL 330.342288 204.531616 \r\nL 330.37143 204.411325 \r\nL 330.488 204.445694 \r\nL 330.721139 205.957925 \r\nL 330.750282 206.026663 \r\nL 330.866851 205.012781 \r\nL 330.925136 205.408023 \r\nL 330.954279 205.150256 \r\nL 331.070849 204.789383 \r\nL 331.391415 198.139001 \r\nL 331.56627 199.10133 \r\nL 331.595412 199.445019 \r\nL 331.68284 199.393465 \r\nL 331.741125 199.049776 \r\nL 331.79941 199.152883 \r\nL 331.886837 199.187252 \r\nL 331.945122 199.771523 \r\nL 332.207404 203.483364 \r\nL 332.323973 204.033267 \r\nL 332.382258 203.792685 \r\nL 332.411401 203.225598 \r\nL 332.731968 203.363073 \r\nL 332.790252 202.84754 \r\nL 332.819395 203.191229 \r\nL 332.935965 203.827053 \r\nL 332.99425 204.411325 \r\nL 333.023392 204.102005 \r\nL 333.169104 203.380258 \r\nL 333.227389 203.844238 \r\nL 333.314816 204.033267 \r\nL 333.518813 205.717343 \r\nL 333.781095 207.67637 \r\nL 333.810238 207.590448 \r\nL 333.95595 207.968506 \r\nL 333.985092 207.916953 \r\nL 334.334802 204.651907 \r\nL 334.363944 204.978412 \r\nL 334.393087 204.772198 \r\nL 334.655369 201.077542 \r\nL 334.771938 200.630746 \r\nL 334.946793 199.032592 \r\nL 335.005078 199.290359 \r\nL 335.03422 199.187252 \r\nL 335.209075 196.74706 \r\nL 335.442214 198.860747 \r\nL 335.471357 198.723272 \r\nL 335.558784 198.585796 \r\nL 335.646212 197.468807 \r\nL 335.791924 197.503176 \r\nL 336.287345 202.658511 \r\nL 336.403915 202.435113 \r\nL 336.433057 202.469482 \r\nL 336.4622 202.349191 \r\nL 336.491342 202.314822 \r\nL 337.045049 204.651907 \r\nL 337.190761 205.631421 \r\nL 337.219903 205.682974 \r\nL 337.278188 205.579867 \r\nL 337.4239 204.789383 \r\nL 337.65704 205.236178 \r\nL 337.861037 203.7755 \r\nL 337.919322 204.256665 \r\nL 338.065034 205.184625 \r\nL 338.210746 205.648605 \r\nL 338.298173 204.480063 \r\nL 338.61874 202.950647 \r\nL 338.647883 202.899093 \r\nL 338.73531 203.706762 \r\nL 338.822737 203.483364 \r\nL 339.347301 198.087447 \r\nL 339.434729 197.984341 \r\nL 339.522156 199.118514 \r\nL 339.551298 198.963854 \r\nL 339.667868 199.066961 \r\nL 339.697011 199.445019 \r\nL 339.755295 199.41065 \r\nL 339.842723 199.341912 \r\nL 340.134147 196.351818 \r\nL 340.367287 193.92881 \r\nL 340.454714 193.911626 \r\nL 340.687854 197.262594 \r\nL 340.716996 197.05638 \r\nL 340.862708 195.492595 \r\nL 340.950135 194.684926 \r\nL 341.154133 192.554054 \r\nL 341.183275 192.622792 \r\nL 341.299845 192.450948 \r\nL 341.591269 194.375606 \r\nL 341.678696 194.427159 \r\nL 341.707839 194.358422 \r\nL 341.736981 194.203762 \r\nL 341.766124 194.289684 \r\nL 341.970121 196.351818 \r\nL 341.999263 196.179973 \r\nL 342.144975 195.458226 \r\nL 342.407257 191.797939 \r\nL 342.727824 189.787358 \r\nL 342.756967 190.010756 \r\nL 343.019249 196.265896 \r\nL 343.339815 198.602981 \r\nL 343.368958 198.053078 \r\nL 343.51467 195.939391 \r\nL 343.543813 195.767546 \r\nL 343.835237 200.407348 \r\nL 343.922664 200.33861 \r\nL 344.039234 198.79201 \r\nL 344.126661 198.877932 \r\nL 344.330658 201.146279 \r\nL 344.359801 200.922881 \r\nL 344.418086 200.733853 \r\nL 344.447228 200.407348 \r\nL 344.534656 200.441717 \r\nL 344.651225 201.11191 \r\nL 344.738653 201.060357 \r\nL 344.94265 199.273174 \r\nL 344.971792 199.324728 \r\nL 345.000935 199.25599 \r\nL 345.175789 198.912301 \r\nL 345.204932 199.273174 \r\nL 345.263216 199.10133 \r\nL 345.379786 199.479388 \r\nL 345.642068 200.544824 \r\nL 345.758638 200.390164 \r\nL 345.816923 201.180648 \r\nL 346.079205 203.448996 \r\nL 346.166632 203.380258 \r\nL 346.458056 199.10133 \r\nL 346.632911 196.094051 \r\nL 346.662054 196.111235 \r\nL 346.807766 196.936089 \r\nL 347.09919 194.444344 \r\nL 347.186617 194.375606 \r\nL 347.21576 194.513082 \r\nL 347.478042 200.682299 \r\nL 347.623754 201.575891 \r\nL 347.652897 201.833657 \r\nL 347.886036 195.767546 \r\nL 347.915178 195.836284 \r\nL 348.002606 195.905022 \r\nL 348.031748 195.853469 \r\nL 348.119176 194.908324 \r\nL 348.206603 194.959877 \r\nL 348.468885 197.245409 \r\nL 348.643739 194.375606 \r\nL 348.731167 191.866676 \r\nL 348.818594 192.090074 \r\nL 348.847737 193.018035 \r\nL 348.906021 191.694832 \r\nL 349.051734 190.165416 \r\nL 349.110018 191.265221 \r\nL 349.139161 190.715318 \r\nL 349.226588 190.216969 \r\nL 349.255731 189.25464 \r\nL 349.314016 190.388814 \r\nL 349.343158 190.938716 \r\nL 349.430585 190.474736 \r\nL 349.547155 189.271824 \r\nL 349.634582 189.271824 \r\nL 349.751152 190.680949 \r\nL 349.896864 190.062309 \r\nL 349.955149 190.131047 \r\nL 350.100861 189.924834 \r\nL 350.159146 190.577843 \r\nL 350.275716 190.80124 \r\nL 350.508856 194.358422 \r\nL 350.56714 194.135024 \r\nL 350.654568 194.272499 \r\nL 350.771138 196.265896 \r\nL 350.887707 196.43774 \r\nL 351.324844 192.69153 \r\nL 351.528841 194.08347 \r\nL 351.674553 192.519685 \r\nL 351.703696 192.622792 \r\nL 351.732838 193.035219 \r\nL 351.791123 192.657161 \r\nL 351.907693 192.639977 \r\nL 351.965978 193.688228 \r\nL 351.99512 193.636675 \r\nL 352.082547 193.585121 \r\nL 352.286544 195.20046 \r\nL 352.373972 198.585796 \r\nL 352.548826 202.400744 \r\nL 352.607111 202.022686 \r\nL 352.694539 202.160162 \r\nL 352.723681 202.503851 \r\nL 352.781966 202.246084 \r\nL 352.927678 196.729876 \r\nL 352.985963 197.726574 \r\nL 353.102533 199.066961 \r\nL 353.30653 195.939391 \r\nL 353.335672 196.300264 \r\nL 353.364815 196.489293 \r\nL 353.393957 196.28308 \r\nL 353.510527 195.578518 \r\nL 353.568812 196.059682 \r\nL 353.714524 197.898418 \r\nL 353.976806 197.709389 \r\nL 354.122518 198.310845 \r\nL 354.15166 198.053078 \r\nL 354.180803 198.465505 \r\nL 354.3848 201.610259 \r\nL 354.443085 200.630746 \r\nL 354.530512 200.974435 \r\nL 354.851079 208.655884 \r\nL 355.025934 209.25734 \r\nL 355.142503 209.515106 \r\nL 355.171646 209.463553 \r\nL 355.3465 208.690253 \r\nL 355.375643 208.827728 \r\nL 355.404785 209.051126 \r\nL 355.46307 208.844913 \r\nL 355.550498 208.79336 \r\nL 355.667067 208.329379 \r\nL 355.754495 208.243457 \r\nL 355.81278 208.329379 \r\nL 355.958492 208.655884 \r\nL 355.987634 208.621515 \r\nL 356.045919 208.105982 \r\nL 356.075061 207.195206 \r\nL 356.162489 207.349866 \r\nL 356.395628 208.002875 \r\nL 356.453913 207.848215 \r\nL 356.483056 207.899768 \r\nL 356.570483 207.968506 \r\nL 356.628768 208.191904 \r\nL 356.77448 207.470157 \r\nL 356.832765 207.126468 \r\nL 356.89105 207.263943 \r\nL 357.00762 206.868701 \r\nL 357.299044 204.462878 \r\nL 357.386471 204.050451 \r\nL 357.473899 202.005502 \r\nL 357.503041 202.813171 \r\nL 357.619611 203.655209 \r\nL 357.648753 203.586471 \r\nL 357.823608 201.816473 \r\nL 357.881893 202.005502 \r\nL 357.911035 201.868026 \r\nL 357.998462 201.850842 \r\nL 358.260744 200.716668 \r\nL 358.289887 200.888513 \r\nL 358.319029 200.905697 \r\nL 358.406457 200.785406 \r\nL 358.464742 200.132397 \r\nL 358.523026 200.18395 \r\nL 358.639596 200.751037 \r\nL 358.697881 201.489968 \r\nL 358.727023 201.094726 \r\nL 358.814451 200.95725 \r\nL 359.076733 197.107934 \r\nL 359.28073 193.121141 \r\nL 359.339015 189.838911 \r\nL 359.426442 190.096678 \r\nL 359.834436 182.088724 \r\nL 359.863579 182.53552 \r\nL 359.951006 186.453575 \r\nL 360.067576 187.106584 \r\nL 360.300715 190.320076 \r\nL 360.329858 190.1826 \r\nL 360.504712 186.230177 \r\nL 360.562997 183.858723 \r\nL 360.650424 184.219596 \r\nL 360.679567 184.357072 \r\nL 360.708709 184.322703 \r\nL 360.912706 180.782706 \r\nL 360.941849 180.610862 \r\nL 361.116703 176.469409 \r\nL 361.55384 182.07154 \r\nL 361.78698 187.828331 \r\nL 361.961834 189.546776 \r\nL 362.078404 189.323378 \r\nL 362.165831 186.59105 \r\nL 362.282401 186.814448 \r\nL 362.544683 189.168718 \r\nL 362.573825 189.065611 \r\nL 362.690395 188.756291 \r\nL 362.719538 188.773475 \r\nL 362.923535 191.282405 \r\nL 363.098389 196.626769 \r\nL 363.156674 196.28308 \r\nL 363.214959 196.420556 \r\nL 363.302386 196.74706 \r\nL 363.389814 198.173369 \r\nL 363.418956 197.67502 \r\nL 363.593811 194.530266 \r\nL 363.739523 192.141628 \r\nL 363.914378 193.086772 \r\nL 363.972663 194.650557 \r\nL 364.205802 199.960552 \r\nL 364.351514 201.008804 \r\nL 364.613796 202.967831 \r\nL 364.788651 206.456274 \r\nL 365.02179 206.542197 \r\nL 365.167503 207.899768 \r\nL 365.25493 210.168116 \r\nL 365.400642 210.718018 \r\nL 365.604639 212.350541 \r\nL 365.633782 212.333356 \r\nL 365.750351 212.677045 \r\nL 366.44977 209.446369 \r\nL 366.595482 208.965204 \r\nL 366.653767 208.862097 \r\nL 366.682909 208.896466 \r\nL 366.799479 209.222971 \r\nL 366.828622 208.930835 \r\nL 366.857764 208.913651 \r\nL 366.886906 208.999573 \r\nL 367.003476 209.377631 \r\nL 367.178331 210.322776 \r\nL 367.207473 208.982388 \r\nL 367.294901 209.154233 \r\nL 367.41147 209.497922 \r\nL 367.440613 209.308893 \r\nL 367.673752 207.263943 \r\nL 367.790322 206.731226 \r\nL 367.994319 208.380933 \r\nL 368.198316 209.463553 \r\nL 368.489741 212.986365 \r\nL 368.518883 212.745783 \r\nL 368.635453 211.955298 \r\nL 368.72288 211.181998 \r\nL 368.83945 211.044522 \r\nL 368.868592 211.11326 \r\nL 368.897735 211.336658 \r\nL 368.926877 211.078891 \r\nL 369.043447 210.357144 \r\nL 369.480584 198.32803 \r\nL 369.538868 193.018035 \r\nL 369.626296 192.966481 \r\nL 369.830293 188.910951 \r\nL 369.91772 188.412602 \r\nL 370.03429 186.12707 \r\nL 370.063432 186.247361 \r\nL 370.15086 188.636 \r\nL 370.238287 188.94532 \r\nL 370.296572 190.595027 \r\nL 370.354857 190.354445 \r\nL 370.442284 190.904347 \r\nL 370.675424 198.018709 \r\nL 370.879421 194.599004 \r\nL 371.258272 192.279103 \r\nL 371.287415 192.485317 \r\nL 371.374842 194.289684 \r\nL 371.520554 193.808519 \r\nL 371.695409 194.461528 \r\nL 371.986833 197.967156 \r\nL 372.278258 197.159487 \r\nL 372.715394 183.704063 \r\nL 372.744537 184.614839 \r\nL 373.123388 196.540847 \r\nL 373.152531 196.609585 \r\nL 373.210816 195.423857 \r\nL 373.356528 195.956575 \r\nL 373.414813 197.692205 \r\nL 373.50224 197.67502 \r\nL 373.589668 199.221621 \r\nL 373.706237 198.998223 \r\nL 373.73538 199.118514 \r\nL 373.822807 200.579192 \r\nL 373.939377 200.630746 \r\nL 373.968519 200.579192 \r\nL 374.230801 198.602981 \r\nL 374.318228 198.654534 \r\nL 374.551368 200.476086 \r\nL 374.58051 200.458901 \r\nL 374.842792 196.970458 \r\nL 374.93022 197.004827 \r\nL 375.017647 196.265896 \r\nL 375.338214 196.12842 \r\nL 375.600496 187.845515 \r\nL 375.658781 189.598329 \r\nL 375.746208 189.838911 \r\nL 375.833635 188.17202 \r\nL 375.862778 188.636 \r\nL 375.950205 189.4093 \r\nL 376.066775 194.788033 \r\nL 376.154202 194.925508 \r\nL 376.241629 196.936089 \r\nL 376.270772 196.832982 \r\nL 376.416484 197.348516 \r\nL 376.445627 197.176671 \r\nL 376.591339 194.049101 \r\nL 376.649624 189.323378 \r\nL 376.678766 190.560658 \r\nL 376.795336 190.062309 \r\nL 376.824478 190.371629 \r\nL 376.97019 191.368327 \r\nL 376.999333 190.990269 \r\nL 377.08676 188.309495 \r\nL 377.174188 187.897068 \r\nL 377.232472 185.714643 \r\nL 377.290757 186.058332 \r\nL 377.407327 185.078819 \r\nL 377.582182 179.889115 \r\nL 377.844464 184.58047 \r\nL 377.873606 184.133674 \r\nL 378.019318 183.789985 \r\nL 378.048461 183.188529 \r\nL 378.106746 183.910276 \r\nL 378.252458 182.312122 \r\nL 378.39817 177.947272 \r\nL 378.427312 177.259894 \r\nL 378.51474 171.829608 \r\nL 378.602167 171.485919 \r\nL 378.864449 163.615441 \r\nL 378.922734 165.04175 \r\nL 379.039304 163.821654 \r\nL 379.243301 171.709317 \r\nL 379.272443 171.60621 \r\nL 379.272443 171.60621 \r\n\" style=\"fill:none;stroke:#1f77b4;stroke-linecap:square;stroke-width:1.5;\"/>\r\n   </g>\r\n   <g id=\"patch_3\">\r\n    <path d=\"M 59.690625 224.64 \r\nL 59.690625 7.2 \r\n\" style=\"fill:none;stroke:#000000;stroke-linecap:square;stroke-linejoin:miter;stroke-width:0.8;\"/>\r\n   </g>\r\n   <g id=\"patch_4\">\r\n    <path d=\"M 394.490625 224.64 \r\nL 394.490625 7.2 \r\n\" style=\"fill:none;stroke:#000000;stroke-linecap:square;stroke-linejoin:miter;stroke-width:0.8;\"/>\r\n   </g>\r\n   <g id=\"patch_5\">\r\n    <path d=\"M 59.690625 224.64 \r\nL 394.490625 224.64 \r\n\" style=\"fill:none;stroke:#000000;stroke-linecap:square;stroke-linejoin:miter;stroke-width:0.8;\"/>\r\n   </g>\r\n   <g id=\"patch_6\">\r\n    <path d=\"M 59.690625 7.2 \r\nL 394.490625 7.2 \r\n\" style=\"fill:none;stroke:#000000;stroke-linecap:square;stroke-linejoin:miter;stroke-width:0.8;\"/>\r\n   </g>\r\n  </g>\r\n </g>\r\n <defs>\r\n  <clipPath id=\"p0617a8ab3d\">\r\n   <rect height=\"217.44\" width=\"334.8\" x=\"59.690625\" y=\"7.2\"/>\r\n  </clipPath>\r\n </defs>\r\n</svg>\r\n",
      "image/png": "[encoded data removed]"
     },
     "metadata": {
      "needs_background": "light"
     }
    }
   ],
   "source": [
    "sns.lineplot(data=BDI, x= 'Date', y= 'Price')\n"
   ]
  }
 ]
}