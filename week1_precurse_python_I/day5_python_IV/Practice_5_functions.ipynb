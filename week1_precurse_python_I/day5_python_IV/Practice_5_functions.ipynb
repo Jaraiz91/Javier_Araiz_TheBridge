{
 "cells": [
  {
   "cell_type": "markdown",
   "metadata": {},
   "source": [
    "# Python | day 5 | functions"
   ]
  },
  {
   "cell_type": "markdown",
   "metadata": {},
   "source": [
    "In Python, a function is a group of related statements that performs a specific task."
   ]
  },
  {
   "cell_type": "markdown",
   "metadata": {},
   "source": [
    "https://www.programiz.com/python-programming/function"
   ]
  },
  {
   "cell_type": "markdown",
   "metadata": {},
   "source": [
    "#### Difference between `return` and `print`.\n",
    "\n",
    "Take some minutes to understand the difference between `return` and `print`, it seems to be the same, but they are not and it's important you understand the difference. "
   ]
  },
  {
   "cell_type": "code",
   "execution_count": null,
   "metadata": {},
   "outputs": [],
   "source": [
    "def suma(a,b):\n",
    "    print(a)\n",
    "    return a+b\n",
    "\n",
    "print(suma(suma(2,2),4))"
   ]
  },
  {
   "cell_type": "markdown",
   "metadata": {},
   "source": [
    "#### Comments in a function."
   ]
  },
  {
   "cell_type": "code",
   "execution_count": 2,
   "metadata": {},
   "outputs": [],
   "source": [
    "def say_hello(name):\n",
    "    \"\"\"\n",
    "    Given a name as an argument, \n",
    "    the function return a string greeting\n",
    "    the name given. \n",
    "    \"\"\"\n",
    "    return f\"hello {name}\""
   ]
  },
  {
   "cell_type": "code",
   "execution_count": 3,
   "metadata": {},
   "outputs": [
    {
     "output_type": "stream",
     "name": "stdout",
     "text": [
      "hello Clara\n"
     ]
    }
   ],
   "source": [
    "print(say_hello(\"Clara\"))"
   ]
  },
  {
   "cell_type": "code",
   "execution_count": 4,
   "metadata": {},
   "outputs": [
    {
     "output_type": "stream",
     "name": "stdout",
     "text": [
      "Help on function say_hello in module __main__:\n\nsay_hello(name)\n    Given a name as an argument, \n    the function return a string greeting\n    the name given.\n\n"
     ]
    }
   ],
   "source": [
    "help(say_hello)"
   ]
  },
  {
   "cell_type": "markdown",
   "metadata": {},
   "source": [
    "### Exercise 1. "
   ]
  },
  {
   "cell_type": "markdown",
   "metadata": {},
   "source": [
    "To solve the following exercises it will be necessary to define a function for each section. You choose the name of those functions unless specified, but make sure you define a single parameter `whichever_list`, when calling the function it will correspond to the variable `info_list`.\n",
    "```python\n",
    "def funtion_bla(whichever_list):\n",
    "    return whichever_list\n",
    "\n",
    "function_bla(info_list)\n",
    "```\n",
    "\n",
    "**In the case of not being able to solve a question containing the code in a function, try to do it without defining one.**"
   ]
  },
  {
   "cell_type": "code",
   "execution_count": 5,
   "metadata": {},
   "outputs": [],
   "source": [
    "# you can use this list or take yours from Practice 3\n",
    "info_list = [15, 'Recoletos', True, ['Recoletos', 15],  None, '8'] "
   ]
  },
  {
   "cell_type": "markdown",
   "metadata": {},
   "source": [
    "1. Display on the screen `\"I like the tranquility\"` if you like the mountains more and `\"I'd love to live in Malaga\"` if you like the beach more.\n",
    "\n"
   ]
  },
  {
   "cell_type": "code",
   "execution_count": 6,
   "metadata": {},
   "outputs": [],
   "source": [
    "#define a function which takes a single parameter `whichever_list`\n",
    "def beach_or_mountain(whichever_list):\n",
    "    if whichever_list[2] == True:\n",
    "        return \"I´d love to live in Malaga\"\n",
    "    else:\n",
    "        return \"I like the tranquility\""
   ]
  },
  {
   "cell_type": "code",
   "execution_count": 7,
   "metadata": {},
   "outputs": [
    {
     "output_type": "stream",
     "name": "stdout",
     "text": [
      "I´d love to live in Malaga\n"
     ]
    }
   ],
   "source": [
    "#call the function with the variable `info_list`\n",
    "print(beach_or_mountain(info_list))"
   ]
  },
  {
   "cell_type": "markdown",
   "metadata": {},
   "source": [
    "2. Print `\"Today I am tired\"` if you have slept less than 7 hours or `\"Today I conquer the world\"` if you have slept more than 7 hours."
   ]
  },
  {
   "cell_type": "code",
   "execution_count": 8,
   "metadata": {},
   "outputs": [],
   "source": [
    "#define a function which takes a single parameter `whichever_list`\n",
    "def energy(whichever_list):\n",
    "    if int(whichever_list[-1]) >= 7:\n",
    "        return \"Today I conquer the world\"\n",
    "    else:\n",
    "        return \"Today I am tired\""
   ]
  },
  {
   "cell_type": "code",
   "execution_count": 9,
   "metadata": {},
   "outputs": [
    {
     "output_type": "execute_result",
     "data": {
      "text/plain": [
       "'Today I conquer the world'"
      ]
     },
     "metadata": {},
     "execution_count": 9
    }
   ],
   "source": [
    "#call the function with the variable `info_list`\n",
    "energy(info_list)"
   ]
  },
  {
   "cell_type": "markdown",
   "metadata": {},
   "source": [
    "3. Loop through `whichever_list` to print all the elements it contains. This function should return the list turned into a tuple. "
   ]
  },
  {
   "cell_type": "code",
   "execution_count": 2,
   "metadata": {},
   "outputs": [],
   "source": [
    "#define a function which takes a single parameter `whichever_list`\n",
    "def make_it_tuple(whichever_list):\n",
    "    tup = []\n",
    "    for elements in whichever_list:\n",
    "        tup.append(elements)\n",
    "    tup = tuple(tup)\n",
    "    return tup"
   ]
  },
  {
   "cell_type": "code",
   "execution_count": 3,
   "metadata": {},
   "outputs": [
    {
     "output_type": "error",
     "ename": "NameError",
     "evalue": "name 'info_list' is not defined",
     "traceback": [
      "\u001b[1;31m---------------------------------------------------------------------------\u001b[0m",
      "\u001b[1;31mNameError\u001b[0m                                 Traceback (most recent call last)",
      "\u001b[1;32m<ipython-input-3-437bfe9339f8>\u001b[0m in \u001b[0;36m<module>\u001b[1;34m\u001b[0m\n\u001b[0;32m      1\u001b[0m \u001b[1;31m#call the function with the variable `info_list`\u001b[0m\u001b[1;33m\u001b[0m\u001b[1;33m\u001b[0m\u001b[1;33m\u001b[0m\u001b[0m\n\u001b[1;32m----> 2\u001b[1;33m \u001b[0mprint\u001b[0m\u001b[1;33m(\u001b[0m\u001b[0mmake_it_tuple\u001b[0m\u001b[1;33m(\u001b[0m\u001b[0minfo_list\u001b[0m\u001b[1;33m)\u001b[0m\u001b[1;33m)\u001b[0m\u001b[1;33m\u001b[0m\u001b[1;33m\u001b[0m\u001b[0m\n\u001b[0m",
      "\u001b[1;31mNameError\u001b[0m: name 'info_list' is not defined"
     ]
    }
   ],
   "source": [
    "#call the function with the variable `info_list`\n",
    "print(make_it_tuple(info_list))"
   ]
  },
  {
   "cell_type": "markdown",
   "metadata": {},
   "source": [
    "4. Loop through `whichever_list` to print all the elements it contains concatenated with the string` \"--> OK\" `. This function should return a message saying, `\"everything will be ok\"`. \n"
   ]
  },
  {
   "cell_type": "code",
   "execution_count": 12,
   "metadata": {},
   "outputs": [],
   "source": [
    "#define a function which takes a single parameter `whichever_list`\n",
    "def make_it_ok(whichever_list):\n",
    "    concatenated = \"\"\n",
    "    for item in whichever_list:\n",
    "        concatenated = concatenated + \"--> OK\" + \" \" + str(item)\n",
    "    print(concatenated)\n",
    "    return(\"everything will be ok\")\n"
   ]
  },
  {
   "cell_type": "code",
   "execution_count": 13,
   "metadata": {},
   "outputs": [
    {
     "output_type": "stream",
     "name": "stdout",
     "text": [
      "--> OK 15--> OK Recoletos--> OK True--> OK ['Recoletos', 15]--> OK None--> OK 8\neverything will be ok\n"
     ]
    }
   ],
   "source": [
    "#call the function with the variable `info_list`\n",
    "print(make_it_ok(info_list))"
   ]
  },
  {
   "cell_type": "markdown",
   "metadata": {},
   "source": [
    "5. Loop through `whichever_list` to display all items it contains except the first one. This function should return the first element of the list. "
   ]
  },
  {
   "cell_type": "code",
   "execution_count": 14,
   "metadata": {},
   "outputs": [],
   "source": [
    "#define a function which takes a single parameter `whichever_list`\n",
    "def first_elem(whichever_list):\n",
    "    for item in whichever_list:\n",
    "        print(item)\n",
    "    return whichever_list[0]"
   ]
  },
  {
   "cell_type": "code",
   "execution_count": 15,
   "metadata": {},
   "outputs": [
    {
     "output_type": "stream",
     "name": "stdout",
     "text": [
      "15\nRecoletos\nTrue\n['Recoletos', 15]\nNone\n8\n15\n"
     ]
    }
   ],
   "source": [
    "#call the function with the variable `info_list`\n",
    "print(first_elem(info_list))"
   ]
  },
  {
   "cell_type": "markdown",
   "metadata": {},
   "source": [
    "6. Loop through `whichever_list` to display all the items it contains except the last one. This function should return the last element of the list. "
   ]
  },
  {
   "cell_type": "code",
   "execution_count": 16,
   "metadata": {},
   "outputs": [],
   "source": [
    "#define a function which takes a single parameter `whichever_list`\n",
    "def last_elem(whichever_list):\n",
    "    for item in whichever_list:\n",
    "        print(item)\n",
    "    return whichever_list[-1]"
   ]
  },
  {
   "cell_type": "code",
   "execution_count": 24,
   "metadata": {},
   "outputs": [
    {
     "output_type": "stream",
     "name": "stdout",
     "text": [
      "15\nRecoletos\nTrue\n['Recoletos', 15]\nNone\n8\n8\n"
     ]
    }
   ],
   "source": [
    "#call the function with the variable `info_list`\n",
    "print(last_elem(info_list))"
   ]
  },
  {
   "cell_type": "markdown",
   "metadata": {},
   "source": [
    "7. Loop through `whichever_list` to show all the elements it contains except the street number and the hours you've slept."
   ]
  },
  {
   "cell_type": "code",
   "execution_count": 17,
   "metadata": {},
   "outputs": [],
   "source": [
    "#define a function which takes a single parameter `whichever_list`\n",
    "def ex_str_hrs(whichever_list):\n",
    "    for y in whichever_list:\n",
    "        if y != 15 and y != \"8\":\n",
    "            print(y)\n"
   ]
  },
  {
   "cell_type": "code",
   "execution_count": 18,
   "metadata": {},
   "outputs": [
    {
     "output_type": "stream",
     "name": "stdout",
     "text": [
      "Recoletos\nTrue\n['Recoletos', 15]\nNone\n"
     ]
    }
   ],
   "source": [
    "#call the function with the variable `info_list`\n",
    "ex_str_hrs(info_list)"
   ]
  },
  {
   "cell_type": "markdown",
   "metadata": {},
   "source": [
    "8. Loop through `whichever_list` to print all the elements it contains except the first element of the list which is in fourth position (`'Recoletos'`). This function should return the lenght of that element. "
   ]
  },
  {
   "cell_type": "code",
   "execution_count": 19,
   "metadata": {},
   "outputs": [],
   "source": [
    "#define a function which takes a single parameter `whichever_list`\n",
    "def fourth(whichever_list):\n",
    "    for y in whichever_list:\n",
    "        if y == whichever_list[3]:\n",
    "            y[0] = len(y[0])\n",
    "            print(y)\n",
    "        else:\n",
    "            print(y)"
   ]
  },
  {
   "cell_type": "code",
   "execution_count": 48,
   "metadata": {},
   "outputs": [
    {
     "output_type": "stream",
     "name": "stdout",
     "text": [
      "15\nRecoletos\nTrue\n[9, 15]\nNone\n8\n"
     ]
    }
   ],
   "source": [
    "#call the function with the variable `info_list`\n",
    "fourth(info_list)"
   ]
  },
  {
   "cell_type": "markdown",
   "metadata": {},
   "source": [
    "9. Loop through `whichever_list` to show all the elements it contains except the one that contains the information about whether you like the mountains or the beach. The function should return a message saying `\"I love the beach\"` if you prefer the beach and a message saying `\"I love the mountain\"` otherwise. "
   ]
  },
  {
   "cell_type": "code",
   "execution_count": 20,
   "metadata": {},
   "outputs": [],
   "source": [
    "#define a function which takes a single parameter `whichever_list`\n",
    "def b_or_m(whichever_list):\n",
    "    for y in whichever_list:\n",
    "        if y == whichever_list[2]:\n",
    "            y = \"I love the beach\"\n",
    "            print(y)\n",
    "        else:\n",
    "            print(y)"
   ]
  },
  {
   "cell_type": "code",
   "execution_count": 21,
   "metadata": {},
   "outputs": [
    {
     "output_type": "stream",
     "name": "stdout",
     "text": [
      "15\nRecoletos\nI love the beach\n['Recoletos', 15]\nNone\n8\n"
     ]
    }
   ],
   "source": [
    "#call the function with the variable `info_list`\n",
    "b_or_m(info_list)"
   ]
  },
  {
   "cell_type": "markdown",
   "metadata": {},
   "source": [
    "### Bonus Track\n",
    "\n",
    "In the case of not being able to solve a question containing the code in a function, try to do it without defining one. "
   ]
  },
  {
   "cell_type": "markdown",
   "metadata": {},
   "source": [
    "1. Create a variable called `zone` and give it the value of **None**. Loop through `whichever_list` and update `zone` to **True** if and only if, you have slept more than 7 hours, you like the beach and the sum of the hours you have slept plus the number of The Bridge is less than 24. In any other case, `zone` will be **False**. This function should return the value of `zone` and will be called `zone_function`.\n"
   ]
  },
  {
   "cell_type": "code",
   "execution_count": 27,
   "metadata": {},
   "outputs": [
    {
     "output_type": "stream",
     "name": "stdout",
     "text": [
      "[15, 'Recoletos', True, ['Recoletos', 15], None, '8']\n"
     ]
    },
    {
     "output_type": "execute_result",
     "data": {
      "text/plain": [
       "True"
      ]
     },
     "metadata": {},
     "execution_count": 27
    }
   ],
   "source": [
    "print(info_list)\n",
    "zone = None\n",
    "def zone_function(whichever_list):\n",
    "    for item in whichever_list:\n",
    "        if int(whichever_list[-1]) > 7:\n",
    "            if whichever_list[2] == True:\n",
    "                if whichever_list[0] + int(whichever_list[-1]) < 24:\n",
    "                    zone = True\n",
    "        else:\n",
    "            zone = False\n",
    "    return zone\n",
    "\n",
    "zone_function(info_list)\n",
    "  \n",
    "        \n",
    "\n",
    "            "
   ]
  },
  {
   "cell_type": "markdown",
   "metadata": {},
   "source": [
    "2. Define a function called `test_function` that receives only one parameter called `zone_value` and that returns the value of `zone_value` if it is **True**. Once you've defined `test_function` you should call it with the value returned by the `zone_function` as an argument."
   ]
  },
  {
   "cell_type": "code",
   "execution_count": 31,
   "metadata": {},
   "outputs": [
    {
     "output_type": "execute_result",
     "data": {
      "text/plain": [
       "True"
      ]
     },
     "metadata": {},
     "execution_count": 31
    }
   ],
   "source": [
    "def test_function(zone_value):\n",
    "    if zone_value == True:\n",
    "        return zone_value\n",
    "test_function(zone_function(info_list))"
   ]
  },
  {
   "cell_type": "markdown",
   "metadata": {},
   "source": [
    "3. Define a function that asks the user if they like the mountain and, if not, call the `zone_function` function."
   ]
  },
  {
   "cell_type": "code",
   "execution_count": 36,
   "metadata": {},
   "outputs": [
    {
     "output_type": "execute_result",
     "data": {
      "text/plain": [
       "True"
      ]
     },
     "metadata": {},
     "execution_count": 36
    }
   ],
   "source": [
    "def ask_user():\n",
    "    x = input(\"Do you like the mountain?\")\n",
    "    if x == \"No\" or \"no\":\n",
    "        return zone_function(info_list)\n",
    "    else:\n",
    "        return \"ok\"\n",
    "ask_user()"
   ]
  },
  {
   "cell_type": "markdown",
   "metadata": {},
   "source": [
    "### Bonus Track of the Bonus Track.\n",
    "\n",
    "**This Bonus Track could take you some days, it is very ok, sometimes coding is all about time.**\n",
    "\n",
    "Sooner than later, you'll also learn about `.py` files and you will be able to implement this program into that kind of file. Not yet, tho. "
   ]
  },
  {
   "cell_type": "markdown",
   "metadata": {},
   "source": [
    "1. Program **a calculator** that asks for two numbers and two operators on the screen. One operation must be performed first and then another. Try to define as many functions as possible."
   ]
  },
  {
   "cell_type": "code",
   "execution_count": 15,
   "metadata": {},
   "outputs": [
    {
     "output_type": "error",
     "ename": "ValueError",
     "evalue": "invalid literal for int() with base 10: ''",
     "traceback": [
      "\u001b[1;31m---------------------------------------------------------------------------\u001b[0m",
      "\u001b[1;31mValueError\u001b[0m                                Traceback (most recent call last)",
      "\u001b[1;32m<ipython-input-15-3196aa1a170d>\u001b[0m in \u001b[0;36m<module>\u001b[1;34m\u001b[0m\n\u001b[0;32m     29\u001b[0m \u001b[1;33m\u001b[0m\u001b[0m\n\u001b[0;32m     30\u001b[0m     \u001b[0moperate\u001b[0m\u001b[1;33m(\u001b[0m\u001b[0mcalculator\u001b[0m\u001b[1;33m(\u001b[0m\u001b[1;33m)\u001b[0m\u001b[1;33m)\u001b[0m\u001b[1;33m\u001b[0m\u001b[1;33m\u001b[0m\u001b[0m\n\u001b[1;32m---> 31\u001b[1;33m \u001b[0mcalculator\u001b[0m\u001b[1;33m(\u001b[0m\u001b[1;33m)\u001b[0m\u001b[1;33m\u001b[0m\u001b[1;33m\u001b[0m\u001b[0m\n\u001b[0m\u001b[0;32m     32\u001b[0m \u001b[1;33m\u001b[0m\u001b[0m\n\u001b[0;32m     33\u001b[0m \u001b[1;33m\u001b[0m\u001b[0m\n",
      "\u001b[1;32m<ipython-input-15-3196aa1a170d>\u001b[0m in \u001b[0;36mcalculator\u001b[1;34m()\u001b[0m\n\u001b[0;32m     28\u001b[0m             \u001b[1;32mreturn\u001b[0m \u001b[0my\u001b[0m\u001b[1;33m\u001b[0m\u001b[1;33m\u001b[0m\u001b[0m\n\u001b[0;32m     29\u001b[0m \u001b[1;33m\u001b[0m\u001b[0m\n\u001b[1;32m---> 30\u001b[1;33m     \u001b[0moperate\u001b[0m\u001b[1;33m(\u001b[0m\u001b[0mcalculator\u001b[0m\u001b[1;33m(\u001b[0m\u001b[1;33m)\u001b[0m\u001b[1;33m)\u001b[0m\u001b[1;33m\u001b[0m\u001b[1;33m\u001b[0m\u001b[0m\n\u001b[0m\u001b[0;32m     31\u001b[0m \u001b[0mcalculator\u001b[0m\u001b[1;33m(\u001b[0m\u001b[1;33m)\u001b[0m\u001b[1;33m\u001b[0m\u001b[1;33m\u001b[0m\u001b[0m\n\u001b[0;32m     32\u001b[0m \u001b[1;33m\u001b[0m\u001b[0m\n",
      "\u001b[1;32m<ipython-input-15-3196aa1a170d>\u001b[0m in \u001b[0;36mcalculator\u001b[1;34m()\u001b[0m\n\u001b[0;32m      5\u001b[0m     \u001b[1;32mwhile\u001b[0m \u001b[0mcontador\u001b[0m \u001b[1;33m>\u001b[0m \u001b[1;36m0\u001b[0m\u001b[1;33m:\u001b[0m\u001b[1;33m\u001b[0m\u001b[1;33m\u001b[0m\u001b[0m\n\u001b[0;32m      6\u001b[0m         \u001b[0mnum\u001b[0m \u001b[1;33m=\u001b[0m \u001b[0minput\u001b[0m\u001b[1;33m(\u001b[0m\u001b[1;34m\"Enter a number:\"\u001b[0m\u001b[1;33m)\u001b[0m\u001b[1;33m\u001b[0m\u001b[1;33m\u001b[0m\u001b[0m\n\u001b[1;32m----> 7\u001b[1;33m         \u001b[0mnumeros\u001b[0m\u001b[1;33m.\u001b[0m\u001b[0mappend\u001b[0m\u001b[1;33m(\u001b[0m\u001b[0mint\u001b[0m\u001b[1;33m(\u001b[0m\u001b[0mnum\u001b[0m\u001b[1;33m)\u001b[0m\u001b[1;33m)\u001b[0m\u001b[1;33m\u001b[0m\u001b[1;33m\u001b[0m\u001b[0m\n\u001b[0m\u001b[0;32m      8\u001b[0m         \u001b[0mcontador\u001b[0m \u001b[1;33m-=\u001b[0m \u001b[1;36m1\u001b[0m\u001b[1;33m\u001b[0m\u001b[1;33m\u001b[0m\u001b[0m\n\u001b[0;32m      9\u001b[0m         \u001b[0mop\u001b[0m \u001b[1;33m=\u001b[0m \u001b[0minput\u001b[0m\u001b[1;33m(\u001b[0m\u001b[1;34m\"Enter an operator:\"\u001b[0m\u001b[1;33m)\u001b[0m\u001b[1;33m\u001b[0m\u001b[1;33m\u001b[0m\u001b[0m\n",
      "\u001b[1;31mValueError\u001b[0m: invalid literal for int() with base 10: ''"
     ]
    }
   ],
   "source": [
    "\n",
    "def calculator():\n",
    "    contador = 4\n",
    "    numeros = []\n",
    "    operadores = []\n",
    "    while contador > 0:\n",
    "        num = input(\"Enter a number:\")\n",
    "        numeros.append(int(num))\n",
    "        contador -= 1\n",
    "        if len(numeros) == 2:\n",
    "            contador2 = 2\n",
    "            while contador2 > 0:\n",
    "                op = input(\"Enter an operator:\")\n",
    "                operadores.append(op)\n",
    "                contador2 -= 1\n",
    "    def operate(contador, numeros):\n",
    "        solution = []\n",
    "        for x in operadores:\n",
    "            if x == \"x\" or \"X\" or \"*\":\n",
    "                sol =numeros[0] *numeros[1]\n",
    "                solution.append(sol)\n",
    "            if x == \"/\" or \"//\":\n",
    "                sol =numeros[0] /numeros[1]\n",
    "                solution.append(sol)\n",
    "            if x == \"+\":\n",
    "                sol = numeros[0] + numeros[1]\n",
    "                solution.append(sol)\n",
    "            if x == \"-\":\n",
    "                sol = numeros[0] - numeros[1]\n",
    "                solution.append(sol)\n",
    "        for y in solution:\n",
    "            return y\n",
    "     \n",
    "    operate(calculator())\n",
    "calculator()\n",
    "\n",
    "\n",
    "\n",
    "    \n"
   ]
  },
  {
   "cell_type": "markdown",
   "metadata": {},
   "source": [
    "!['ha'](https://i.pinimg.com/originals/c6/4e/fc/c64efc9adaedbf446f328698e8b67388.jpg)"
   ]
  },
  {
   "cell_type": "code",
   "execution_count": null,
   "metadata": {},
   "outputs": [],
   "source": []
  }
 ],
 "metadata": {
  "kernelspec": {
   "name": "python389jvsc74a57bd0567ce215ee1f5ccb42045684f31605cd97b14e9878c0252db542d9e85d121b05",
   "display_name": "Python 3.8.9 64-bit"
  },
  "language_info": {
   "codemirror_mode": {
    "name": "ipython",
    "version": 3
   },
   "file_extension": ".py",
   "mimetype": "text/x-python",
   "name": "python",
   "nbconvert_exporter": "python",
   "pygments_lexer": "ipython3",
   "version": "3.8.9-final"
  },
  "metadata": {
   "interpreter": {
    "hash": "567ce215ee1f5ccb42045684f31605cd97b14e9878c0252db542d9e85d121b05"
   }
  }
 },
 "nbformat": 4,
 "nbformat_minor": 4
}